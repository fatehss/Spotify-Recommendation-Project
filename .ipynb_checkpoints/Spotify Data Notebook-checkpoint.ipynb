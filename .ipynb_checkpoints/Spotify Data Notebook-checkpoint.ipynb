{
 "cells": [
  {
   "cell_type": "code",
   "execution_count": null,
   "id": "3f540c24",
   "metadata": {},
   "outputs": [],
   "source": [
    "!pip install -U networkx\n",
    "!pip install -U scipy"
   ]
  },
  {
   "cell_type": "code",
   "execution_count": null,
   "id": "662ea106",
   "metadata": {
    "id": "662ea106"
   },
   "outputs": [],
   "source": [
    "import math\n",
    "import json\n",
    "import scipy\n",
    "import pandas as pd\n",
    "import os\n",
    "import os.path\n",
    "import matplotlib.pyplot as plt\n",
    "import numpy as np\n",
    "import random\n",
    "import networkx as nx\n",
    "from pathlib import Path"
   ]
  },
  {
   "cell_type": "code",
   "execution_count": null,
   "id": "f0b82eba",
   "metadata": {},
   "outputs": [],
   "source": [
    "print (nx.__version__)\n",
    "print(scipy.__version__)"
   ]
  },
  {
   "cell_type": "code",
   "execution_count": null,
   "id": "U-wHnUm3kYnZ",
   "metadata": {
    "colab": {
     "base_uri": "https://localhost:8080/"
    },
    "id": "U-wHnUm3kYnZ",
    "outputId": "41f12f03-7583-4725-8e87-cffb40a18970"
   },
   "outputs": [],
   "source": [
    "#optional cell if using drive:\n",
    "#if using drive the file creeation will not work!\n",
    "#from google.colab import drive\n",
    "#drive.mount('/content/gdrive')"
   ]
  },
  {
   "cell_type": "markdown",
   "id": "a2dd32b7",
   "metadata": {
    "id": "a2dd32b7"
   },
   "source": [
    "\n",
    "\n",
    "# Section 0: Getting data from million songs playlists\n",
    "\n",
    "### How to use this notebook\n",
    "\n",
    "1. Download it\n",
    "2. Download and extract the million songs dataset (link in the README.md on the repo) in the same directory as this notebook\n",
    "3. Set the DIRECTORY constant in the cell below as the directory containing the dataset\n",
    "4. You should then be able to run all of it\n",
    "\n",
    "Section 1 is making a graph to figure out how the number of followers over all the playlists is distributed\n",
    "Section 2 is removing all playlists from the dataset which have N or more fewer, and creating a new file containing playlists with only more than N followers\n",
    "Section 3 is extracting N songs randomly from a given dataset, either randomly or with a weighted random distribution. You can set the constants to change the sampling method, number of songs, and the dataset you are computing over. If you use the default dataset to pick the songs, it is quite slow (takes like 10 minutes overall), so you may want to use a smaller dataset to choose these songs. I set the dataset to the dataset containing playlists with over 5 followers and it is significantly quicker to run. "
   ]
  },
  {
   "cell_type": "markdown",
   "id": "561efd48",
   "metadata": {},
   "source": [
    "### IMPORTANT: Set the directory containing the data below"
   ]
  },
  {
   "cell_type": "code",
   "execution_count": null,
   "id": "f900x3nJpM8J",
   "metadata": {
    "id": "f900x3nJpM8J"
   },
   "outputs": [],
   "source": [
    "DIRECTORY = \"spotify_million_playlist_dataset/data/\""
   ]
  },
  {
   "cell_type": "markdown",
   "id": "1f57447f",
   "metadata": {
    "id": "1f57447f"
   },
   "source": [
    "### 1. Figuring out distribution of number of followers over playlists\n",
    "\n",
    "This is just to figure out what the distribution of the followers looks like"
   ]
  },
  {
   "cell_type": "code",
   "execution_count": null,
   "id": "2e38ec2a",
   "metadata": {
    "colab": {
     "base_uri": "https://localhost:8080/"
    },
    "id": "2e38ec2a",
    "outputId": "53f204b0-95ba-4175-f7e2-2bc407691d54"
   },
   "outputs": [],
   "source": [
    "# 1. Followers numbers\n",
    "# 10,000 songs choose (Quanchi's link)\n",
    "\n",
    "\n",
    "num_followers = []\n",
    "directory = os.listdir(DIRECTORY)\n",
    "\n",
    "for file in directory:\n",
    "\n",
    "    f = open(DIRECTORY+file)\n",
    "    data = json.load(f)\n",
    "\n",
    "\n",
    "    for playlist in range(len(data['playlists'])):\n",
    "        x = data['playlists'][playlist]['num_followers']\n",
    "        num_followers += [x]\n",
    "\n",
    "num_followers = pd.Series(num_followers)\n",
    "num_followers.value_counts()\n"
   ]
  },
  {
   "cell_type": "code",
   "execution_count": null,
   "id": "5dd9d657",
   "metadata": {
    "id": "5dd9d657"
   },
   "outputs": [],
   "source": [
    "num_likes = {}\n",
    "\n",
    "for val in num_followers:\n",
    "    if val in num_likes:\n",
    "        num_likes[val] += 1\n",
    "    else:\n",
    "        num_likes[val] = 1\n",
    "\n",
    "keys = []\n",
    "for key in num_likes.keys():\n",
    "    keys += [key]\n",
    "\n",
    "keys.sort()\n",
    "\n",
    "X,y = [],[]\n",
    "\n",
    "for key in keys:\n",
    "    X +=[key]\n",
    "    y +=[num_likes[key]]\n",
    "    \n",
    "    \n",
    "#make the y-values a fraction of the size of the dataset\n",
    "y_c = y     \n",
    "for i in range(len(y_c)):\n",
    "        y_c[i] = (y_c[i]+y_c[i-1])\n",
    "\n",
    "for i in range(len(y_c)):\n",
    "    y_c[i]/= 1000000\n",
    "\n",
    "y_c\n",
    "\n",
    "\n",
    "    \n",
    "    "
   ]
  },
  {
   "cell_type": "code",
   "execution_count": null,
   "id": "4ae833b8",
   "metadata": {
    "id": "4ae833b8"
   },
   "outputs": [],
   "source": [
    "#Plot\n",
    "\n",
    "plt.plot(X[:40], y[:40],linestyle=\"-\", marker=\"o\")\n",
    "plt.ylabel(\"Fraction of playlists with followers <= than this number\")\n",
    "plt.xlabel(\"Number of Followers\")\n",
    "plt.xticks(np.arange(0,41,2))\n",
    "plt.show()\n",
    "f = plt.figure()\n",
    "f.set_figwidth(1)\n",
    "f.set_figheight(1)"
   ]
  },
  {
   "cell_type": "code",
   "execution_count": null,
   "id": "5556a4cf",
   "metadata": {
    "id": "5556a4cf"
   },
   "outputs": [],
   "source": [
    "print(1000000 - y_c[5]*1000000)\n"
   ]
  },
  {
   "cell_type": "markdown",
   "id": "f0622574",
   "metadata": {
    "id": "f0622574"
   },
   "source": [
    "### 2. Removing the majority of the playlists\n",
    "\n",
    "Removing all playlists with N or less followers "
   ]
  },
  {
   "cell_type": "code",
   "execution_count": null,
   "id": "a8ca01a8",
   "metadata": {
    "id": "a8ca01a8"
   },
   "outputs": [],
   "source": [
    "N = 10\n",
    "directory = os.listdir(DIRECTORY)\n",
    "\n",
    "moreThanN = []\n",
    "\n",
    "for file in directory:\n",
    "\n",
    "    f = open(DIRECTORY+file)\n",
    "    data = json.load(f)\n",
    "\n",
    "\n",
    "    for playlist in range(len(data['playlists'])):\n",
    "        if data['playlists'][playlist]['num_followers'] >N:  \n",
    "            moreThanN += [data['playlists'][playlist]]"
   ]
  },
  {
   "cell_type": "code",
   "execution_count": null,
   "id": "a7877ad0",
   "metadata": {
    "colab": {
     "base_uri": "https://localhost:8080/"
    },
    "id": "a7877ad0",
    "outputId": "67370876-3a87-4d5b-e9b2-602ca77fc6a4"
   },
   "outputs": [],
   "source": [
    "#sanity check\n",
    "\n",
    "len(moreThanN)"
   ]
  },
  {
   "cell_type": "code",
   "execution_count": null,
   "id": "GJeLZslQm0-c",
   "metadata": {
    "colab": {
     "base_uri": "https://localhost:8080/"
    },
    "id": "GJeLZslQm0-c",
    "outputId": "ba4ac40c-6a8b-457c-84b2-7247c3b836bd"
   },
   "outputs": [],
   "source": [
    "#Create results folder\n",
    "\n",
    "path = os.getcwd()+\"/generated_data\"\n",
    "# Check whether the specified path exists or not\n",
    "isExist = os.path.exists(path)\n",
    "if not isExist:\n",
    "\n",
    "   # Create a new directory because it does not exist\n",
    "   os.makedirs(path)\n",
    "   print(\"The new directory is created!\")"
   ]
  },
  {
   "cell_type": "code",
   "execution_count": null,
   "id": "161047a2",
   "metadata": {
    "id": "161047a2"
   },
   "outputs": [],
   "source": [
    "#SAVING DATA\n",
    "#convert to dictionary \n",
    "moreThanN_dict = {\"playlists\": moreThanN}\n",
    "\n",
    "json_object = json.dumps(moreThanN_dict, indent=4)\n",
    "with open(path+\"/moreThan\"+str(N)+\"followers.json\", \"w\") as outfile:\n",
    "    outfile.write(json_object)\n",
    "\n"
   ]
  },
  {
   "cell_type": "markdown",
   "id": "c0d3b002",
   "metadata": {},
   "source": [
    "# Section 1: Defining the edges of the network\n",
    "\n",
    "In this section we explore several different means to quantify how similar one song is to another. We will use these similarity scores to assign weights to the edges of our network. \n",
    "\n",
    "\n"
   ]
  },
  {
   "cell_type": "code",
   "execution_count": null,
   "id": "f0f588bb",
   "metadata": {},
   "outputs": [],
   "source": [
    "#load some songs to test the methods below\n",
    "################# Constants #################\n",
    "SPECIFIC_FILE = 'generated_data/moreThan10followers.json' \n",
    "WEIGHTED_RANDOM = False   #If we want weighted random sampling or not\n",
    "N = 2000  #number of songs to consider\n",
    "\n",
    "all_tracks = {} #stores all the songs\n",
    "f = open(SPECIFIC_FILE)\n",
    "data = json.load(f)\n",
    "\n",
    "for playlist in data['playlists']:\n",
    "    for track in playlist['tracks']:\n",
    "        if track['track_name'] not in all_tracks:  #if it not in the dict then we add it to it and increase its weight\n",
    "            all_tracks[track['track_name']] = 1 #weight is used for weighted random sampling (if needed)\n",
    "        else:\n",
    "            all_tracks[track['track_name']] +=1\n",
    "if WEIGHTED_RANDOM == False:\n",
    "    songs = random.choices(list(all_tracks.keys()), weights=None, k=N)\n",
    "else:\n",
    "    songs = random.choices(list(all_tracks.keys()), weights=all_tracks.values(), k=N)\n",
    "############################################"
   ]
  },
  {
   "cell_type": "markdown",
   "id": "e83d1bbf",
   "metadata": {},
   "source": [
    "### Idea 1: Shared Followers\n",
    "This method assigns a weight to each edge based on the sum of likes of each playlist that both songs in the edge appear in.\n",
    "\n",
    "$w_{i,j} = \\Sigma_{p \\in P_{i,j}}{\\normalsize \\text{# likes of }p}$, where $P_{i,j}$ is the set of playlists contatining songs $i$ and $j$"
   ]
  },
  {
   "cell_type": "code",
   "execution_count": null,
   "id": "ea09e291",
   "metadata": {
    "scrolled": true
   },
   "outputs": [],
   "source": [
    "def method1(directory, songs):\n",
    "    '''\n",
    "    Function that takes in a directory and N random songs and produces a network using the method 1 described above.\n",
    "    \n",
    "    Parameters:\n",
    "        directory - the directory containing the data (assumed to be in a single .json file)\n",
    "        songs - the N songs to select out of all the data\n",
    "    Returns:\n",
    "        edges - the constructed network\n",
    "        relations - the node-node relations useful for certain recommendation algorithms\n",
    "    '''\n",
    "    shared_playlists = [] #this will contain items of the form (weight: [weight], tracks: [tracks]) for each playlist\n",
    "    f = open(SPECIFIC_FILE) \n",
    "    data = json.load(f)\n",
    "\n",
    "    for playlist in data['playlists']:  #parse through every playlist\n",
    "\n",
    "        num_followers = playlist['num_followers']\n",
    "        temp = []\n",
    "        for track in playlist['tracks']: #if one of the random songs is in the playlist then remember it\n",
    "            if track['track_name'] in songs and track['track_name'] not in temp:\n",
    "                temp.append(track['track_name'])\n",
    "\n",
    "        if (len(temp) >1): #only if a playlist has two or more of the 10k songs then we add it to our shared_playlists lits\n",
    "            item = {'weight':num_followers, 'tracks':temp}\n",
    "            shared_playlists.append(item)\n",
    "\n",
    "\n",
    "    # #Here we create the big graph\n",
    "    edges = {}\n",
    "    relations = {} #this variable stores all of the node pairs in the graph. It is useful for the playlist-generation part of the notebook\n",
    "    for song in songs:\n",
    "        relations[song] = set({})\n",
    "\n",
    "    for item in shared_playlists:\n",
    "\n",
    "        weight = item['weight']\n",
    "        tracks = item['tracks']\n",
    "        for track1 in tracks:\n",
    "            for track2 in tracks:\n",
    "                if (track1 == track2):\n",
    "                    continue\n",
    "                #now we add relations\n",
    "                if track2 not in relations[track1]:\n",
    "                    relations[track1].add(track2)\n",
    "                if track1 not in relations[track2]:\n",
    "                    relations[track2].add(track1)\n",
    "\n",
    "                #now create edge and weight\n",
    "                if (track1,track2) not in edges and (track2,track1) not in edges:\n",
    "                    edges[(track1,track2)] = weight\n",
    "                    edges[(track2,track1)] = weight\n",
    "                else:\n",
    "                    edges[(track1,track2)] += weight\n",
    "                    edges[(track2,track1)] += weight\n",
    "    return edges,relations\n",
    "        \n",
    "print(list(method1('generated_data/moreThan10followers.json',songs)[0].items())[0:5])"
   ]
  },
  {
   "cell_type": "markdown",
   "id": "317b12e5",
   "metadata": {},
   "source": [
    "\n",
    "### Idea 2: Shared Playlists\n",
    "The weight of each edge is the number of shared playlists of the song\n",
    "\n",
    "$w_{i,j} = \\normalsize |P_{i,j}|$\n"
   ]
  },
  {
   "cell_type": "code",
   "execution_count": null,
   "id": "4a40009a",
   "metadata": {},
   "outputs": [],
   "source": [
    "def method2(directory, songs):\n",
    "    '''\n",
    "    Function that takes in a directory and N random songs and produces a network using the method 2 described above.\n",
    "    \n",
    "    Parameters:\n",
    "        directory - the directory containing the data (assumed to be in a single .json file)\n",
    "        songs - the N songs to select out of all the data\n",
    "    Returns:\n",
    "        edges - the constructed network\n",
    "        relations - the node-node relations useful for certain recommendation algorithms\n",
    "    '''\n",
    "    shared_playlists = [] #this will contain items of the form (weight: [weight], tracks: [tracks]) for each playlist\n",
    "    f = open(SPECIFIC_FILE) \n",
    "    data = json.load(f)\n",
    "\n",
    "    for playlist in data['playlists']:  #parse through every playlist\n",
    "\n",
    "        num_followers = playlist['num_followers']\n",
    "        temp = []\n",
    "        for track in playlist['tracks']: #if one of the random songs is in the playlist then remember it\n",
    "            if track['track_name'] in songs and track['track_name'] not in temp:\n",
    "                temp.append(track['track_name'])\n",
    "\n",
    "        if (len(temp) >1): #only if a playlist has two or more of the 10k songs then we add it to our shared_playlists lits\n",
    "            item = {'weight':1, 'tracks':temp}\n",
    "            shared_playlists.append(item)\n",
    "\n",
    "\n",
    "    # #Here we create the big graph\n",
    "    edges = {}\n",
    "    relations = {} #this variable stores all of the node pairs in the graph. It is useful for the playlist-generation part of the notebook\n",
    "    for song in songs:\n",
    "        relations[song] = set({})\n",
    "\n",
    "    for item in shared_playlists:\n",
    "\n",
    "        weight = item['weight']\n",
    "        tracks = item['tracks']\n",
    "        for track1 in tracks:\n",
    "            for track2 in tracks:\n",
    "                if (track1 == track2):\n",
    "                    continue\n",
    "                #now we add relations\n",
    "                if track2 not in relations[track1]:\n",
    "                    relations[track1].add(track2)\n",
    "                if track1 not in relations[track2]:\n",
    "                    relations[track2].add(track1)\n",
    "\n",
    "                #now create edge and weight\n",
    "                if (track1,track2) not in edges and (track2,track1) not in edges:\n",
    "                    edges[(track1,track2)] = weight\n",
    "                    edges[(track2,track1)] = weight\n",
    "                else:\n",
    "                    edges[(track1,track2)] += weight\n",
    "                    edges[(track2,track1)] += weight\n",
    "    return edges,relations\n",
    "        \n",
    "print(list(method2('generated_data/moreThan10followers.json',songs)[0].items())[0:5])"
   ]
  },
  {
   "cell_type": "markdown",
   "id": "e699b46d",
   "metadata": {},
   "source": [
    "\n",
    "### Idea 3: Hybrid of 1 and 2\n",
    "Since the follower numbers of the playlists are heavily skewed, ranging from 1 to over 70k, we experiment with weighting the shared playlist number higher than the shared follower number.\n",
    "\n",
    "$w_{i,j} = \\normalsize |P_{i,j}| + log_2({\\Sigma_{p \\in P_{i,j}}{\\text{# likes of }p}})$\n",
    "\n",
    "For our purposes, we use $log_2$ to weight the follower numbers as we think it suits our data well.\n"
   ]
  },
  {
   "cell_type": "code",
   "execution_count": null,
   "id": "7f95d5a3",
   "metadata": {},
   "outputs": [],
   "source": [
    "def method3(directory, songs):\n",
    "    '''\n",
    "    Function that takes in a directory and N random songs and produces a network using the method 2 described above.\n",
    "    \n",
    "    Parameters:\n",
    "        directory - the directory containing the data (assumed to be in a single .json file)\n",
    "        songs - the N songs to select out of all the data\n",
    "    Returns:\n",
    "        edges - the constructed network\n",
    "        relations - the node-node relations useful for certain recommendation algorithms\n",
    "    '''\n",
    "    shared_playlists = [] #this will contain items of the form (weight: [weight], tracks: [tracks]) for each playlist\n",
    "    f = open(SPECIFIC_FILE) \n",
    "    data = json.load(f)\n",
    "\n",
    "    for playlist in data['playlists']:  #parse through every playlist\n",
    "\n",
    "        num_followers = playlist['num_followers']\n",
    "        temp = []\n",
    "        for track in playlist['tracks']: #if one of the random songs is in the playlist then remember it\n",
    "            if track['track_name'] in songs and track['track_name'] not in temp:\n",
    "                temp.append(track['track_name'])\n",
    "\n",
    "        if (len(temp) >1): #only if a playlist has two or more of the 10k songs then we add it to our shared_playlists lits\n",
    "            item = {'weight':num_followers, 'tracks':temp}\n",
    "            shared_playlists.append(item)\n",
    "\n",
    "\n",
    "    # #Here we create the big graph\n",
    "    edges = {}\n",
    "    relations = {} #this variable stores all of the node pairs in the graph. It is useful for the playlist-generation part of the notebook\n",
    "    for song in songs:\n",
    "        relations[song] = set({})\n",
    "\n",
    "    for item in shared_playlists:\n",
    "\n",
    "        weight = item['weight']\n",
    "        tracks = item['tracks']\n",
    "        for track1 in tracks:\n",
    "            for track2 in tracks:\n",
    "                if (track1 == track2):\n",
    "                    continue\n",
    "                #now we add relations\n",
    "                if track2 not in relations[track1]:\n",
    "                    relations[track1].add(track2)\n",
    "                if track1 not in relations[track2]:\n",
    "                    relations[track2].add(track1)\n",
    "\n",
    "                #now create edge and weight\n",
    "                if (track1,track2) not in edges and (track2,track1) not in edges:\n",
    "                    edges[(track1,track2)] = [1,weight]\n",
    "                    edges[(track2,track1)] = [1,weight]\n",
    "                else:\n",
    "                    val = edges[(track1,track2)] #store value of previous shared playlists and shared followers\n",
    "                    edges[(track1,track2)] += [val[0]+1, val[1]+weight]\n",
    "                    edges[(track2,track1)] += [val[0]+1, val[1]+weight]\n",
    "    \n",
    "    for key in edges.keys():\n",
    "        edges[key] = edges[key][0] + math.log(edges[key][1],2)\n",
    "        \n",
    "    return edges,relations\n",
    "        \n",
    "print(list(method3('generated_data/moreThan10followers.json',songs)[0].items())[0:50])"
   ]
  },
  {
   "cell_type": "markdown",
   "id": "4ba6d720",
   "metadata": {},
   "source": [
    "\n",
    "### Idea 4: Shared Playlist Simliarity\n",
    "\n",
    "Let $p_{i,j}$ denote the fraction of playlists that song $i$ belongs to which also contain song $j$. \n",
    "Then, $ w_{i,j} = \\large \\frac{p_{i,j}\\cdot p_{j,i}}{2}$\n",
    "\n",
    "I.e, this is the average of the fraction of all playlists containing one song that also contain the other\n"
   ]
  },
  {
   "cell_type": "code",
   "execution_count": null,
   "id": "c880e36d",
   "metadata": {},
   "outputs": [],
   "source": []
  },
  {
   "cell_type": "markdown",
   "id": "a9b3e702",
   "metadata": {},
   "source": [
    "### Idea 5: Shortest Paths\n",
    "\n",
    "We have $w_{i,j} = d_{i,j}$, where $d_{i,j}$ denotes the shortest distance between nodes i and j"
   ]
  },
  {
   "cell_type": "code",
   "execution_count": null,
   "id": "a59ae42f",
   "metadata": {},
   "outputs": [],
   "source": [
    "def method5(directory, songs):\n",
    "    '''\n",
    "    This method uses networkx functions that use dijkstra's algorithm to find the shortest path lengths between two nodes.\n",
    "    We do this for all pairs to produce a graph. Since dijkstra's algorithm is O(|V|^2) and we call it for |V| nodes, this\n",
    "    is the slowest method this far (in the form of its current implementation). Since our graph is not connected, we arbitrarily\n",
    "    penalize a pair of unconnected nodes by assigning an edge weight between them of 10 (from the graph analysis we did, the \n",
    "    longest path between two nodes is less than 10 for all |songs|<10000)\n",
    "    \n",
    "    Parameters:\n",
    "        directory - the directory containing the data (assumed to be in a single .json file)\n",
    "        songs - the N songs to select out of all the data\n",
    "    Returns:\n",
    "        edges - the constructed network's edges, which are the shortest distances between two nodes.\n",
    "        relations - the node-node relations useful for certain recommendation algorithms\n",
    "    '''\n",
    "    \n",
    "    \n",
    "    #first we need to call the function for method 2 to get the edges between nodes. then, we perform networkx stuff\n",
    "    edges, relations = method2(directory, songs) #get edge relations between all nodes\n",
    "\n",
    "    data = []\n",
    "    for key in edges:\n",
    "        temp = (key[0],key[1]) #make tuple of form (song1, song2, weight)\n",
    "        data.append(temp)\n",
    "    df = pd.DataFrame(data)\n",
    "    df.columns = [\"Source\",\"Target\"]\n",
    "    G = nx.from_pandas_edgelist(df, \"Source\", \"Target\")  #generate graph\n",
    "    #diameter = nx.diameter(G) #get diameter if no path between nodes exists\n",
    "    diameter = 10 #set to 10 for now\n",
    "    \n",
    "    out_relations = {}\n",
    "    for song in relations.keys():\n",
    "        out_relations[song] = set({})\n",
    "    out_edges = {}\n",
    "    for song1 in relations.keys(): #iterate over all songs with at least one edge\n",
    "        for song2 in relations.keys():\n",
    "            if (song1 != song2):\n",
    "                try:\n",
    "                    length = nx.shortest_path_length(G,song1,song2)\n",
    "                except:\n",
    "                    length = diameter\n",
    "                out_edges[(song1,song2)] = length\n",
    "                out_relations[song1].add(song2)\n",
    "\n",
    "    return out_edges, out_relations\n",
    "        \n",
    "\n",
    "print(list(method5('generated_data/moreThan10followers.json',songs)[0].items())[0:50]) #test"
   ]
  },
  {
   "cell_type": "markdown",
   "id": "b1bd5f6e",
   "metadata": {},
   "source": [
    "\n",
    "\n",
    "## TODO: Define functions that implement each of these ideas\n",
    "\n",
    "Each function should take in a set of N songs, an input file (not the whole dataset as that is way too big!) and return two things: 1. The edges of the graph created by each method, and 2. A dictionary of node relations to each other.\n",
    "\n",
    "\n",
    "So what we're doing here is \n",
    "- selecting N songs (like 10k out of the million) out of the input file (has more than N songs).  \n",
    "- We want to remember only the playlists with two or more of the N songs in them. For that playlist, we remember it as a pair of (weight, [tracks out of the N in that playlist]) (but you could play around with this to see what works) \n",
    "- Then, using the cleaned up, relevant playlists with their weights (that we did in the previous step) we make the graph, which is a dictionary of the form { {(node1,node2), weight} }. So, the key is (node1,node2) and the corresponding value is weight\n",
    "\n",
    "Ultimately the output should be the network with the weights aligned with each of the above ideas. "
   ]
  },
  {
   "cell_type": "markdown",
   "id": "6caa0ad4",
   "metadata": {
    "id": "6caa0ad4"
   },
   "source": [
    "## 1.2. Choosing our songs and generating data\n",
    "\n",
    "Selecting N songs randomly and performing an analysis on them.\n",
    "\n",
    "Change the constants in the cell below to change the kind of data you create.\n",
    "\n",
    "The output of these cells will be a .csv file in the generated_data folder."
   ]
  },
  {
   "cell_type": "code",
   "execution_count": 80,
   "id": "e28dc57f",
   "metadata": {
    "id": "e28dc57f"
   },
   "outputs": [],
   "source": [
    "################# Constants #################\n",
    "'''Rename this constant to the file containing the data, otherwise it will go through all of the data.\n",
    "I recommend using a file generated by the previous steps (like moreThan10followers.json) as the specific file (for instance, moreThan10followers.json) since\n",
    "the computation times will be much much faster'''\n",
    "SPECIFIC_FILE = 'generated_data/moreThan10followers.json' \n",
    "\n",
    "WEIGHTED_RANDOM = False   #If we want weighted random sampling or not\n",
    "N = 2000  #number of songs to consider\n",
    "METHOD = 'method1'  #define method to use \n",
    "\n",
    "############################################"
   ]
  },
  {
   "cell_type": "code",
   "execution_count": 81,
   "id": "b8f26d39",
   "metadata": {
    "id": "b8f26d39"
   },
   "outputs": [],
   "source": [
    "'''Randomly selecting N songs'''\n",
    "\n",
    "all_tracks = {} #stores all the songs\n",
    "METHODS = {'method1':method1, 'method2':method2, 'method3':method3} #methods 4, 5 excluded for now\n",
    "\n",
    "f = open(SPECIFIC_FILE)\n",
    "data = json.load(f)\n",
    "\n",
    "for playlist in data['playlists']:\n",
    "    for track in playlist['tracks']:\n",
    "        if track['track_name'] not in all_tracks:  #if it not in the dict then we add it to it and increase its weight\n",
    "            all_tracks[track['track_name']] = 1 #weight is used for weighted random sampling (if needed)\n",
    "        else:\n",
    "            all_tracks[track['track_name']] +=1\n",
    "            \n",
    "#get N songs based on weighted random sampling (no particular reason for this apart from probably giving a more connected NW)\n",
    "if WEIGHTED_RANDOM == False:\n",
    "    songs = random.choices(list(all_tracks.keys()), weights=None, k=N)\n",
    "else:\n",
    "    songs = random.choices(list(all_tracks.keys()), weights=all_tracks.values(), k=N)\n",
    "\n",
    "songs = set(songs) #convert to set"
   ]
  },
  {
   "cell_type": "code",
   "execution_count": 90,
   "id": "8cac8264",
   "metadata": {
    "id": "8cac8264",
    "scrolled": true
   },
   "outputs": [],
   "source": [
    "'''Computing the graph using the desired method'''\n",
    "edges =  METHODS[METHOD](SPECIFIC_FILE, songs)[0]                "
   ]
  },
  {
   "cell_type": "code",
   "execution_count": 91,
   "id": "6911605c",
   "metadata": {},
   "outputs": [
    {
     "name": "stdout",
     "output_type": "stream",
     "text": [
      "17718\n"
     ]
    }
   ],
   "source": [
    "print(len(edges))"
   ]
  },
  {
   "cell_type": "code",
   "execution_count": 84,
   "id": "87ca21b2",
   "metadata": {
    "id": "87ca21b2"
   },
   "outputs": [],
   "source": [
    "'''SAVING THE DATA AS .CSV'''\n",
    "\n",
    "#converting to pd\n",
    "\n",
    "data = []\n",
    "for key in edges:\n",
    "    temp = (key[0],key[1],edges[key]) #make tuple of form (song1, song2, weight)\n",
    "    data.append(temp)\n",
    "data2 = pd.DataFrame(data)\n",
    "data2.columns = [\"Source\",\"Target\",\"Weight\"]\n",
    "\n",
    "#Create results folder\n",
    "\n",
    "path = os.getcwd()+\"/generated_data\"\n",
    "# Check whether the specified path exists or not\n",
    "isExist = os.path.exists(path)\n",
    "if not isExist:\n",
    "\n",
    "   # Create a new directory because it does not exist\n",
    "   os.makedirs(path)\n",
    "   print(\"The new directory is created!\")\n",
    "\n",
    "#Writing the file\n",
    "\n",
    "name = \"\"\n",
    "\n",
    "if (WEIGHTED_RANDOM == True):\n",
    "    name = str(N) + '_weighted_'+METHOD\n",
    "else:\n",
    "    name = str(N)+'_'+METHOD\n",
    "filename = path+'/'+name+\"_random_songs.csv\"\n",
    "filepath = Path(filename)\n",
    "while (os.path.exists(filepath)):\n",
    "    if filename[-5]=='s':\n",
    "        filename = filename[:-4]+'2'+filename[-4:]\n",
    "    else:\n",
    "        filename = filename[:-5]+str(int(filename[-5])+1)+filename[-4:]\n",
    "    filepath = Path(filename)\n",
    "\n",
    "data2.to_csv(filepath, index = False)\n",
    "    \n",
    "    \n",
    "#The data should be saved in the same folder as this notebook"
   ]
  },
  {
   "cell_type": "markdown",
   "id": "3fcd89b2",
   "metadata": {
    "id": "3fcd89b2"
   },
   "source": [
    "# Section 2: Implementing algorithm to generate playlists\n",
    "\n",
    "## 2.1: Star Graph Algorithm\n",
    "\n",
    "Here I'll try to create the playlists using the star graph recommendation method. For this I need two things - first is a recommendation algorithm based on the edges, and second is an easy way to iterate over song connections. \n",
    "\n",
    "### How this works:\n",
    "\n",
    "First we consider the one node case. We feed a single node, call it node A, into the algorithm which gives us the subset of the network with one edge at A, which is a star graph. We store this star graph in a dictionary object. The next song to be recommended is one of the edges in this graph, randomly chosen with a weighted probability distribution. Call this song B. Now, we want the playlist that we are generating to be the center of the star graph. Now, we make the center of the star graph represent both nodes A and B. We add all the edges with end to B (except those with end A) from the original dataset to the star graph. If an edge already exists between the center and another node, and B is also connected with that node, the new weight of that edge becomes the sum of the weights of those edges. This is to implement familiarity. Continue this until the desired playlist size is reached. "
   ]
  },
  {
   "cell_type": "markdown",
   "id": "c642371c",
   "metadata": {
    "id": "c642371c"
   },
   "source": [
    "Running the two cells below will initialize the network. There are some constants at the start that you need to input"
   ]
  },
  {
   "cell_type": "code",
   "execution_count": 139,
   "id": "7922166f",
   "metadata": {
    "id": "7922166f"
   },
   "outputs": [],
   "source": [
    "def recommend_song(stargraph, songs, alpha = 1):\n",
    "    '''\n",
    "    Function that will implement the recommend algorithm for a given input star graph. We are assigning weights to every \n",
    "    song in the number of songs we are operating over. The weight of each song will be the weight of the edge from it to the\n",
    "    center of the stargraph (0 otherwise) + alpha. We will then make a weighted random prediction to get the next song.\n",
    "    \n",
    "    Parameters:\n",
    "        stargraph: the input star graph. The first element is the nodes inside the graph and the second one is a dictionary \n",
    "        of node:weight pairs\n",
    "        songs: the list of songs over which we are operating\n",
    "        alpha: value to give to every song to allow possible recommendation of songs without any edges (teleportation). 1 by default\n",
    "  \n",
    "  Returns:\n",
    "       The predicted song\n",
    "   '''\n",
    "    weights = []\n",
    "    for i in range(len(songs)):\n",
    "        song = songs[i]\n",
    "        weight = alpha\n",
    "        if song in stargraph[1]: #if there is already an edge to it\n",
    "            weight+= stargraph[1][song]\n",
    "        if song in stargraph[0]: #if it is already in our playlist\n",
    "            weight = 0\n",
    "        weights.append(weight)\n",
    "    nextsong = random.choices(songs, weights, k=1)[0] #return our weighted random choice\n",
    "    #print (nextsong)\n",
    "    return nextsong\n",
    "\n",
    "def update_graph(stargraph, songToAdd, relations, edges):\n",
    "    '''\n",
    "    Function that will update the star graph to include edges that belong to the song to add. Returns updated star graph\n",
    "    \n",
    "    Parameters:\n",
    "        stargraph: the input star graph. The first element is the nodes inside the graph and the second one is a dictionary \n",
    "        of node:weight pairs\n",
    "        songToAdd: the song to add\n",
    "        relations: the dictionary of all pairs in the graph\n",
    "        edges: the original network with all the node pair relations\n",
    "   \n",
    "   Returns:\n",
    "        The updated star graph\n",
    "    '''\n",
    "    relationsToAdd = relations[songToAdd] #give a set of all the pairs of nodes with the song to add\n",
    "    stargraphNodes = stargraph[0]\n",
    "    stargraphEdges = stargraph[1]\n",
    "    \n",
    "    for song in relationsToAdd: #go through each pair belonging to this song\n",
    "        \n",
    "        if song not in stargraphNodes:\n",
    "            if song not in stargraphEdges:\n",
    "                stargraphEdges[song] = edges[(song,songToAdd)] #add value of edge from the original network\n",
    "            else:\n",
    "                stargraphEdges[song] += edges[(song,songToAdd)]\n",
    "                \n",
    "    stargraph[0].add(songToAdd)\n",
    "    return stargraph\n",
    "    \n",
    "    \n",
    "def create_playlist(inputSongs, length,  songs, relations, edges,alpha = 1):\n",
    "    '''\n",
    "    Function that generates a recommendation playlist of length length based on an input of songs, and an input network\n",
    "    \n",
    "    Parameters:\n",
    "    inputSongs: The input songs (list)\n",
    "    length: Number of songs to add\n",
    "    songs: List of all songs\n",
    "    relations: Dictionary of all pair relations in the graph\n",
    "    edges: The original network\n",
    "    alpha: The teleportation probability in the recommendation algorithm\n",
    "    '''\n",
    "    stargraph = (set(), dict())\n",
    "    \n",
    "    for song in inputSongs: #build the star graph\n",
    "        stargraph = update_graph(stargraph, song, relations, edges) \n",
    "    \n",
    "    for i in range(length):\n",
    "        newSong = recommend_song(stargraph, songs, alpha)\n",
    "        stargraph = update_graph(stargraph, newSong, relations, edges)\n",
    "    \n",
    "    return list(stargraph[0])\n",
    "    \n",
    "    \n",
    "            \n",
    "        \n",
    "        \n",
    "    \n",
    "    "
   ]
  },
  {
   "cell_type": "code",
   "execution_count": 140,
   "id": "4522710d",
   "metadata": {
    "id": "4522710d"
   },
   "outputs": [],
   "source": [
    "######################################### Constants\n",
    "\n",
    "SPECIFIC_FILE = 'generated_data/moreThan10followers.json' #Rename this to something else if you want to only consider some other dataset, \n",
    "                    #otherwise we go over all data. specify the file name/path as the name\n",
    "WEIGHTED_RANDOM = False   #If we want weighted random sampling or not\n",
    "N = 1000  #number of songs to consider\n",
    "METHOD = 'method1'  #define method to use \n",
    "METHODS = {'method1':method1, 'method2':method2, 'method3':method3}"
   ]
  },
  {
   "cell_type": "code",
   "execution_count": 141,
   "id": "d80f0f40",
   "metadata": {
    "id": "d80f0f40"
   },
   "outputs": [],
   "source": [
    "######################################### LOADING SONGS FROM FILE\n",
    "#first we need to load all the songs into a dictionary so that we can randomly select N of them\n",
    "\n",
    "\n",
    "all_tracks = {} #stores all the songs\n",
    "count = 0 #progress bar\n",
    "\n",
    "\n",
    "f = open(SPECIFIC_FILE)\n",
    "data = json.load(f)\n",
    "\n",
    "for playlist in data['playlists']:\n",
    "    for track in playlist['tracks']:\n",
    "        if track['track_name'] not in all_tracks:  #if it not in the dict then we add it to it and increase its weight\n",
    "            all_tracks[track['track_name']] = 1 #weight is used for weighted random sampling (if needed)\n",
    "        else:\n",
    "            all_tracks[track['track_name']] +=1\n",
    "\n",
    "\n",
    "######################################### CHOOSING RANDOM SONGS\n",
    "\n",
    "if WEIGHTED_RANDOM == False:\n",
    "    songs = random.choices(list(all_tracks.keys()), weights=None, k=N)\n",
    "else:\n",
    "    songs = random.choices(list(all_tracks.keys()), weights=all_tracks.values(), k=N)\n",
    "\n",
    "#print(songs)"
   ]
  },
  {
   "cell_type": "markdown",
   "id": "f44f01ed",
   "metadata": {
    "id": "f44f01ed"
   },
   "source": [
    "The cell below defines the function that we use for the star graph recommendation method"
   ]
  },
  {
   "cell_type": "markdown",
   "id": "7806d8c0",
   "metadata": {
    "id": "7806d8c0"
   },
   "source": [
    "## Using the algorithm\n",
    "\n",
    "Finally, the cell below tests the algorithm"
   ]
  },
  {
   "cell_type": "code",
   "execution_count": 142,
   "id": "df2dd959",
   "metadata": {},
   "outputs": [],
   "source": [
    "#print(songs)"
   ]
  },
  {
   "cell_type": "code",
   "execution_count": 145,
   "id": "d794292e",
   "metadata": {
    "id": "d794292e",
    "outputId": "6ef5bc56-23dc-4140-f58d-2178aff41fc5"
   },
   "outputs": [
    {
     "name": "stdout",
     "output_type": "stream",
     "text": [
      "Input songs:\n",
      "['Olives Owner', 'Between The Raindrops', 'Red Like Reagan']\n"
     ]
    }
   ],
   "source": [
    "#Testing the algorithm\n",
    "\n",
    "playlist = []  #pick some random songs OR you can manually add some songs (in cell above)\n",
    "for i in range(3):\n",
    "    playlist.append(songs[random.randint(0,len(songs))])\n",
    "length = len(playlist)+10\n",
    "print(\"Input songs:\")\n",
    "print(playlist)\n",
    "\n"
   ]
  },
  {
   "cell_type": "code",
   "execution_count": 149,
   "id": "c2de417c",
   "metadata": {},
   "outputs": [
    {
     "name": "stdout",
     "output_type": "stream",
     "text": [
      "{'Thieves Market', 'Damn Good Time', 'Healing (feat. Lady Saw)', 'Five Minutes', 'In The Age Of The Consecrated Vampire We All Get High', 'El Chakra Del Corazón - Anahata- Om En La Clave De F', 'Boop', 'Mercedes Boy', \"It's Alright, It's OK\", 'Who Dat?', 'Borracho de Amor', 'Real Girls Eat Cake', 'Hurricane - Radio Edit', 'Again & Again', 'Maneuvering', 'さよなら、ありがとう。', 'Let Me Praise Him', 'Through The Eyes Of A Child', 'Stoic Resemblance', 'Kokomo', 'Die & Rise', 'Cuando Ya No Me Acuerde de Ti', 'Quarterback', 'No Sleep - Original Mix', 'Wonderful World', 'Paani Re Paani - From \"Shor\"', 'A Song Simply Remixed', 'A Rain Of Angels', 'The Recipe', 'Destroid 10 Funk Hole (VIP)', 'The Rain (Supa Dupa Fly)', 'Wildlife Analysis', 'Flagship (Instrumental)', 'Red Like Reagan', 'El P90', 'Stay In My Corner', 'Hall of Fame', 'Dynamite - MaRLo Remix', 'Like Lust', 'Be Embraced, You Millions, Op. 443: Waltz', 'Tu Serenata', 'Tukde', \"Just Won't Let Him Go\", \"Won't Let Me Go\", 'Soy Amante De Tu Presencia', 'Steal', 'I Am Not Alone - Live', 'Closer - R3hab Remix', \"Mr. Brightside - Jacques Lu Cont's Thin White Duke Mix\", \"You Don't Have To Go\", 'Timeless (DJ SPINKING)', 'Stabs', \"DON'T BRING THAT TROUBLE\", 'Really Ready (feat. Dolph & Rulet 1017)', 'Landmine', \"Ten Cuidao'\", 'Through To You', 'Dragonfly', 'לו הייתי ראש ממשלת ישראל', 'Body Language - Interpretation', 'Vanilla Pines', \"'Ulili E\", 'Crazy Mama', 'Here If You Want (Pale Blue)', 'Quedate Otro Dia', 'Happy Endings', 'Hagamos Lo Que Diga El Corazón', 'Fight Like A Girl', 'Gonna Miss You', \"In Heaven's Light\", 'Goin Crazy (feat. Migos)', 'The Angel Of Death - Undubbed Version', 'Money In The Bank', '蜚蜚', 'White Christmas (Glee Cast Version)', 'Yalla Maa Baad', 'Between The Raindrops', 'We Lift You Higher', 'Hiya Hiya', 'New Day', 'Otra Oportunidad', 'Still Falling For You - Laibert Extended Remix', 'Thinking Of You - Roulsen Radio Edit', 'The Artist', 'Biblical Songs, Op. 99, B. 185: VII. By the Shore of the River Babylon', '10 Miles Wide', 'Culiacan Sinaloa', 'Vigilandote', 'Lately', 'Buick Mackane', 'There, There Katie', \"I Don't Want Your Loving\", 'Hollywood Forever Cemetery Sings', 'This Head I Hold', 'To My Parents', 'Mona Vegas', 'Flowers On The Wall', 'Stop And Stare', 'Behold, A Virgin Shall Conceive', 'Grenade', 'California Stars', 'The Pit', 'How I Live Now', 'A Ciegas', 'Tongue Tied July', 'A Step You Can’t Take Back', 'Put Your Head on My Shoulder', 'Look at Me!', 'Cole World', 'Over And Out', 'Quand on arrive en ville', 'Cosmic Slop', \"Even If It's a Lie - Demo\", \"It's All on U (feat. Liam O'Donnell)\", 'Sources', 'Cutiepie', 'Ah Ya Aini Ya Leil (Radio Edit)', 'Sad', 'Two Sides to Every Story', 'A Man Who Was Gonna Die Young', 'Quiero conocerte', 'Potato Brain', 'Me and Your Cigarettes', 'We Found Each Other In The Dark', 'Hokus Pokus', 'Quien Dijo Amigos', 'Wall Watcher', 'Cartographist', '你好嗎', 'A Day In The Life - Remastered', 'Unico Amor', 'Light the Night (Unkle Funkle Remix)', \"Don't Change Gone\", 'All Who Are Thirsty', 'Echo Beach - 2002 - Remaster', \"That's The Way Love Goes\", 'Married To The Music', 'In My Bed', 'The Avenue Q Theme', 'Lo Mejor de Mi Vida Eres Tú', 'Young Turks - 2008 Remastered Version', 'Armadura De Consigna', 'What Kind Of Man Would I Be', 'God of Joy', \"Beggin' On Your Knees\", 'New Theory (RAC Mix)', 'Love', '40 Days...', 'In The Morning Light', 'Contigo Safo', 'Last Home - Original', 'Baby Give It Up', 'Genre Police', 'Got Your Six', 'Werewolves Of London - 2007 Remastered Version', '7 Words', 'Nuggets (feat. Bonzai)', 'Tefilat Kallah', 'Nakdishach', 'Star of Munster', 'Que Buena Tu Ta - Chosen Few DR Remix', 'Apparently', 'Just Luv Me', 'The Long Way', 'Sugar (feat. Francesco Yates)', 'The Goodness of the Lord - Live', 'Be With You Feat. Michael Ketterer - Har Megiddo Remix', 'Goodnight', 'Жизнь', 'Make It Rain Remix', 'Charlene', 'Walking in the Rain', 'Counting Stars (Acoustic) [feat. Corey Gray & Alexi Blue]', 'The Lotus of a Thousand Petals, Sahasrara - Om Divine In the Key of B', 'Old Money', 'His Strength Is Perfect', 'RIVA (Restart the Game) - Radio Edit', 'You Know, You Know', \"Ain't Love Grand\", 'Stepping Stones', 'Intentalo (feat. Maluma)', 'Cranes in the Sky', 'Angel By The Wings', 'Turn Up the Speakers - Radio Edit', 'Whisper Something', 'Click Click Click', 'Taking Care Of No Business (Olympic Studios, London, UK, May 4,1967)', 'Until Next Time - Original Mix', 'We Are a Miracle', 'Ultralife', 'moon', 'We Ball (feat. Young Thug)', 'Blood Sweat & Tears', 'Accolade', 'Gerudo Town (Day)', 'Oleré Y Oleré Y Oleré El UHU', 'Faded - Lido Remix', 'War of Hearts', 'Steady the Buffs (From \"The Iron Lady\")', 'Long Live A$AP', 'Unfoolish', 'Mi Primer Día Sin Ti', 'Nowhere Fast', 'Go To the Light', 'The Oldest Established', 'Betty Dreams of Green Men', 'Titan Dune', 'The Hand That Feeds', 'Dejala', 'Wishy Washy', 'Stacked Actors', 'More Love To Thee [Matthew Smith]', 'Flute', 'Wasted Pilots', 'Por Unas Pocas Monedas', 'Everything Is You', 'All a Woman Wants', \"Know That's Right\", 'Nasty Girl - Explicit \"New Edit\"', 'This Bitter Earth - Original', 'Una Carta', \"L'amour Toujours\", 'Los Dos Cabales', 'Guest List - Radio Edit', 'Lighters Up', 'Live for the Drop', \"Neu Roses (Transgressor's Song)\", 'Hot Tottie', 'I’ll Be There', 'Min Hal Leila', 'There Is a Light That Never Goes Out', 'Dead And Gone (feat. Justin Timberlake)', 'My Mind Is Made Up', \"That's What I Love About Sunday\", 'Juegas Con Mi Mente', 'Apocalypse', 'You Never Give Me Your Money - Remastered', 'Jackson', 'Buddy Holly', 'The Upsetter', \"That's What I Like\", 'Wild Child & the Blue Blazers', 'When There Was Me And You', 'How You Love Me - Arston Remix', 'Baraja De Oro', \"Jason's Song (Gave It Away)\", 'The Devil Is A Lie', 'Even The Losers', 'Nothing in This World', 'Angelus Ad Virginem', 'There It Go (The Whistle Song)', 'I Believe We Can', 'Who Wears These Shoes?', \"Trippin'\", 'Emmanuel - Live', 'What The DJ Spins (feat. Terrence Howard)', 'Wild Blood', 'So In Love - feat. Anthony Hamilton', 'Flightless Bird , American Mouth (Wedding Theme - Breaking Dawn [Original by Iron and Wine])', 'Oh!', 'Summer In The City', \"Start Livin'\", 'I Want My Goodbye Back', \"If It Isn't Love\", 'Inconsistent', \"Some Lovin'\", '양화대교 (Yanghwa Brdg)', 'Allentown', 'Joker And The Thief', 'Ark', 'None Shall Pass', 'Yuck!', \"Echa Pa'lla (Manos Pa'rriba)\", 'Just One Shabbos', 'The Boy Next Door - \"Meet Me In St. Louis\" Original Cast Recording', 'Toque De Timbaleiro ((Samba / 52 Bpm))', 'From Deep Distress and Troubled Thoughts (arr. A. Parker for choir)', 'Sing Me Back Home - 2001 Digital Remaster', 'BedRock', 'Barefoot Blue Jean Night', 'But You', 'Salvador López', 'I Need A Girl (Part One) (feat. Usher & Loon)', 'Olives Owner', 'Merry Xmas Everybody (Here It Is Merry Christmas)', 'The Boxer', 'Borneo', 'Weed Nap', 'Love Is Free', 'Are You A Hypnotist??', \"I'll Never Love This Way Again\", 'Best of Me', 'Twilight - River Flows in You - Electronic Dance Version Remix', 'Abdel Kader - Live A Bercy 1,2,3 Soleils', 'Empyrean', 'Big Light', 'Hit Dem Draws', 'Dream Is Collapsing', 'Devil In Her Heart', 'I Want', 'Blitzkrieg Bop - 2016 Remastered Version', 'Sexy Darth Vader (feat. Redddaz)', 'Up in Arms', 'Cry Like a Baby', 'Birchos Habonim (Ohad)', 'Wow, I Can Get Sexual Too', 'The Famm', 'A Girl, a Boy, and a Graveyard', 'Nothin New', 'Una Vez Mas', 'DREAM', \"U Don't Know - Vincent Remix\", 'Fire Fall Down - Live', 'Amor Express', 'Meiota', 'Turn Up the Radio', \"We'll Meet Again\", 'A Death in the Ocean Would Be Beautiful', 'Dead To Rights', 'Touch The Sky', 'Ghosts', 'Perfect Silence', 'Lucha De Gigantes', 'Run Up', 'Oeaho', 'Pharaoh', 'Nevermind the End', 'Breath Of Life', 'Idle', \"Gotta Get Thru This - D'N'D Radio Edit\", \"Chicago's Finest\", 'Take What You Can Carry', \"I Was Country When Country Wasn't Cool\", 'My Heart Is a Weapon (feat. Jon Waltz)', 'Azure', 'Le vent nous portera', 'My Planet', 'The Best Party', 'Bhavayami', 'No Music', 'Laying In The Sun', 'Gashina', 'Stained Glass Masquerade', 'Nowhere Man', 'Oklahoma Breakdown', 'What Do I Do Now', 'That Sea, The Gambler', 'Timestretch', 'Under the Moon of Love', 'Sure Be Cool If You Did', 'With Everything', 'Heavy (feat. Kiiara) - Nicky Romero Remix', 'Donna - Single Version', 'Sailing By', \"I'm OK\", 'Por Tu Amor', 'Save Us', 'My Jam', 'Bad For You (feat. Nicki Minaj)', 'Rongorongo (Christian Löffler Remix)', 'Pursuit', 'Something Good', 'HouseTalk (feat. Nathaniel Knows & Shamon Cassette)', 'I Wanna Be Like You', 'The Rose', 'Impossible - Jax Jones Remix', 'Have Your Way (feat. Jason Nelson)', 'Scream & Shout', 'Lucky Man - 2012 Remastered Version', 'Volveré', 'Waves - Radio Edit', 'Nothin Changed', 'Now They Know (feat. Kb, Andy Mineo, Derek Minor, Tedashi and Lecrae)', 'Your Glory / Nothing But The Blood - Live', 'Pulse', 'Mustang Sally', \"If I Go, I'm Goin\", 'The Man With the Nail Scars', 'Chasing Ghosts', 'Lo noto - version cd', 'Should I Stay or Should I Go - Remastered', 'Let It Loose', 'Passion Whine - Remastered Version', 'This I Promise You', 'Te extraño - con El Langui', 'New Order', 'Tale of the Fisherman', 'Rock You Like A Hurricane', 'Nocturne', 'Simple Man - Acoustic', 'Amor Narcótico', 'Nothing', 'Re-Offender', 'What Happens', 'G H O S T S', 'Freeze Your Brain (feat. Barrett Wilbert Weed & Ryan McCartan)', 'What Will', '90 Proof', 'Poor Fool', 'Lick It', 'Tell Me Lies', 'New Earth', 'Help Our Souls (Urban Contact Radio Edit)', 'Afterlife (EFL107) - Dabin Remix', 'Let Him Reign (feat. Jason Borneman)', 'Mistakes', 'End Duet / Transformation', 'God Is Able - Live', 'Trinity', 'Apple Pie Moonshine', 'Ella Lo Que Quiere Es Salsa', 'Black Smoke', 'For Hot 97', 'Holla Holla', \"Hell's Disciples\", 'Mi Vieja Borracha', 'Star Wars Cantina Band - (Quick Step / 52 BPM)', 'One Pure And Holy Passion - One Day Live Album Version', 'Brightest Light - Montis Remix', 'Back for Good - Radio Mix', 'Straightjacket Feeling', 'Keep It Mello', 'Friends?', 'Church Bells', 'I Still Miss You', 'Independence Day', '6th Sense', 'Shorty Wanna Be A Thug', 'Higher Than The World', 'E. Watson', 'More Than Life', 'Honeysuckle Rose - Instrumental', 'Show Completo - Ao Vivo', '誰も知らないキミ', 'Guns for Hire', 'Aphrodite {The Aquatic Ape Theory}', 'Stay Inside', 'Ya lo Superé', \"I Don't Want To Talk About It\", 'waves - Tame Impala Remix', 'Lightspeed', 'Best Ever', 'Teach Me How To Dougie (Instrumental)', 'The Cave', 'Forces of Nature', \"Comin' Home\", 'A War Inside', 'Until We Get There', 'Lay All Your Love on Me', 'Amanda Bynes (Versace Remix)', 'O Grave Bater', 'I Know A Guy', 'Better Than Today', 'Too Late For Goodbye', \"Footwurkin'\", 'Gracefully Broken', 'The Reynolds Pamphlet', 'Lorraine Interlude', 'Flower Suite', 'Your Drums, Your Love', 'Delirium Ft. Rykka - Far Too Loud Remix', 'Hourglass', 'I Wanna Be Your Boyfriend', 'Thuggin Hard', 'Where We Go', 'Save Tonight', 'Strength And Honor', 'Rise (Kye Kye Remix)', 'Sobredosis', 'We Know The Way - From \"Moana\"', 'Cosa Buena', 'Entertainment 2.0 (feat. Juicy J, 2 Chainz and Nicki Minaj)', 'The Cone', 'Apartment', \"I'm a Saint\", 'Put It Down (feat. Anderson .Paak & KRANE)', 'Deep in These Streets', 'Stand Up (ft. Lecrae)', 'Shivers', 'La Bicicleta', 'Worst In Me', 'One More Night', 'Santo Jesus', 'Machete - Remix', \"Don't You Worry Child (Promise Land Remix) [feat. John Martin]\", 'Kingdom of the Animals', 'Ratchet Girl Anthem', 'Dancing Crazy', 'Clean', 'A Dream Is A Wish Your Heart Makes', '300 Violin Orchestra', 'Bleed Into Your Mind - Demo', 'Mojo Man', 'People Watching', \"That's The Way (I Like It) - 2004 Remastered Version\", 'No More Mr. Nice Guy', 'Hymn #35', 'Kingston', 'Battas', 'No Air (Glee Cast Version)', 'Wherever This Goes', 'NoNoNo', 'Airwaves', 'Xanny Family', 'Redemption Rain (Extended Version)', 'The Never (feat. LV Baby)', 'La Quatrième Dimension', 'Back in My Bag', 'Seidr', 'Satisfy You - Radio Edit', 'Slice', 'I Want You - Radio Edit', 'Get Right Witcha', 'The Nine - Remastered', 'Playing In The Band - Live - 8/27/72 Veneta, Oregon', 'El Quincenas', 'Soy el Mismo', 'Hell No', 'Wandering - The Glowing Sea, Pt. 1', 'Collect My Love (feat. Alex Newell)', 'People Who Look Like You', \"We're Blessed\", 'This Is How We Live', 'Lasso', 'If You Want Love', 'The Habit', 'Summatime', 'Luis Aguirre', 'El Paso del Gigante', 'Sober and Unkissed', 'If I Fall', 'Who Booty', 'The Day I Tried To Live', 'There Is a Fountain Filled with Blood - Live', 'There For You', 'Another Sunny Day', 'Millions Every Month', 'Odell', 'Mad (feat. Devon Baldwin)', 'The Warning', 'Lil Booties Matter', 'Bring A Torch Jeanette Isabella', 'Roll Call', 'Something About Her', 'I Know Somebody', 'Your Body Is A Weapon - R3hab Remix', 'Til the Sun Up', 'Better Perspective', 'Hoy Aprendi', 'We All Have Rhythm', 'How We Be', 'Conscience (feat. Future)', 'Shoulda Been There (feat. B.o.B)', '1000 Graves', 'Mind Harmony', 'Ur Burnt (feat. Blackbear)', 'Jane Doe', 'John Wayne Gacy, Jr.', 'Dreaming Of', 'Moments musicaux in E Minor, Op. 16', 'No Noise', 'Nuclear - Dillon Francis Remix', 'Knew Better / Forever Boy', 'How I Live', 'The Crooked Line', 'John Cougar, John Deere, John 3:16', 'Stop For A Minute', 'Evolve', \"You're a Jerk - Explicit Album Version\", 'Scratchin Me Up - Bonus Version', 'Filthy Pride', 'We Are The Sun - SICK INDIVIDUALS Remix', 'Man Overboard', 'Drop Everything', 'Cuéntale', 'G.R.I.T.S.', 'Walking Stick', 'Crossover', 'Carol of the Bells', 'Applaudise', 'Bateman', 'RGV', 'Renegades Of Funk', 'Man in the Station', 'something', 'Hypocrite', 'No Hope', 'Acapella', \"Keep On Chooglin'\", 'Cuando la luz oscurece', 'Breath', 'Where You Hide - Radio Edit', \"Givin' Yourself Away\", 'Soy Mi Soberano', 'La Gran Tribulacion', 'Creator (vs. Switch and FreQ Nasty)', 'Mud Musik (feat. Titi Boy aka 2 Chains)', 'Lakh Chhupao Chhup Na Sakega - From \"Asli Naqli\"', 'Kamadeva', 'Tookie Knows II', '10,000 Reasons', 'Vestiges', 'Grace Beneath the Pines', 'Mentí', 'From The Ritz To The Rubble', 'The Girl From Ipanema - 2008 Remastered', 'No Broken Hearts (feat. Nicki Minaj)', 'Holidae In', 'Guillotine', 'Realidad O Sueño', 'Freeverse', 'The Sound Of Sunshine', 'Landslide', 'Kamalani', 'Reset (feat. Jinsil)', 'Like Smoke', 'The Good Life - Radio Remix', 'Never Going Back Again - Remastered', 'Floaty', 'El Perdón - Forgiveness', 'Remember When - feat. Ray J [Explicit Album Version]', 'Fall in love with you (Album Edition)', 'Closer - The Knocks Remix', 'Usted Será', 'In Too Far', 'Masks', 'Hashem Melech, Niggun Hastarah and Am Yisrael', 'Soul II Stro', 'The Four Sesons - Violin Concerto in F Minor, RV 297, \"Winter\": II. Largo', 'Land Of The Nod', 'Julius', 'In My Dream', 'Waiting For My Sun To Shine', \"Fool's Gold\", 'Anchor of My Soul', 'Old Time Rock & Roll', 'All In My Head (Flex)', 'Yume Sekai (Sword Art Online)', 'Our Rescue', 'Noyana / Come, Come, Ye Saints (Arr. Trevor Johnson & Keith McKay Evans)', 'Rhythm & Blues', 'Hallucinations', 'Never Say Goodbye [Mix Cut]', '6 Words', 'LOVE ME RIGHT', 'Lane Boy', 'Mi 45 / Estudio (Bonus Track)', 'Right Now - Dyro Radio Edit', 'Walking On The Moon - Remastered 2003', 'When Someone Stops Loving You', '5 A.M.', 'Bend', 'As Old as Time - Devin Kroes Remix', 'Hurricane Season', 'Psalm 51', 'My Blower (feat. Juicy J)', \"It's Tricky\", 'Sense It - Live', \"We're Gonna Find It Tonight\", \"That's What I Like (feat. Fitz)\", 'Life Is But a Dream', 'Querido Tommy', 'Pony', \"Haven't Met You Yet\", 'Living - Dante Klein Remix', 'Wasp / Behind the Wall of Sleep / Bassically/ N.I.B. - Remastered Version', 'Only Fools', 'Work Hard, Play Hard (Radio Mix)', 'Mundian To Bach Ke', 'Live In Dreams', 'Young N***a Living', 'Camping And Hunting', \"Ghosts 'n' Stuff\", 'Disney Love Medley (feat. Kirstin Maldonado & Jeremy Michael Lewis)', 'As the World Goes Away', 'La Bomba Soy Yo', 'Temptation - (7\" Version) [2015 Remastered Version]', 'Soundtrack', 'Come Around', \"I Ain't Gonna Be The First To Cry\", 'Passage', 'Ghost (feat. Vince Staples) - Major Lazer Remix', 'Somewhere Only We Know', '¿Con quién se queda el perro?', 'Cinderella (She Said Her Name) - Radio Edit', 'Caretaker', 'Black Magic', \"These Boots Are Made for Walkin' - Audio from Video\", 'Ms. November', 'Paloma Querida', 'C-C (You Set The Fire In Me)', 'Zwitscherzwitscher', 'Innocence', 'I Wanna Be Your Dog', 'Peace Of Mind - Arty Remix', 'Mountains', 'Black Hole Sun', 'Existence (VIP)', 'Sunday - KlangTherapeuten \"Looking For Summer\" Remix', 'I Love My Niggas', 'VCR', 'Mesopotamia - Original', 'Never Ever Say Goodbye', 'Sinnerman (Remix)', 'I Just Want It All', 'Where This Flower Blooms', 'Pure Heart', 'The Underdog', 'La Papa', 'Mirage', 'Hysteria', 'Unchanging (Live)', 'Like You Mean It', 'Cantique De Noël (O Holy Night)', 'Old Man (Neil Young)', 'Son Of A Son Of A Sailor', \"Landcruisin'\", 'Leftside', 'Say Cheese', 'Dance the Pain Away - (Eelke Kleijn Remix) [Radio Edit]', \"They Don't Love You No More\", 'Awayo (feat. K.a.a.N)', 'Underdressed', 'Titanic', 'Las Animas Del Rio', 'La La Latch', 'Broken Vessels (Amazing Grace)', 'LUST.', 'Praise Will Be My Song', 'Take Your Shoes Off, Moses', 'Girls On Film - 2010 Remastered Version', \"Wantin' Her Again\", 'Slave', 'Limit To Your Love', 'Roman Reloaded', 'Next (feat. Rich the Kid)', 'Run It!', 'El Cielo Es El Limite', '5AM', 'Ill Mind of Hopsin 7', 'Away Frm U', 'When Irish Eyes Are Smiling', \"We're Fading (Parra for Cuva Remix)\", 'Behet Marizam', 'Burn Baby Burn (feat. Russ)', 'Generator (First Floor)', 'Paniquiado', 'When Will I Be Loved', 'James Joint', 'Luvly', 'Roots Of Dub', 'Birfday Suit', 'Money in the Ghetto', \"That's What Love Will Make You Do\", \"Count 'em One, Two, Three\", 'Sweeterman', 'Patient Hands', 'Home (feat. Sophie Simmons)', 'Sweet Lei Lehua', 'The Monkey Time', 'Pretty Girl Rock', 'If I Lose Myself', 'Too Much Time Together', 'Mr. Curiosity', 'And The Glory Of The Lord', 'African Man', 'Dañarme la Mente', 'What You Do To Me', \"Brahms' Lullaby\", 'Never Surrender', 'Boogie Woogie Bugle Boy - Single Version', 'Ball And Chain', 'Heart Is Full', 'Surrender - Acoustic', 'Por Amarte Así', 'Hello, Goodbye - Remastered', 'Loud and Heavy', 'Master Pretender', 'Seasons Of Love', \"She Don't Know She's Beautiful\", 'ของหายอยากได้คืน', 'Keep The Family Close', 'When We Were Young - Valentino Khan Remix', '2 In The Chest, 1 In The Head', 'Love To Lay', 'Sister Golden Hair', 'Jatt Fire Karda', 'In Event of Moon Disaster', 'Quiet Moments', 'When I Was Young', 'BYF', 'Out Of My Head', 'Made New - Studio Version', 'Hard Knock Life (Ghetto Anthem)', 'Stuck In The Middle With You - Remastered', 'Que Te Ruegue Quien Te Quiera', 'Is This How You Feel? - Classixx Remix', 'Hombre De Fuego (En Vivo)', 'Oceancrest', 'Let It Ride', 'Sau Saal Pahle - From \"Jab Pyar Kisi Se Hota Hai\"', 'Dakota', 'Never Turn Away', \"Can't Get Enough\", \"Don't Wish Me Well\", 'How Great Is Our God', 'The Birthday Of A King', 'Nos Siguen Pegando Abajo', \"Let's Start Again - Demo\", 'Pyro', 'Lost Raven', 'Aller Vers Le Soleil', 'Obsesion (No Es Amor) - Featuring Baby Bash', 'Christmas In Hollis', 'Knock Yourself Out (Flying on Instruments)', 'I Like', 'Top of the World', 'Cyberlove', 'Lo Que Pasó, Pasó', 'Beto Lopez', 'Rico', 'Everyday (feat. DRAM & Kyle)', 'Safe Inside You (feat. Betsie Larkin) - Radio Edit', 'Eleanor Rigby', 'Crazy - The Voice Performance', 'Su Tumbao (feat. Jowell)', 'One Day (Vandaag) - Radio Edit', 'Holes To Heaven', 'Dancing In The Dark', 'O Christmas Tree', 'A Good Friend', '有人共鳴', 'This Land', 'So Insane', 'Muero por Tenerte', 'The Gloaming', \"Can't Hardly Stand It\", 'The Eighth Wave', 'Fish in a Barrel (feat. D. Thrash)', 'Sweet Ophelia', '20 Years Tall', 'Baraja de Oro', 'Love Child (Glee Cast Version)', \"Wouldn't Want It Any Other Way\", 'Alas and Did My Saviour Bleed?', 'Sorority Girl - Demo', 'Hootie Hoo', \"Don't Laugh At Me\", 'Light of My Soul', 'Kalua (Love Song Of)', 'Festival Song', 'Geek In The Pink', 'I Want You to Want Me', 'Que Viva la Vida', 'Flaming Hot Cheetos', 'Same Old Situation', 'Worthy of It All (Live)', 'Invent the Universe', 'Verona', 'Rock The Party - Original Mix', '可惜沒如果', 'Alive in You', 'Come By Fire', 'Long Heels Red Bottoms', 'Battle Hymn Of The Republic', 'Football Season is Over - Utah Saints Remix', 'Where the Money', \"Before I'm Gone\", 'Koi Kahe Kehta Rahe', 'The Shaking of Leaves', \"Isn't She Lovely\", 'Can I Have This Dance', 'Blue Cheese', 'Good, Bad, Ugly', 'Sri Suktam - An Ancient Vedic Hymn to Lakshmi', 'Ako Na Lang (Feat. K-Soul & Jaboy)', 'Two Pina Coladas', 'Cars & Guns', 'Realmente No Estoy Tan Solo', 'The Dragon Flies (feat. David Vendetta, Sylvia Tosun) - Original Radio Edit', 'Nevada (feat. Cozi Zuehlsdorff)', 'Mateegi Noroos', 'Locket', 'Night Lamp', 'Cut Your Hair', 'Pick a Universe (Instrumental)', 'Learn from You', 'Stranger in a Strange Land', 'Mangled', 'My Neck, My Back (Lick It) - Street/Club Version', 'Mr. Brown', 'Yippy Ky Yay', 'She Is a Little Country', 'Kolony Anthem (feat. ILoveMakonnen & Bok Nero)', 'Irremediablemente Tarde', 'What Shall We Die For - From \"Pirates of the Caribbean: At World\\'s End\"/Score', 'Pegadito', 'First Punch', 'Tompkins Square Park', 'Johnny B Goode - Long Version; 2002 Remastered Version', 'Like Someone in Love', 'Godspeed', 'Anyone Else But You', 'Apollo', 'Wild Drunk - Original Mix', 'I Know A Place', 'Gorgeous Face', 'Linda Estrella (feat. Baby Rasta y Gringo)', 'Secret Love Song', 'Feels Like We Only Go Backwards', 'Whistle Stop - From \"Robin Hood\"', 'Torn (Junk Son Remix)', 'Mind Flower', 'Easy Pieces', 'El Cantinero', \"Keep Marchin'\", \"Can't Stop It\", 'Rock & Roll', '陽光點的歌', 'Empujando la Línea', 'Da Streetz', \"Rollin' (Air Raid Vehicle)\", 'Stickwitu', 'All We Know', 'Sólo Vine A Despedirme', 'To Be Alone', 'This Is The Dream Of Win & Regine', 'Hair', 'Boyz In The Hood', 'Mallefitz - Original Mix', 'White Limozeen', 'Issues (feat. Russ)', \"Afro Blue (9th Wonder's Blue Light Basement Remix) [feat. Erykah Badu and Phonte]\", 'One Third', 'Breaking Us In Two', 'Set Yourself Free', 'Suit Up - Instrumental', 'Mellow My Man', 'All over You', 'Addresses', 'D# Fat', 'Earth Meets Water - Promise Land Radio Edit', 'Navidad Sin Tí', 'Wedding Vows', 'Hold It Together - Original Mix', 'Brandy Alexander', 'Love Will Conquer All', 'Am I Evil? - Remastered', \"Don't Deserve You\", 'Talk Of The Town', 'Sandcastles - Radio Edit', 'Wedding Dress (Eng.) - Eng.', 'Tumbleweed', 'La Cumbia Sabadomingo', 'Start From Scratch', 'Teleport A & B', '143', 'If You Play Your Cards Right', 'Secretos', 'Hard To Handle', 'Other One', \"The Boredom Is The Reason I Started Swimming. It's Also The Reason I Started Sinking\", 'Cosas Imposibles', 'Motivation', 'Remember This', 'Serious', 'In Your Arms - Lucky Charmes Remix', 'Angelina', 'Love Is Love (feat. Pink Oculus)', 'Like a Nightmare', \"Oh Lord You're Beautiful - Live\", 'Now is the month of Maying', 'Movements', 'Bring On the Dancing Horses', 'La Ley del Mosquito', 'Up Against The Wall', \"Just Don't Let Go Just Don't\", 'Compared To What', 'His Name', 'Dirty Tricks', 'Set It Off (feat. Lazerdisk Party Sex)', 'Sucks', 'O God Forgive Us', 'Give You Everything', 'USA', 'Love No Less Worthy', 'Backboard (feat. Young Thug)', 'Death Spiral', 'Lyk U Use 2 (feat. Andres)'}\n"
     ]
    }
   ],
   "source": [
    "# for method in METHODS.keys():  \n",
    "#     edges, relations = METHODS['method2'](set(songs),SPECIFIC_FILE)\n",
    "#     print(relations)\n"
   ]
  },
  {
   "cell_type": "markdown",
   "id": "fc5f0a9c",
   "metadata": {
    "id": "fc5f0a9c"
   },
   "source": [
    "### Thoughts on algorithm\n",
    "\n",
    "I have no idea if these are great playlists or not lmao"
   ]
  },
  {
   "cell_type": "markdown",
   "id": "fe1eb6de",
   "metadata": {},
   "source": [
    "## 2.2 Implementing Networkx\n",
    "\n",
    "The purpose of this subsection is to use networkx to load our .csv files that we have produced, so that we can create adjacency matrices, figure out shortest path lengths, etc\n"
   ]
  },
  {
   "cell_type": "code",
   "execution_count": 112,
   "id": "6d5dcfbf",
   "metadata": {},
   "outputs": [
    {
     "name": "stdout",
     "output_type": "stream",
     "text": [
      "<bound method NDFrame.head of                        Source                  Target  Weight\n",
      "0                     My Love           Love Like Woe      48\n",
      "1               Love Like Woe                 My Love      48\n",
      "2                     My Love                  Closer    2290\n",
      "3                      Closer                 My Love    2290\n",
      "4                     My Love                     SOS     158\n",
      "...                       ...                     ...     ...\n",
      "17383    Go Slow - Luka Remix     We Can't Be Friends      34\n",
      "17384                    Gold    Go Slow - Luka Remix      34\n",
      "17385    Go Slow - Luka Remix                    Gold      34\n",
      "17386         Big Yellow Taxi  Ain't Too Proud To Beg      36\n",
      "17387  Ain't Too Proud To Beg         Big Yellow Taxi      36\n",
      "\n",
      "[17388 rows x 3 columns]>\n"
     ]
    }
   ],
   "source": [
    "path = 'generated_data/2000_method1_random_songs.csv' #file to be read\n",
    "df = pd.read_csv(path)\n",
    "songs = []\n",
    "for song in df['Source']:\n",
    "    songs.append(song)\n",
    "print(df.head)"
   ]
  },
  {
   "cell_type": "code",
   "execution_count": 113,
   "id": "869a7642",
   "metadata": {},
   "outputs": [
    {
     "name": "stdout",
     "output_type": "stream",
     "text": [
      "17388\n"
     ]
    }
   ],
   "source": [
    "\n",
    "G = nx.from_pandas_edgelist(df, \"Source\", \"Target\", edge_attr = \"Weight\")  #generate graph\n",
    "\n",
    "out = []\n",
    "\n",
    "for song1 in songs:\n",
    "    paths = nx.single_source_shortest_path_length(G, song1)\n",
    "    vals = []\n",
    "    for p in paths.keys():\n",
    "        if p!=song1:\n",
    "            vals.append(paths[p])\n",
    "    out.append(vals)\n",
    "print(len(out))\n",
    "#print(nx.adjacency_matrix(G).shape)\n"
   ]
  },
  {
   "cell_type": "code",
   "execution_count": 114,
   "id": "cf5d943f",
   "metadata": {},
   "outputs": [
    {
     "name": "stdout",
     "output_type": "stream",
     "text": [
      "557\n"
     ]
    }
   ],
   "source": [
    "print((np.array(out[1])-np.array(out[2])).sum())"
   ]
  },
  {
   "cell_type": "code",
   "execution_count": null,
   "id": "43225e35",
   "metadata": {},
   "outputs": [],
   "source": [
    "#Playlist Generation using shortest paths method\n",
    "\n",
    "input_songs = ['Dani California, by Red Hot Chili Peppers','Hey Joe, by Jimi Hendrix', 'The Ballad Of Curtis Loew, by Lynyrd Skynyrd']\n",
    "out = input_songs\n",
    "n = 10 # number of songs to add\n",
    "sp = []\n",
    "\n",
    "for s in input_songs:\n",
    "    if sp == []:\n",
    "        sp = nx.shortest_path(G,s)\n",
    "        sp.pop(s)\n",
    "    else:\n",
    "        for key in sp.keys():\n",
    "            sp[key]+= nx.shortest_path(G,s)[key]\n",
    "        sp.pop(s)\n",
    "\n",
    "        \n",
    "for i in range (10):\n",
    "    s = min(sp, key = sp.get) #get song with lowest combined shortest path\n",
    "    out.append(s)\n",
    "    for key in sp.keys():\n",
    "        sp[key]+= nx.shortest_path(G,s)[key]\n",
    "    sp.pop(s)\n",
    "    \n",
    "print(out)"
   ]
  },
  {
   "cell_type": "markdown",
   "id": "1dd2c770",
   "metadata": {},
   "source": [
    "## 2.2 Cosine Simliarity\n",
    "\n",
    "### TODO"
   ]
  },
  {
   "cell_type": "code",
   "execution_count": null,
   "id": "1e847f4a",
   "metadata": {
    "id": "1e847f4a"
   },
   "outputs": [],
   "source": []
  }
 ],
 "metadata": {
  "colab": {
   "provenance": []
  },
  "kernelspec": {
   "display_name": "Python 3",
   "language": "python",
   "name": "python3"
  },
  "language_info": {
   "codemirror_mode": {
    "name": "ipython",
    "version": 3
   },
   "file_extension": ".py",
   "mimetype": "text/x-python",
   "name": "python",
   "nbconvert_exporter": "python",
   "pygments_lexer": "ipython3",
   "version": "3.8.8"
  }
 },
 "nbformat": 4,
 "nbformat_minor": 5
}
