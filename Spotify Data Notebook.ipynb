{
 "cells": [
  {
   "cell_type": "code",
   "execution_count": null,
   "id": "3f540c24",
   "metadata": {},
   "outputs": [],
   "source": [
    "!pip install -U networkx\n",
    "!pip install -U scipy"
   ]
  },
  {
   "cell_type": "code",
   "execution_count": null,
   "id": "662ea106",
   "metadata": {
    "id": "662ea106"
   },
   "outputs": [],
   "source": [
    "import math\n",
    "import json\n",
    "import scipy\n",
    "import pandas as pd\n",
    "import os\n",
    "import os.path\n",
    "import matplotlib.pyplot as plt\n",
    "import numpy as np\n",
    "import random\n",
    "import networkx as nx\n",
    "from pathlib import Path"
   ]
  },
  {
   "cell_type": "code",
   "execution_count": null,
   "id": "f0b82eba",
   "metadata": {},
   "outputs": [],
   "source": [
    "print (nx.__version__)\n",
    "print(scipy.__version__)"
   ]
  },
  {
   "cell_type": "code",
   "execution_count": null,
   "id": "U-wHnUm3kYnZ",
   "metadata": {
    "colab": {
     "base_uri": "https://localhost:8080/"
    },
    "id": "U-wHnUm3kYnZ",
    "outputId": "41f12f03-7583-4725-8e87-cffb40a18970"
   },
   "outputs": [],
   "source": [
    "#optional cell if using drive:\n",
    "#if using drive the file creeation will not work!\n",
    "#from google.colab import drive\n",
    "#drive.mount('/content/gdrive')"
   ]
  },
  {
   "cell_type": "markdown",
   "id": "a2dd32b7",
   "metadata": {
    "id": "a2dd32b7"
   },
   "source": [
    "\n",
    "\n",
    "# Section 0: Getting data from million songs playlists\n",
    "\n",
    "### How to use this notebook\n",
    "\n",
    "1. Download it\n",
    "2. Download and extract the million songs dataset (link in the README.md on the repo) in the same directory as this notebook\n",
    "3. Set the DIRECTORY constant in the cell below as the directory containing the dataset\n",
    "4. You should then be able to run all of it\n",
    "\n",
    "Section 1 is making a graph to figure out how the number of followers over all the playlists is distributed\n",
    "Section 2 is removing all playlists from the dataset which have N or more fewer, and creating a new file containing playlists with only more than N followers\n",
    "Section 3 is extracting N songs randomly from a given dataset, either randomly or with a weighted random distribution. You can set the constants to change the sampling method, number of songs, and the dataset you are computing over. If you use the default dataset to pick the songs, it is quite slow (takes like 10 minutes overall), so you may want to use a smaller dataset to choose these songs. I set the dataset to the dataset containing playlists with over 5 followers and it is significantly quicker to run. "
   ]
  },
  {
   "cell_type": "markdown",
   "id": "561efd48",
   "metadata": {},
   "source": [
    "### IMPORTANT: Set the directory containing the data below"
   ]
  },
  {
   "cell_type": "code",
   "execution_count": null,
   "id": "f900x3nJpM8J",
   "metadata": {
    "id": "f900x3nJpM8J"
   },
   "outputs": [],
   "source": [
    "DIRECTORY = \"spotify_million_playlist_dataset/data/\""
   ]
  },
  {
   "cell_type": "markdown",
   "id": "1f57447f",
   "metadata": {
    "id": "1f57447f"
   },
   "source": [
    "### 1. Figuring out distribution of number of followers over playlists\n",
    "\n",
    "This is just to figure out what the distribution of the followers looks like"
   ]
  },
  {
   "cell_type": "code",
   "execution_count": null,
   "id": "2e38ec2a",
   "metadata": {
    "colab": {
     "base_uri": "https://localhost:8080/"
    },
    "id": "2e38ec2a",
    "outputId": "53f204b0-95ba-4175-f7e2-2bc407691d54"
   },
   "outputs": [],
   "source": [
    "# 1. Followers numbers\n",
    "# 10,000 songs choose (Quanchi's link)\n",
    "\n",
    "\n",
    "num_followers = []\n",
    "directory = os.listdir(DIRECTORY)\n",
    "\n",
    "for file in directory:\n",
    "\n",
    "    f = open(DIRECTORY+file)\n",
    "    data = json.load(f)\n",
    "\n",
    "\n",
    "    for playlist in range(len(data['playlists'])):\n",
    "        x = data['playlists'][playlist]['num_followers']\n",
    "        num_followers += [x]\n",
    "\n",
    "num_followers = pd.Series(num_followers)\n",
    "num_followers.value_counts()\n"
   ]
  },
  {
   "cell_type": "code",
   "execution_count": null,
   "id": "5dd9d657",
   "metadata": {
    "id": "5dd9d657"
   },
   "outputs": [],
   "source": [
    "num_likes = {}\n",
    "\n",
    "for val in num_followers:\n",
    "    if val in num_likes:\n",
    "        num_likes[val] += 1\n",
    "    else:\n",
    "        num_likes[val] = 1\n",
    "\n",
    "keys = []\n",
    "for key in num_likes.keys():\n",
    "    keys += [key]\n",
    "\n",
    "keys.sort()\n",
    "\n",
    "X,y = [],[]\n",
    "\n",
    "for key in keys:\n",
    "    X +=[key]\n",
    "    y +=[num_likes[key]]\n",
    "    \n",
    "    \n",
    "#make the y-values a fraction of the size of the dataset\n",
    "y_c = y     \n",
    "for i in range(len(y_c)):\n",
    "        y_c[i] = (y_c[i]+y_c[i-1])\n",
    "\n",
    "for i in range(len(y_c)):\n",
    "    y_c[i]/= 1000000\n",
    "\n",
    "y_c\n",
    "\n",
    "\n",
    "    \n",
    "    "
   ]
  },
  {
   "cell_type": "code",
   "execution_count": null,
   "id": "4ae833b8",
   "metadata": {
    "id": "4ae833b8"
   },
   "outputs": [],
   "source": [
    "#Plot\n",
    "\n",
    "plt.plot(X[:40], y[:40],linestyle=\"-\", marker=\"o\")\n",
    "plt.ylabel(\"Fraction of playlists with followers <= than this number\")\n",
    "plt.xlabel(\"Number of Followers\")\n",
    "plt.xticks(np.arange(0,41,2))\n",
    "plt.show()\n",
    "f = plt.figure()\n",
    "f.set_figwidth(1)\n",
    "f.set_figheight(1)"
   ]
  },
  {
   "cell_type": "code",
   "execution_count": null,
   "id": "5556a4cf",
   "metadata": {
    "id": "5556a4cf"
   },
   "outputs": [],
   "source": [
    "print(1000000 - y_c[5]*1000000)\n"
   ]
  },
  {
   "cell_type": "markdown",
   "id": "f0622574",
   "metadata": {
    "id": "f0622574"
   },
   "source": [
    "### 2. Removing the majority of the playlists\n",
    "\n",
    "Removing all playlists with N or less followers "
   ]
  },
  {
   "cell_type": "code",
   "execution_count": null,
   "id": "a8ca01a8",
   "metadata": {
    "id": "a8ca01a8"
   },
   "outputs": [],
   "source": [
    "N = 10\n",
    "directory = os.listdir(DIRECTORY)\n",
    "\n",
    "moreThanN = []\n",
    "\n",
    "for file in directory:\n",
    "\n",
    "    f = open(DIRECTORY+file)\n",
    "    data = json.load(f)\n",
    "\n",
    "\n",
    "    for playlist in range(len(data['playlists'])):\n",
    "        if data['playlists'][playlist]['num_followers'] >N:  \n",
    "            moreThanN += [data['playlists'][playlist]]"
   ]
  },
  {
   "cell_type": "code",
   "execution_count": null,
   "id": "a7877ad0",
   "metadata": {
    "colab": {
     "base_uri": "https://localhost:8080/"
    },
    "id": "a7877ad0",
    "outputId": "67370876-3a87-4d5b-e9b2-602ca77fc6a4"
   },
   "outputs": [],
   "source": [
    "#sanity check\n",
    "\n",
    "len(moreThanN)"
   ]
  },
  {
   "cell_type": "code",
   "execution_count": null,
   "id": "GJeLZslQm0-c",
   "metadata": {
    "colab": {
     "base_uri": "https://localhost:8080/"
    },
    "id": "GJeLZslQm0-c",
    "outputId": "ba4ac40c-6a8b-457c-84b2-7247c3b836bd"
   },
   "outputs": [],
   "source": [
    "#Create results folder\n",
    "\n",
    "path = os.getcwd()+\"/generated_data\"\n",
    "# Check whether the specified path exists or not\n",
    "isExist = os.path.exists(path)\n",
    "if not isExist:\n",
    "\n",
    "   # Create a new directory because it does not exist\n",
    "   os.makedirs(path)\n",
    "   print(\"The new directory is created!\")"
   ]
  },
  {
   "cell_type": "code",
   "execution_count": null,
   "id": "161047a2",
   "metadata": {
    "id": "161047a2"
   },
   "outputs": [],
   "source": [
    "#SAVING DATA\n",
    "#convert to dictionary \n",
    "moreThanN_dict = {\"playlists\": moreThanN}\n",
    "\n",
    "json_object = json.dumps(moreThanN_dict, indent=4)\n",
    "with open(path+\"/moreThan\"+str(N)+\"followers.json\", \"w\") as outfile:\n",
    "    outfile.write(json_object)\n",
    "\n"
   ]
  },
  {
   "cell_type": "code",
   "execution_count": 204,
   "id": "15a99b57",
   "metadata": {},
   "outputs": [],
   "source": [
    "def select_N_songs(N, SPECIFIC_FILE, WEIGHTED_RANDOM = False):\n",
    "    all_tracks = {} #stores all the songs\n",
    "    f = open(SPECIFIC_FILE)\n",
    "    data = json.load(f)\n",
    "\n",
    "    for playlist in data['playlists']:\n",
    "        for track in playlist['tracks']:\n",
    "            name = track['track_name']+', by '+ track['artist_name']\n",
    "            if name not in all_tracks:  #if it not in the dict then we add it to it and increase its weight\n",
    "                all_tracks[name] = 1 #weight is used for weighted random sampling (if needed)\n",
    "            else:\n",
    "                all_tracks[name] +=1\n",
    "    if WEIGHTED_RANDOM == False:\n",
    "        songs = random.choices(list(all_tracks.keys()), weights=None, k=N)\n",
    "    else:\n",
    "        songs = random.choices(list(all_tracks.keys()), weights=all_tracks.values(), k=N)\n",
    "    return set(songs)"
   ]
  },
  {
   "cell_type": "markdown",
   "id": "c0d3b002",
   "metadata": {},
   "source": [
    "# Section 1: Defining the edges of the network\n",
    "\n",
    "In this section we explore several different means to quantify how similar one song is to another. We will use these similarity scores to assign weights to the edges of our network. \n",
    "\n",
    "\n"
   ]
  },
  {
   "cell_type": "code",
   "execution_count": 205,
   "id": "f0f588bb",
   "metadata": {},
   "outputs": [],
   "source": [
    "#load some songs to test the methods below\n",
    "################# Constants #################\n",
    "SPECIFIC_FILE = 'generated_data/moreThan10followers.json' \n",
    "WEIGHTED_RANDOM = False   #If we want weighted random sampling or not\n",
    "N = 2000  #number of songs to consider\n",
    "\n",
    "songs = select_N_songs(N,SPECIFIC_FILE, WEIGHTED_RANDOM)\n",
    "\n",
    "############################################"
   ]
  },
  {
   "cell_type": "markdown",
   "id": "e83d1bbf",
   "metadata": {},
   "source": [
    "### Idea 1: Shared Followers\n",
    "This method assigns a weight to each edge based on the sum of likes of each playlist that both songs in the edge appear in.\n",
    "\n",
    "$w_{i,j} = \\Sigma_{p \\in P_{i,j}}{\\normalsize \\text{# likes of }p}$, where $P_{i,j}$ is the set of playlists contatining songs $i$ and $j$"
   ]
  },
  {
   "cell_type": "code",
   "execution_count": 206,
   "id": "ea09e291",
   "metadata": {
    "scrolled": true
   },
   "outputs": [
    {
     "name": "stdout",
     "output_type": "stream",
     "text": [
      "[(('Animal, by Neon Trees', 'In The Ayer (feat. will.I.am) - feat. will.I.am Album Version, by Flo Rida'), 76), (('In The Ayer (feat. will.I.am) - feat. will.I.am Album Version, by Flo Rida', 'Animal, by Neon Trees'), 76), (('Animal, by Neon Trees', 'Show Stopper, by Danity Kane'), 26), (('Show Stopper, by Danity Kane', 'Animal, by Neon Trees'), 26), (('Animal, by Neon Trees', 'Waking Up In Vegas, by Katy Perry'), 104)]\n"
     ]
    }
   ],
   "source": [
    "def method1(directory, songs):\n",
    "    '''\n",
    "    Function that takes in a directory and N random songs and produces a network using the method 1 described above.\n",
    "    \n",
    "    Parameters:\n",
    "        directory - the directory containing the data (assumed to be in a single .json file)\n",
    "        songs - the N songs to select out of all the data\n",
    "    Returns:\n",
    "        edges - the constructed network\n",
    "        relations - the node-node relations useful for certain recommendation algorithms\n",
    "    '''\n",
    "    shared_playlists = [] #this will contain items of the form (weight: [weight], tracks: [tracks]) for each playlist\n",
    "    f = open(SPECIFIC_FILE) \n",
    "    data = json.load(f)\n",
    "\n",
    "    for playlist in data['playlists']:  #parse through every playlist\n",
    "\n",
    "        num_followers = playlist['num_followers']\n",
    "        temp = []\n",
    "        for track in playlist['tracks']: #if one of the random songs is in the playlist then remember it\n",
    "            name = track['track_name']+', by '+ track['artist_name']\n",
    "            if name in songs and name not in temp:\n",
    "                temp.append(name)\n",
    "\n",
    "        if (len(temp) >1): #only if a playlist has two or more of the 10k songs then we add it to our shared_playlists lits\n",
    "            item = {'weight':num_followers, 'tracks':temp}\n",
    "            shared_playlists.append(item)\n",
    "\n",
    "\n",
    "    # #Here we create the big graph\n",
    "    edges = {}\n",
    "    relations = {} #this variable stores all of the node pairs in the graph. It is useful for the playlist-generation part of the notebook\n",
    "    for song in songs:\n",
    "        relations[song] = set({})\n",
    "\n",
    "    for item in shared_playlists:\n",
    "\n",
    "        weight = item['weight']\n",
    "        tracks = item['tracks']\n",
    "        for track1 in tracks:\n",
    "            for track2 in tracks:\n",
    "                if (track1 == track2):\n",
    "                    continue\n",
    "                #now we add relations\n",
    "                if track2 not in relations[track1]:\n",
    "                    relations[track1].add(track2)\n",
    "                if track1 not in relations[track2]:\n",
    "                    relations[track2].add(track1)\n",
    "\n",
    "                #now create edge and weight\n",
    "                if (track1,track2) not in edges and (track2,track1) not in edges:\n",
    "                    edges[(track1,track2)] = weight\n",
    "                    edges[(track2,track1)] = weight\n",
    "                else:\n",
    "                    edges[(track1,track2)] += weight\n",
    "                    edges[(track2,track1)] += weight\n",
    "    return edges,relations\n",
    "        \n",
    "print(list(method1('generated_data/moreThan10followers.json',songs)[0].items())[0:5])"
   ]
  },
  {
   "cell_type": "markdown",
   "id": "317b12e5",
   "metadata": {},
   "source": [
    "\n",
    "### Idea 2: Shared Playlists\n",
    "The weight of each edge is the number of shared playlists of the song\n",
    "\n",
    "$w_{i,j} = \\normalsize |P_{i,j}|$\n"
   ]
  },
  {
   "cell_type": "code",
   "execution_count": 207,
   "id": "4a40009a",
   "metadata": {},
   "outputs": [
    {
     "name": "stdout",
     "output_type": "stream",
     "text": [
      "[(('Animal, by Neon Trees', 'In The Ayer (feat. will.I.am) - feat. will.I.am Album Version, by Flo Rida'), 4), (('In The Ayer (feat. will.I.am) - feat. will.I.am Album Version, by Flo Rida', 'Animal, by Neon Trees'), 4), (('Animal, by Neon Trees', 'Show Stopper, by Danity Kane'), 2), (('Show Stopper, by Danity Kane', 'Animal, by Neon Trees'), 2), (('Animal, by Neon Trees', 'Waking Up In Vegas, by Katy Perry'), 6)]\n"
     ]
    }
   ],
   "source": [
    "def method2(directory, songs):\n",
    "    '''\n",
    "    Function that takes in a directory and N random songs and produces a network using the method 2 described above.\n",
    "    \n",
    "    Parameters:\n",
    "        directory - the directory containing the data (assumed to be in a single .json file)\n",
    "        songs - the N songs to select out of all the data\n",
    "    Returns:\n",
    "        edges - the constructed network\n",
    "        relations - the node-node relations useful for certain recommendation algorithms\n",
    "    '''\n",
    "    shared_playlists = [] #this will contain items of the form (weight: [weight], tracks: [tracks]) for each playlist\n",
    "    f = open(SPECIFIC_FILE) \n",
    "    data = json.load(f)\n",
    "\n",
    "    for playlist in data['playlists']:  #parse through every playlist\n",
    "\n",
    "        num_followers = playlist['num_followers']\n",
    "        temp = []\n",
    "        for track in playlist['tracks']: #if one of the random songs is in the playlist then remember it\n",
    "            name = track['track_name']+', by '+ track['artist_name']\n",
    "            if name in songs and name not in temp:\n",
    "                temp.append(name)\n",
    "\n",
    "        if (len(temp) >1): #only if a playlist has two or more of the 10k songs then we add it to our shared_playlists lits\n",
    "            item = {'weight':1, 'tracks':temp}\n",
    "            shared_playlists.append(item)\n",
    "\n",
    "\n",
    "    # #Here we create the big graph\n",
    "    edges = {}\n",
    "    relations = {} #this variable stores all of the node pairs in the graph. It is useful for the playlist-generation part of the notebook\n",
    "    for song in songs:\n",
    "        relations[song] = set({})\n",
    "\n",
    "    for item in shared_playlists:\n",
    "\n",
    "        weight = item['weight']\n",
    "        tracks = item['tracks']\n",
    "        for track1 in tracks:\n",
    "            for track2 in tracks:\n",
    "                if (track1 == track2):\n",
    "                    continue\n",
    "                #now we add relations\n",
    "                if track2 not in relations[track1]:\n",
    "                    relations[track1].add(track2)\n",
    "                if track1 not in relations[track2]:\n",
    "                    relations[track2].add(track1)\n",
    "\n",
    "                #now create edge and weight\n",
    "                if (track1,track2) not in edges and (track2,track1) not in edges:\n",
    "                    edges[(track1,track2)] = weight\n",
    "                    edges[(track2,track1)] = weight\n",
    "                else:\n",
    "                    edges[(track1,track2)] += weight\n",
    "                    edges[(track2,track1)] += weight\n",
    "    return edges,relations\n",
    "        \n",
    "print(list(method2('generated_data/moreThan10followers.json',songs)[0].items())[0:5])"
   ]
  },
  {
   "cell_type": "markdown",
   "id": "e699b46d",
   "metadata": {},
   "source": [
    "\n",
    "### Idea 3: Hybrid of 1 and 2\n",
    "Since the follower numbers of the playlists are heavily skewed, ranging from 1 to over 70k, we experiment with weighting the shared playlist number higher than the shared follower number.\n",
    "\n",
    "$w_{i,j} = \\normalsize |P_{i,j}| + log_2({\\Sigma_{p \\in P_{i,j}}{\\text{# likes of }p}})$\n",
    "\n",
    "For our purposes, we use $log_2$ to weight the follower numbers as we think it suits our data well.\n"
   ]
  },
  {
   "cell_type": "code",
   "execution_count": 208,
   "id": "7f95d5a3",
   "metadata": {},
   "outputs": [
    {
     "name": "stdout",
     "output_type": "stream",
     "text": [
      "[(('Animal, by Neon Trees', 'In The Ayer (feat. will.I.am) - feat. will.I.am Album Version, by Flo Rida'), 4.700439718141093), (('In The Ayer (feat. will.I.am) - feat. will.I.am Album Version, by Flo Rida', 'Animal, by Neon Trees'), 4.700439718141093), (('Animal, by Neon Trees', 'Show Stopper, by Danity Kane'), 4.700439718141093), (('Show Stopper, by Danity Kane', 'Animal, by Neon Trees'), 4.700439718141093), (('Animal, by Neon Trees', 'Waking Up In Vegas, by Katy Perry'), 4.700439718141093), (('Waking Up In Vegas, by Katy Perry', 'Animal, by Neon Trees'), 4.700439718141093), (('Animal, by Neon Trees', 'SOS, by Rihanna'), 4.700439718141093), (('SOS, by Rihanna', 'Animal, by Neon Trees'), 4.700439718141093), (('In The Ayer (feat. will.I.am) - feat. will.I.am Album Version, by Flo Rida', 'Show Stopper, by Danity Kane'), 4.700439718141093), (('Show Stopper, by Danity Kane', 'In The Ayer (feat. will.I.am) - feat. will.I.am Album Version, by Flo Rida'), 4.700439718141093), (('In The Ayer (feat. will.I.am) - feat. will.I.am Album Version, by Flo Rida', 'Waking Up In Vegas, by Katy Perry'), 4.700439718141093), (('Waking Up In Vegas, by Katy Perry', 'In The Ayer (feat. will.I.am) - feat. will.I.am Album Version, by Flo Rida'), 4.700439718141093), (('In The Ayer (feat. will.I.am) - feat. will.I.am Album Version, by Flo Rida', 'SOS, by Rihanna'), 4.700439718141093), (('SOS, by Rihanna', 'In The Ayer (feat. will.I.am) - feat. will.I.am Album Version, by Flo Rida'), 4.700439718141093), (('Show Stopper, by Danity Kane', 'Waking Up In Vegas, by Katy Perry'), 4.700439718141093), (('Waking Up In Vegas, by Katy Perry', 'Show Stopper, by Danity Kane'), 4.700439718141093), (('Show Stopper, by Danity Kane', 'SOS, by Rihanna'), 4.700439718141093), (('SOS, by Rihanna', 'Show Stopper, by Danity Kane'), 4.700439718141093), (('Waking Up In Vegas, by Katy Perry', 'SOS, by Rihanna'), 4.700439718141093), (('SOS, by Rihanna', 'Waking Up In Vegas, by Katy Perry'), 4.700439718141093), (('Watermelon Crawl, by Tracy Byrd', 'Party Crowd, by David Lee Murphy'), 6.7279204545632), (('Party Crowd, by David Lee Murphy', 'Watermelon Crawl, by Tracy Byrd'), 6.7279204545632), (('Watermelon Crawl, by Tracy Byrd', 'Friday Night In Dixie, by Rhett Akins'), 6.7279204545632), (('Friday Night In Dixie, by Rhett Akins', 'Watermelon Crawl, by Tracy Byrd'), 6.7279204545632), (('Party Crowd, by David Lee Murphy', 'Friday Night In Dixie, by Rhett Akins'), 6.7279204545632), (('Friday Night In Dixie, by Rhett Akins', 'Party Crowd, by David Lee Murphy'), 6.7279204545632), (('Respect, by Aretha Franklin', 'Roar, by Katy Perry'), 4.459431618637298), (('Roar, by Katy Perry', 'Respect, by Aretha Franklin'), 4.459431618637298), (('Best Day Of My Life - Gazzo Remix, by American Authors', 'Team, by Lorde'), 4.584962500721156), (('Team, by Lorde', 'Best Day Of My Life - Gazzo Remix, by American Authors'), 4.584962500721156), (('Best Day Of My Life - Gazzo Remix, by American Authors', 'Not Afraid, by Basic Tape'), 4.584962500721156), (('Not Afraid, by Basic Tape', 'Best Day Of My Life - Gazzo Remix, by American Authors'), 4.584962500721156), (('Best Day Of My Life - Gazzo Remix, by American Authors', 'Our Youth, by Sonny Alven'), 4.584962500721156), (('Our Youth, by Sonny Alven', 'Best Day Of My Life - Gazzo Remix, by American Authors'), 4.584962500721156), (('Best Day Of My Life - Gazzo Remix, by American Authors', 'Perfect Strangers, by Jonas Blue'), 4.584962500721156), (('Perfect Strangers, by Jonas Blue', 'Best Day Of My Life - Gazzo Remix, by American Authors'), 4.584962500721156), (('Team, by Lorde', 'Not Afraid, by Basic Tape'), 4.584962500721156), (('Not Afraid, by Basic Tape', 'Team, by Lorde'), 4.584962500721156), (('Team, by Lorde', 'Our Youth, by Sonny Alven'), 4.584962500721156), (('Our Youth, by Sonny Alven', 'Team, by Lorde'), 4.584962500721156), (('Team, by Lorde', 'Perfect Strangers, by Jonas Blue'), 4.584962500721156), (('Perfect Strangers, by Jonas Blue', 'Team, by Lorde'), 4.584962500721156), (('Not Afraid, by Basic Tape', 'Our Youth, by Sonny Alven'), 4.584962500721156), (('Our Youth, by Sonny Alven', 'Not Afraid, by Basic Tape'), 4.584962500721156), (('Not Afraid, by Basic Tape', 'Perfect Strangers, by Jonas Blue'), 4.584962500721156), (('Perfect Strangers, by Jonas Blue', 'Not Afraid, by Basic Tape'), 4.584962500721156), (('Our Youth, by Sonny Alven', 'Perfect Strangers, by Jonas Blue'), 4.584962500721156), (('Perfect Strangers, by Jonas Blue', 'Our Youth, by Sonny Alven'), 4.584962500721156), (('Hospital for Souls, by Bring Me The Horizon', 'Chasing Rainbows, by Bring Me The Horizon'), 4.459431618637298), (('Chasing Rainbows, by Bring Me The Horizon', 'Hospital for Souls, by Bring Me The Horizon'), 4.459431618637298)]\n"
     ]
    }
   ],
   "source": [
    "def method3(directory, songs):\n",
    "    '''\n",
    "    Function that takes in a directory and N random songs and produces a network using the method 2 described above.\n",
    "    \n",
    "    Parameters:\n",
    "        directory - the directory containing the data (assumed to be in a single .json file)\n",
    "        songs - the N songs to select out of all the data\n",
    "    Returns:\n",
    "        edges - the constructed network\n",
    "        relations - the node-node relations useful for certain recommendation algorithms\n",
    "    '''\n",
    "    shared_playlists = [] #this will contain items of the form (weight: [weight], tracks: [tracks]) for each playlist\n",
    "    f = open(SPECIFIC_FILE) \n",
    "    data = json.load(f)\n",
    "\n",
    "    for playlist in data['playlists']:  #parse through every playlist\n",
    "\n",
    "        num_followers = playlist['num_followers']\n",
    "        temp = []\n",
    "        for track in playlist['tracks']: #if one of the random songs is in the playlist then remember it\n",
    "            name = track['track_name']+', by '+ track['artist_name']\n",
    "            if name in songs and name not in temp:\n",
    "                temp.append(name)\n",
    "\n",
    "        if (len(temp) >1): #only if a playlist has two or more of the 10k songs then we add it to our shared_playlists lits\n",
    "            item = {'weight':num_followers, 'tracks':temp}\n",
    "            shared_playlists.append(item)\n",
    "\n",
    "\n",
    "    # #Here we create the big graph\n",
    "    edges = {}\n",
    "    relations = {} #this variable stores all of the node pairs in the graph. It is useful for the playlist-generation part of the notebook\n",
    "    for song in songs:\n",
    "        relations[song] = set({})\n",
    "\n",
    "    for item in shared_playlists:\n",
    "\n",
    "        weight = item['weight']\n",
    "        tracks = item['tracks']\n",
    "        for track1 in tracks:\n",
    "            for track2 in tracks:\n",
    "                if (track1 == track2):\n",
    "                    continue\n",
    "                #now we add relations\n",
    "                if track2 not in relations[track1]:\n",
    "                    relations[track1].add(track2)\n",
    "                if track1 not in relations[track2]:\n",
    "                    relations[track2].add(track1)\n",
    "\n",
    "                #now create edge and weight\n",
    "                if (track1,track2) not in edges and (track2,track1) not in edges:\n",
    "                    edges[(track1,track2)] = [1,weight]\n",
    "                    edges[(track2,track1)] = [1,weight]\n",
    "                else:\n",
    "                    val = edges[(track1,track2)] #store value of previous shared playlists and shared followers\n",
    "                    edges[(track1,track2)] += [val[0]+1, val[1]+weight]\n",
    "                    edges[(track2,track1)] += [val[0]+1, val[1]+weight]\n",
    "    \n",
    "    for key in edges.keys():\n",
    "        edges[key] = edges[key][0] + math.log(edges[key][1],2)\n",
    "        \n",
    "    return edges,relations\n",
    "        \n",
    "print(list(method3('generated_data/moreThan10followers.json',songs)[0].items())[0:50])"
   ]
  },
  {
   "cell_type": "markdown",
   "id": "4ba6d720",
   "metadata": {},
   "source": [
    "\n",
    "### Idea 4: Shared Playlist Simliarity\n",
    "\n",
    "Let $p_{i,j}$ denote the fraction of playlists that song $i$ belongs to which also contain song $j$. \n",
    "Then, $ w_{i,j} = \\large \\frac{p_{i,j}\\cdot p_{j,i}}{2}$\n",
    "\n",
    "I.e, this is the average of the fraction of all playlists containing one song that also contain the other\n"
   ]
  },
  {
   "cell_type": "code",
   "execution_count": null,
   "id": "c880e36d",
   "metadata": {},
   "outputs": [],
   "source": []
  },
  {
   "cell_type": "markdown",
   "id": "a9b3e702",
   "metadata": {},
   "source": [
    "### Idea 5: Shortest Paths\n",
    "\n",
    "We have $w_{i,j} = d_{i,j}$, where $d_{i,j}$ denotes the shortest distance between nodes i and j"
   ]
  },
  {
   "cell_type": "code",
   "execution_count": 209,
   "id": "a59ae42f",
   "metadata": {},
   "outputs": [
    {
     "name": "stderr",
     "output_type": "stream",
     "text": [
      "IOPub data rate exceeded.\n",
      "The notebook server will temporarily stop sending output\n",
      "to the client in order to avoid crashing it.\n",
      "To change this limit, set the config variable\n",
      "`--NotebookApp.iopub_data_rate_limit`.\n",
      "\n",
      "Current values:\n",
      "NotebookApp.iopub_data_rate_limit=1000000.0 (bytes/sec)\n",
      "NotebookApp.rate_limit_window=3.0 (secs)\n",
      "\n"
     ]
    }
   ],
   "source": [
    "def method5(directory, songs):\n",
    "    '''\n",
    "    This method uses networkx functions that use dijkstra's algorithm to find the shortest path lengths between two nodes.\n",
    "    We do this for all pairs to produce a graph. Since dijkstra's algorithm is O(|V|^2) and we call it for |V| nodes, this\n",
    "    is the slowest method this far (in the form of its current implementation). Since our graph is not connected, we arbitrarily\n",
    "    penalize a pair of unconnected nodes by assigning an edge weight between them of 10 (from the graph analysis we did, the \n",
    "    longest path between two nodes is less than 10 for all |songs|<10000)\n",
    "    \n",
    "    Parameters:\n",
    "        directory - the directory containing the data (assumed to be in a single .json file)\n",
    "        songs - the N songs to select out of all the data\n",
    "    Returns:\n",
    "        edges - the constructed network's edges, which are the shortest distances between two nodes.\n",
    "        relations - the node-node relations useful for certain recommendation algorithms\n",
    "    '''\n",
    "    \n",
    "    \n",
    "    #first we need to call the function for method 2 to get the edges between nodes. then, we perform networkx stuff\n",
    "    edges, relations = method2(directory, songs) #get edge relations between all nodes\n",
    "\n",
    "    data = []\n",
    "    for key in edges:\n",
    "        temp = (key[0],key[1]) #make tuple of form (song1, song2, weight)\n",
    "        data.append(temp)\n",
    "    df = pd.DataFrame(data)\n",
    "    df.columns = [\"Source\",\"Target\"]\n",
    "    G = nx.from_pandas_edgelist(df, \"Source\", \"Target\")  #generate graph\n",
    "    #diameter = nx.diameter(G) #get diameter if no path between nodes exists\n",
    "    diameter = 10 #set to 10 for now\n",
    "    \n",
    "    out_relations = {}\n",
    "    for song in relations.keys():\n",
    "        out_relations[song] = set({})\n",
    "    out_edges = {}\n",
    "    for song1 in relations.keys(): #iterate over all songs with at least one edge\n",
    "        for song2 in relations.keys():\n",
    "            if (song1 != song2):\n",
    "                try:\n",
    "                    length = nx.shortest_path_length(G,song1,song2)\n",
    "                except:\n",
    "                    length = diameter\n",
    "                out_edges[(song1,song2)] = length\n",
    "                out_relations[song1].add(song2)\n",
    "\n",
    "    return out_edges, out_relations\n",
    "        \n",
    "\n",
    "print(list(method5('generated_data/moreThan10followers.json',songs)[1].items())[0:50]) #test"
   ]
  },
  {
   "cell_type": "markdown",
   "id": "b1bd5f6e",
   "metadata": {},
   "source": [
    "\n",
    "\n",
    "## TODO: Define functions that implement each of these ideas\n",
    "\n",
    "Each function should take in a set of N songs, an input file (not the whole dataset as that is way too big!) and return two things: 1. The edges of the graph created by each method, and 2. A dictionary of node relations to each other.\n",
    "\n",
    "\n",
    "So what we're doing here is \n",
    "- selecting N songs (like 10k out of the million) out of the input file (has more than N songs).  \n",
    "- We want to remember only the playlists with two or more of the N songs in them. For that playlist, we remember it as a pair of (weight, [tracks out of the N in that playlist]) (but you could play around with this to see what works) \n",
    "- Then, using the cleaned up, relevant playlists with their weights (that we did in the previous step) we make the graph, which is a dictionary of the form { {(node1,node2), weight} }. So, the key is (node1,node2) and the corresponding value is weight\n",
    "\n",
    "Ultimately the output should be the network with the weights aligned with each of the above ideas. "
   ]
  },
  {
   "cell_type": "markdown",
   "id": "6caa0ad4",
   "metadata": {
    "id": "6caa0ad4"
   },
   "source": [
    "## 1.2. Choosing our songs and generating data\n",
    "\n",
    "Selecting N songs randomly and performing an analysis on them.\n",
    "\n",
    "Change the constants in the cell below to change the kind of data you create.\n",
    "\n",
    "The output of these cells will be a .csv file in the generated_data folder."
   ]
  },
  {
   "cell_type": "code",
   "execution_count": 211,
   "id": "e28dc57f",
   "metadata": {
    "id": "e28dc57f"
   },
   "outputs": [],
   "source": [
    "################# Constants #################\n",
    "'''Rename this constant to the file containing the data, otherwise it will go through all of the data.\n",
    "I recommend using a file generated by the previous steps (like moreThan10followers.json) as the specific file (for instance, moreThan10followers.json) since\n",
    "the computation times will be much much faster'''\n",
    "SPECIFIC_FILE = 'generated_data/moreThan10followers.json' \n",
    "\n",
    "WEIGHTED_RANDOM = False   #If we want weighted random sampling or not\n",
    "N = 2000  #number of songs to consider\n",
    "METHOD = 'method1'  #define method to use \n",
    "\n",
    "############################################"
   ]
  },
  {
   "cell_type": "code",
   "execution_count": 212,
   "id": "b8f26d39",
   "metadata": {
    "id": "b8f26d39"
   },
   "outputs": [],
   "source": [
    "'''Randomly selecting N songs'''\n",
    "\n",
    "METHODS = {'method1':method1, 'method2':method2, 'method3':method3} #methods 4, 5 excluded for now\n",
    "\n",
    "songs = select_N_songs(N,SPECIFIC_FILE, WEIGHTED_RANDOM)\n",
    "\n",
    "#songs = set(songs) #convert to set"
   ]
  },
  {
   "cell_type": "code",
   "execution_count": 213,
   "id": "8cac8264",
   "metadata": {
    "id": "8cac8264",
    "scrolled": true
   },
   "outputs": [],
   "source": [
    "'''Computing the graph using the desired method'''\n",
    "edges =  METHODS[METHOD](SPECIFIC_FILE, songs)[0]                "
   ]
  },
  {
   "cell_type": "code",
   "execution_count": 91,
   "id": "6911605c",
   "metadata": {},
   "outputs": [
    {
     "name": "stdout",
     "output_type": "stream",
     "text": [
      "17718\n"
     ]
    }
   ],
   "source": [
    "print(len(edges))"
   ]
  },
  {
   "cell_type": "code",
   "execution_count": 214,
   "id": "87ca21b2",
   "metadata": {
    "id": "87ca21b2"
   },
   "outputs": [],
   "source": [
    "'''SAVING THE DATA AS .CSV'''\n",
    "\n",
    "#converting to pd\n",
    "\n",
    "data = []\n",
    "for key in edges:\n",
    "    temp = (key[0],key[1],edges[key]) #make tuple of form (song1, song2, weight)\n",
    "    data.append(temp)\n",
    "data2 = pd.DataFrame(data)\n",
    "data2.columns = [\"Source\",\"Target\",\"Weight\"]\n",
    "\n",
    "#Create results folder\n",
    "\n",
    "path = os.getcwd()+\"/generated_data\"\n",
    "# Check whether the specified path exists or not\n",
    "isExist = os.path.exists(path)\n",
    "if not isExist:\n",
    "\n",
    "   # Create a new directory because it does not exist\n",
    "   os.makedirs(path)\n",
    "   print(\"The new directory is created!\")\n",
    "\n",
    "#Writing the file\n",
    "\n",
    "name = \"\"\n",
    "\n",
    "if (WEIGHTED_RANDOM == True):\n",
    "    name = str(N) + '_weighted_'+METHOD\n",
    "else:\n",
    "    name = str(N)+'_'+METHOD\n",
    "filename = path+'/'+name+\"_random_songs.csv\"\n",
    "filepath = Path(filename)\n",
    "while (os.path.exists(filepath)):\n",
    "    if filename[-5]=='s':\n",
    "        filename = filename[:-4]+'2'+filename[-4:]\n",
    "    else:\n",
    "        filename = filename[:-5]+str(int(filename[-5])+1)+filename[-4:]\n",
    "    filepath = Path(filename)\n",
    "\n",
    "data2.to_csv(filepath, index = False)\n",
    "    \n",
    "    \n",
    "#The data should be saved in the same folder as this notebook"
   ]
  },
  {
   "cell_type": "markdown",
   "id": "3fcd89b2",
   "metadata": {
    "id": "3fcd89b2"
   },
   "source": [
    "# Section 2: Implementing algorithm to generate playlists\n",
    "\n",
    "## 2.1: Star Graph Algorithm\n",
    "\n",
    "Here I'll try to create the playlists using the star graph recommendation method. For this I need two things - first is a recommendation algorithm based on the edges, and second is an easy way to iterate over song connections. \n",
    "\n",
    "### How this works:\n",
    "\n",
    "First we consider the one node case. We feed a single node, call it node A, into the algorithm which gives us the subset of the network with one edge at A, which is a star graph. We store this star graph in a dictionary object. The next song to be recommended is one of the edges in this graph, randomly chosen with a weighted probability distribution. Call this song B. Now, we want the playlist that we are generating to be the center of the star graph. Now, we make the center of the star graph represent both nodes A and B. We add all the edges with end to B (except those with end A) from the original dataset to the star graph. If an edge already exists between the center and another node, and B is also connected with that node, the new weight of that edge becomes the sum of the weights of those edges. This is to implement familiarity. Continue this until the desired playlist size is reached. "
   ]
  },
  {
   "cell_type": "markdown",
   "id": "c642371c",
   "metadata": {
    "id": "c642371c"
   },
   "source": [
    "Running the two cells below will initialize the network. There are some constants at the start that you need to input"
   ]
  },
  {
   "cell_type": "code",
   "execution_count": 215,
   "id": "7922166f",
   "metadata": {
    "id": "7922166f"
   },
   "outputs": [],
   "source": [
    "def recommend_song(stargraph, songs, alpha = 1):\n",
    "    '''\n",
    "    Function that will implement the recommend algorithm for a given input star graph. We are assigning weights to every \n",
    "    song in the number of songs we are operating over. The weight of each song will be the weight of the edge from it to the\n",
    "    center of the stargraph (0 otherwise) + alpha. We will then make a weighted random prediction to get the next song.\n",
    "    \n",
    "    Parameters:\n",
    "        stargraph: the input star graph. The first element is the nodes inside the graph and the second one is a dictionary \n",
    "        of node:weight pairs\n",
    "        songslist: the list of songs over which we are operating\n",
    "        alpha: value to give to every song to allow possible recommendation of songs without any edges (teleportation). 1 by default\n",
    "  \n",
    "  Returns:\n",
    "       The predicted song\n",
    "   '''\n",
    "    weights = []\n",
    "    for i in range(len(songs)):\n",
    "        song = songs[i]\n",
    "        weight = alpha\n",
    "        if song in stargraph[1]: #if there is already an edge to it\n",
    "            weight+= stargraph[1][song]\n",
    "        if song in stargraph[0]: #if it is already in our playlist\n",
    "            weight = 0\n",
    "        weights.append(weight)\n",
    "    nextsong = random.choices(songs, weights, k=1)[0] #return our weighted random choice\n",
    "    #print (nextsong)\n",
    "    return nextsong\n",
    "\n",
    "def update_graph(stargraph, songToAdd, relations, edges):\n",
    "    '''\n",
    "    Function that will update the star graph to include edges that belong to the song to add. Returns updated star graph\n",
    "    \n",
    "    Parameters:\n",
    "        stargraph: the input star graph. The first element is the nodes inside the graph and the second one is a dictionary \n",
    "        of node:weight pairs\n",
    "        songToAdd: the song to add\n",
    "        relations: the dictionary of all pairs in the graph\n",
    "        edges: the original network with all the node pair relations\n",
    "   \n",
    "   Returns:\n",
    "        The updated star graph\n",
    "    '''\n",
    "    relationsToAdd = relations[songToAdd] #give a set of all the pairs of nodes with the song to add\n",
    "    stargraphNodes = stargraph[0]\n",
    "    stargraphEdges = stargraph[1]\n",
    "    \n",
    "    for song in relationsToAdd: #go through each pair belonging to this song\n",
    "        \n",
    "        if song not in stargraphNodes:\n",
    "            if song not in stargraphEdges:\n",
    "                stargraphEdges[song] = edges[(song,songToAdd)] #add value of edge from the original network\n",
    "            else:\n",
    "                stargraphEdges[song] += edges[(song,songToAdd)]\n",
    "                \n",
    "    stargraph[0].add(songToAdd)\n",
    "    return stargraph\n",
    "    \n",
    "    \n",
    "def create_playlist(inputSongs, length,  songs, relations, edges,alpha = 1):\n",
    "    '''\n",
    "    Function that generates a recommendation playlist of length length based on an input of songs, and an input network\n",
    "    \n",
    "    Parameters:\n",
    "    inputSongs: The input songs (list)\n",
    "    length: Number of songs to add\n",
    "    songs: List of all songs\n",
    "    relations: Dictionary of all pair relations in the graph\n",
    "    edges: The original network\n",
    "    alpha: The teleportation probability in the recommendation algorithm\n",
    "    '''\n",
    "    stargraph = (set(), dict())\n",
    "    \n",
    "    for song in inputSongs: #build the star graph\n",
    "        stargraph = update_graph(stargraph, song, relations, edges) \n",
    "    \n",
    "    for i in range(length):\n",
    "        newSong = recommend_song(stargraph, songs, alpha)\n",
    "        stargraph = update_graph(stargraph, newSong, relations, edges)\n",
    "    \n",
    "    return list(stargraph[0])\n",
    "    \n",
    "    \n",
    "            \n",
    "        \n",
    "        \n",
    "    \n",
    "    "
   ]
  },
  {
   "cell_type": "code",
   "execution_count": 216,
   "id": "4522710d",
   "metadata": {
    "id": "4522710d"
   },
   "outputs": [],
   "source": [
    "######################################### Constants\n",
    "\n",
    "SPECIFIC_FILE = 'generated_data/moreThan10followers.json' #Rename this to something else if you want to only consider some other dataset, \n",
    "                    #otherwise we go over all data. specify the file name/path as the name\n",
    "WEIGHTED_RANDOM = False   #If we want weighted random sampling or not\n",
    "N = 1000  #number of songs to consider\n",
    "METHOD = 'method1'  #define method to use \n",
    "METHODS = {'method1':method1, 'method2':method2, 'method3':method3}"
   ]
  },
  {
   "cell_type": "code",
   "execution_count": 220,
   "id": "d80f0f40",
   "metadata": {
    "id": "d80f0f40"
   },
   "outputs": [],
   "source": [
    "######################################### LOADING SONGS FROM FILE\n",
    "#first we need to load all the songs into a dictionary so that we can randomly select N of them\n",
    "\n",
    "\n",
    "songs = list(select_N_songs(N,SPECIFIC_FILE, WEIGHTED_RANDOM))\n",
    "\n",
    "#print(songs)"
   ]
  },
  {
   "cell_type": "markdown",
   "id": "f44f01ed",
   "metadata": {
    "id": "f44f01ed"
   },
   "source": [
    "The cell below defines the function that we use for the star graph recommendation method"
   ]
  },
  {
   "cell_type": "markdown",
   "id": "7806d8c0",
   "metadata": {
    "id": "7806d8c0"
   },
   "source": [
    "## Using the algorithm\n",
    "\n",
    "Finally, the cell below tests the algorithm"
   ]
  },
  {
   "cell_type": "code",
   "execution_count": 221,
   "id": "df2dd959",
   "metadata": {},
   "outputs": [
    {
     "name": "stdout",
     "output_type": "stream",
     "text": [
      "['The Spoils, by Massive Attack', 'Wild Side, by Mötley Crüe', 'I Like, by Croosh', 'B Cool (feat. Melanie Faye), by Magroove', \"Blink And You'll Miss A Revolution, by Cut Copy\", \"Messiah / You're Beautiful, by MercyMe\", \"I'm Waiting For The Man - Album Version (Stereo), by The Velvet Underground\", 'Deep Cries Out - Live, by Christ For The Nations Music', 'made up love song #43, by Lewis Watson', 'Tho Freestyle, by Gucci Mane', 'Malfunction Junction, by Drivin N Cryin', 'Sadi Vari Aun De, by Ranjit Bawa', 'The Illest, by Far East Movement', 'Wala Fel Ahlam, by Iwan', 'Por Ti Me Casare, by Eros Ramazzotti', 'Stuck in My Head, by Craig Wayne Boyd', 'Unbroken, by Birdy', 'Celebrating Nothing, by Phantogram', 'Electric Glow - Original Mix, by Tritonal', 'Back Seat Driver, by William Michael Morgan', 'Hello, by Erato', 'Liquor Store Blues (feat. Damian Marley), by Bruno Mars', 'All Points Back To U (feat. Steve Spacek), by Nosaj Thing', 'Run Away, by Fareoh', 'In Time (feat. Anabel Englund), by PeaceTreaty', 'Coffee Lover, by Boubou', 'Who Do You Love, by Marianas Trench', 'Show Me How You Burlesque (Burlesque) - Original Motion Picture Soundtrack, by Christina Aguilera', 'Goodbye, by Chris Young', 'What Are You Doing the Rest of Your Life?, by Barbra Streisand', 'Purpose, by Justin Bieber', 'Not So Bad x Hala Sherif, by Goblins from Mars', 'Stool Pigeon, by Kid Creole And The Coconuts', 'Pixel, by Tokyo Machine', 'Ride (Road Cut), by Bounty Killer', 'As You Cry, by The Hush Sound', 'Bailando - Matoma Remix, by Enrique Iglesias', 'Fantasy In D (Polar AC), by Freddie Hubbard', 'Do No Wrong, by Hustle Gang', 'Bad Girls Club - feat. J. Cole, by Wale', 'Let Me Go (feat. Nonku Phiri & Mr. Carmack), by Branko', \"Got Me Movin', by EVVY\", 'Welcome To The Booty Tape, by Ugly God', 'Texas Forever, by Kevin Fowler', 'Light Shine In (feat. Jacob Sooter) [Live], by Vertical Worship', 'Sexy Body, by Pitbull', 'Liberty Lives, by Inon Zur', 'Heart Like Yours, by Willamette Stone', 'Dime Quién Es, by Los Rieleros Del Norte', 'Breakthrough, by Eddie James', 'Time After Time, by Quietdrive', 'Push Me - Original Mix, by Prok & Fitch', 'Commander, by Steve Jablonsky', 'Te Vas, by Ozuna', 'Love Is Love (feat. Pink Oculus), by iET', \"Let's Go Home, by Carousel\", 'Como Te Olvido, by Binomio de Oro de América', 'One O Six (A.N.D.Y. Remix) [Bonus Track], by Jupiter', 'Numb, by Max Jury', 'Big Wheel, by Tori Amos', 'Sunday - KlangTherapeuten \"Looking For Summer\" Remix, by Max Manie', 'Christmas Eve (Sarajevo 12/24), by Savatage', 'Remains Of The Day - Combo Lounge Version, by Bonejangles And His Bone Boys', \"I Want The One I Can't Have - 2011 Remastered Version, by The Smiths\", \"Rome Wasn't Built In A Day, by Morcheeba\", 'Up Up Up, by GIVERS', 'Call You Out, by Cannons', 'The Best Crew, by Tep No', 'Roses Of Picardy, by Dizzy Gillespie', 'Last All Night (Koala) - Radio Edit, by Oliver Heldens', 'Neon Snakes, by Fontän', 'To Go Beyond - 2009 Remastered Version, by Enya', 'Rousseau - EP Version, by Nerina Pallot', 'Daydream Believer, by The Monkees', 'Breathe, by Seafret', 'Landed - University A Cappella Version, by Ben Folds Presents: The University Of Colorado Buffoons', 'Sorry - Live, by Gavin James', 'Apaga Y Vamonos, by Juan Luis Guerra 4.40', \"Road Trippin', by Dan + Shay\", 'Nice Guys, by Chester See, Kevjumba & Ryan Higa', 'Despacito - Remix, by Luis Fonsi', 'He Walked On Water, by Randy Travis', 'Feeling Good - Bassnectar Remix, by Nina Simone', 'Lost (Runaway) - Elènne Remix, by SAINT WKND', 'Evening Kitchen, by Band of Horses', 'Departure, by Ken Takano', 'Dark Places, by The Gaslight Anthem', 'I Will Exalt, by Bethel Music', 'Filosofía Barata y Zapatos de Goma, by Charly García', 'Leaning On The Everlasting Arms, by John Jones', \"I'll Be There For You/You're All I Need To Get By - Puff Daddy Mix, by Method Man\", 'We Are the Reasons, by We Came As Romans', 'Tu Y Yo (feat. Zaja & Hudson), by Chriss Romero', 'Sleaze - feat. Mistajam, by Knife Party', 'Rhythm Is a Dancer, by MaxRiven', \"Don't Call Me, by The Swon Brothers\", 'Electric, by Jessica Andrea', 'Post Tropical, by James Vincent McMorrow', 'Took You Seriously, by Amir Obe', 'Time Bomb, by Rancid', 'Please Come Home For Christmas - Bonus Track, by Eagles', 'The Worst Pies in London, by Helena Bonham Carter', 'The History of Wrong Guys, by Annaleigh Ashford', 'Chulería En Pote, by Farruko', 'Greatest-Hits, by Sublime', 'Until These Tears Are Gone (feat. Harvest), by Young Oceans', 'Undercover - Yotto Radio Edit, by Lane 8', 'Beautiful Girl, by William Fitzsimmons', 'Feeling Electric, by Parade of Lights', 'RELAX 守望, by LAY', \"Hoy Aprendi, by Adolescent's Orquesta\", 'Silver, by Medasin', '9 Piece, by Rick Ross', 'What If I, by Mandalay', 'Usted - MTV Unplugged, by Diego Torres', 'Short Change Hero, by The Heavy', 'Se Caen las Murallas (feat. Elvin Perez), by Louis Fosforito Garcia', 'Crazy - Lost Kings Remix, by Thief', 'El Shaddai (En Vivo), by Danny Berrios', 'Heart Of A Champion - Album Version / Explicit, by Nelly', 'Real Love - Acoustic, by Hillsong Young & Free', \"Ecce Virgo Concipiet, by The Schola Cantorum of St. Peter's in the Loop\", 'Más No Puedo Amarte, by Dyland & Lenny', 'Tonight Could Be the Night, by The Velvets', 'What God Wants For Christmas, by Darius Rucker', 'Fall, by Christian James', 'Mi Corazoncito, by Aventura', 'Too Late - Horizontalism Mix, by Fink', 'Flowers Grave, by Tom Waits', 'Be Alright - Acoustic Version, by Justin Bieber', 'Dead Winter Sun, by Born Of Fire', 'Caught Up, by Usher', 'Hell Yeah (feat. Clyde Carson), by Milla', 'Exile, by Enya', 'Run, by BTS', 'Guardian, by Michael Salvatori', 'Ayer (remix) [feat. Anuel Aa & Farruko], by DJ Nelson', 'El Cocinero, by Giraldo Piloto', 'Runnin, by SDIB', 'When We Do It, by Damian Lynn', 'Flex - Original, by Jon Rundell', 'Infinity Guitars, by Sleigh Bells', \"In Another's Eyes, by Trisha Yearwood\", 'Love & Loss, by Thomas Bergersen', 'Lightning (feat. John Rzeznik), by Cash Cash', 'Power Trip, by Chimaira', 'Why Even Try - RAC Remix, by Theophilus London', 'Beachdrifta VIP, by Goldie', 'Love Is A Losing Game, by Amy Winehouse', 'What I Like About You, by The Romantics', 'Lean On (feat. MØ & DJ Snake) - J Balvin & Farruko Remix, by Major Lazer', 'Panic Attack, by Dream Theater', 'Lights Out, by Virginia To Vegas', 'Daniel, by Bat For Lashes', '天下無雙, by Eason Chan', 'There and Back, by Wolfgang Gartner', 'Low Brow, by Chelsea Jade', 'Salt Water Sound, by Zero 7', 'Fall Behind Me, by The Donnas', 'Womanizer (Glee Cast Version), by Glee Cast', 'Sailing On A Ship, by Phil Wickham', 'El Sol, by Tony Rojas', 'Levitate, by Hollywood Undead', 'Without You, by Oh Wonder', 'In Undertow, by Alvvays', 'This Time, by Moderat', 'Your Sound - SB81 Remix, by J Majik', 'Next Level, by Family Force 5', 'Made Too Pretty, by As Cities Burn', 'Parks On Fire, by Trifonic', 'Ba Do Bleep, by The Minions', 'Painkiller (feat. Meghan Trainor), by Jason Derulo', 'Here at the Starlite, by Lucero', 'My Name Is I Am, by Orin Johnson', 'Unholy Roller, by Extreme Music', \"It's a Girl Party, by Mackz\", \"Of the Father's Love Begotten, by Fever Fever\", 'Dream On - Dave Clarke Acoustic Version, by Depeche Mode', 'do re mi, by blackbear', 'Spooked, by DJ Craze', 'Roll With It, by Easton Corbin', 'Shake The Sugar Tree, by Pam Tillis', 'Shape, by Glasser', 'Amor, Amor, by Abraham Velazquez', 'Quizas - Remix, by Tony Dize', 'Broken Biscuit, by Sia', 'Welcome to the Black Parade, by My Chemical Romance', 'Winter Wonderland, by The London Fox Players', 'Richest N**** In The Room, by Gucci Mane', 'O, Holy Night, by Everyday Sunday', 'Warrior Concerto, by The Glitch Mob', 'Break Me Down, by Tenth Avenue North', 'Cuando el Rio Suena, by Habana De Primera', 'Déjalo Pasar, by Carlos Vives', 'הקדוש ברוך הוא, by סטלוס ואורן חן', 'What Lies Beneath, by Ice Nine Kills', 'Glacier - Atu Remix, by James Vincent McMorrow', 'Ten Thousand Lines, by Electric President', \"I Don't Wanna Wait, by SOJA\", 'Wives And Lovers, by Burt Bacharach', 'B.E.D. - Remix, by Jacquees', 'Swayed, by Kiasmos', 'yes girl, by Bea Miller', 'Leilotai, by Yuval Dayan', 'Lipgloss (feat. CupcakKe), by Charli XCX', 'Things That Hide Away, by The Dear Hunter', 'El Club De Los Imposibles, by Bunbury', 'Brooks Was Here, by Thomas Newman', 'La complicidad, by Cultura Profética', 'Violin Concerto (1984): 3. Romance without Words: Hardly moving, by Ned Rorem', 'Till I Met You, by Laura Story', 'Blessed Assurance, by Elevation Worship', \"Runnin' (Lose It All), by Naughty Boy\", 'Nunca Me Acuerdo de Olvidarte, by Shakira', 'National Ransom - Live, by Elvis Costello', 'Follow Me Home, by Francis', 'Soul - Bonus Track, by Gary Clark Jr.', 'The A Team - Live, by Birdy', 'Army of the Dead, by Midnight Syndicate', '40 Years of Gaming, by Dan Bull', 'I Believe In You - Single Version, by Don Williams', 'A Couple Of Forevers, by Chrisette Michele', 'Tanyag, by Loonie', 'When Christmas Comes to Town, by Matthew Hall', 'It’s Only (feat. Zyra) - 20syl Remix, by ODESZA', 'Think About You, by G-Eazy', 'Woke Up This Morning - Chosen One Mix, by Alabama 3', 'Church Bells, by Carrie Underwood', 'Get On Top, by Red Hot Chili Peppers', 'Sending My Love, by Zhané', 'Cocoa Butter Kisses, by The Stairwells', 'Stargazer, by ISLAND', 'Para Tu Amor, by Juanes', 'Stay, by Coasts', 'The 1975, by The 1975', 'Wicked Game, by Chris Isaak', 'La Bilirrubina (Merengue), by La Decada', \"Say You're Just a Friend (feat. Flo Rida), by Austin Mahone\", 'Gravity, by Hooverphonic', 'Always - 3LAU Mix, by Blinders', 'Repeating Apologies, by Of Mice & Men', 'Entry into the Great Hall and The Banquet, by John Williams', 'Bad Bitch, by Dreezy', 'Good Problem, by K CAMP', 'These Hard Times, by NEEDTOBREATHE', \"I Don't Wanna Leave, by Charlie Heat\", 'Blind, by Kesha', 'Mandy, by Westlife', 'Amar y Vivir, by Trio Los Condes', 'Savior, by Skillet', 'Walking Alone, by The Pentagons', 'Blue Avenue, by Jazz Liberatorz', 'Getting Sodas, by The World Is A Beautiful Place & I Am No Longer Afraid To Die', 'En el Ultimo Escalón, by Trio Los Condes', 'My Sleepy Fall, by Take It Easy Hospital', 'Millonario, by Sonny & Vaech', 'La Vida del Changuito, by Lenin Ramírez', 'Survival, by Eminem', 'Dzaghgadz Baleni, by Narine Shahbazian', 'O come, O come, Emmanuel, by Winchester Cathedral Choir', 'Galveston - 2001 - Remastered, by Glen Campbell', 'Past Life, by Tame Impala', 'Selfish, by Future', 'Funkblaster, by Koan Sound', 'I Mean More Like a Light Sprinkle, by Nate Bargatze', 'Winter Wonderland, by Kenny G', 'I Like U, by NIKI', 'Adeste Fideles, by John Francis Wade', 'Our Town, by James Taylor', 'Valley Of The Dolls, by Marina and the Diamonds', 'Peggy Sue - Single Version, by Buddy Holly', 'The Crystal Ship, by The Doors', 'Bright - Lost Kings Remix, by Echosmith', 'Heaven Can Wait - 1998 - Remastered, by Dean Martin', 'Say What You Say, by Eminem', 'Fragile, by Juancito Trucupey', 'Pretty Fly (For A White Guy), by The Offspring', 'M79, by Vampire Weekend', 'Watusi Zombie, by Jan Davis', 'No Me Compares, by Frankie Negrón', 'Taste The Night - Radio Edit, by Going Deeper', 'My God, by Jeremy Camp', 'Live For This, by Hatebreed', 'Mindful Communication (Feat. Monica Maurin), by Mindfulness Training Toronto', \"Little Miss Can't Be Wrong, by Spin Doctors\", 'Just A Dream - Main, by Nelly', 'Decompose, by Cruel Hand', 'Flaws, by Bombay Bicycle Club', 'Goodnight, by Shoffy', 'Dumb Love, by Sean Kingston', 'We Do It For Fun Pt.1, by Tha Joker', 'Role Model, by Phoenix', 'Tiger - Radio Edit, by R3HAB', 'All K, by Lil Dicky', 'Icarus, by Bastille', 'Still Alive, by 3 Doors Down', 'LOVE ME RIGHT, by EXO', 'After My Heart, by Chris Quilala', 'Believe, by A-Trak', 'Road Safari, by Raumakustik', 'Salio El Sol, by Don Omar', 'Running Out Of Fools, by Elvis Costello', 'I Know Him, by Jonathan Groff', 'All I Have Is Yours, by Sojourn', 'Mayor Of Simpleton - 2001 - Remaster, by XTC', 'Say My Name, by ODESZA', 'Lines of the Broken, by DROELOE', \"Two out of Three Ain't Rad, by Red City Radio\", 'Wonder, by Hillsong United', 'Celtic Flute Meditation, by Celtic Music Voyages', 'La Bicicleta - Remix, by Carlos Vives', 'Lost And Found, by Ellie Goulding', 'Fuck Her Brains Out, by Montana of 300', 'Feel This Moment, by Pitbull', '38 Baby, by YoungBoy Never Broke Again', \"Fiesta P'al Bailador, by José Miguel\", 'Roar, by Alex Goot', \"No Man's Flute, by Pulley\", 'On Stranger Tides, by Hans Zimmer', 'Rent, by Pepper', 'HEAT (feat. Sam Nelson Harris), by The Knocks', 'Fool for a Lonesome Train, by Ben Harper', 'The Mechanism, by Disclosure', 'White Christmas, by Leona Lewis', 'Qué Lástima, by Alejandro Fernandez', 'Miles Davis & The Cool, by The Gaslight Anthem', 'Bass Head, by Bassnectar', 'Genesis, by Jorma Kaukonen', 'Electro House 2016, by Keosni391', 'Steel Avenger, by Metalium', 'Computers, by Rowdy Rebel', 'Never Going Home, by Hazel English', 'Makin´ It Back, by Enjambre', 'Running Wild (feat. The Oddictions and Britt Daley) - Jayceeoh Remix, by Morgan Page', 'For A Little While, by Tim McGraw', 'Golden God, by Disconnected Genius', 'Back Where I Come From, by Kenny Chesney', 'Retro City, by Adventure Club', 'Jack In The Green - 2003 Remastered Version, by Jethro Tull', 'Masterpiece, by Jessie J', \"Day 'N' Nite - Crookers Remix, by Kid Cudi\", 'Full Court Press, by Tickle Torture', 'Home, by Snoh Aalegra', 'College Drop, by Sage The Gemini', 'Nada Valgo Sin Tu Amor, by Juanes', 'Sem Querer - Ao Vivo, by Humberto & Ronaldo', 'Showstopper, by Brandon & Leah', 'Tras La Tormenta (El Ciclón) [feat. Dragon & Caballero], by Rivera', 'Cave, by Los Angeles Police Department', 'So Good, by HARBOUR', 'Habrban, by Haig Yazdjian', 'Rani Tero Chirjeeyo Gopal, by Pandit Jasraj', 'Something About John Coltrane, by Alice Coltrane', 'FYI (Know Now), by Lil Yachty', 'Someone Else, by LANY', 'be my forever (feat. ed sheeran), by Christina Perri', 'Let It Roll, by Group 1 Crew', \"She's So Bendable, by The Bravery\", 'Splash Mountain, by Yung Gravy', 'I Write Sins Not Tragedies, by Midnight Ramblers', 'Con Cartitas Y Whatsapp, by Los Plebes del Rancho de Ariel Camacho', 'Green And Gold, by Takuya Kuroda', 'Miracles (feat. Kelli Leigh), by Cages', 'Weatherman - Radio Edit, by Justin Jay', 'Wings, by Meditate to Sounds of Nature', 'Tell Me, by Phora', 'Momentum, by Monoloc', 'Ahorita Me Voy, by Pepe Aguilar', 'Cookie Thumper!, by Die Antwoord', \"She Ain't You, by Chris Brown\", 'Embracing Me, by SAFIA', 'Took the Night, by Chelley', 'Burn Out, by Midland', 'Ran, by Future Islands', 'Spring To Come, by John Butler Trio', 'A Sky Full of Stars, by Coldplay', '一百萬個可能, by 克麗絲叮', 'Santa Claus Is Coming To Town, by Justin Bieber', 'Sorry, by Justin Bieber', 'Solo Quedate En Silencio, by RBD', 'Fall Harder, by Fractures', 'High, by Little Dragon', 'Tru GanJah Farmer (feat. Marlon Asher), by Rocker-T', 'Wednesday Night Interlude, by Drake', \"Shakin', by Eddie Money\", '1996, by Marilyn Manson', 'Kol helmo, by Wael Jassar', \"Touch Me When We're Dancing, by Carpenters\", \"I've Been Thinking, by Handsome Boy Modeling School\", 'Restless, by Switchfoot', 'Helicopter, by Branches', 'Bingo, by Jacob Sartorius', 'In the Beginning, by Gad Elbaz', 'Have a Holly Jolly Christmas, by Harry Connick, Jr.', 'Ocean Avenue, by Yellowcard', 'Turn You On, by Sage Armstrong', 'Wasted Youth, by Sonny Alven', 'Anytime, by Picea', 'Do You Hear What I Hear, by Elmo', 'Treat You Better - Ashworth Remix, by Shawn Mendes', 'Here Today, Gone Tomorrow - Remastered, by Ramones', 'Novinha Vem Que Tem, by Mc Lon', 'Dreaming Of, by ISLAND', 'Used To Love You, by Gwen Stefani', 'Ostinaut, by Wume', 'Promises, by Jhene Aiko', 'El Tomasín, by Julión Álvarez y su Norteño Banda', 'Little Pickle Scottish Fiddle Reel, by Celtic Music Voyages', 'By My Side, by craves', 'Devil, by Papa Roach', 'Love Me Tender - From the 20th Century-Fox CinemaScope Production, \"Love Me Tender\", by Elvis Presley', 'Supercalifragilisticexpialidocious, by Julie Andrews', 'Tenth Avenue Freeze-Out, by Bruce Springsteen', 'Can I Live feat. Mac Miller, by Casey Veggies', 'Evaporar, by Little Joy', 'N°025, by relaxdaily', 'Light, by Sleeping At Last', 'Freeze Time - Price & Takis Remix, by Manse', 'Sweetz, by Zomby', 'Haenim, by Kim Jung Mi', 'Hussein Al Deek Khallini Bebalek, by Hussein Al Deek', 'Hark The Herald Angels Sing, by John Jones', 'Busted, by Neo', 'A Light in the Path of Exile, by A Path Untold', 'Aces High - 1998 Remastered Version, by Iron Maiden', 'The Things I Regret, by Brandi Carlile', 'Journey On, by Elms District', \"I'm Not Sorry, by Mike Stud\", 'Voy a Esperar, by C-Kan', 'Fakin It (feat. Ofelia K) - Hotel Garuda Remix, by Kaskade', 'Feliz Navidad, by José Feliciano', 'Wow, by 21 Savage', 'Hallelujah, by Mouthe', 'So Com Voce, by Thievery Corporation', 'Crazy Love, by Brian McKnight', 'The Garden, by Kari Jobe', \"Top Missin', by Ole Finesse\", 'Pan Y Mantequilla, by Efecto Pasillo', 'Dub About Me, by Miss Kittin', \"I'll Be Home for Christmas, by Brooks & Dunn\", 'Te Quiero a Morir, by Gerardo Coronel', 'Warm Body, by Cafuné', 'Staying Up, by The Neighbourhood', 'Make Time, by Quinn XCII', \"Movin' Bass - GTA Remix, by Rick Ross\", 'Hurt Me (Live from Spotify London), by Låpsley', 'All of Me (feat. Logic, ROZES), by Big Gigantic', 'Kuedon (Obsession), by Bang La Decks', 'Kingdom Come, by The Civil Wars', 'What Do You Mean?, by Justin Bieber', 'Henry (Acid Ghost Version), by Soccer Mommy', 'Wonder (Reyer Remix), by Reyer', 'Motley Crew - Whiiite Remix, by THEY.', 'Bad Day, by Daniel Powter', 'Steal, by Maribou State', 'Repose, by Oceill', 'Fight Song, by Rachel Platten', \"Rollin', by Kid Ink\", 'All We Know - Rock, by Our Last Night', 'Make Me Feel Better - Don Diablo & CID Radio Edit, by Alex Adair', 'Upside Down, by Jack Johnson', 'Lost Stars, by Keira Knightley', 'Get Up, by Amel Larrieux', 'Cannery River, by Green River Ordinance', 'Burn It Down - Live/2013, by Five Finger Death Punch', \"You'll Be In My Heart, by Phil Collins\", 'Freaky, by Big Sean', 'Fredag, by Dungen', 'Hot N*gga, by Bobby Shmurda', 'Preoccupy, by King Shelter', 'Good Night, by Billy Currington', 'Long Live the Chief, by Jidenna', 'Hard Smart Beta, by STRFKR', 'Over My Head (Better Off Dead), by Sum 41', 'R.I.P.C.D., by Flatbush Zombies', 'Follow You Down, by Gin Blossoms', \"Can't Love Me, by James Davis\", 'Jetstream, by Lusine', \"Touchdown Turnaround (Don't Give Up On Me), by Hellogoodbye\", 'You Were Right - Louis Futon Remix, by RÜFÜS DU SOL', 'Tattoos on This Town, by Jason Aldean', 'Simba, by King Colee', 'Sri Suktham, by Kasinatha Sarma & N.S. Prakash Rao', \"Really Love, by D'Angelo\", 'Where The Light Shines Through, by Switchfoot', 'Will I See You Again, by Christian Lopez', 'Timeout: A Quick Guided Relaxation to Destress (Bonus Track), by Guided Meditation', 'Spirit Cold, by Tall Heights', 'El Pavido Navido, by Chalino Sanchez', 'El Padre Que Siempre Soñe, by Abel Zavala', 'XO, by EDEN', 'The Nasty Song, by Lil Ru', 'I Prefer Your Love, by St. Vincent', 'Learn To Let Go, by Kesha', 'I Love You More Than You Love Yourself, by Austra', 'Effortless, by As We Walk', 'Hear Me Now, by Alok', 'Go Off, by KB', 'Come Home Perry, by Candace', 'Lighthouse - Radio Edit, by Nicky Romero', 'Hey Tonight, by Creedence Clearwater Revival', 'Hoy Estoy Aqui, by Wisin & Yandel', 'Flash X (Said The Sky Remix), by Said the Sky', 'Halo, by Haley James Scott', \"Excuse Me (I Think I've Got A Heartache), by Buck Owens\", 'Love Less, by R.LUM.R', 'Breath of Life Meditation, by Richard K. Nongard', '4 Carats, by Kelly Clarkson', 'The Solid Rock, by John Jones', 'Perfect World, by Broken Bells', 'The Woods, by Portugal. The Man', 'Only 1, by Ariana Grande', 'Do Not Attempt To Adjust Your TV Set, by We Are The Union', 'Ascension Day, by Elvis Costello', 'Leave The World Behind - Radio Edit, by Angello', 'Hurt You First, by Niia', \"Baby You're Right, by BABE\", 'Rose Garden - Single Version, by Lynn Anderson', 'My Heart Will Go On, by Celtic Woman', 'Watch The Sky, by Ryan Farish', 'Diferente, by Arcangel', 'Loneliness, by Annie Lennox', 'Ocean Eyes - Astronomyy Remix, by Billie Eilish', 'Natural Light, by Porter Robinson', 'Have Mercy, by Sweet Spirit', 'Pensando en Eso - Remasterizado, by Sur Caribe', 'Switch, by Don Diablo', 'Mañana Voy A Conquistarla, by Gerardo Ortiz', 'Heartbeats, by Daniela Andrade', 'La Luz, by Juanes', 'Canned Heat, by Jamiroquai', 'Prince Ali (From The Movie Aladdin), by The Children Movie Players', 'Up In Here, by Kodak Black', 'Masterminds, by Thundamentals', 'Me Gusta, by Jonatan Sanchez', \"Drinkin' Dark Whiskey, by Gary Allan\", 'Mutt, by blink-182', 'The Look, by Metronomy', 'So Am I (feat. Damian Marley & Skrillex), by Ty Dolla $ign', 'Baby-Baby-Baby, by TLC', 'Roll with It - Remastered, by Oasis', 'Quitame Tu Amor, by Orlando Collado', 'Si tu vois ma mère - Slow, by Sidney Bechet', 'Psychedelic Pill, by Neil Young', 'Elevated, by State Champs', 'Something About Her, by The Kents', 'YouNivErsIty, by Tek.lun', 'Give Me Faith, by Elevation Worship', 'Start Over, by Beyoncé', 'Un Puño De Tierra, by Ramon Ayala Y Sus Bravos Del Norte', \"How It's Going To Be, by Gerard Way\", 'Hamptons, by BLAJK', \"Mania, by Keenan O'Meara\", \"Hey Daddy (Daddy's Home), by Usher\", 'Revenge of the Dreamers, by King Colee', 'Road Runner, by Bo Diddley', 'Chasing Pavements - Live At The Hotel Cafe, by Adele', 'Molly - Radio Edit, by Cedric Gervais', \"Min Ha'olam, by Ari Goldwag\", 'Feelings (Lets Be Friends Remix), by F.O.O.L', 'El Me Mintio, by Amanda Miguel', 'im closing my eyes (feat. shiloh), by potsu', 'Molokini - Original Mix, by Justin Martin', 'America, by Le Kid', 'GfC, by Albert Hammond, Jr.', 'Perspective (Interlude), by Burns Twins', 'Oye niña, by Xriz', 'Nocturnal Rainbows, by Hopsin', 'Angels We Have Heard, by Niki G', 'Hostage to the Light, by Lacuna Coil', 'Waterfall Town, by Brandon Fiechter', \"You Don't Know (feat. Wale), by Tank\", 'Save Me, by Shinedown', 'Carrying Cathy, by Ben Folds', 'Make It Rain, by Foy Vance', 'Double Trouble, by Datsik', 'Nada Se Compara, by Gamaliel Ruiz', 'Holy Toledo, by Vundabar', \"We're a Couple of Misfits, by Bowling For Soup\", 'Wiped Out!, by The Neighbourhood', 'Save The Night, by John Legend', \"Dopefiend's Diner, by 2Pac\", 'Quisiera Saber, by Los Daniels', 'I WIll Lift My Eyes, by Bebo Norman', 'Time for the Techno, by Carnage', 'Miss Right, by BTS', 'Take the World, but Give Me Jesus, by Ascend The Hill', 'La Vida No La Tienes Comprada (feat. Zimple), by C-Kan', 'Daawat-e-Ishq, by Sunidhi Chauhan', 'Whispering Bells, by The Del-Vikings', 'Looking For Love, by Nick Martin', 'Live Free, by Mac Miller', 'Green Eyes and a Heart of Gold, by The Lone Bellow', 'Ugly Heart, by G.R.L.', 'CMYK, by James Blake', 'The Knight Bus, by John Williams', 'LRAD, by Knife Party', 'Angels Among Us, by Alabama', 'The Heart Of The Matter, by Don Henley', 'disco tits, by Tove Lo', 'Beethoven - Moonlight Sonata - Spanish Guitar Version, by Musique Douce Ensemble', 'Give My Life ((Samba / 52 Bpm)), by Ballroom Orchestra and Singers', 'Backyard, by Mad Caddies', 'My Philosophy, by Boogie Down Productions', 'Merry Xmas (feat. Monty), by Fetty Wap', 'Cafe Lounge, by DJ Ezasscul', 'March To The Sea, by Twenty One Pilots', 'Rockers, by Kill The Noise', 'Out of Touch - Remastered, by Daryl Hall & John Oates', 'Dog Like Vultures, by Haste The Day', 'Carol Street, by For Giants', \"The Heart Wants What It Wants, by Scott Bradlee's Postmodern Jukebox\", 'Halo, by Lotte Kestner', 'Fear, by Sia', 'Until the Shadows, by Random Forest', \"Rooftop Surfin', by The Vegabonds\", 'The Loving Cup, by Christine and the Queens', 'Hand Of Sorrow, by Within Temptation', \"What's Left Of Me, by blessthefall\", 'Like My Style, by 50 Cent', 'May I, by Chuuwee', \"Ocean Billy, by Umphrey's McGee\", 'Wicked Game, by Widowspeak', \"Don't Kill My Buzz..., by Cisco Adler\", 'Run The Show, by Kat Deluna', \"I Know It's Over - Live in London, 1986 [Extended Mix], by The Smiths\", 'Allotment Garden, by Martin Waslewski', 'We Are Ignited, by NateWantsToBattle', 'Only the Lonely, by Roy Orbison', 'Sometimes You Eat the Bar (Sometimes the Bar Eats You), by This Charming Man', 'rumours (feat. mark johns), by gnash', 'Rose Rouge, by St Germain', 'Back Way, by Cham', 'Senses (feat. Lostboycrow), by Cheat Codes', 'Mistress ft Yaarrohs - Kyle Watson Remix, by Kyle Watson', 'Lights Out (Go Crazy), by Junior Caldera', 'Mother, by Pink Floyd', 'Making The Most Of The Night, by Carly Rae Jepsen', 'Together Alone, by Nuit Oceān', 'Qué Caro Estoy Pagando, by Los Plebes del Rancho de Ariel Camacho', 'Dimming Sky, by Passafire', 'Safe And Sound, by The Holophonics', 'Young Love (feat. Koko LaRoo) - BURNS Remix, by Felix Cartal', \"Drivin' My Life Away, by Eddie Rabbitt\", 'It Only Takes a Moment, by Charles Nelson Reilly', \"Ol' Red, by Blake Shelton\", 'Rust or Gold, by Jill Andrews', 'If You Want Me To, by Ginny Owens', 'Rolling Pink and Mauve Waves, by Deep Dreams', 'Happy Home, by Wild Belle', 'Who Are You, Really?, by Mikky Ekko', 'Mirena, by Ramin Djawadi', 'Hold on to You, by NateWantsToBattle', 'Paz Espiritual, by Musique Pour La Détente', 'Sex, by The 1975', 'O Come to the Altar, by Elevation Worship', '1901, by Birdy', 'The Dopest - Cesqeaux Remix, by Moksi', \"I'm Not Done, by Fever Ray\", 'Tempted, by Squeeze', 'The Lobby, by blackbear', 'Forever My Lady, by Jodeci', 'Somebody Was Watching, by Pops Staples', 'No Puedo Dejarte De Amar - (Dueto Con Jesus Navarro), by Kalimba', \"Space Truckin', by Deep Purple\", 'Just Wanna Praise You, by Indiana Bible College', 'Cardiac Arrest, by Bad Suns', 'Run on for a Long Time (feat. Gbbpp1601703), by Blues Saraceno', 'Chalk Outline, by Three Days Grace', 'Learn To Fly (feat. David Spekter) - Radio Edit, by Inpetto', 'This Is The Day, by The The', 'I Wish It Could Be Christmas Everyday, by Wizzard', 'Like Me (feat. Futuristic & Blake Winters), by Zero', 'Taxi Cab, by Twenty One Pilots', 'Mr. Mistaker, by Curtis Lee', 'I Never Felt so Right - Radio Mix, by Ben Delay', \"Trashin' The Camp - Phil And 'N Sync Version, by *NSYNC\", 'ためいきひとつ, by TakeponG', 'The Monkey Time, by The Tubes', 'The Sun, by The Naked And Famous', 'Gabriel & the Vagabond, by Foy Vance', 'Drive, by Halsey', \"Heaven's Just A Sin Away - Re-Recorded In Stereo, by The Kendalls\", 'Norwegian Wood (This Bird Has Flown) - Remastered, by The Beatles', 'Wednesday Night Prayer Meeting, by Charles Mingus', 'Omen - Motez Remix, by Disclosure', 'Friend Like Me, by Robin Williams', 'No Te Quiero Nada, by Ha*Ash', 'How Do You Sleep? - Featuring Ludacris, by Jesse McCartney', 'No Faith in Brooklyn (feat. Jhameel), by Hoodie Allen', 'Strangers, by Seven Lions', 'Religion, by Howard', 'Real Friends, by Kanye West', \"Let's Get F*cked Up, by MAKJ\", 'Motorcycle, by 21 Savage', 'The Untouchables (Main Theme), by Música de Series', 'DUNK CONTEST (MAGIC BIRD), by Magic & Bird', 'Only Time - Original Version, by Enya', 'Voo-It, by Lavay Smith & Her Red Hot Skillet Lickers', 'Eyes On Me (feat. Harriet Brown), by Classixx', 'Sleeping On Your Style, by Thundamentals', \"White Walls/Can't Hold Us/Same Love/Thrift Shop (Acoustic Mashup) Feat. Jaclyn Davies, by Megan Davies\", '9, 4, 2 Even, by Thomas Newman', 'The Metal, by Tenacious D', 'Intro (Like Velvet), by NAO', 'Rayos de Sol - Mambo Version, by Henry Mendez', 'Skin, by Zola Jesus', 'Aluko River, by Chet Porter', 'Dignity, by Teenage Mutants', 'Ever Be, by The Hills', 'Unwind, by Fractures', 'I Need A Miracle, by Grateful Dead', \"Ain't No Faker, by Goyya\", 'Casual Sex, by My Darkest Days', 'But Anyway, by Blues Traveler', 'The Soul Cages, by Sting', 'Future People, by Alabama Shakes', 'Unanswered Prayers, by Brooks Jefferson', \"Livin' It Up, by Mandrill\", 'No Fuck$, by Trinidad James', 'Silent Skies, by Seven Lions', 'Estas Aqui, by DJ Nelson', 'Within You Without You - Remastered, by The Beatles', 'Wreak Havoc, by Skylar Grey', 'III. urn, by Childish Gambino', 'Everybody Loves the Sunshine, by Roy Ayers Ubiquity', \"Find Yourself, by John O'Callaghan\", 'Be With You Feat. Michael Ketterer - Har Megiddo Remix, by Har Megiddo', 'Bang Bang Bang, by Mark Ronson', 'Gone Are The Days, by HONNE', 'Sun Models, by ODESZA', 'teachme, by Musiq Soulchild', 'Lately, by Nuages', 'With You, by Mizz Nina', 'Dogs, by Iamsu!', \"The Fool On The Hill, by Sergio Mendes & Brasil '66\", \"Runnin' (feat. Joshua David Evans), by Gabrielle Taryn\", 'The Birds And The Bees - Re-Recording, by Jewel Akens', 'Champions, by Kevin Rudolf', 'Wait for a Minute, by Tune-Yards', 'Hey Saturday Sun, by Boards of Canada', 'Voice Mail #5, by Aiko Nakasone', 'Bullseye, by Aly & AJ', 'No Chill (feat. K.a.a.N), by Stephen Smith', 'Feel - Radio Edit, by Mahmut Orhan', 'Dear Mister Santa Claus, by Hank Jones', 'Good Advice, by The Growlers', 'Daft Punk / Skrillex (Remix), by Conte', 'Lotto, by EXO', 'Run on Love (Radio Edit), by Lucas Nord', 'Royals (feat. Corey Gray), by Jake Coco', 'Lo Unico Que Quiero, by Marco Barrientos', 'Ginza - Remix, by J Balvin', 'El Hijo Del Ingeniero, by La Septima Banda', 'Last Thing I Needed First Thing This Morning, by Willie Nelson', 'No Worries, by Lil Wayne', 'You Give Love A Bad Name, by Bon Jovi', 'Pegada a Ti, by Julissa', 'Music of My Heart, by *NSYNC', 'En el buzón de tu corazón, by Carlos Baute', 'What Christmas Means To Me, by Hanson', 'Where You Are, by Christopher Jackson', 'Sun Hands, by Local Natives', 'Both Sides, by NAV', \"I've Got A Dark Alley And A Bad Idea That Says You Should Shut Your Mouth (Summer Song), by Fall Out Boy\", 'Love My Lips, by VeggieTales', 'Sexual - Oliver Nelson Remix / Radio Edit, by NEIKED', 'Lord Of All (feat. Hezekiah Walker), by J.J. Hairston & Youthful Praise', 'Ghost Train, by Summer Camp', 'Boarding Pass, by Wiz Khalifa', 'Better Off (feat. Vince Gill), by Sara Evans', 'Give Your Heart A Break (Glee Cast Version), by Glee Cast', 'The Rain The Park And Other Things, by The Cowsills', 'Act Nice and Gentle, by The Black Keys', 'Balance, by Ground Up', 'Mind Dimension 2, by Tiga', 'A Place For My Head, by Linkin Park', \"Underwater - Above & Beyond's 21st Century Mix Edit, by Delerium\", 'Pero Llegaste Tú, by Lalo Rodriguez', 'Cray Button (feat. Lecrae), by Family Force 5', \"Drivin', by Robert Ellis\", 'Bad Boy, by Razihel', 'Sohneh De Taweet Warga, by AMX', 'Holes In The Floor Of Heaven, by Steve Wariner', 'Maidenhead, by Protomartyr', \"We Ain't in Church, by William Murphy\", 'Pop Champagne - Explicit Album Version, by Jim Jones', 'Soldiers, by S.P.Y', \"La valse d'Amélie, by Yann Tiersen\", 'I Just Wanna Be Mad, by Terri Clark', 'BLOOD., by Kendrick Lamar', 'I Love You, by Lido', \"How Far I'll Go, by Auli'i Cravalho\", 'House For Sale, by Drivin N Cryin', 'Bloodfeather, by Highly Suspect', 'Fake Friends, by KRANE', 'Riser, by Dierks Bentley', 'Abide With Me, by Matt Maher', 'Close the Door, by Teddy Pendergrass', 'Missing You, by Dejan S', 'Move On, by Jet', 'Twist My Fingaz, by YG', 'Stand Up, by All That Remains', 'Mrs All American, by 5 Seconds of Summer', 'Gorgeous Face, by Rick Pino', 'Never Coming Back, by Bobaflex', 'We Run LA (with Ya Boy), by Doc Hollywood', 'Te Regalo Amores, by R.K.M & Ken-Y', 'Blackberry Brandy, by T Bird and the Breaks', 'For The Love Of A Princess, by Celtic Woman', 'She Used to Love Me a Lot, by Johnny Cash', 'Thrown, by Kiasmos', \"I'm Yours, by Jason Mraz\", 'Mi Bon, by Shalsheles', 'Flames, by Lil Dicky', 'Ask Me Why - Remastered, by The Beatles', 'Just Want You, by Travis Greene', 'What a Friend We Have in Jesus, by The Sing Team', 'Take A Hint, by Victorious Cast', 'Give It to Me, by HOMESHAKE', 'In Your Presence - Live, by Elevation Worship', 'Louis, by Franco De Vita', 'Como Ella, by Cuitla Vega', \"That's Your Way Out, by The Pandoras\", 'Strobe, by deadmau5', 'Te Amo, by Trevor Hall', 'Each Coming Night, by Iron & Wine', 'Moonlight Sonata, by Michael Silverman', 'I Am Your Skin, by The Bravery', 'Both (feat. Drake & Lil Wayne) - Remix, by Gucci Mane', 'El Señor de los Cielos, by Ariel Camacho y Los Plebes Del Rancho', 'Eternal Flame, by The Bangles', 'Loaded Baked Potato, by Young Nudy', 'Fall In Love, by A Boogie Wit da Hoodie', 'Kush - Main, by Dr. Dre', 'Open Arms, by Journey', 'Famous, by Rich The Kid', 'All Men Are Broken (Live), by Misty Edwards', 'Stitches, by Shawn Mendes', 'Yo Te Amo Maria, by Banda Lamento Show', 'Cry Of Achilles, by Alter Bridge', 'Heard Them Stirring, by Fleet Foxes', 'Looking at the Sun, by Matthew Sweet', 'There She Goes (Absent), by Neve', 'From The Start, by Rachelle Ann Go', 'Coming Attractions, by Chris Jobe', 'Where I Come From, by Montgomery Gentry', 'One Minute Man (feat. Jay-Z) - Remix, by Missy Elliott', 'Fly, by Hopsin', \"93 'Til Infinity, by Souls Of Mischief\", 'Heartache Tonight - Live Version, by Eagles', 'Tonight, by Seether', 'Answer, by Phantogram', 'Airborne - MUST DIE! Remix, by MUST DIE!', 'El Principio, by Juan Gabriel', \"Son's Gonna Rise, by Citizen Cope\", 'Do You Remember? - 2016 Remastered, by Phil Collins', \"Don't Let Me Be Misunderstood, by Zen\", 'What I Was Born to Do, by Bring It On: The Musical - Original Broadway Cast', 'Anything Goes, by Florida Georgia Line', 'Light Up The Sky, by Yellowcard', 'Look at You, by Big & Rich', 'Moon Child, by Pharoah Sanders', 'East 1999, by Bone Thugs-N-Harmony', 'The Only Place That I Call Home, by Justin Moore', 'Wildest Dreams, by Madilyn Bailey', \"Takin' Care Of Business, by Bachman-Turner Overdrive\", 'Speaking Voice, by COIN', 'Where Did We Go Wrong?, by Cast - Phineas and Ferb', 'This Land Is Your Land - Live, by Pete Seeger', \"I'm Gettin' Stoned, by Eric Church\", 'City, by Spring King', 'Me (Original Mix), by Deorro', 'My Sister, by Tindersticks', 'Supersonic, by Rob Gasser', 'Future, by Cut Copy', 'High Road, by Tennis', 'Prok, by Shlomo Katz', 'Pon Di Ting, by Sarkodie', 'Satin Doll - Performed Live On The Ed Sullivan Show 5/24/1964, by Duke Ellington', \"Ta' Encendio, by Oro Solido\", 'When I Paint My Masterpiece - 2000 Digital Remaster, by The Band', 'The Protest, by Flying Lotus', 'Dutty Wine, by Tony Matterhorn', 'Ivory Road, by King Charles', 'The Deep, by Coyote Kisses', 'They Broke Him Down, by Streetlight Manifesto', 'Vengo a Contar Contigo, by Roque Valero', \"Flood's New Light, by Thee Oh Sees\", 'ตัวปัญหา, by Fymme Bongkod', 'Jukai, by Jhene Aiko', 'Sink Or Swim, by Falling In Reverse', 'Cellophane, by Sia', 'Om Asatoma (Ben Leinbach Mix), by Deva Premal', 'I - Renunciation, by Mountains Under Oceans', \"I Can't Stop Loving You, by Kem\", 'You Know What I Mean, by Cults', 'Plain Jane, by A$AP Ferg', 'Ramona, by Craft Spells', 'Pua Lililehua, by The Kahauanu Lake Trio', 'Ninipo, by Keauhou', 'Million Dollar Bills, by Lorde', 'Go Away, by Poema', 'Blindfold, by Pryde', 'This Land Is Your Land, by Sharon Jones & The Dap-Kings', 'I Need A Miracle, by Third Day', 'Very Last Country Song, by Sugarland', \"Mr. Brownstone, by Guns N' Roses\", 'Crawl, by Kings of Leon', 'Until the Night Was Done, by The Yellow Dogs', 'Sultans Of Swing, by Dire Straits', 'Stay Ready (What A Life), by Jhene Aiko', 'Lovers’ Carvings, by Bibio', 'Call Me Up, by The Child of Lov', '200%, by AKDONG MUSICIAN', 'Ocean, by John Butler', 'Loaded, by Just A Gent', 'Que Más Quisiera, by Banda El Recodo', 'Bendita Tu Luz, by Maná', 'Enamorado De Ti, by Arcangel', 'Anything - feat. Next, by Jaheim', 'Away In A Manger, by The London Fox Players', 'Huguito, by Gustavo Cordera', 'Na Moku Eha, by Alfred Aholo Apaka', 'Straight Through The Heart, by Dio', \"Good Lookin' Girl, by Luke Bryan\", 'Riverdance, by The Ballroom Group', 'Take You - Original Mix, by Nyxen', 'Tango to Evora, by Linda Lee Thomas', 'Three Wooden Crosses, by Randy Travis', \"Where It's At, by Dustin Lynch\", 'Starry Eyed - Penguin Prison Remix, by Ellie Goulding', 'Petrichor, by Phish', 'Fleece, by Crystal Castles', 'Neon - Ryos Remix, by Thomas Hayes', 'The Giver, by Duke Dumont', 'Glory Box - Live, by Portishead', 'Atomic Garden, by Bad Religion', 'I Wanna Feel - Radio Edit, by Secondcity', 'Vivo, by Tony Vega', 'Portland Jam, by Phish', 'Burned With Desire - LTN Sunrise Remix, by Armin van Buuren', 'III - Encounter, by Mountains Under Oceans', 'Run On - 2014 Remastered Version, by Moby', 'More Friends, by Jerry Purpdrank', \"O'er the Land, O'er the Sea, by Peia\", 'Good Girl Winnie Foster, by Sarah Charles Lewis', 'Tiene Espinas El Rosal, by Grupo Cañaveral De Humberto Pabón', 'The Habit, by Lissie', 'Elision - Original Mix, by Jonas Saalbach', 'Psychward Nineteen, by Panic Scenery', 'All Or Nothing At All, by Switchfoot', 'This is Radio Clash, by The Clash', 'Falling Down, by Felix Cartal', 'Exagerado, by Cazuza', 'LOYALTY. FEAT. RIHANNA., by Kendrick Lamar', 'Drive Me Crazy, by KAYTRANADA', \"Who's That Lady?, by Eclipse\", 'Chapter 5 - Menagerie Pt. 1, by Jeff Williams', 'Gravity, by EDEN', 'La Pegajosa, by Aniceto Molina', 'Radiate, by Jack Johnson', 'Amazing Grace, by Sufjan Stevens', 'Submersible, by Passafire', '4am, by Marc E. Bassy', 'Twameva - Lifeline Mix, by Jai Uttal', 'Safe And Sound, by Azure Ray', 'Barney, by The Toasters', 'Populism, Yea Yea, by Bloody Bloody Andrew Jackson Company', 'Lord of the Rings (Dubstep Rap Remix), by None Like Joshua', 'I Don’t Blame You, by Phantogram', 'Baton, by Junip', 'Brokenhearted, by Kalin and Myles', 'Hanuman Chalisa, by M. S. Subbulakshmi', 'Pieces, by Red', \"Anas Kareem Dally Esht'eely, by Anas Kareem\", 'All I Wanna Do, by Gianni Blu', 'Survival of the Fittest, by Mobb Deep', 'Tócate Tu Misma, by Alexis y Fido', 'Fuck Up the Club, by DJ Khaled', 'One Less Lonely Girl, by Justin Bieber', 'The Wanderer, by Marc Broussard', 'Concept 1, by Kodomo', 'Window (feat. Domo Genesis, Frank Ocean, Hodgy Beats & Mike G), by Tyler, The Creator', 'Barbed Wire Halo, by Aaron Watson', 'flood on the floor, by Purity Ring', 'Somewhere On A Beach, by Dierks Bentley', 'Shimmy Shimmy Ya, by Prince Fatty', 'Mr Polite, by The Jungle Giants', \"You'll Never Walk Alone, by Richard Rodgers\", 'Do They Know, by Boyz II Men', 'Love The Hurt Away, by Eric Benét', 'Hurting Me Now, by Sia', 'Shoot Me Down, by Lil Wayne', 'Over My Head (Cable Car) [Acoustic] - Live, by The Fray', 'The Road To Hell Is Paved With Good Intentions (feat. Craig Owens), by In Fear And Faith']\n"
     ]
    }
   ],
   "source": [
    "print(songs)"
   ]
  },
  {
   "cell_type": "code",
   "execution_count": 222,
   "id": "d794292e",
   "metadata": {
    "id": "d794292e",
    "outputId": "6ef5bc56-23dc-4140-f58d-2178aff41fc5"
   },
   "outputs": [
    {
     "name": "stdout",
     "output_type": "stream",
     "text": [
      "Input songs:\n",
      "['I Need A Miracle, by Grateful Dead', 'Tu Y Yo (feat. Zaja & Hudson), by Chriss Romero', \"Drinkin' Dark Whiskey, by Gary Allan\", 'Chapter 5 - Menagerie Pt. 1, by Jeff Williams', 'En el buzón de tu corazón, by Carlos Baute']\n"
     ]
    }
   ],
   "source": [
    "#Testing the algorithm\n",
    "inputPlaylist = []  #pick some random songs OR you can manually add some songs (in cell above)\n",
    "for i in range(5):\n",
    "    inputPlaylist.append(songs[random.randint(0,len(songs))])\n",
    "length = len(inputPlaylist)+10\n",
    "print(\"Input songs:\")\n",
    "print(inputPlaylist)\n",
    "\n"
   ]
  },
  {
   "cell_type": "code",
   "execution_count": 223,
   "id": "cdf25d84",
   "metadata": {},
   "outputs": [],
   "source": [
    "gen = []\n",
    "for method in METHODS.keys():  \n",
    "    edges, relations = method1(SPECIFIC_FILE,set(songs))\n",
    "    gen.append(set(create_playlist(inputPlaylist, length, songs, relations, edges)))\n",
    "    \n",
    "\n",
    "    \n"
   ]
  },
  {
   "cell_type": "code",
   "execution_count": 224,
   "id": "e6c50591",
   "metadata": {},
   "outputs": [
    {
     "name": "stdout",
     "output_type": "stream",
     "text": [
      "Songs common in method 1 and 2: {'Straight Through The Heart, by Dio', 'LOYALTY. FEAT. RIHANNA., by Kendrick Lamar', 'Aces High - 1998 Remastered Version, by Iron Maiden', 'Sultans Of Swing, by Dire Straits', 'Portland Jam, by Phish', 'Usted - MTV Unplugged, by Diego Torres'}\n",
      "Songs common in method 1 and 3: {'Usted - MTV Unplugged, by Diego Torres'}\n",
      "Songs common in method 2 and 3: {'Usted - MTV Unplugged, by Diego Torres'}\n"
     ]
    }
   ],
   "source": [
    "print(\"Songs common in method 1 and 2:\", (gen[0].intersection(gen[1])).difference(set(inputPlaylist)))\n",
    "print(\"Songs common in method 1 and 3:\", (gen[0].intersection(gen[2])).difference(set(inputPlaylist)))\n",
    "print(\"Songs common in method 2 and 3:\", (gen[1].intersection(gen[2])).difference(set(inputPlaylist)))"
   ]
  },
  {
   "cell_type": "markdown",
   "id": "fc5f0a9c",
   "metadata": {
    "id": "fc5f0a9c"
   },
   "source": [
    "### Thoughts on algorithm\n",
    "\n",
    "I have no idea if these are great playlists or not lmao"
   ]
  },
  {
   "cell_type": "markdown",
   "id": "fe1eb6de",
   "metadata": {},
   "source": [
    "## 2.2 Implementing Networkx\n",
    "\n",
    "The purpose of this subsection is to use networkx to load our .csv files that we have produced, so that we can create adjacency matrices, figure out shortest path lengths, etc\n"
   ]
  },
  {
   "cell_type": "code",
   "execution_count": 112,
   "id": "6d5dcfbf",
   "metadata": {},
   "outputs": [
    {
     "name": "stdout",
     "output_type": "stream",
     "text": [
      "<bound method NDFrame.head of                        Source                  Target  Weight\n",
      "0                     My Love           Love Like Woe      48\n",
      "1               Love Like Woe                 My Love      48\n",
      "2                     My Love                  Closer    2290\n",
      "3                      Closer                 My Love    2290\n",
      "4                     My Love                     SOS     158\n",
      "...                       ...                     ...     ...\n",
      "17383    Go Slow - Luka Remix     We Can't Be Friends      34\n",
      "17384                    Gold    Go Slow - Luka Remix      34\n",
      "17385    Go Slow - Luka Remix                    Gold      34\n",
      "17386         Big Yellow Taxi  Ain't Too Proud To Beg      36\n",
      "17387  Ain't Too Proud To Beg         Big Yellow Taxi      36\n",
      "\n",
      "[17388 rows x 3 columns]>\n"
     ]
    }
   ],
   "source": [
    "path = 'generated_data/2000_method1_random_songs.csv' #file to be read\n",
    "df = pd.read_csv(path)\n",
    "songs = []\n",
    "for song in df['Source']:\n",
    "    songs.append(song)\n",
    "print(df.head)"
   ]
  },
  {
   "cell_type": "code",
   "execution_count": 113,
   "id": "869a7642",
   "metadata": {},
   "outputs": [
    {
     "name": "stdout",
     "output_type": "stream",
     "text": [
      "17388\n"
     ]
    }
   ],
   "source": [
    "\n",
    "G = nx.from_pandas_edgelist(df, \"Source\", \"Target\", edge_attr = \"Weight\")  #generate graph\n",
    "\n",
    "out = []\n",
    "\n",
    "for song1 in songs:\n",
    "    paths = nx.single_source_shortest_path_length(G, song1)\n",
    "    vals = []\n",
    "    for p in paths.keys():\n",
    "        if p!=song1:\n",
    "            vals.append(paths[p])\n",
    "    out.append(vals)\n",
    "print(len(out))\n",
    "#print(nx.adjacency_matrix(G).shape)\n"
   ]
  },
  {
   "cell_type": "code",
   "execution_count": 114,
   "id": "cf5d943f",
   "metadata": {},
   "outputs": [
    {
     "name": "stdout",
     "output_type": "stream",
     "text": [
      "557\n"
     ]
    }
   ],
   "source": [
    "print((np.array(out[1])-np.array(out[2])).sum())"
   ]
  },
  {
   "cell_type": "code",
   "execution_count": null,
   "id": "43225e35",
   "metadata": {},
   "outputs": [],
   "source": [
    "#Playlist Generation using shortest paths method\n",
    "\n",
    "input_songs = ['Dani California, by Red Hot Chili Peppers','Hey Joe, by Jimi Hendrix', 'The Ballad Of Curtis Loew, by Lynyrd Skynyrd']\n",
    "out = input_songs\n",
    "n = 10 # number of songs to add\n",
    "sp = []\n",
    "\n",
    "for s in input_songs:\n",
    "    if sp == []:\n",
    "        sp = nx.shortest_path(G,s)\n",
    "        sp.pop(s)\n",
    "    else:\n",
    "        for key in sp.keys():\n",
    "            sp[key]+= nx.shortest_path(G,s)[key]\n",
    "        sp.pop(s)\n",
    "\n",
    "        \n",
    "for i in range (10):\n",
    "    s = min(sp, key = sp.get) #get song with lowest combined shortest path\n",
    "    out.append(s)\n",
    "    for key in sp.keys():\n",
    "        sp[key]+= nx.shortest_path(G,s)[key]\n",
    "    sp.pop(s)\n",
    "    \n",
    "print(out)"
   ]
  },
  {
   "cell_type": "markdown",
   "id": "1dd2c770",
   "metadata": {},
   "source": [
    "## 2.2 Cosine Simliarity\n",
    "\n",
    "### TODO"
   ]
  },
  {
   "cell_type": "code",
   "execution_count": null,
   "id": "1e847f4a",
   "metadata": {
    "id": "1e847f4a"
   },
   "outputs": [],
   "source": []
  }
 ],
 "metadata": {
  "colab": {
   "provenance": []
  },
  "kernelspec": {
   "display_name": "Python 3",
   "language": "python",
   "name": "python3"
  },
  "language_info": {
   "codemirror_mode": {
    "name": "ipython",
    "version": 3
   },
   "file_extension": ".py",
   "mimetype": "text/x-python",
   "name": "python",
   "nbconvert_exporter": "python",
   "pygments_lexer": "ipython3",
   "version": "3.8.8"
  }
 },
 "nbformat": 4,
 "nbformat_minor": 5
}
