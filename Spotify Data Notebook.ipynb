{
 "cells": [
  {
   "cell_type": "code",
   "execution_count": null,
   "id": "3f540c24",
   "metadata": {},
   "outputs": [],
   "source": [
    "!pip install -U networkx\n",
    "!pip install -U scipy"
   ]
  },
  {
   "cell_type": "code",
   "execution_count": null,
   "id": "662ea106",
   "metadata": {
    "id": "662ea106"
   },
   "outputs": [],
   "source": [
    "import math\n",
    "import json\n",
    "import scipy\n",
    "import pandas as pd\n",
    "import os\n",
    "import os.path\n",
    "import matplotlib.pyplot as plt\n",
    "import numpy as np\n",
    "import random\n",
    "import networkx as nx\n",
    "from pathlib import Path"
   ]
  },
  {
   "cell_type": "code",
   "execution_count": null,
   "id": "f0b82eba",
   "metadata": {},
   "outputs": [],
   "source": [
    "print (nx.__version__)\n",
    "print(scipy.__version__)"
   ]
  },
  {
   "cell_type": "code",
   "execution_count": null,
   "id": "U-wHnUm3kYnZ",
   "metadata": {
    "colab": {
     "base_uri": "https://localhost:8080/"
    },
    "id": "U-wHnUm3kYnZ",
    "outputId": "41f12f03-7583-4725-8e87-cffb40a18970"
   },
   "outputs": [],
   "source": [
    "#optional cell if using drive:\n",
    "#if using drive the file creeation will not work!\n",
    "#from google.colab import drive\n",
    "#drive.mount('/content/gdrive')"
   ]
  },
  {
   "cell_type": "markdown",
   "id": "a2dd32b7",
   "metadata": {
    "id": "a2dd32b7"
   },
   "source": [
    "\n",
    "\n",
    "# Section 0: Getting data from million songs playlists\n",
    "\n",
    "### How to use this notebook\n",
    "\n",
    "1. Download it\n",
    "2. Download and extract the million songs dataset (link in the README.md on the repo) in the same directory as this notebook\n",
    "3. Set the DIRECTORY constant in the cell below as the directory containing the dataset\n",
    "4. You should then be able to run all of it\n",
    "\n",
    "Section 1 is making a graph to figure out how the number of followers over all the playlists is distributed\n",
    "Section 2 is removing all playlists from the dataset which have N or more fewer, and creating a new file containing playlists with only more than N followers\n",
    "Section 3 is extracting N songs randomly from a given dataset, either randomly or with a weighted random distribution. You can set the constants to change the sampling method, number of songs, and the dataset you are computing over. If you use the default dataset to pick the songs, it is quite slow (takes like 10 minutes overall), so you may want to use a smaller dataset to choose these songs. I set the dataset to the dataset containing playlists with over 5 followers and it is significantly quicker to run. "
   ]
  },
  {
   "cell_type": "markdown",
   "id": "561efd48",
   "metadata": {},
   "source": [
    "### IMPORTANT: Set the directory containing the data below"
   ]
  },
  {
   "cell_type": "code",
   "execution_count": null,
   "id": "f900x3nJpM8J",
   "metadata": {
    "id": "f900x3nJpM8J"
   },
   "outputs": [],
   "source": [
    "DIRECTORY = \"spotify_million_playlist_dataset/data/\""
   ]
  },
  {
   "cell_type": "markdown",
   "id": "1f57447f",
   "metadata": {
    "id": "1f57447f"
   },
   "source": [
    "### 1. Figuring out distribution of number of followers over playlists\n",
    "\n",
    "This is just to figure out what the distribution of the followers looks like"
   ]
  },
  {
   "cell_type": "code",
   "execution_count": null,
   "id": "2e38ec2a",
   "metadata": {
    "colab": {
     "base_uri": "https://localhost:8080/"
    },
    "id": "2e38ec2a",
    "outputId": "53f204b0-95ba-4175-f7e2-2bc407691d54"
   },
   "outputs": [],
   "source": [
    "# 1. Followers numbers\n",
    "# 10,000 songs choose (Quanchi's link)\n",
    "\n",
    "\n",
    "num_followers = []\n",
    "directory = os.listdir(DIRECTORY)\n",
    "\n",
    "for file in directory:\n",
    "\n",
    "    f = open(DIRECTORY+file)\n",
    "    data = json.load(f)\n",
    "\n",
    "\n",
    "    for playlist in range(len(data['playlists'])):\n",
    "        x = data['playlists'][playlist]['num_followers']\n",
    "        num_followers += [x]\n",
    "\n",
    "num_followers = pd.Series(num_followers)\n",
    "num_followers.value_counts()\n"
   ]
  },
  {
   "cell_type": "code",
   "execution_count": null,
   "id": "5dd9d657",
   "metadata": {
    "id": "5dd9d657"
   },
   "outputs": [],
   "source": [
    "num_likes = {}\n",
    "\n",
    "for val in num_followers:\n",
    "    if val in num_likes:\n",
    "        num_likes[val] += 1\n",
    "    else:\n",
    "        num_likes[val] = 1\n",
    "\n",
    "keys = []\n",
    "for key in num_likes.keys():\n",
    "    keys += [key]\n",
    "\n",
    "keys.sort()\n",
    "\n",
    "X,y = [],[]\n",
    "\n",
    "for key in keys:\n",
    "    X +=[key]\n",
    "    y +=[num_likes[key]]\n",
    "    \n",
    "    \n",
    "#make the y-values a fraction of the size of the dataset\n",
    "y_c = y     \n",
    "for i in range(len(y_c)):\n",
    "        y_c[i] = (y_c[i]+y_c[i-1])\n",
    "\n",
    "for i in range(len(y_c)):\n",
    "    y_c[i]/= 1000000\n",
    "\n",
    "y_c\n",
    "\n",
    "\n",
    "    \n",
    "    "
   ]
  },
  {
   "cell_type": "code",
   "execution_count": null,
   "id": "4ae833b8",
   "metadata": {
    "id": "4ae833b8"
   },
   "outputs": [],
   "source": [
    "#Plot\n",
    "\n",
    "plt.plot(X[:40], y[:40],linestyle=\"-\", marker=\"o\")\n",
    "plt.ylabel(\"Fraction of playlists with followers <= than this number\")\n",
    "plt.xlabel(\"Number of Followers\")\n",
    "plt.xticks(np.arange(0,41,2))\n",
    "plt.show()\n",
    "f = plt.figure()\n",
    "f.set_figwidth(1)\n",
    "f.set_figheight(1)"
   ]
  },
  {
   "cell_type": "code",
   "execution_count": null,
   "id": "5556a4cf",
   "metadata": {
    "id": "5556a4cf"
   },
   "outputs": [],
   "source": [
    "print(1000000 - y_c[5]*1000000)\n"
   ]
  },
  {
   "cell_type": "markdown",
   "id": "f0622574",
   "metadata": {
    "id": "f0622574"
   },
   "source": [
    "### 2. Removing the majority of the playlists\n",
    "\n",
    "Removing all playlists with N or less followers "
   ]
  },
  {
   "cell_type": "code",
   "execution_count": null,
   "id": "a8ca01a8",
   "metadata": {
    "id": "a8ca01a8"
   },
   "outputs": [],
   "source": [
    "N = 10\n",
    "directory = os.listdir(DIRECTORY)\n",
    "\n",
    "moreThanN = []\n",
    "\n",
    "for file in directory:\n",
    "\n",
    "    f = open(DIRECTORY+file)\n",
    "    data = json.load(f)\n",
    "\n",
    "\n",
    "    for playlist in range(len(data['playlists'])):\n",
    "        if data['playlists'][playlist]['num_followers'] >N:  \n",
    "            moreThanN += [data['playlists'][playlist]]"
   ]
  },
  {
   "cell_type": "code",
   "execution_count": null,
   "id": "a7877ad0",
   "metadata": {
    "colab": {
     "base_uri": "https://localhost:8080/"
    },
    "id": "a7877ad0",
    "outputId": "67370876-3a87-4d5b-e9b2-602ca77fc6a4"
   },
   "outputs": [],
   "source": [
    "#sanity check\n",
    "\n",
    "len(moreThanN)"
   ]
  },
  {
   "cell_type": "code",
   "execution_count": null,
   "id": "GJeLZslQm0-c",
   "metadata": {
    "colab": {
     "base_uri": "https://localhost:8080/"
    },
    "id": "GJeLZslQm0-c",
    "outputId": "ba4ac40c-6a8b-457c-84b2-7247c3b836bd"
   },
   "outputs": [],
   "source": [
    "#Create results folder\n",
    "\n",
    "path = os.getcwd()+\"/generated_data\"\n",
    "# Check whether the specified path exists or not\n",
    "isExist = os.path.exists(path)\n",
    "if not isExist:\n",
    "\n",
    "   # Create a new directory because it does not exist\n",
    "   os.makedirs(path)\n",
    "   print(\"The new directory is created!\")"
   ]
  },
  {
   "cell_type": "code",
   "execution_count": null,
   "id": "161047a2",
   "metadata": {
    "id": "161047a2"
   },
   "outputs": [],
   "source": [
    "#SAVING DATA\n",
    "#convert to dictionary \n",
    "moreThanN_dict = {\"playlists\": moreThanN}\n",
    "\n",
    "json_object = json.dumps(moreThanN_dict, indent=4)\n",
    "with open(path+\"/moreThan\"+str(N)+\"followers.json\", \"w\") as outfile:\n",
    "    outfile.write(json_object)\n",
    "\n"
   ]
  },
  {
   "cell_type": "markdown",
   "id": "c0d3b002",
   "metadata": {},
   "source": [
    "# Section 1: Defining the edges of the network\n",
    "\n",
    "In this section we explore several different means to quantify how similar one song is to another. We will use these similarity scores to assign weights to the edges of our network. \n",
    "\n",
    "\n"
   ]
  },
  {
   "cell_type": "code",
   "execution_count": null,
   "id": "f0f588bb",
   "metadata": {},
   "outputs": [],
   "source": [
    "#load some songs to test the methods below\n",
    "################# Constants #################\n",
    "SPECIFIC_FILE = 'generated_data/moreThan10followers.json' \n",
    "WEIGHTED_RANDOM = False   #If we want weighted random sampling or not\n",
    "N = 2000  #number of songs to consider\n",
    "\n",
    "all_tracks = {} #stores all the songs\n",
    "f = open(SPECIFIC_FILE)\n",
    "data = json.load(f)\n",
    "\n",
    "for playlist in data['playlists']:\n",
    "    for track in playlist['tracks']:\n",
    "        if track['track_name'] not in all_tracks:  #if it not in the dict then we add it to it and increase its weight\n",
    "            all_tracks[track['track_name']] = 1 #weight is used for weighted random sampling (if needed)\n",
    "        else:\n",
    "            all_tracks[track['track_name']] +=1\n",
    "if WEIGHTED_RANDOM == False:\n",
    "    songs = random.choices(list(all_tracks.keys()), weights=None, k=N)\n",
    "else:\n",
    "    songs = random.choices(list(all_tracks.keys()), weights=all_tracks.values(), k=N)\n",
    "############################################"
   ]
  },
  {
   "cell_type": "markdown",
   "id": "e83d1bbf",
   "metadata": {},
   "source": [
    "### Idea 1: Shared Followers\n",
    "This method assigns a weight to each edge based on the sum of likes of each playlist that both songs in the edge appear in.\n",
    "\n",
    "$w_{i,j} = \\Sigma_{p \\in P_{i,j}}{\\normalsize \\text{# likes of }p}$, where $P_{i,j}$ is the set of playlists contatining songs $i$ and $j$"
   ]
  },
  {
   "cell_type": "code",
   "execution_count": null,
   "id": "ea09e291",
   "metadata": {
    "scrolled": true
   },
   "outputs": [],
   "source": [
    "def method1(directory, songs):\n",
    "    '''\n",
    "    Function that takes in a directory and N random songs and produces a network using the method 1 described above.\n",
    "    \n",
    "    Parameters:\n",
    "        directory - the directory containing the data (assumed to be in a single .json file)\n",
    "        songs - the N songs to select out of all the data\n",
    "    Returns:\n",
    "        edges - the constructed network\n",
    "        relations - the node-node relations useful for certain recommendation algorithms\n",
    "    '''\n",
    "    shared_playlists = [] #this will contain items of the form (weight: [weight], tracks: [tracks]) for each playlist\n",
    "    f = open(SPECIFIC_FILE) \n",
    "    data = json.load(f)\n",
    "\n",
    "    for playlist in data['playlists']:  #parse through every playlist\n",
    "\n",
    "        num_followers = playlist['num_followers']\n",
    "        temp = []\n",
    "        for track in playlist['tracks']: #if one of the random songs is in the playlist then remember it\n",
    "            if track['track_name'] in songs and track['track_name'] not in temp:\n",
    "                temp.append(track['track_name'])\n",
    "\n",
    "        if (len(temp) >1): #only if a playlist has two or more of the 10k songs then we add it to our shared_playlists lits\n",
    "            item = {'weight':num_followers, 'tracks':temp}\n",
    "            shared_playlists.append(item)\n",
    "\n",
    "\n",
    "    # #Here we create the big graph\n",
    "    edges = {}\n",
    "    relations = {} #this variable stores all of the node pairs in the graph. It is useful for the playlist-generation part of the notebook\n",
    "    for song in songs:\n",
    "        relations[song] = set({})\n",
    "\n",
    "    for item in shared_playlists:\n",
    "\n",
    "        weight = item['weight']\n",
    "        tracks = item['tracks']\n",
    "        for track1 in tracks:\n",
    "            for track2 in tracks:\n",
    "                if (track1 == track2):\n",
    "                    continue\n",
    "                #now we add relations\n",
    "                if track2 not in relations[track1]:\n",
    "                    relations[track1].add(track2)\n",
    "                if track1 not in relations[track2]:\n",
    "                    relations[track2].add(track1)\n",
    "\n",
    "                #now create edge and weight\n",
    "                if (track1,track2) not in edges and (track2,track1) not in edges:\n",
    "                    edges[(track1,track2)] = weight\n",
    "                    edges[(track2,track1)] = weight\n",
    "                else:\n",
    "                    edges[(track1,track2)] += weight\n",
    "                    edges[(track2,track1)] += weight\n",
    "    return edges,relations\n",
    "        \n",
    "print(list(method1('generated_data/moreThan10followers.json',songs)[0].items())[0:5])"
   ]
  },
  {
   "cell_type": "markdown",
   "id": "317b12e5",
   "metadata": {},
   "source": [
    "\n",
    "### Idea 2: Shared Playlists\n",
    "The weight of each edge is the number of shared playlists of the song\n",
    "\n",
    "$w_{i,j} = \\normalsize |P_{i,j}|$\n"
   ]
  },
  {
   "cell_type": "code",
   "execution_count": null,
   "id": "4a40009a",
   "metadata": {},
   "outputs": [],
   "source": [
    "def method2(directory, songs):\n",
    "    '''\n",
    "    Function that takes in a directory and N random songs and produces a network using the method 2 described above.\n",
    "    \n",
    "    Parameters:\n",
    "        directory - the directory containing the data (assumed to be in a single .json file)\n",
    "        songs - the N songs to select out of all the data\n",
    "    Returns:\n",
    "        edges - the constructed network\n",
    "        relations - the node-node relations useful for certain recommendation algorithms\n",
    "    '''\n",
    "    shared_playlists = [] #this will contain items of the form (weight: [weight], tracks: [tracks]) for each playlist\n",
    "    f = open(SPECIFIC_FILE) \n",
    "    data = json.load(f)\n",
    "\n",
    "    for playlist in data['playlists']:  #parse through every playlist\n",
    "\n",
    "        num_followers = playlist['num_followers']\n",
    "        temp = []\n",
    "        for track in playlist['tracks']: #if one of the random songs is in the playlist then remember it\n",
    "            if track['track_name'] in songs and track['track_name'] not in temp:\n",
    "                temp.append(track['track_name'])\n",
    "\n",
    "        if (len(temp) >1): #only if a playlist has two or more of the 10k songs then we add it to our shared_playlists lits\n",
    "            item = {'weight':1, 'tracks':temp}\n",
    "            shared_playlists.append(item)\n",
    "\n",
    "\n",
    "    # #Here we create the big graph\n",
    "    edges = {}\n",
    "    relations = {} #this variable stores all of the node pairs in the graph. It is useful for the playlist-generation part of the notebook\n",
    "    for song in songs:\n",
    "        relations[song] = set({})\n",
    "\n",
    "    for item in shared_playlists:\n",
    "\n",
    "        weight = item['weight']\n",
    "        tracks = item['tracks']\n",
    "        for track1 in tracks:\n",
    "            for track2 in tracks:\n",
    "                if (track1 == track2):\n",
    "                    continue\n",
    "                #now we add relations\n",
    "                if track2 not in relations[track1]:\n",
    "                    relations[track1].add(track2)\n",
    "                if track1 not in relations[track2]:\n",
    "                    relations[track2].add(track1)\n",
    "\n",
    "                #now create edge and weight\n",
    "                if (track1,track2) not in edges and (track2,track1) not in edges:\n",
    "                    edges[(track1,track2)] = weight\n",
    "                    edges[(track2,track1)] = weight\n",
    "                else:\n",
    "                    edges[(track1,track2)] += weight\n",
    "                    edges[(track2,track1)] += weight\n",
    "    return edges,relations\n",
    "        \n",
    "print(list(method2('generated_data/moreThan10followers.json',songs)[0].items())[0:5])"
   ]
  },
  {
   "cell_type": "markdown",
   "id": "e699b46d",
   "metadata": {},
   "source": [
    "\n",
    "### Idea 3: Hybrid of 1 and 2\n",
    "Since the follower numbers of the playlists are heavily skewed, ranging from 1 to over 70k, we experiment with weighting the shared playlist number higher than the shared follower number.\n",
    "\n",
    "$w_{i,j} = \\normalsize |P_{i,j}| + log_2({\\Sigma_{p \\in P_{i,j}}{\\text{# likes of }p}})$\n",
    "\n",
    "For our purposes, we use $log_2$ to weight the follower numbers as we think it suits our data well.\n"
   ]
  },
  {
   "cell_type": "code",
   "execution_count": null,
   "id": "7f95d5a3",
   "metadata": {},
   "outputs": [],
   "source": [
    "def method3(directory, songs):\n",
    "    '''\n",
    "    Function that takes in a directory and N random songs and produces a network using the method 2 described above.\n",
    "    \n",
    "    Parameters:\n",
    "        directory - the directory containing the data (assumed to be in a single .json file)\n",
    "        songs - the N songs to select out of all the data\n",
    "    Returns:\n",
    "        edges - the constructed network\n",
    "        relations - the node-node relations useful for certain recommendation algorithms\n",
    "    '''\n",
    "    shared_playlists = [] #this will contain items of the form (weight: [weight], tracks: [tracks]) for each playlist\n",
    "    f = open(SPECIFIC_FILE) \n",
    "    data = json.load(f)\n",
    "\n",
    "    for playlist in data['playlists']:  #parse through every playlist\n",
    "\n",
    "        num_followers = playlist['num_followers']\n",
    "        temp = []\n",
    "        for track in playlist['tracks']: #if one of the random songs is in the playlist then remember it\n",
    "            if track['track_name'] in songs and track['track_name'] not in temp:\n",
    "                temp.append(track['track_name'])\n",
    "\n",
    "        if (len(temp) >1): #only if a playlist has two or more of the 10k songs then we add it to our shared_playlists lits\n",
    "            item = {'weight':num_followers, 'tracks':temp}\n",
    "            shared_playlists.append(item)\n",
    "\n",
    "\n",
    "    # #Here we create the big graph\n",
    "    edges = {}\n",
    "    relations = {} #this variable stores all of the node pairs in the graph. It is useful for the playlist-generation part of the notebook\n",
    "    for song in songs:\n",
    "        relations[song] = set({})\n",
    "\n",
    "    for item in shared_playlists:\n",
    "\n",
    "        weight = item['weight']\n",
    "        tracks = item['tracks']\n",
    "        for track1 in tracks:\n",
    "            for track2 in tracks:\n",
    "                if (track1 == track2):\n",
    "                    continue\n",
    "                #now we add relations\n",
    "                if track2 not in relations[track1]:\n",
    "                    relations[track1].add(track2)\n",
    "                if track1 not in relations[track2]:\n",
    "                    relations[track2].add(track1)\n",
    "\n",
    "                #now create edge and weight\n",
    "                if (track1,track2) not in edges and (track2,track1) not in edges:\n",
    "                    edges[(track1,track2)] = [1,weight]\n",
    "                    edges[(track2,track1)] = [1,weight]\n",
    "                else:\n",
    "                    val = edges[(track1,track2)] #store value of previous shared playlists and shared followers\n",
    "                    edges[(track1,track2)] += [val[0]+1, val[1]+weight]\n",
    "                    edges[(track2,track1)] += [val[0]+1, val[1]+weight]\n",
    "    \n",
    "    for key in edges.keys():\n",
    "        edges[key] = edges[key][0] + math.log(edges[key][1],2)\n",
    "        \n",
    "    return edges,relations\n",
    "        \n",
    "print(list(method3('generated_data/moreThan10followers.json',songs)[0].items())[0:50])"
   ]
  },
  {
   "cell_type": "markdown",
   "id": "4ba6d720",
   "metadata": {},
   "source": [
    "\n",
    "### Idea 4: Shared Playlist Simliarity\n",
    "\n",
    "Let $p_{i,j}$ denote the fraction of playlists that song $i$ belongs to which also contain song $j$. \n",
    "Then, $ w_{i,j} = \\large \\frac{p_{i,j}\\cdot p_{j,i}}{2}$\n",
    "\n",
    "I.e, this is the average of the fraction of all playlists containing one song that also contain the other\n"
   ]
  },
  {
   "cell_type": "code",
   "execution_count": null,
   "id": "c880e36d",
   "metadata": {},
   "outputs": [],
   "source": []
  },
  {
   "cell_type": "markdown",
   "id": "a9b3e702",
   "metadata": {},
   "source": [
    "### Idea 5: Shortest Paths\n",
    "\n",
    "We have $w_{i,j} = d_{i,j}$, where $d_{i,j}$ denotes the shortest distance between nodes i and j"
   ]
  },
  {
   "cell_type": "code",
   "execution_count": null,
   "id": "a59ae42f",
   "metadata": {},
   "outputs": [],
   "source": [
    "def method5(directory, songs):\n",
    "    '''\n",
    "    This method uses networkx functions that use dijkstra's algorithm to find the shortest path lengths between two nodes.\n",
    "    We do this for all pairs to produce a graph. Since dijkstra's algorithm is O(|V|^2) and we call it for |V| nodes, this\n",
    "    is the slowest method this far (in the form of its current implementation). Since our graph is not connected, we arbitrarily\n",
    "    penalize a pair of unconnected nodes by assigning an edge weight between them of 10 (from the graph analysis we did, the \n",
    "    longest path between two nodes is less than 10 for all |songs|<10000)\n",
    "    \n",
    "    Parameters:\n",
    "        directory - the directory containing the data (assumed to be in a single .json file)\n",
    "        songs - the N songs to select out of all the data\n",
    "    Returns:\n",
    "        edges - the constructed network's edges, which are the shortest distances between two nodes.\n",
    "        relations - the node-node relations useful for certain recommendation algorithms\n",
    "    '''\n",
    "    \n",
    "    \n",
    "    #first we need to call the function for method 2 to get the edges between nodes. then, we perform networkx stuff\n",
    "    edges, relations = method2(directory, songs) #get edge relations between all nodes\n",
    "\n",
    "    data = []\n",
    "    for key in edges:\n",
    "        temp = (key[0],key[1]) #make tuple of form (song1, song2, weight)\n",
    "        data.append(temp)\n",
    "    df = pd.DataFrame(data)\n",
    "    df.columns = [\"Source\",\"Target\"]\n",
    "    G = nx.from_pandas_edgelist(df, \"Source\", \"Target\")  #generate graph\n",
    "    #diameter = nx.diameter(G) #get diameter if no path between nodes exists\n",
    "    diameter = 10 #set to 10 for now\n",
    "    \n",
    "    out_relations = {}\n",
    "    for song in relations.keys():\n",
    "        out_relations[song] = set({})\n",
    "    out_edges = {}\n",
    "    for song1 in relations.keys(): #iterate over all songs with at least one edge\n",
    "        for song2 in relations.keys():\n",
    "            if (song1 != song2):\n",
    "                try:\n",
    "                    length = nx.shortest_path_length(G,song1,song2)\n",
    "                except:\n",
    "                    length = diameter\n",
    "                out_edges[(song1,song2)] = length\n",
    "                out_relations[song1].add(song2)\n",
    "\n",
    "    return out_edges, out_relations\n",
    "        \n",
    "\n",
    "print(list(method5('generated_data/moreThan10followers.json',songs)[0].items())[0:50]) #test"
   ]
  },
  {
   "cell_type": "markdown",
   "id": "b1bd5f6e",
   "metadata": {},
   "source": [
    "\n",
    "\n",
    "## TODO: Define functions that implement each of these ideas\n",
    "\n",
    "Each function should take in a set of N songs, an input file (not the whole dataset as that is way too big!) and return two things: 1. The edges of the graph created by each method, and 2. A dictionary of node relations to each other.\n",
    "\n",
    "\n",
    "So what we're doing here is \n",
    "- selecting N songs (like 10k out of the million) out of the input file (has more than N songs).  \n",
    "- We want to remember only the playlists with two or more of the N songs in them. For that playlist, we remember it as a pair of (weight, [tracks out of the N in that playlist]) (but you could play around with this to see what works) \n",
    "- Then, using the cleaned up, relevant playlists with their weights (that we did in the previous step) we make the graph, which is a dictionary of the form { {(node1,node2), weight} }. So, the key is (node1,node2) and the corresponding value is weight\n",
    "\n",
    "Ultimately the output should be the network with the weights aligned with each of the above ideas. "
   ]
  },
  {
   "cell_type": "markdown",
   "id": "6caa0ad4",
   "metadata": {
    "id": "6caa0ad4"
   },
   "source": [
    "## 1.2. Choosing our songs and generating data\n",
    "\n",
    "Selecting N songs randomly and performing an analysis on them.\n",
    "\n",
    "Change the constants in the cell below to change the kind of data you create.\n",
    "\n",
    "The output of these cells will be a .csv file in the generated_data folder."
   ]
  },
  {
   "cell_type": "code",
   "execution_count": 80,
   "id": "e28dc57f",
   "metadata": {
    "id": "e28dc57f"
   },
   "outputs": [],
   "source": [
    "################# Constants #################\n",
    "'''Rename this constant to the file containing the data, otherwise it will go through all of the data.\n",
    "I recommend using a file generated by the previous steps (like moreThan10followers.json) as the specific file (for instance, moreThan10followers.json) since\n",
    "the computation times will be much much faster'''\n",
    "SPECIFIC_FILE = 'generated_data/moreThan10followers.json' \n",
    "\n",
    "WEIGHTED_RANDOM = False   #If we want weighted random sampling or not\n",
    "N = 2000  #number of songs to consider\n",
    "METHOD = 'method1'  #define method to use \n",
    "\n",
    "############################################"
   ]
  },
  {
   "cell_type": "code",
   "execution_count": 81,
   "id": "b8f26d39",
   "metadata": {
    "id": "b8f26d39"
   },
   "outputs": [],
   "source": [
    "'''Randomly selecting N songs'''\n",
    "\n",
    "all_tracks = {} #stores all the songs\n",
    "METHODS = {'method1':method1, 'method2':method2, 'method3':method3} #methods 4, 5 excluded for now\n",
    "\n",
    "f = open(SPECIFIC_FILE)\n",
    "data = json.load(f)\n",
    "\n",
    "for playlist in data['playlists']:\n",
    "    for track in playlist['tracks']:\n",
    "        if track['track_name'] not in all_tracks:  #if it not in the dict then we add it to it and increase its weight\n",
    "            all_tracks[track['track_name']] = 1 #weight is used for weighted random sampling (if needed)\n",
    "        else:\n",
    "            all_tracks[track['track_name']] +=1\n",
    "            \n",
    "#get N songs based on weighted random sampling (no particular reason for this apart from probably giving a more connected NW)\n",
    "if WEIGHTED_RANDOM == False:\n",
    "    songs = random.choices(list(all_tracks.keys()), weights=None, k=N)\n",
    "else:\n",
    "    songs = random.choices(list(all_tracks.keys()), weights=all_tracks.values(), k=N)\n",
    "\n",
    "songs = set(songs) #convert to set"
   ]
  },
  {
   "cell_type": "code",
   "execution_count": 90,
   "id": "8cac8264",
   "metadata": {
    "id": "8cac8264",
    "scrolled": true
   },
   "outputs": [],
   "source": [
    "'''Computing the graph using the desired method'''\n",
    "edges =  METHODS[METHOD](SPECIFIC_FILE, songs)[0]                "
   ]
  },
  {
   "cell_type": "code",
   "execution_count": 91,
   "id": "6911605c",
   "metadata": {},
   "outputs": [
    {
     "name": "stdout",
     "output_type": "stream",
     "text": [
      "17718\n"
     ]
    }
   ],
   "source": [
    "print(len(edges))"
   ]
  },
  {
   "cell_type": "code",
   "execution_count": 84,
   "id": "87ca21b2",
   "metadata": {
    "id": "87ca21b2"
   },
   "outputs": [],
   "source": [
    "'''SAVING THE DATA AS .CSV'''\n",
    "\n",
    "#converting to pd\n",
    "\n",
    "data = []\n",
    "for key in edges:\n",
    "    temp = (key[0],key[1],edges[key]) #make tuple of form (song1, song2, weight)\n",
    "    data.append(temp)\n",
    "data2 = pd.DataFrame(data)\n",
    "data2.columns = [\"Source\",\"Target\",\"Weight\"]\n",
    "\n",
    "#Create results folder\n",
    "\n",
    "path = os.getcwd()+\"/generated_data\"\n",
    "# Check whether the specified path exists or not\n",
    "isExist = os.path.exists(path)\n",
    "if not isExist:\n",
    "\n",
    "   # Create a new directory because it does not exist\n",
    "   os.makedirs(path)\n",
    "   print(\"The new directory is created!\")\n",
    "\n",
    "#Writing the file\n",
    "\n",
    "name = \"\"\n",
    "\n",
    "if (WEIGHTED_RANDOM == True):\n",
    "    name = str(N) + '_weighted_'+METHOD\n",
    "else:\n",
    "    name = str(N)+'_'+METHOD\n",
    "filename = path+'/'+name+\"_random_songs.csv\"\n",
    "filepath = Path(filename)\n",
    "while (os.path.exists(filepath)):\n",
    "    if filename[-5]=='s':\n",
    "        filename = filename[:-4]+'2'+filename[-4:]\n",
    "    else:\n",
    "        filename = filename[:-5]+str(int(filename[-5])+1)+filename[-4:]\n",
    "    filepath = Path(filename)\n",
    "\n",
    "data2.to_csv(filepath, index = False)\n",
    "    \n",
    "    \n",
    "#The data should be saved in the same folder as this notebook"
   ]
  },
  {
   "cell_type": "markdown",
   "id": "3fcd89b2",
   "metadata": {
    "id": "3fcd89b2"
   },
   "source": [
    "# Section 2: Implementing algorithm to generate playlists\n",
    "\n",
    "## 2.1: Star Graph Algorithm\n",
    "\n",
    "Here I'll try to create the playlists using the star graph recommendation method. For this I need two things - first is a recommendation algorithm based on the edges, and second is an easy way to iterate over song connections. \n",
    "\n",
    "### How this works:\n",
    "\n",
    "First we consider the one node case. We feed a single node, call it node A, into the algorithm which gives us the subset of the network with one edge at A, which is a star graph. We store this star graph in a dictionary object. The next song to be recommended is one of the edges in this graph, randomly chosen with a weighted probability distribution. Call this song B. Now, we want the playlist that we are generating to be the center of the star graph. Now, we make the center of the star graph represent both nodes A and B. We add all the edges with end to B (except those with end A) from the original dataset to the star graph. If an edge already exists between the center and another node, and B is also connected with that node, the new weight of that edge becomes the sum of the weights of those edges. This is to implement familiarity. Continue this until the desired playlist size is reached. \n",
    "\n",
    "\n",
    "### TODO:\n",
    "- If we can create functions for creating the edge weights of the network that would be totally awesome\n",
    "- Perhaps cosine simliarity would be a good thing to explore for our recommendations?"
   ]
  },
  {
   "cell_type": "markdown",
   "id": "c642371c",
   "metadata": {
    "id": "c642371c"
   },
   "source": [
    "Running the two cells below will initialize the network. There are some constants at the start that you need to input"
   ]
  },
  {
   "cell_type": "code",
   "execution_count": 93,
   "id": "4522710d",
   "metadata": {
    "id": "4522710d"
   },
   "outputs": [],
   "source": [
    "######################################### Constants\n",
    "\n",
    "SPECIFIC_FILE = 'generated_data/moreThan10followers.json' #Rename this to something else if you want to only consider some other dataset, \n",
    "                    #otherwise we go over all data. specify the file name/path as the name\n",
    "WEIGHTED_RANDOM = False   #If we want weighted random sampling or not\n",
    "N = 1000  #number of songs to consider\n",
    "METHOD = 'method1'  #define method to use "
   ]
  },
  {
   "cell_type": "code",
   "execution_count": 94,
   "id": "d80f0f40",
   "metadata": {
    "id": "d80f0f40"
   },
   "outputs": [
    {
     "name": "stdout",
     "output_type": "stream",
     "text": [
      "Some songs that were selected:\n",
      "['Revival', 'Te Ví en un Tren', 'Something Big', 'Hungarian Dance No. 5 In G Minor: Allegro Vivace', 'Eshet Hail']\n",
      "\n",
      "\n",
      "Some of the edges that were created:\n",
      "[(('Love Like This', \"Leavin'\"), 82), ((\"Leavin'\", 'Love Like This'), 82), (('Simple Man', \"Dancy's Dream\"), 106), ((\"Dancy's Dream\", 'Simple Man'), 106), (('Simple Man', \"It's Always Somethin'\"), 106)]\n",
      "\n",
      "\n",
      "Some of the pairs of nodes in the graph:\n",
      "\n"
     ]
    }
   ],
   "source": [
    "######################################### LOADING SONGS FROM FILE\n",
    "#first we need to load all the songs into a dictionary so that we can randomly select N of them\n",
    "\n",
    "\n",
    "all_tracks = {} #stores all the songs\n",
    "count = 0 #progress bar\n",
    "\n",
    "\n",
    "f = open(SPECIFIC_FILE)\n",
    "data = json.load(f)\n",
    "\n",
    "for playlist in data['playlists']:\n",
    "    for track in playlist['tracks']:\n",
    "        if track['track_name'] not in all_tracks:  #if it not in the dict then we add it to it and increase its weight\n",
    "            all_tracks[track['track_name']] = 1 #weight is used for weighted random sampling (if needed)\n",
    "        else:\n",
    "            all_tracks[track['track_name']] +=1\n",
    "\n",
    "\n",
    "######################################### CHOOSING RANDOM SONGS\n",
    "\n",
    "if WEIGHTED_RANDOM == False:\n",
    "    songs = random.choices(list(all_tracks.keys()), weights=None, k=N)\n",
    "else:\n",
    "    songs = random.choices(list(all_tracks.keys()), weights=all_tracks.values(), k=N)\n",
    "\n",
    "#print(songs)\n",
    "\n",
    "######################################### CREATING SHARED PLAYLIST EDGES\n",
    "\n",
    "edges,relations =  METHODS[METHOD](SPECIFIC_FILE, songs) #run our method\n",
    "\n",
    "\n",
    "'''Uncomment below to see if it is working properly'''\n",
    "# print(\"Some songs that were selected:\")\n",
    "# print(songs[0:5])\n",
    "# print('\\n')\n",
    "# print(\"Some of the edges that were created:\")\n",
    "# print(list(edges.items())[0:5])\n",
    "# print('\\n')\n",
    "# print(\"Some of the pairs of nodes in the graph:\\n\")\n",
    "# for n in range(5):\n",
    "#     i = random.randint(0,len(songs))\n",
    "#     print(\"Track:\"+str(songs[i]))\n",
    "#     print(\"Tracks it is related to:\")\n",
    "#     print(relations[songs[i]])\n",
    "#     print('\\n')\n"
   ]
  },
  {
   "cell_type": "markdown",
   "id": "f44f01ed",
   "metadata": {
    "id": "f44f01ed"
   },
   "source": [
    "The cell below defines the function that we use for the star graph recommendation method"
   ]
  },
  {
   "cell_type": "code",
   "execution_count": 95,
   "id": "7922166f",
   "metadata": {
    "id": "7922166f"
   },
   "outputs": [],
   "source": [
    "def recommend_song(stargraph, songs, alpha = 1):\n",
    "    '''\n",
    "    Function that will implement the recommend algorithm for a given input star graph. We are assigning weights to every \n",
    "    song in the number of songs we are operating over. The weight of each song will be the weight of the edge from it to the\n",
    "    center of the stargraph (0 otherwise) + alpha. We will then make a weighted random prediction to get the next song.\n",
    "    \n",
    "    Parameters:\n",
    "        stargraph: the input star graph. The first element is the nodes inside the graph and the second one is a dictionary \n",
    "        of node:weight pairs\n",
    "        songslist: the list of songs over which we are operating\n",
    "        alpha: value to give to every song to allow possible recommendation of songs without any edges (teleportation). 1 by default\n",
    "  \n",
    "  Returns:\n",
    "       The predicted song\n",
    "   '''\n",
    "    weights = []\n",
    "    for i in range(len(songs)):\n",
    "        song = songs[i]\n",
    "        weight = alpha\n",
    "        if song in stargraph[1]: #if there is already an edge to it\n",
    "            weight+= stargraph[1][song]\n",
    "        if song in stargraph[0]: #if it is already in our playlist\n",
    "            weight = 0\n",
    "        weights.append(weight)\n",
    "    nextsong = random.choices(songs, weights, k=1)[0] #return our weighted random choice\n",
    "    #print (nextsong)\n",
    "    return nextsong\n",
    "\n",
    "def update_graph(stargraph, songToAdd, relations, edges):\n",
    "    '''\n",
    "    Function that will update the star graph to include edges that belong to the song to add. Returns updated star graph\n",
    "    \n",
    "    Parameters:\n",
    "        stargraph: the input star graph. The first element is the nodes inside the graph and the second one is a dictionary \n",
    "        of node:weight pairs\n",
    "        songToAdd: the song to add\n",
    "        relations: the dictionary of all pairs in the graph\n",
    "        edges: the original network with all the node pair relations\n",
    "   \n",
    "   Returns:\n",
    "        The updated star graph\n",
    "    '''\n",
    "    relationsToAdd = relations[songToAdd] #give a set of all the pairs of nodes with the song to add\n",
    "    stargraphNodes = stargraph[0]\n",
    "    stargraphEdges = stargraph[1]\n",
    "    \n",
    "    for song in relationsToAdd: #go through each pair belonging to this song\n",
    "        \n",
    "        if song not in stargraphNodes:\n",
    "            if song not in stargraphEdges:\n",
    "                stargraphEdges[song] = edges[(song,songToAdd)] #add value of edge from the original network\n",
    "            else:\n",
    "                stargraphEdges[song] += edges[(song,songToAdd)]\n",
    "                \n",
    "    stargraph[0].add(songToAdd)\n",
    "    return stargraph\n",
    "    \n",
    "    \n",
    "def create_playlist(inputSongs, length,  songs, relations, edges,alpha = 1):\n",
    "    '''\n",
    "    Function that generates a recommendation playlist of length length based on an input of songs, and an input network\n",
    "    \n",
    "    Parameters:\n",
    "    inputSongs: The input songs (list)\n",
    "    length: Number of songs to add\n",
    "    songs: List of all songs\n",
    "    relations: Dictionary of all pair relations in the graph\n",
    "    edges: The original network\n",
    "    alpha: The teleportation probability in the recommendation algorithm\n",
    "    '''\n",
    "    stargraph = (set(), dict())\n",
    "    \n",
    "    for song in inputSongs: #build the star graph\n",
    "        stargraph = update_graph(stargraph, song, relations, edges) \n",
    "    \n",
    "    for i in range(length):\n",
    "        newSong = recommend_song(stargraph, songs, alpha)\n",
    "        stargraph = update_graph(stargraph, newSong, relations, edges)\n",
    "    \n",
    "    return list(stargraph[0])\n",
    "    \n",
    "    \n",
    "            \n",
    "        \n",
    "        \n",
    "    \n",
    "    "
   ]
  },
  {
   "cell_type": "markdown",
   "id": "7806d8c0",
   "metadata": {
    "id": "7806d8c0"
   },
   "source": [
    "## Using the algorithm\n",
    "\n",
    "Finally, the cell below tests the algorithm"
   ]
  },
  {
   "cell_type": "code",
   "execution_count": 99,
   "id": "df2dd959",
   "metadata": {},
   "outputs": [
    {
     "name": "stdout",
     "output_type": "stream",
     "text": [
      "['Revival', 'Te Ví en un Tren', 'Something Big', 'Hungarian Dance No. 5 In G Minor: Allegro Vivace', 'Eshet Hail', 'No Quieren Que Gane', 'Early Daiquiris', 'Stand Still, Look Pretty', 'free press and curl', 'Be The Change', 'You Came (Lazarus) [Live]', 'I Want Your Girlfriend to Be My Girlfriend Too', 'Yerushalaim', 'Back to You', 'An Enchanted Evening', 'Undone In Sorrow', 'The Death Of Me', 'Wherever We Go - Go Album Version', 'Dear Mr. Christian,', 'אין אני', 'Everyday People - Single Version', 'Language', 'Smooth', 'Tucheze', 'Range', 'For You I Will (Confidence)', 'The Invisible Girl', 'Unexplainable', 'Is This Love - Remix', 'Good Good Night', 'I No Longer Fear', 'Bound To You - Radio Edit', 'Sexual - Recorded at Spotify Studios NYC', \"Should've Never\", \"We're Gonna Need A Bigger Boat\", 'Xmas Time Is Here Again', 'Miracle Aligner', \"Show 'Em the Ropes\", 'Get Right Back To My Baby', 'The Mistletoe And Me', 'Ángel de amor', 'Zero Gravity - Radio Edit', 'Ride Together', \"That's Not Me - Mono\", 'I Choose You', 'Washingtons By Your Side', 'Master Pretender', 'Goodness Gracious - The Chainsmokers Extended Remix', 'Cheerleader (Acoustic Version)', 'Bottle It Up - Live At The Fillmore Version', 'Best Days', 'Hunnie Pie', 'Yummy Yummy Yummy', 'The 2nd Law: Isolated System', 'You Are The Beauty - Live', 'GUD VIBRATIONS', 'Filth Friends Unite', 'I Love To Tell The Story', 'Cristo De Mi Cabecera', \"Alam Kong 'Di Ako, Okey Lang\", 'Back To You', 'Afraid', 'Aadmi Musafir Hai (Happy Version) - From \"Apnapan\"', 'Lights & Music', 'Take Off (feat. Ty Brasel, Canon & KB)', 'I Can Tell', 'Locust Swarm', 'Bamboo', 'Ritanee', 'Yams', 'Santo, Santo, Santo', 'Shout at the Devil', 'Dope Boy Dreaming', 'Me and Paul', 'Undercover Martyn', 'Hey Maria - Parov Stelar Remix', 'Daydreams About Night Things', 'Ahead of Us - Radio Edit', 'La La Love You', 'Tus Latidos', 'Triumph Of Death', 'Rio - feat. Menahan Street Band', '1973', 'Angela', 'El Chico Del Apartamento 512', 'Get Good (Infinitefreefall Remix)', 'Green Crack', 'Little Moments', 'Colors - Stripped', 'Esta Noche De Travesura', 'Electrify (DMVU Remix)', 'Zaris', 'Sex', 'Moony Eyed Walrus', 'No Debes Jugar', 'Night Trouble', 'Sabi-Sabi', 'Anna Begins', 'Al Fin', 'Boop (Acoustic) [feat. Casey Lee Williams & Videri String Quartet]', 'Somebody That I Used To Know - M-Phazes Remix', 'Finishing (Live)', 'Good Arms vs Bad Arms', 'Hey Santa!', 'Frontiersmen', 'Some Way', 'Mentirosa', 'Te Imagino', \"Leavin'\", \"Who's Got You Singing Again\", 'Walk with Me In Hell', 'Sofrendo por 3 - Ao Vivo', 'EASE - Vallis Alps Remix', 'Broken Machine', 'Black Magic Woman', 'Leolani', 'Swallowing Death, Breathing Life', 'Love in the First Degree', 'Bleed', 'The Blessing', 'Forever, Always', 'Get Crazy (feat. Ben G, Jesse Leprotti & Nique the Geek)', 'Heartache On The Dance Floor', 'Ur Burnt (feat. Blackbear)', 'Dance Floor Featuring Tay Dizm', 'Something Out of Nothing', 'Repeat (feat. Jessie J) - feat. Jessie J', 'B$G P$MP$N', 'Maranatha (feat. Tedashi and Json)', 'Muchacho De Campo', 'Memoirs of a Gorilla', \"If I Can't Have You\", 'Abraham', 'Microphone', 'Runaway Baby', 'Truth Don Die', 'Piano Sonata No.26 In E Flat, Op.81a -\"Les adieux\": 1. Das Lebewohl (Adagio - Allegro)', 'Free (feat. Emeli Sandé)', 'Pana', 'Sugar Sugar', 'Banner - Acoustic', 'Too Much of Nothing - Take 2', 'The Girl - Acoustic', 'Riot Van', 'Make A Little', '(sic)', 'Even Unto Death', 'Super Trapper', 'Waving Through A Window', 'Bleed Within', 'Waggy', 'Calm Relaxing Mindset', 'Raspão - Ao Vivo', 'Tenkuuno Shiro Rapyuta: Kimio Nosete (feat. Mai)', 'Sonica - Radio Edit', \"Baby I'm a Want You\", 'Happy Damage', 'Metal Militia - Remastered', 'Shipwreck - feat. Thom Yorke', 'Good Vibes (feat. Lutan Fyah)', 'Not Giving Up On Love', 'Body Music', 'Hymnals - RAC Mix', 'Boardwalks - Remastered 2015/ Bonus Track', 'Happens', 'Don’t Play This Song', \"Arsonist's Lullabye\", 'Autumn & Me', 'Echoes (feat. Elkka)', 'One More Reason', 'Not Going Home', 'Lost in Memories', 'Shy Boy', 'EIFORYA', 'Blacks and Blues', \"Fate Don't Know You\", 'Angel Eyes - Live At The Sands Hotel And Casino/1966', 'Jesus, etc.', 'Heathens', 'Sleep Like A Baby Tonight', 'Dile A Ella', 'You Got Yr Cherry Bomb', 'Never Wanna Leave', \"I'm To Blame\", 'I Love, You Love', 'You Are Good', 'Duele (Crazy)', 'Glow', 'Here Comes the King', '22', 'Shanti Mantra', 'Om Mata', 'Never Land', 'The Tempest', 'Sweet Lady', 'Do You Love - Original Mix', 'Yo sere tu sol - Version Tercer Cielo', 'iSpy (feat. Lil Yachty) - No Intro', 'Asa Asdvadz', 'Easy to Forget Me', 'Cycling Trivialities', 'Sexo Entre Extraños', 'Gayuma', 'One Way', 'YouNivErsIty', 'Blue Dream', 'Wallflower', 'Henry: Portrait of a Serial Killer', 'Super Fly - Original Mix', 'La Fuga del Dorian (feat. Ariel Camacho & Regulo Caro)', 'The Addams Family', 'Sober II (Melodrama)', 'Love Like This', 'Electric Touch', 'Same Same', 'Salvar Tu Amor', 'Hyphy (with E-40 verse) - Feat. E-40', 'No Quiero Amores', 'We Built This City', 'Caramel', 'Washington On Your Side', 'All That Talk', 'Wonderful View', 'Like A 24 (feat. T.I. & Liffy Stokes)', 'Bibbidi-Bobbidi-Boo (The Magic Song)', 'Be As You Are - Acoustic', 'Chase (feat. Tim Halperin)', 'All Your Favorite Bands', 'White Noise - Recorded at Spotify Studios NYC', 'To Zion', 'Nigga Needs', 'Al Fin', 'Why When Love Is Gone', \"It's A Shame\", 'Turn the Beat Around', 'What Would You Do', 'Living, He Loved Me (One Day) / Send It On Down / Power, Lord / Yes, Lord - Live', 'Gap In The Fence', 'В моей крови', 'Raider - Original Mix', 'Wild Season (feat. Florence Welch)', 'Love the Way You Lie', 'Chinchilla', 'O, Come All Ye Faithful', 'Triptango', 'The Logical Song - Remastered 2010', 'Pike', 'Bring The Rain', '~', 'Kol Mekadesh', 'Бросай любить', 'Waited 4 U', 'Revolution - Original Mix', '6/8', 'Beneath The Skin', 'Volare (Nel Blu di Pinto di Blu)', 'The Wolf', 'Ebonics', 'Kiss You While I Can', 'Quiero Buscarte Mas', 'The Day We Met', 'Denzel Curry Kodak Black 21 Savage Lil Uzi Vert Cypher', 'Blink', 'More Of You', 'Back To December', 'I Like Tuh', 'Many the Miles - Live At The Fillmore Version', 'Send Them Off!', 'Beside You', 'Hustler', 'Ugly Guys With Beautiful Girls', 'Diemonds', \"Katrina's Paper Dolls\", 'Take Ü There (feat. Kiesza) - Missy Elliott Remix Bonus Track', 'Live To Party - UK Bonus Track', 'Biterz', 'La cuca', \"I'll Be There For You\", \"Hey Leroy, Your Mama's Calling You\", 'Something Good', 'Try for Keeps-時代はいつでもLOOPする- (Album Edition)', 'No Lie', 'Por Una Mujer Casada', 'Epicurists', 'She Bad (feat. Sj3)', 'A Fun Bunch of Guys from Outer Space - Remastered', 'Por Este Amor', 'Break You Off', 'Carol of the Bells', 'Sand - Live', 'Camuflaje', \"Signed, Sealed, Delivered (I'm Yours) [feat. Stevie Wonder]\", 'Tiempo', 'Capable Of Anything', 'Haleakalā', 'Me Neither', \"That's All Right (First 'Sit-Down' Show) - Live\", \"Timmy's Prayer\", 'Winter Sound - Bonus Track', 'my boy', 'No Lies (feat. Wiz Khalifa)', 'Savannah', 'Fightin Side Of Me', 'Twenty Miles', \"Adrift - Shigeto's Adrift A Dream Remix\", 'Weight Of Heaven - Live', 'Así Fue', '32 Flavors', 'Battlefield One', \"Don't Ever Fucking Question That\", 'Thin', 'Overflow (feat. Helen Tess)', 'POWER', 'Clara', 'Upsetters Shuffle (Unreleased Dub Plate Mix)', 'Happy Up Here', 'Invited - Dillistone Remix', 'How Great', \"Baby, Don't Do It\", 'Meet Virginia - Acoustic Version', 'Equalizer', 'Autumn Shade II', 'Give You Love', 'Sauced Up', 'You Do That Shit', 'Goodbye to You', 'Spoke the Words - Radio Edit', 'Hijo del Vallenato', 'You And Me', '1st of Tha Month', 'Sights', 'My Sharona', 'Harper Valley P.T.A.', 'Come, Ye Children of the Lord', 'Too Fast', 'Vieni Su (Say You Love Me, Too)', 'Up Up Up', 'Maldito Duende - Live Version 1995', 'Ding Dong Song - Radio edit', 'Me Va A Pesar', 'Roots Of Dub', 'Got This', 'Scott and Ramona', \"It's Only - Instrumental\", 'Say You Love', 'Talking In His Sleep', 'The Surf', 'Anchor of My Soul', 'Let You Down', 'On Fire (feat. Maribelle) - Naderi Remix', 'So Baked', 'Free Money', \"A Lot To Learn About Livin'\", 'Koud Edhaz Emin', 'Yiken (Certified)', 'Flashwind - Radio Edit', 'Sparrows', 'Delirious', 'Never Gonna Change', 'Whole Lotta Love', 'Dope as Funk', 'Oh, My Soul Hungered', 'Do It Like Me', 'El Me Mintio', 'King of the Cannon County Hills', 'Girls Like You', 'Morning Dew - Live at The Lyceum Theatre, London, England 5/26/72 [Remastered]', 'Falling Down [Mix Cut] - Original Mix', 'French Letter', 'Big Chief Flying Eagle - I Had A Mother Once', 'Por No Perderte Te Perdí', 'Know the Face (Bad Royale Remix)', 'Eat Healthy', 'Inception', 'Hor Nai Peeni Daru', 'Activate Me', 'Evening Falls..', 'One Sixteen', 'Te Quiero Amar - Remix', 'In The Valley Of The Sun', 'Love You Zindagi', 'Y Resulta', '유성우[流星雨] (Lady Luck)', 'Que Se Canse De Llamar', 'Filosofía Barata y Zapatos de Goma', 'Selene', \"Le temps de l'amour\", 'New South Wales', 'Cocoa Butter Kisses', '212', 'State of Confusion', \"Don't You Wanna Stay\", 'Mariah', 'The Sky And The Dawn And The Sun', \"In All Rwanda's Glory\", 'Everlasting Father', \"See Amid The Winter's Snow\", 'Bob the Builder', 'A Still Life Franchise', 'Tocarte', 'Poison.', 'Femen', 'How Do I Know', 'Lean Back', \"Don't U Want Me\", 'Theme O', 'Be Prepared - From \"The Lion King\"/Original Broadway Cast Recording', 'Ahora Soy Yo', 'Bloody French', \"Stunting Ain't Nuthin (feat. Slim Jxmmi & Young Dolph)\", 'Bolo Ram Ram', '最後一眼', \"Fallin' for You\", \"Don't Go Breaking My Heart\", 'Sugar How You Get So Fly', 'See You Again - Live from Arrowhead Pond, Anaheim, U.S.A./2008', 'Touch my body', 'Evenstar', 'Louisiana Woman, Mississippi Man', 'The Rich Man', 'Mgb', 'Close Enough (feat. Maria Z.)', 'Zero', 'Bet', 'Black Jesus + Amen Fashion', 'Moment Musicaux in F Minor, D. 780: Allegro moderato', 'Chances Are - Single Version', 'I Love Your Presence - feat. Jenn Johnson', 'I Was A Teenage Werewolf - 1989 Digital Remaster', 'Middle Of The Road - 2007 Remastered Version', \"Duke Nuke 'em\", 'Baba', 'Uh Oh!', 'Let The Games Begin', 'Know You Better [feat. Fabolous and Pusha T]', 'The Future - Kill Paris Remix', 'La Recia', \"Verhouzer's Rhythm - Original Mix\", 'Naked Tongues (feat. Isabella Goloversic)', 'Homies - feat. YG Hootie, Popa Smurf & Ice Burgundy [Explicit Album Version]', 'Animals - Extended', 'California Girls - NoMBe VS Sonny Alven', 'Embers (as made famous by Just Jack)', 'More Than You Know', 'Last Breath', 'El Enterrador', \"Don't Want an Ending - Acoustic\", 'Stan', 'The Gypsy', 'Micaela', 'Love Grows (Where My Rosemary Goes)', 'I Wanna Be Like You', 'Chasing Pavements - Live At The Hotel Cafe', 'From Yuh See Me - Raw', 'Maybe', \"Ya Man Ain't Me\", 'Hey Man', 'Words Remain', 'How Long Must This Go On?', 'Left Unfinished', 'Mama Who Bore Me - Original Broadway Cast Recording/2006', 'I Want to Feel Alive', \"I've Got A Reason (Draper's Legacy)\", 'Chasing The Sky', 'Tu fidelidad', 'Permanently Lonely', 'Rewrite', 'The One Where Chandler Dies', 'The Devil in His Youth', 'Waking the Demon', '40 Mark Strasse', 'Fix My Eyes - Radio Version', 'They Know (Dey Know)', 'Clearly', 'Bring On The Night - Remastered 2003', 'Te Voy a Olvidar', 'Victor Samaniego', 'Ganyan Kita Kamahal', 'Un Beso de Desayuno', 'A Love Supreme, Pt. I – Acknowledgement', 'Teknopathetic', 'Puro Bla Bla Bla', \"Silence (Heaven's Gift)\", 'Grown Up Calls', 'Good Good Night', 'Girl', 'Bring The Pain', 'Chains on Me', 'Fred Jones, Pt. 2 - Live Album Version', 'No Action - EarlyVersion', 'Writing on the Walls', 'When She Says Baby', 'The Beast', 'Regreso', 'Tere Bin', 'Chakra Kundalini Healing 4', 'Jesus Is Love', 'Sunshine & Whiskey - Commentary', 'Nobody To Love', 'Sheepbaaad', 'Gangsta Rap Made Me Do It', \"Ridin' the Storm Out\", 'Ohio - Reprise (Dirty)', 'Walking on Broken Glass', 'Me and the Devil Blues', 'Sexual Hallucination (feat. Brent Smith)', 'Sofa', \"When I Get Where I'm Going\", 'Laputa (Taylor McFerrin Remix feat. Anderson .Paak)', 'Wanted', 'Divenire', 'Dedicated - Original Mix', 'En la Ciudad de la Furia - MTV Unplugged', 'Lost Stars - Into The Night Mix', 'Hosanna - Live', 'Deezy Daisy - Oxford Remix', 'I Breathe In, I Breathe Out', 'Tu Serenata', 'Back to the Basics', 'Aquiles Afirmo', \"Wait & See - Kris Menace's Vocal Re-Interpretation\", 'Book Of Shadows', \"Nasty's World\", 'Chasing Summers (R3hab & Quintino Remix)', 'Uncontrollable Urge', \"Fixin' To Die - Live\", 'Alleluja - Rex noster - Missus Gabriel', '양화대교 (Yanghwa Brdg)', 'Jazz', 'Crazy Train - Remastered', 'The Farmer in the Dell', 'Stick To The Status Quo', 'Strange Feeling - Bonus Track', 'Wilder', 'Young & Stupid', 'Dusted', 'Red Hot Moon', 'She Pretends', 'Good to Me (Live)', 'Love Is Lost - Hello Steve Reich Mix by James Murphy for the DFA Edit', 'Ten Feet Tall', 'The Pantaloon', 'Quien Manda', 'Blue Christmas', 'Til The Day I Die', 'Spice Up Your Life', 'Indigo Puff', 'If I Gave You My Heart', 'Erotica', 'La Foto de los Dos', 'Siempre Peligroso - feat. Fermin IV Caballero of Control Machete', 'Zambamafoo', 'Flowerbomb', 'Anusara Prayer', 'Calling All Angels [duet w/Jane Siberry] - Remastered', 'Thank You, Thank You Jesus', 'I Speak Six Languages', 'Up Around The Bend', 'Atomic Dog - Feat. Coolio', 'A Boy Can Dream', 'Cleaning Windows', 'Friends With Benefits (KSI vs MNDM)', 'The Sound (Acoustic)', 'More Than Ever', 'The Pill - Rerecorded Version', 'Irremediablemente Cotidiano', \"The Boatswain's Song - Demo Recording\", 'Evolution (Pretty Good Movie / Pretty Good Theory)', 'Irradiant', 'Hi Bich', 'Path to Heaven', 'Venom', 'Body Slam', 'Really Love', 'Mi Mayor Necesidad', 'Come with Me (Deadmeat) [feat. Polina] - Jidax Remix', 'See You When I See You', 'Ven Aquí', 'The Sun - LCAW Remix', 'Murder at Midnight', 'Love Will Keep Us Together', 'Flipmode', 'Running Around In My Dreams', 'El Niño De La Tuna', 'Mumble Rap', 'Under Pressure - Remastered 2011', 'Top Back', 'Esc', 'Space Oddity - Mitty Mix', 'Roots Reggae Music - Live', 'Sparks (Turn off your Mind) - Atmozfears & Audiotricz Radio', 'The Upsetter', \"Like I'm Gonna Lose You\", 'Slow to Spring', 'The Blonde Lead the Blind', 'Number One Rule', 'Hollywood Nights', \"I'm Different\", '2 Step', 'Share', 'Hot Damn', 'Echo', 'Keep Me From Loving You', 'Me & The Rhythm', 'Mack The Knife - 24-Bit Digitally Remastered', 'Marlboro Man', 'Least of These (Put a Little Love In Your Heart)', 'Ten Degrees and Getting Colder', 'Thankyou for Everything', 'Tú Vives', 'A Diamond Bullet to the Brain (feat. Kevin Gunter)', 'Goodbye Weekend', 'Anenome', 'Let Me Hear (Ravish Your Heart)', 'Muss The Hair (featuring Allen Toussaint)', 'Dúlaman - 2016 Version', 'MoJo', 'Separate/Together', \"Won't Turn Back\", 'We Can Work It Out', 'Bloodstream', 'Cry (Just A Little)', 'Love Yuh Bad', \"Ain't No Way We're Goin' Home\", 'Pack Of Wolves', 'Life or Just Living', 'Chill Bill REMIX', 'Twerk It', 'Shots - House Remix', 'Bien Enamorado', 'Shomer Yisroel', 'Bloodfeather', 'Ramta Jogi', 'D.O.C. AND THE DOCTOR', 'Maybe', \"We Won't Go Home - Jane Doze Remix\", 'Grains', 'Behold the Spirit', 'La valse des monstres', \"Where's The Love\", 'No Merecía Tanto Amor', 'No Action - EarlyVersion', 'Take Me Back To The Prairie', 'Los Infieles', 'Superlove', 'Damn The Rain', 'There She Go', 'Welcome to the Black Parade', 'Limitless (feat. Delaney Jane)', \"Hurtin' (On the Bottle)\", 'Nataraj-Black Phone', 'Over And Over', '1,000 Years', 'I Want You - Single Version', 'The Knife', 'El Microbito', 'River Deep Mountain High', 'Kylie - Video Edit', 'Puzzle', 'Cheza Kwamadoido', 'Here Comes The Sun - Remastered', 'Story', 'Song Cry', 'The Night Is Ours', 'Going To Heaven With The Goodie-Goodies - Original Mix', 'Louder - Doctor P & Flux Pavilion Remix', 'In My Nature (feat. Karina)', 'Pua Tuberose', 'What You Like (feat. Ty Dolla $ign & Wiz Khalifa)', 'On Stage', 'What Would You Do? (feat. Lil Uce)', '2gether', 'Is It a Crime', 'Cats In The Cradle', 'Dark Nights', 'Tap Water Drinking', 'Boogie Shoes - 2004 Remastered Version', 'For Her', 'Cool Your Heart', 'Do This Together - Radio Edit', 'Natural Fools', 'Away from Me', 'Where Do My Bluebird Fly', 'Bouncer - Original Mix', 'Harder Better Faster Stronger', 'The Mighty Fall', 'Fa Yo Monkey', 'Ways To Go', 'Sin Respiración', 'The Soft Goodbye', 'Take You Out - Radio Edit', 'Angeles - 2009 Remastered Version', 'Rayheen Aala Betna', \"Something 'Bout a Boat\", 'Cosas Locas', 'כמה ימים כאלה', 'Versace On The Floor', 'Alucinado', 'Heartache Tonight - Live Version', 'Take Your Sweet Time', 'Direction', 'Senses Overload (feat. Laura Hahn)', 'Shooting Star Prologue', 'Got That from You', 'Dancing With Tears In My Eyes', 'Laugh Track', \"Busy Earnin'\", 'Fresh Touch', \"Dressin' Up\", 'Life Goes On - 2003 - Remaster', 'Parallel Jalebi', 'Delirium Ft. Rykka - The Prototypes Remix', 'Esperándote', 'Fade', 'Lost On The Way Home (feat. Solange)', 'Forgive Me If I Bleed', 'Water Water', 'De Ti Me Enamore', 'I Heard the Bells on Christmas Day - Mono Version', 'You Got Me Featuring Akon', 'Diamond In The Witch House', 'Tattoos on This Town', 'Nunca Imagine - Remix', 'Amiga Si Lo Ves - En Vivo Desde Monterrey/2012', 'You Love It', 'London', 'Heavy In The Day', 'The Witch', \"Dancy's Dream\", 'Polka Dots And Moonbeams - 1994 Digital Remaster', 'Te Voy A Hacer Loquita', 'To Be With You - 2010 Remastered Version', 'Trading Places', 'Dance Off (feat. Idris Elba & Anderson .Paak)', 'Middle of Things, Beautiful Wife (feat. Xavier Omär))', 'Everything Hits At Once', 'Miles Apart', 'LOVE ME RIGHT', \"It's Secured\", 'Leya - Kaminanda Remix', '5 Kids', 'Все впереди', 'El Bueno de Tijuana', \"I Can't Live Without My Mother's Love\", 'Mar Adentro', '4 The Rest Of My Life', 'Dark Matters', 'Beautiful Dream', 'Vigilate', 'That Old Black Magic - Live;1991 Digital Remaster', 'Y te vas', '聽見下雨的聲音', 'Young Niggas (feat. Jadakiss & Fetty Wap)', 'Man in Black', 'To Whom It May Concern', \"The Heart Won't Lie\", 'El Árbol del Mayo', 'Psychic City - Classixx Remix', 'and', 'One By One - Junior Vasquez Vocal Edit', 'La Libertad Logica - Original', \"Chop 'em Down - Live\", \"Take On Me - Grey's Anatomy Version\", 'Doo Doo', 'Tobin', 'Dr. Yang - Seeds Album Version', 'Infinity House of Chords Remix', 'Never Look Back', 'Know', 'Merry Christmas Baby - 2014 CMA Country Christmas Performance', 'Echo Beach - 2002 - Remaster', 'Subwoofer Lullaby', \"While I'm Waiting\", 'Can You Hear Me', 'De Sol a Sol', 'Young Fathers', 'There Is a Light That Never Goes Out', \"We Don't Eat\", 'How Time Flies', 'The Sharing Song', 'Si Tu Quiere (feat. Pusho)', 'This Is Heartbreak', 'Ugly Cherries', 'Ever Since New York', 'A Perfect Lie (Theme Song) - Gabriel & Dresden Remix', 'Camuflaje', 'Penny Lane - Stereo Mix 2017', '5-1-5-0', 'Twerk It', 'All I Wanna Do (feat. Hoody & 로꼬 Loco) [Korean Version]', 'Cuando Las Horas Pasen', 'All The Way My Savior Leads Me', 'Under My Thumb', 'Feedback', 'BEAUTIFUL', 'Alcatraz', 'Mis//Understanding', 'Same Old Same Old', 'Till There Was You - Remastered', 'Tonight (Best You Ever Had)', 'Dark Angel', 'Gimme Some', \"Llamé Pa' Verte (Bailando Sexy)\", 'The Middle - Acoustic Version', \"He's Alive\", 'Goodbye Blue Sky', \"Till It's Gone\", 'What You Mean to Me', 'Me Llamaré Tuyo - Remix Version', 'Can You Feel It - Single Version', 'Two Hands - Original Mix', 'Ubuntu Tutu', 'Dancing Nancies - Live In New York City', 'Stainless', 'Drag Me Down', 'Its Love', 'Anna', 'Radar', 'This Bed', 'Cheapest Flight - AlunaGeorge Remix', 'Diane Young', 'Ya Se Fue', 'Guts Over Fear', 'Save A Horse (Ride A Cowboy)', \"Love's Gonna Make It Alright\", 'Old Friend', 'Once Upon a Dream - From “Maleficent”/Young Ruffian Remix', 'Lyk Dis', 'So Dedicated', \"(I Can't) Forget About You\", 'Cherry Pie (I Need A Freak)', 'Ms. Hill', 'Estilo Italiano', 'The Sun - LCAW Remix', 'Ditmas', 'He Reigns / Awesome God', 'Older', \"You're the World to Me\", 'Malbicho', 'Wobble Wobble', 'Photo Shoot', 'Ghost Train', 'Falling in Love - Jon Sine Remix', 'For Once in My Life', 'When Worlds Collide', 'All', 'Never Going Back Again - Remastered', 'GTA (Fast)', 'Cuan Grande es El', 'I Wanna Dance', 'A Song For Our Grandfathers', 'Voyage', \"A Woman's Heart\", 'Dude Alert', 'Too Many Nights Alone', 'Disculpe Usted - En Vivo', 'My Own Throne', 'Guilty', \"Just Can't Get Enough - Remastered\", 'Red Light District', \"I'm In Miami Bitch\", 'Step Into My World', 'Girls Chase Boys', 'The Sweetest Sin', 'Wish You A Merry Christmas', \"No One's Gonna Love You\", 'Unholy Roller', 'The Light - Original Mix', 'I Just Died', 'Whole Lotta Rosie', 'Просто скажи', 'Open The Tcheka', 'Donkey', 'Whenever It Rains, I Feel so Free', 'Underdressed', 'Bad Things With Jamaicans', 'Me Llamaré Tuyo - Remix Version', 'All over You', '4422', 'Division (ö)', 'Body Sensation Meditation', 'Everyday Thing', 'Riverdale Rd', 'Praise Him In Advance', 'Not Afraid Anymore', 'S.I.M.P. (Squirrels in My Pants) - Instrumental', 'I Was Made For Loving You', 'Crank Dat Yank', 'Dog', 'Love Is War', 'Pulse', 'Simple Man', '#Selfie', 'Growing Up Beside You', 'The Outernationalist', 'Days Are Gone', 'Grammys', 'Tusk Vegas', 'What Cha’ Gonna Do For Me', 'Breathe In', 'The Calm', 'Ze Hazman Shelanu', 'Lipslap', 'As You Are', 'Delta Dawn', 'Dik Work (feat. DJ Funk)', 'Help Me Out (with Julia Michaels)', 'Gangster Shit', 'Dark Ages', 'Do Wah Diddy Diddy', 'Mortal Kombat - Original Mix', 'My Curse', 'Abacus', 'Bouncin', 'Mom', 'Ma Ederet', \"I Won't Take Less Than Your Love\", 'Ódiame', 'How You Love Me - Radio Edit', 'Alternative Ulster', \"I'm Outta Love\", 'Dance or Die - feat. Saul Williams', 'Fountain Of Youth', 'Teras', 'Push It (Re-Recorded) [Remastered]', \"Tonight's the Night (Gonna Be Alright) - 2009 Remastered Version\", 'Sometimes By Step', 'Halikana', 'A Change Is Gonna Come - Acoustic Version', 'Nobody Love', 'Darling Divine', 'Swim In The Light', 'Ave Maria, Op. 52 No. 6', 'Low It Down', 'The Crutch', 'Bahudari: Soothing Flute Solo', 'How Else', 'Forget And Not Slow Down', 'U-RITE - Rynx Remix', 'Boli Paniye', \"The Serpent's Kiss\", 'I Of The Storm', 'Ang Sung Wahe Guru', 'Disenchanted', 'Tiny Cities', 'The Future Freaks Me Out', 'Hashem Melech, Niggun Hastarah and Am Yisrael', 'Pon De River Pon De Bank', 'blkjuptr', 'La Vida No La Tienes Comprada (feat. Zimple)', 'Ausgebombt', 'Te Acordaras', 'PML', 'The Wisdom of Insecurity', 'Sleeping Ute', 'Express', 'Glorious Is Thy Name', 'Miracles - Dhan Dhan Raam Daas Gur', 'Dik Work (feat. DJ Funk)', '100 Grandkids', \"Even When The Water's Cold\", 'When Love Finds You', 'The Nights', '고백하는 거야 Confession', 'Juntos - From \"McFarland, USA\"/Soundtrack Version', 'Tangled', 'Ella', 'Fantasy - TEEMID Remix', 'Get Busy', 'Black (feat. Norah Jones)', 'En Mi Viejo San Juan', 'Anything but Ordinary', 'Me Extrañas (feat. Kevin Roldan, J Alvarez & Juanka)', 'Stranger In A Strange Land - 1998 Remastered Version', 'Uh Ooh (Remix)', 'Bad Body Double', 'White Christmas', 'Heal', 'No Matter What You Do', 'What U do?', 'Love Song (ft. Lecrae, Estella, Ray)', 'How I Want Ya - Dawin Remix', 'Llovía', \"She's in Love - Broadway Cast Recording\", \"It's Always Somethin'\", 'Drug Dealers Dream', \"Can't Get Enough Of You Baby\", 'Sugar And Spice', 'Change My Ways', 'What It Is', 'Tabaco Y Chanel', 'Chefto Sedfe', 'Killer In The Home', \"I'm Left, You're Right, She's Gone\", 'Le Long Du Large', 'Como Trompeta en Si Bemol', 'Frisk', 'Tu Loco Loco Y Yo Tranquilo', 'To the Wonder', 'All You Ever']\n"
     ]
    }
   ],
   "source": [
    "print(songs)"
   ]
  },
  {
   "cell_type": "code",
   "execution_count": 100,
   "id": "d794292e",
   "metadata": {
    "id": "d794292e",
    "outputId": "6ef5bc56-23dc-4140-f58d-2178aff41fc5"
   },
   "outputs": [
    {
     "name": "stdout",
     "output_type": "stream",
     "text": [
      "Input songs:\n",
      "['Si Tu Quiere (feat. Pusho)', 'Man in Black', 'See You When I See You']\n",
      "Generated playlist using method1:\n",
      "['EIFORYA', 'Some Way', 'Fountain Of Youth', \"Hurtin' (On the Bottle)\", 'Heathens', 'POWER', 'Si Tu Quiere (feat. Pusho)', 'Fade', 'Wild Season (feat. Florence Welch)', 'Man in Black', 'See You When I See You', 'Good Vibes (feat. Lutan Fyah)', 'Feedback', \"I'm Different\", 'No Lie', 'Nigga Needs']\n"
     ]
    }
   ],
   "source": [
    "#Testing the algorithm\n",
    "\n",
    "playlist = []  #pick some random songs OR you can manually add some songs (in cell above)\n",
    "for i in range(3):\n",
    "    playlist.append(songs[random.randint(0,len(songs))])\n",
    "length = len(playlist)+10\n",
    "print(\"Input songs:\")\n",
    "print(playlist)\n",
    "playlist = create_playlist(playlist, length, songs, relations, edges)\n",
    "print(\"Generated playlist using \"+METHOD+':')\n",
    "print(playlist)\n"
   ]
  },
  {
   "cell_type": "markdown",
   "id": "fc5f0a9c",
   "metadata": {
    "id": "fc5f0a9c"
   },
   "source": [
    "### Thoughts on algorithm\n",
    "\n",
    "I have no idea if these are great playlists or not lmao"
   ]
  },
  {
   "cell_type": "markdown",
   "id": "fe1eb6de",
   "metadata": {},
   "source": [
    "## 2.2 Implementing Networkx\n",
    "\n",
    "The purpose of this subsection is to use networkx to load our .csv files that we have produced, so that we can create adjacency matrices, figure out shortest path lengths, etc\n"
   ]
  },
  {
   "cell_type": "code",
   "execution_count": null,
   "id": "6d5dcfbf",
   "metadata": {},
   "outputs": [],
   "source": [
    "path = 'generated_data/2000_random_songs.csv' #file to be read\n",
    "df = pd.read_csv(path)\n",
    "songs = []\n",
    "for song in df['Source']:\n",
    "    songs.append(song)\n",
    "print(df.head)"
   ]
  },
  {
   "cell_type": "code",
   "execution_count": null,
   "id": "869a7642",
   "metadata": {},
   "outputs": [],
   "source": [
    "\n",
    "G = nx.from_pandas_edgelist(df, \"Source\", \"Target\", edge_attr = \"Weight\")  #generate graph\n",
    "\n",
    "out = []\n",
    "\n",
    "for song1 in songs:\n",
    "    paths = nx.single_source_shortest_path_length(G, song1)\n",
    "    vals = []\n",
    "    for p in paths.keys():\n",
    "        if p!=song1:\n",
    "            vals.append(paths[p])\n",
    "    out.append(vals)\n",
    "print(len(out))\n",
    "#print(nx.adjacency_matrix(G).shape)\n"
   ]
  },
  {
   "cell_type": "code",
   "execution_count": null,
   "id": "cf5d943f",
   "metadata": {},
   "outputs": [],
   "source": [
    "print((np.array(out[1])-np.array(out[2])).sum())"
   ]
  },
  {
   "cell_type": "code",
   "execution_count": null,
   "id": "43225e35",
   "metadata": {},
   "outputs": [],
   "source": [
    "#Playlist Generation using shortest paths method\n",
    "\n",
    "input_songs = ['Dani California, by Red Hot Chili Peppers','Hey Joe, by Jimi Hendrix', 'The Ballad Of Curtis Loew, by Lynyrd Skynyrd']\n",
    "out = input_songs\n",
    "n = 10 # number of songs to add\n",
    "sp = []\n",
    "\n",
    "for s in input_songs:\n",
    "    if sp == []:\n",
    "        sp = nx.shortest_path(G,s)\n",
    "        sp.pop(s)\n",
    "    else:\n",
    "        for key in sp.keys():\n",
    "            sp[key]+= nx.shortest_path(G,s)[key]\n",
    "        sp.pop(s)\n",
    "\n",
    "        \n",
    "for i in range (10):\n",
    "    s = min(sp, key = sp.get) #get song with lowest combined shortest path\n",
    "    out.append(s)\n",
    "    for key in sp.keys():\n",
    "        sp[key]+= nx.shortest_path(G,s)[key]\n",
    "    sp.pop(s)\n",
    "    \n",
    "print(out)"
   ]
  },
  {
   "cell_type": "markdown",
   "id": "1dd2c770",
   "metadata": {},
   "source": [
    "## 2.2 Cosine Simliarity\n",
    "\n",
    "### TODO"
   ]
  },
  {
   "cell_type": "code",
   "execution_count": null,
   "id": "1e847f4a",
   "metadata": {
    "id": "1e847f4a"
   },
   "outputs": [],
   "source": []
  }
 ],
 "metadata": {
  "colab": {
   "provenance": []
  },
  "kernelspec": {
   "display_name": "Python 3",
   "language": "python",
   "name": "python3"
  },
  "language_info": {
   "codemirror_mode": {
    "name": "ipython",
    "version": 3
   },
   "file_extension": ".py",
   "mimetype": "text/x-python",
   "name": "python",
   "nbconvert_exporter": "python",
   "pygments_lexer": "ipython3",
   "version": "3.8.8"
  }
 },
 "nbformat": 4,
 "nbformat_minor": 5
}
