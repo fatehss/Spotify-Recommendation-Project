{
 "cells": [
  {
   "cell_type": "code",
   "execution_count": 8,
   "id": "4d787814",
   "metadata": {},
   "outputs": [
    {
     "name": "stdout",
     "output_type": "stream",
     "text": [
      "The autoreload extension is already loaded. To reload it, use:\n",
      "  %reload_ext autoreload\n",
      "zsh:1: no such file or directory: 2.7\n",
      "\n",
      "Note: you may need to restart the kernel to use updated packages.\n"
     ]
    }
   ],
   "source": [
    "%load_ext autoreload\n",
    "%autoreload 2\n",
    "%conda install \"networkx<2.7\"  \n",
    "#for some reason scipy>1.8 won't install for me, this is to make sparse matrices work"
   ]
  },
  {
   "cell_type": "code",
   "execution_count": 5,
   "id": "662ea106",
   "metadata": {
    "id": "662ea106"
   },
   "outputs": [],
   "source": [
    "import json\n",
    "import scipy\n",
    "import pandas as pd\n",
    "import os\n",
    "import os.path\n",
    "import matplotlib.pyplot as plt\n",
    "import numpy as np\n",
    "import random\n",
    "import networkx as nx\n",
    "from pathlib import Path"
   ]
  },
  {
   "cell_type": "code",
   "execution_count": 2,
   "id": "4d0af17a",
   "metadata": {},
   "outputs": [
    {
     "name": "stdout",
     "output_type": "stream",
     "text": [
      "2.8.8\n",
      "1.7.3\n"
     ]
    }
   ],
   "source": [
    "print (nx.__version__)\n",
    "print(scipy.__version__)"
   ]
  },
  {
   "cell_type": "code",
   "execution_count": null,
   "id": "U-wHnUm3kYnZ",
   "metadata": {
    "colab": {
     "base_uri": "https://localhost:8080/"
    },
    "id": "U-wHnUm3kYnZ",
    "outputId": "41f12f03-7583-4725-8e87-cffb40a18970"
   },
   "outputs": [],
   "source": [
    "#optional cell if using drive:\n",
    "#if using drive the file creeation will not work!\n",
    "#from google.colab import drive\n",
    "#drive.mount('/content/gdrive')"
   ]
  },
  {
   "cell_type": "markdown",
   "id": "a2dd32b7",
   "metadata": {
    "id": "a2dd32b7"
   },
   "source": [
    "\n",
    "\n",
    "# Section 0: Getting data from million songs playlists\n",
    "\n",
    "### How to use this notebook\n",
    "\n",
    "1. Download it\n",
    "2. Download and extract the million songs dataset (link in the README.md on the repo) in the same directory as this notebook\n",
    "3. Set the DIRECTORY constant in the cell below as the directory containing the dataset\n",
    "4. You should then be able to run all of it\n",
    "\n",
    "Section 1 is making a graph to figure out how the number of followers over all the playlists is distributed\n",
    "Section 2 is removing all playlists from the dataset which have N or more fewer, and creating a new file containing playlists with only more than N followers\n",
    "Section 3 is extracting N songs randomly from a given dataset, either randomly or with a weighted random distribution. You can set the constants to change the sampling method, number of songs, and the dataset you are computing over. If you use the default dataset to pick the songs, it is quite slow (takes like 10 minutes overall), so you may want to use a smaller dataset to choose these songs. I set the dataset to the dataset containing playlists with over 5 followers and it is significantly quicker to run. "
   ]
  },
  {
   "cell_type": "markdown",
   "id": "561efd48",
   "metadata": {},
   "source": [
    "### IMPORTANT: Set the directory containing the data below"
   ]
  },
  {
   "cell_type": "code",
   "execution_count": 2,
   "id": "f900x3nJpM8J",
   "metadata": {
    "id": "f900x3nJpM8J"
   },
   "outputs": [],
   "source": [
    "DIRECTORY = \"spotify_million_playlist_dataset/data/\""
   ]
  },
  {
   "cell_type": "markdown",
   "id": "1f57447f",
   "metadata": {
    "id": "1f57447f"
   },
   "source": [
    "### 1. Figuring out distribution of number of followers over playlists\n",
    "\n",
    "This is just to figure out what the distribution of the followers looks like"
   ]
  },
  {
   "cell_type": "code",
   "execution_count": null,
   "id": "2e38ec2a",
   "metadata": {
    "colab": {
     "base_uri": "https://localhost:8080/"
    },
    "id": "2e38ec2a",
    "outputId": "53f204b0-95ba-4175-f7e2-2bc407691d54"
   },
   "outputs": [],
   "source": [
    "# 1. Followers numbers\n",
    "# 10,000 songs choose (Quanchi's link)\n",
    "\n",
    "\n",
    "num_followers = []\n",
    "directory = os.listdir(DIRECTORY)\n",
    "\n",
    "for file in directory:\n",
    "\n",
    "    f = open(DIRECTORY+file)\n",
    "    data = json.load(f)\n",
    "\n",
    "\n",
    "    for playlist in range(len(data['playlists'])):\n",
    "        x = data['playlists'][playlist]['num_followers']\n",
    "        num_followers += [x]\n",
    "\n",
    "num_followers = pd.Series(num_followers)\n",
    "num_followers.value_counts()\n"
   ]
  },
  {
   "cell_type": "code",
   "execution_count": null,
   "id": "5dd9d657",
   "metadata": {
    "id": "5dd9d657"
   },
   "outputs": [],
   "source": [
    "num_likes = {}\n",
    "\n",
    "for val in num_followers:\n",
    "    if val in num_likes:\n",
    "        num_likes[val] += 1\n",
    "    else:\n",
    "        num_likes[val] = 1\n",
    "\n",
    "keys = []\n",
    "for key in num_likes.keys():\n",
    "    keys += [key]\n",
    "\n",
    "keys.sort()\n",
    "\n",
    "X,y = [],[]\n",
    "\n",
    "for key in keys:\n",
    "    X +=[key]\n",
    "    y +=[num_likes[key]]\n",
    "    \n",
    "    \n",
    "#make the y-values a fraction of the size of the dataset\n",
    "y_c = y     \n",
    "for i in range(len(y_c)):\n",
    "        y_c[i] = (y_c[i]+y_c[i-1])\n",
    "\n",
    "for i in range(len(y_c)):\n",
    "    y_c[i]/= 1000000\n",
    "\n",
    "y_c\n",
    "\n",
    "\n",
    "    \n",
    "    "
   ]
  },
  {
   "cell_type": "code",
   "execution_count": null,
   "id": "4ae833b8",
   "metadata": {
    "id": "4ae833b8"
   },
   "outputs": [],
   "source": [
    "#Plot\n",
    "\n",
    "plt.plot(X[:40], y[:40],linestyle=\"-\", marker=\"o\")\n",
    "plt.ylabel(\"Fraction of playlists with followers <= than this number\")\n",
    "plt.xlabel(\"Number of Followers\")\n",
    "plt.xticks(np.arange(0,41,2))\n",
    "plt.show()\n",
    "f = plt.figure()\n",
    "f.set_figwidth(1)\n",
    "f.set_figheight(1)"
   ]
  },
  {
   "cell_type": "code",
   "execution_count": null,
   "id": "5556a4cf",
   "metadata": {
    "id": "5556a4cf"
   },
   "outputs": [],
   "source": [
    "print(1000000 - y_c[5]*1000000)\n"
   ]
  },
  {
   "cell_type": "markdown",
   "id": "f0622574",
   "metadata": {
    "id": "f0622574"
   },
   "source": [
    "### 2. Removing the majority of the playlists\n",
    "\n",
    "Removing all playlists with N or less followers "
   ]
  },
  {
   "cell_type": "code",
   "execution_count": null,
   "id": "a8ca01a8",
   "metadata": {
    "id": "a8ca01a8"
   },
   "outputs": [],
   "source": [
    "N = 10\n",
    "directory = os.listdir(DIRECTORY)\n",
    "\n",
    "moreThanN = []\n",
    "\n",
    "for file in directory:\n",
    "\n",
    "    f = open(DIRECTORY+file)\n",
    "    data = json.load(f)\n",
    "\n",
    "\n",
    "    for playlist in range(len(data['playlists'])):\n",
    "        if data['playlists'][playlist]['num_followers'] >N:  \n",
    "            moreThanN += [data['playlists'][playlist]]"
   ]
  },
  {
   "cell_type": "code",
   "execution_count": null,
   "id": "a7877ad0",
   "metadata": {
    "colab": {
     "base_uri": "https://localhost:8080/"
    },
    "id": "a7877ad0",
    "outputId": "67370876-3a87-4d5b-e9b2-602ca77fc6a4"
   },
   "outputs": [],
   "source": [
    "#sanity check\n",
    "\n",
    "len(moreThanN)"
   ]
  },
  {
   "cell_type": "code",
   "execution_count": null,
   "id": "GJeLZslQm0-c",
   "metadata": {
    "colab": {
     "base_uri": "https://localhost:8080/"
    },
    "id": "GJeLZslQm0-c",
    "outputId": "ba4ac40c-6a8b-457c-84b2-7247c3b836bd"
   },
   "outputs": [],
   "source": [
    "#Create results folder\n",
    "\n",
    "path = os.getcwd()+\"/generated_data\"\n",
    "# Check whether the specified path exists or not\n",
    "isExist = os.path.exists(path)\n",
    "if not isExist:\n",
    "\n",
    "   # Create a new directory because it does not exist\n",
    "   os.makedirs(path)\n",
    "   print(\"The new directory is created!\")"
   ]
  },
  {
   "cell_type": "code",
   "execution_count": null,
   "id": "161047a2",
   "metadata": {
    "id": "161047a2"
   },
   "outputs": [],
   "source": [
    "#SAVING DATA\n",
    "#convert to dictionary \n",
    "moreThanN_dict = {\"playlists\": moreThanN}\n",
    "\n",
    "json_object = json.dumps(moreThanN_dict, indent=4)\n",
    "with open(path+\"/moreThan\"+str(N)+\"followers.json\", \"w\") as outfile:\n",
    "    outfile.write(json_object)\n",
    "\n"
   ]
  },
  {
   "cell_type": "code",
   "execution_count": null,
   "id": "8125c42e",
   "metadata": {
    "id": "8125c42e"
   },
   "outputs": [],
   "source": [
    "#formatting stuff for .edges filef\n",
    "\n",
    "data = \"\"\n",
    "\n",
    "for key in edges:\n",
    "    data+= (key + ' ' + str(edges[key])+'\\n')"
   ]
  },
  {
   "cell_type": "code",
   "execution_count": null,
   "id": "7163505d",
   "metadata": {
    "id": "7163505d"
   },
   "outputs": [],
   "source": [
    "#writing the truncated data to a new .json file\n",
    "\n",
    "with open(path+\"/moreThan\"+str(N)+\"followers.edges\", \"w\") as outfile:\n",
    "    outfile.write(data)"
   ]
  },
  {
   "cell_type": "markdown",
   "id": "6caa0ad4",
   "metadata": {
    "id": "6caa0ad4"
   },
   "source": [
    "### 3. Choosing our songs and generating data\n",
    "\n",
    "Selecting N songs randomly and performing an analysis on them.\n",
    "\n",
    "Change the constants in the cell below to change the kind of data you create.\n",
    "\n",
    "The output of these cells will be a .csv file in the generated_data folder."
   ]
  },
  {
   "cell_type": "code",
   "execution_count": 3,
   "id": "e28dc57f",
   "metadata": {
    "id": "e28dc57f"
   },
   "outputs": [],
   "source": [
    "################# Constants #################\n",
    "'''Rename this constant to the file containing the data, otherwise it will go through all of the data.\n",
    "I recommend using a file generated by Method 1 as the specific file (for instance, moreThan10followers.json) since\n",
    "the computation times will be much much faster'''\n",
    "SPECIFIC_FILE = 'generated_data/moreThan10followers.json' \n",
    "\n",
    "WEIGHTED_RANDOM = False   #If we want weighted random sampling or not\n",
    "N = 2000  #number of songs to consider\n",
    "\n",
    "############################################"
   ]
  },
  {
   "cell_type": "code",
   "execution_count": 4,
   "id": "b8f26d39",
   "metadata": {
    "id": "b8f26d39"
   },
   "outputs": [],
   "source": [
    "\n",
    "#first we need to load all the songs into a dictionary so that we can randomly select N of them\n",
    "\n",
    "\n",
    "all_tracks = {} #stores all the songs\n",
    "count = 0 #progress bar\n",
    "\n",
    "\n",
    "if SPECIFIC_FILE == '':\n",
    "    directory = os.listdir(DIRECTORY)\n",
    "    for file in directory:\n",
    "        count +=1\n",
    "        if (count %100 == 0):\n",
    "            print(count)\n",
    "        f = open(DIRECTORY+file)\n",
    "        data = json.load(f)\n",
    "\n",
    "        for playlist in data['playlists']:\n",
    "            for track in playlist['tracks']:\n",
    "                if track['track_name'] not in all_tracks:  #if it not in the dict then we add it to it and increase its weight\n",
    "                    all_tracks[track['track_name']] = 1 #weight is used for weighted random sampling (if needed)\n",
    "                else:\n",
    "                    all_tracks[track['track_name']] +=1\n",
    "                \n",
    "############### TO LOOP OVER SOME SMALLER FILE ##################\\\n",
    "else:\n",
    "    f = open(SPECIFIC_FILE)\n",
    "    data = json.load(f)\n",
    "\n",
    "    for playlist in data['playlists']:\n",
    "        for track in playlist['tracks']:\n",
    "            if track['track_name'] not in all_tracks:  #if it not in the dict then we add it to it and increase its weight\n",
    "                all_tracks[track['track_name']] = 1 #weight is used for weighted random sampling (if needed)\n",
    "            else:\n",
    "                all_tracks[track['track_name']] +=1\n",
    "\n"
   ]
  },
  {
   "cell_type": "code",
   "execution_count": 5,
   "id": "8f183cb6",
   "metadata": {
    "id": "8f183cb6",
    "outputId": "67815257-8bde-4172-9909-66ed1106da4d"
   },
   "outputs": [
    {
     "name": "stdout",
     "output_type": "stream",
     "text": [
      "['T-Shirt', 'It All Started with a Beer', \"Night's On Fire\", 'From the Ground Up', 'Crash And Burn', 'Break Up with Him', \"I Don't Dance\", 'Dirt', 'Die A Happy Man', 'It Goes Like This', \"Don't It\", '19 You + Me', \"Nothin' Like You\", 'I Know Somebody', \"It Don't Hurt Like It Used To\", 'Vacation', 'Different For Girls', 'Sleep Without You', 'Star Of The Show', 'Sunshine & Whiskey']\n"
     ]
    }
   ],
   "source": [
    "print(list(all_tracks.keys())[0:20])"
   ]
  },
  {
   "cell_type": "code",
   "execution_count": 6,
   "id": "98fbf342",
   "metadata": {
    "id": "98fbf342"
   },
   "outputs": [
    {
     "name": "stdout",
     "output_type": "stream",
     "text": [
      "{'Cat Skillz', 'No Me Quites Tu Amor', 'Cuando Baila Reggaeton', 'Baby Girl', 'Kya Karoon? (From \"Wake Up Sid \")', 'Let Down (feat. Andrew Harris)', 'A Quiet Place', 'ไม่มีใครยอมใคร (เพลงประกอบละคร ชิงรัก ริษยา)', 'Old Fashioned', 'Para Volver a Comenzar', 'Ella me Da', '僕の手に触れるな', 'In The Stories', 'Extremely Loud and Incredibly Close (From \"Extremely Loud and Incredibly Close\")', 'Better Man - Remastered', 'Everyone Deserves Music', 'No Far Away', '我愛台妹', \"You'll Accomp'ny Me\", \"Say You'll Be There - Single Mix\", 'Bury Our Love', 'Duduk Solo', 'Amanecí en Tus Brazos', 'The Beauty Within', 'Ideekay', 'That\\'s How You Know - From \"Enchanted\"/Soundtrack Version', 'Makina', 'Shake It Up - Live', 'Little White Lie', 'I Believe In Symmetry', 'Tickle', 'Save As Draft', 'Juegos De Seducción - Remasterizado 2007', 'Polka Dots And Moonbeams', 'Prove Me Right', 'Just Enough (feat. Charlene Marie)', 'Él No Te Da - Club Mix', 'Oscar Barraza', 'Rent I Pay', \"Now That She's Gone\", '537 C U B A', 'La Californie', 'Raga Deshkar - Khyal In Drut Teental', '36', \"Think Of Me - From 'Phantom Of The Opera'\", 'Astronomy', 'Manners - Extended Mix', 'Para Que Seas Feliz', 'Where You From', 'From This Valley - Acoustic', 'Free - Nikö Blank Remix', 'Move Now', 'Brain Cell', 'Made of Water', \"Don't Dream It's Over\", 'Backfield In Motion', 'Ahh Shit', \"Let Me Down - Don't\", 'Cosas Locas', 'Stuck In London', 'Slow Down Gandhi', 'Killa Cam', 'Back To Life - Remix', 'Back to 94', 'P-Funk (Wants To Get Funked Up)', 'Digno de Adorar', 'Lichter (feat. an Imaginal Space)', 'Bright As Yellow', 'Figure of Speech', 'Vía Láctea', \"Heavy Star Movin' - starRo Remix\", 'Warm Water - Snakehips Remix', 'For Lovers Only - Uncut', 'Never Let Me Down Again - Tsangarides Mix', 'FYM (feat. Mystikal)', 'No Luck', 'The Skeleton In The Closet - Single Version', 'Yacht Ride Dub', 'Witch Encounter', 'Strictly 4 My Jeeps', 'Fantastic Voyage', 'Blaze (Sweet Lies) - Extended Mix', 'Letting Go (Thomas Jack Remix)', 'The Final Battle', 'Cyclic Redundancy', 'Tapping My Computer Keyboard', 'Rack City Bitch', 'Quartet In C Major, K. 465 \"Dissonant\" - Second Movement: Andante Cantabile', 'I like it when you sleep, for you are so beautiful yet so unaware of it', 'My Wena', 'Samurai - BKAYE Remix', \"Can't Get You Back - Original Mix\", \"I'm Still Riding Like That\", 'Ticets For Two', 'Telefone Mudo', 'Sidekick', 'Endless Sleep', 'Open Thou Mine Eyes', 'Tu Príncipe', 'Bingo Bango', 'O Christmas Tree (O Tannenbaum)', 'L Bright', 'De Ti', 'The Abduction', 'Tú Me Quemas - La Banda Performance', 'Hot Sahara', \"Can't Smile Without You\", 'Six Feet in the Ground', '7 Heure Du Mat', 'Close Your Eyes - Radio Edit', 'Two Weeks (Fred Falke Instrumental Mix)', 'Give Them Love', 'Soundtrack 2 My Life', \"It's a Sin - Live at the O2 Arena, London - 21 December 2009\", 'Baja a la Tierra', 'Strength to Dance', 'I.C.Y.M.I.', 'Late Nights in the 15', 'Road Movies II. Meditative', 'Magic Works', 'Serious Frenkie', 'Light Of The World - Feat. Matt Redman', 'Esma', 'Shindig (feat. Colt Ford)', 'שימי לי עוד רום', 'Royal Rumble', 'Go With You', 'Country Road', 'Avarálom - Piano Version', 'You Wish', 'The Streets', 'Bracelet Sounds and Whispers Asmr', 'Christmas With My Girl', 'Industrial Revolution', 'Hora Grande', 'Honey Molasses', 'Chevrotain', 'Buck Rogers', 'All Day Love Affair', 'Way Too Fast', 'Mash Up', 'Last Lap', 'Living For The City - Edit Version', 'Take My Drunk Ass Home - Demo', 'Folk Irish Celtic Dance (For Guitar)', 'AK', 'The Fighter - feat. Ryan Tedder', 'Pt. 2', 'Irie (feat. Wiz Khalifa)', 'Mooncatch', 'Re-Education (Through Labor)', \"Inky's Lament\", 'Quién Te Crees Tú', '[oops]', 'Three Zero Zero', 'Kan Veachshav', 'Devils Haircut', \"C'est la Vie\", 'Last Party - Orchestra Version', 'Don’t Tell Me No', 'Oblivion - Original Mix', 'At Home - Passion Pit Remix', 'The Passing Of The Grey Company', 'La Sombra De Mi Sombrero', 'Dias de Verano', 'Hotline Bling (Piano Arrangement)', 'Santa Barbara Skies', 'Halo On Fire', 'Pili Mau Me ‘oe', 'Man of Constant Sorrow', \"You Turn Me On I'm A Radio\", 'Cry (Just A Little)', 'Mikrokozmosz, Pt. 1', 'Wailing Stone', 'Hagamos travesuras - Radio edit', 'Aqui Esta Tu Caldo', 'Move Your Feet', \"I'll Just Fall\", 'Head Underwater', 'Hurricane - C&M Remix', \"(Somebody) Ease My Troublin' Mind\", 'No More Sad Songs', 'Games People Play (feat. Bud Logan)', 'Welcome Back to You', 'Hey Santa!', 'Cut Me Out', 'Tu Pa Mi', 'Party Animal - Explicit Album Version', 'Knightlife', 'Adsl', 'Household Goods', 'Press Play (Feat. G.NA)', 'Hang Fire - Remastered', 'O.T.F', 'Superstar (Eyes off Me)', 'Faded - Odesza Remix', 'Always forever', 'There Stands The Glass', 'Esta Canción va Dedicada…', 'A Touch of Evil', 'Seacht Suáilcí Na Maighdine Muire', 'Feeding Line', 'Seasons of the Vine Medley - From Pacific Wharf', 'Headed Str8 to Tha Top', 'Spirit of the Sea', \"Like I'm on Fire - Kartell Remix\", 'You Look Like Rain', 'Weight in Gold', 'The Rising', 'Tired of Being', 'Jungle Animals', 'The Click', 'Jenny Says', 'Harmless Piece Of Fun', 'Comeuppance', 'The Sound of Silence - Live on CONAN', 'Lost Boy', 'BYB (Bounce & Break Your Back)', \"It's a Beautiful Day\", 'Too Many Hands', 'She Lovin It', 'Asmr Kikyou InuYasha Ear Cleaning and Healing Role Play', 'I Wonder Why', 'All I Ever Have To Be', 'The Man (Intro)', \"She's Beautiful\", \"Let's Go To Bed\", 'Humble', \"Jango's Escape\", 'The Camel - Live', 'No Panties', 'Airborne', 'In Rama Sonat Gemitus - Live Performance at 2011 Adelaide Fringe, Barr Smith Library Reading Room', 'Melancholia II', 'All I Do', 'New Language', 'Influence', 'Gente De Guzmán', 'Radio Sweetheart - Out-Take', 'Oye Como Va - Bongo Edit', 'What Now My Love - Live at the Honolulu International Center', 'Spaz Out', 'Old Town', 'Hattrick (feat. Yaygo Musalini)', 'Close To Your Heart', 'The West (Part Two)', \"When We're Fire\", 'Las Mismas Costumbres - Norteña Version', 'Running If You Call My Name', 'Pokémon Epic! - Master Red', 'Give Energy', 'Nomad (feat. Luna May)', 'Go to sea no more', 'Dabangg', 'Rosée', 'Boi! (feat. Gucci Mane & Mike Jones) - Remix', 'Awake My Love', \"So F**kin' Romantic\", 'La Gripa', \"You're the Best Thing That Ever Happened to Me - Single Version\", 'Polaris Loves You PokemonGO', 'Did You Feel The Mountains Tremble? - Live', 'Whole Again', 'Windows (feat. East Forest)', 'Paper Crowns', 'Raven Night', 'A Tune For Frankie', 'Cherry Pie', 'Just Like Heaven', 'Las Cosas Que No Pude Responder', \"I Won't Bend\", 'El Elefante', 'Skies', 'Got Me Going Crazy', 'No One Knows How to Love Me Quite Like You Do', 'Piyu Bole (From \"Parineeta\")', 'You To Me Are Everything', 'Jingle Bells - 1996 - Remaster', \"I'll Never Know If I Don't Ask\", 'Domestic Pressures', 'Da Boca Pra Fora', 'Dare You 2 Move - Jack Beats Remix', 'Turn The Night Up', 'Lust for Life', 'I Just Wanna Make Love To You - Live', 'On Time (feat. TuPhace)', 'Reminder - Remix', 'Biological', 'The Chased', '5:15', 'No Church In The Wild', 'Triste Recuerdo', 'As Long As I Have Breath', 'Pompi Pa Atra', 'Play God', 'Peligro', 'Calling All the Monsters', 'Outro', 'Good Enough To Keep', 'One Of Us - Radio Edit', 'El Camaleón', 'On the Up', 'Psycho Lovers', 'Você Faz Falta Aqui - Ao Vivo', 'American Made (feat. CB3)', 'Remember (Na Na Hey Hey)', 'Flash Light Baby', \"I Just Don't Want to Be Lonely\", 'La Rama Del Mezquite', 'Picture Book - Stereo Mix', 'Ruff Times', 'Headphone Actor', 'Anthem For The Underdog', 'Green Mountain Road', 'Starting Again - Dead Audio Remix', 'Xtalk', 'Clocks - The Voice Performance', \"Spinnin'\", 'Q&A - Live (1998 Broadhurst Theatre)', 'Creepers Are Terrible', 'New Ceremony', 'Empujando la Línea', 'Ghosts & Zombies', 'Theme From Candyman', '★ Semi-inaudible whispering and trigger words ★ ASMR', 'The Secret', 'Unsure', 'Highway', 'Once Upon A Dream - From King Arthur Carrousel', 'Revolution (feat. Faustix & Imanos and Kai) - RUN DMT Remix', 'Impossible Year', 'jealous', \"Nature's Prayer\", 'Never Too Far', 'Do Ya Dance (feat. IAMSU!)', 'מתנות קטנות', 'Battle', 'Daylight Robbery', 'Windows Are Rolled Down', 'Love Me (feat. Bruno)', 'Unhallowed Ground', 'Nunca paran', 'Ringo - Original', 'Воспоминания о будущем', 'La loi du marché', 'Sugar Doosie', 'Nothing Stopping Me (feat. Kat Nestel)', 'The Night Out - TheFatRat Remix', 'The Bonny Swans', 'Big Boss Man', 'Summer Crush', 'Eterna', 'How Great Thou Art - Live at Midsouth Coliseum', 'I Will Always Love You - Live from The Concert for a New South Africa', 'Never Too Far Gone - Isaiah Tejada Remix', \"Let's Take a Rocketship to Space\", '2rak005', 'Una Noche Mas', 'Just Like Christmas', 'Bailar', 'Für immer - Doro Cover Song', 'Top Chef', \"I Won't Take Less Than Your Love\", 'More Than You Know - Acoustic', 'My Satisfaction (What About?)', 'Note To Self', 'Stay (Faraway, So Close!)', 'Nights Over Egypt', 'All the Poor and Powerless', 'Children Who Start Fires', 'PILLOWTALK - the living room session', 'Feels Like Home - Radio Edit', 'Converting...', 'We Walk On Water', 'Te Amo Tanto Tanto', 'Slow Hands - Acoustic', 'Running to You - Live', 'Ever Ever After - From \"Enchanted\" / Soundtrack Version', 'Que Sera, Sera (Whatever Will Be, Will Be)', 'Kind Of Love', 'Somewhere Over The Rainbow - The Voice Performance', 'Shake It Out - The Weeknd Remix', 'As Long As You Tell Him - Single Version', 'Cruisin\\' for a Bruisin\\' - From \"Teen Beach Movie\"', 'In My Name', 'Never Mind - Liquid Stranger Remix', 'Yippy Ky Yay', 'It Gets Better', 'Love Done Gone', 'Flu (feat. Koly P & Kodak Black)', 'Wow', 'The Cross', 'One of Us - Dennis Ferrer Remix', 'Parisian Summer', 'ILYSM', 'Army of Kings', 'Jenny from the Block (Bronx Remix) [Edit]', 'X-MEN Cartoon Theme for Orchestra', 'T.O (feat. Tiger JK, Bizzy, MRSHLL)', 'Falling (Whethan Redo)', 'Lazy Projector', 'Cántame - Vuelve en Primera Fila - Live Version', 'Shimmer - Single Version', \"Don't Ask My Neighbors\", 'A Heartbreak', 'The Light in Your Eyes', 'Intro, Outro', 'Angels Fall Sometimes', 'ReLacs (feat. Sarah Ross)', \"Don't You Forget About Me\", 'Wear Em Out', 'Omgyjya-Switch7', 'Cuando Anduve Como Perro', 'We Are the Moms', 'I Get Lost in You in the Summertime', 'Ghetto Dreams - feat. Nas', 'Shadows Will Reign - Original Mix', 'Fig in Leather', 'Kiss The Bride', 'Mangina', 'Keep On feat. Green Velvet', 'She Wants', 'Fingers Crossed', 'I Knew You That Way', 'Te Siento', 'Bada Boom', 'Hawaii Five O', 'Mr. Know It All', 'A Los Cuatro Vientos', 'I Wanna Kill', 'Hypocritical Kiss', 'No Witnesses', 'Si Ella Quisiera - Remix', 'Frappé - 2/4', 'Yalnız Kullar', 'Welcome To The Occupation', 'Just A Closer Walk With Thee', 'Cumbia Campanera', '30 & Up, 1986', 'Love You Better', 'Lack of a Better Name', 'Petals on The Wind (Remake Version)', 'Organization & Classification', 'Nobody Ugly', 'Black Widow', 'Freckled Girl', 'Remember Who I Was', 'Rock & Roll - Live', 'Where The Lines Overlap', \"Heart's Content\", 'Do You Really', 'Around', 'Meanings Lost', 'Polyester', \"Do They Know It's Christmas? - 1984 Version\", 'En septiembre fuiste mia', 'Father Stretch My Hands Pt. 1', 'Heartbeats - Live', 'Piano Trio No. 39: Piano Trio No. 39: I. Andante', 'Purpose', 'Renegades', 'King of the World', \"It's Not Just Me\", 'Sing Along Forever', 'Hallelujah Money (feat. Benjamin Clementine)', 'God Only Knows - Mono', 'New America', 'Arise', 'Luna (feat Waynes)', 'Faneto', 'The Writhing South', 'Vivir Mi Vida', 'Christmas Card From a Hooker in Minneapolis', \"The Cat's Meow (Aliyah)\", \"If You're Not The One\", 'Under Water', 'Her Black Wings', 'Turbo Diesel (Radio)', 'Lover, Lover', 'Oh My My', 'Crime Scene', 'Trompeta - Radio Edit', 'Long Time Woman', 'Pre', 'Enamorado De Ti', 'Solo Te Amo', 'WILD', 'The Unlearning', 'Polygraph, Right Now!', 'Aldito el Gusanito', 'Blue Cheese', 'Virus', 'New Problems', 'Plus - Original Mix', 'Requiem In D Minor, K.626: 2. Kyrie - Live From Dom, Salzburg / 1999', 'Made of Dreams', \"I'm Into You\", 'King Of The South', \"Perkys Callin'\", 'Face The Sun', 'Into The Sunshine', 'A Different World (feat. Corey Taylor)', \"I Couldn't Wait to Leave 6 Months Ago\", 'Potential Wife', 'We Move Easy', 'Witchy Woman', 'Blessed Assurance (My King Is Coming)', 'Rebels (feat. Audio Bullys)', 'Third Rate Romance - Remastered', 'Private Beach Party', 'Just Before Shock', \"I Will Rise Up / Ain't No More Cane\", 'Bruk Out', 'Woman In Chains', 'Dragonfly Keeper', 'How Do I Live', 'Down to the River to Pray - Feat. Sonya Isaacs', \"State I'm In - ARROW Remix\", \"Winter's Chill\", 'More than Friends (feat. Daddy Yankee)', 'It Rapes All in Its Path', 'Learnalilgivinanlovin', 'Just Another Fool', 'Roads', 'Reconstruct (feat. Seafloor)', 'Big Catzz', 'Booty Bounce', 'A Little Bit Like Magic', 'Ten', 'Help Me Out', '#Haters - Radio Version', 'Gentle on My Mind', 'Dhak Dhuk', 'The Left Hand and the Right Hand', 'Bediuk Kmo Hayareach', 'Love Sick - Live', 'Battle Hymn Of The Republic', 'Out On The Town - Bonus Track', 'Norwegian Wood (This Bird Has Flown) - Remastered', 'I Love Rock N Roll - Full Version', 'Next In Line', 'Carolina in the Pines', \"You're A Soldier Now\", 'Rebellious Love', 'Pour Maman', 'Every Which Way but Loose - 2009 Remastered Version', 'Tiger By My Side', \"Ain't Nobody's Business\", \"Failure's Not Flattering\", 'Drowning - Lido Remix', 'Fuego Cruzado', 'Anda Enredado (En Vivo)', 'West Coast Fool', 'All Of You All Over Me', 'Amor Eterno', 'Anthem of the Unwanted', 'No Chill (feat. K.a.a.N)', 'Flygplatsen', 'Wi Nuh Like', 'El Jala Jala', 'KKK Hiway', '기억하나요 (Original ver.)', 'The Beat Goes On - Live', 'Hear Us From Heaven', 'I Want To Break Free - Single Remix', 'Victory 2004 (feat. Notorious B.I.G., Busta Rhymes, 50 Cent & Lloyd Banks)', \"Gone Fishin'\", 'Zikre Tu Chee Shireen Ast (Your Prayer Is So Sweet!) (Bonus Track)', 'Strong As an Oak', 'Desert Song', 'Talk to Me - Moombahton Mix', 'Switch - Main R&B Remix', 'LA Nights', 'Phase', 'Unpretty - Radio Version', \"I Don't Remember Loving You\", 'Roundabouts', 'My Life Is A Party - Radio Edit', 'HEIR I', \"Bandish 'Rag Sang Ragini\", 'Mi Último Deseo', 'Sleep Waves Bedtime', 'Cali Sav (Remix)', \"It's Your Wedding Day\", 'White Keys', 'Bhand Jameeai - Recitation', 'Y Tu No Estas', 'Más Macarena', 'When Summer Comes', 'The Longest Day', \"Please Don't Let Me Love You - Single Version\", 'Friends In The Dark (feat. Otis Parker)', 'DontGetIt', \"Here's That Rainy Day\", 'Let the Music Play (feat. Michelle Visage)', 'Going Down To The River / I Will Enjoy You [LIVE]', 'Soul Surfing', 'Daily Living', 'It’s A Memory - Amtrac Remix', 'Mukhada', 'Slow moment', 'Written in the Stars (feat. Eric Turner)', 'Crawling Back To You', 'Amor Ajeno', 'I’ll Make It Up To You', 'Our Last Days', 'The Greatest Man I Never Knew', 'Baby - feat. Randy', 'Learn to Live (North)', 'She Was The One', 'Cross The Bridge', 'Same Drugs', 'Petco', 'In My Head (feat. Georgia Ku) - Landis Remix', 'Letter to Dad', 'Me Cuesta Tanto Olvidarte', \"The Way You're Lovin' Me Now\", 'Kalavela - Original Mix', 'Camouflage - 2008 Version', \"Sinkin' In\", 'The Next Step II', 'Holding On - Edit', 'キセキラッシュ', 'Hey There Delilah', 'Dropkick Me, Jesus', 'La Fuga del Chapo', 'Broken Face', 'Someone - Radio Edit', 'So Glad To See You', 'Welcome To My City', 'Black And White', 'No One Is To Blame', 'Acabame De Matar', 'Windshield', 'Bonita Finca de Adobe', \"I Wouldn't Be A Man\", 'Rebel Road', 'The Difference Between Us', 'Safe Time', 'Hard Knock Life (Ghetto Anthem) - Remix / Radio Edit', 'Drowsy', 'Keep Me Near', 'Apex', 'Somos Tal Para Cual', 'Coast', 'One Last Time - La Banda Performance', 'La Vida Es Así', 'Less Than An Hour (Theme From Rush Hour 3)', 'Everything Right Is Wrong Again', \"Slim's Night Out\", \"U Can't Touch This\", 'คนไม่จำเป็น', 'Start At The Beginning', 'El Mentiroso', 'Berlin (She Wit It)', 'Do What You Wanna Do - MYNC Radio Edit', 'Teri Toor (The Refix)', 'Oh To Be Loved', 'Se te va a Antojar un Beso', 'Lullaby for Deep Meditation', \"Body in the Trunk (feat. Thi'sl)\", 'One More Night', 'Cafe Del Mar - Lounge Remake', 'El Rey Azul - En Vivo Los Estudios Churubusco México DF/2011', 'Someday[Kbs Drama Dream High]', 'The Greenhouse', 'Just Exist', 'Saint Pablo', 'Heading Home - Love Thy Brother Remix', 'Dejate Llevar - Remix', 'Give Into', 'Raw Charles', 'Nowhere - Mango Remix', 'Our Father', 'At Night - Umami Mix', 'Sofía - Boogaloo Version', 'Pirate Bay - Original Mix', \"Int'l Players Anthem\", 'Let Me See It', 'Save It For A Rainy Day', 'Old Molly Hare', 'Tremble', 'Love Connection - Radio Version', 'Cause Ah Riot', 'Exhale: Chakra Balance for Body, Mind and Soul', 'Genuine Dub', 'Fa La La', 'La Voz', 'Aaj Mood Hai Ishqaiyaan (From \"Maan Gaye Mughall-e-Azam\")', 'Tennessee Flat-Top Box - Mono Version', 'Cheri Cheri Lady', 'Seven Rings', 'Favorite', \"Plus rien ne m'étonne\", 'The Woodpile', 'How High the Moon', 'Blue Skies - Ray Mang Remix', 'Safe With Me', 'Stupid Kid', 'Love of God', 'Il Barbiere di Siviglia (1996 Digital Remaster): Overture (Overture)', 'Call Ya Bluff', 'Middle of a Memory', 'The One That Got Away', 'Late At Night (feat. MNEK)', 'Are You Home', 'Blud', 'Something Beautiful', 'Fireworks - From \"The Little Mermaid\"/Score', 'Mia', 'XXPEN$IVE', 'Orange Sky', 'Choices', 'Y Nos Dieron las Diez', 'Lonesome Soul', 'Shake That (Remix)', 'The Emotion', 'iKalimba', 'People Are Strange', 'La Reina Es El Rey', 'Nichts als Asche', \"I Guess He'd Rather Be in Colorado - Remastered\", 'I Done Seen', 'Blank Page', \"It's Gonna Be A Good Day\", 'The Knock', 'Sweat (Snoop Dogg vs. David Guetta) [Remix]', 'Rien', 'Heto', 'Living In The Moment', 'Play It On My Radio', 'Something to Believe In - 2003 - Remaster', 'Mitoch Haastara', 'When We First Met', \"I'm in Love With You\", 'I Know You Rider', 'Con la Gente Que Me Gusta', \"She's so Georgia\", \"Can't Do Without Me\", 'The Dark End', 'Raindrops - Prince Fox Remix', \"I'm Getting Ready\", 'Can You Feel', 'Me Vas A Extranar', 'Empty Beer Cans', 'ROADS UNTRAVELED', 'La Guarapachanga', 'Ti Kano Moni Mou', 'For It', 'Devuelveme a mi chica', 'Back to Before', 'Gucci Coochie', 'Me Gusta Tener De A Dos', 'Coming Or Going', 'Resta La Musica', 'Roots Bloody Roots', 'Dry', 'Drink Away the Pain (Situations)', 'Oom Ouaaf Wenta Betkallemni (قوم أوقف ونتا بتكلمني)', 'First Fuck', \"I'm Not Crazy (feat. Swiz Zz & Cryptic Wisdom)\", 'One Pure And Holy Passion - One Day Live Album Version', 'Heart Attack - Belanger Remix', 'No Mind', 'Only Sixteen', 'Over My Head (Better Off Dead)', 'The Changing Lights', 'Canoa', 'Mood Indigo', 'Si la Vieran Bailar - Remix', 'Coco Baby', 'Banging the Neighborhood', 'How Never - Zoo Brazil Remix', 'The Burning Red', 'The Christmas Song (Merry Christmas To You)', 'Rye Whiskey', 'Baby Drugs', 'Straight From The Heart', 'The Interstellar Medium', 'Goodbye Says It All', '¿como Te Lo Puedo Decir? (feat. Ray Alonso)', 'We Must Go On', '2', 'DECORATOR', 'Pass The Pain', 'You Can Always Come Home', 'Ghost Of A Rose - New Version', 'Supaman High', 'Twelve Gauge', 'Le dernier des cosmonautes', 'Shabba REMIX', 'Make My Body Move - Radio Edit', 'Orange - Original Mix', 'Party Boots', 'When the Lights Go Out', 'Im Shipping Out Boston / The Rights of Man', 'Huelepega', 'Finish Strong (Strong Finish)', 'The Nutcracker, Op.71, TH.14 / Act 1: No. 7 The Nutcracker Battles The Army Of The Mouse King - He Wins And Is Transformed Into Prince Charming', 'Back To Life - Radio Edit', 'Strange Denial', 'Extinction Burst', 'Love Shine', 'Roots Reggae Music - Live', 'Ballade At Thirty-Five', 'Longevity', 'Greatness', 'Long Way Down (feat. Danny Pratt)', 'Fake Magic - Gigamesh Remix', 'Against The Wind', 'Biblical Songs, On text by Bible of Kralice, Op. 99: VII. By the shore of the river Babylon, Andante', 'Speak Your Mind', 'Spur (Clark Remix)', 'Muddy Blunts', 'Time To Glide', 'Chopin Nocturne for Deep Sleep', 'Dagar utan dig', 'Pull My Heart Away', 'Elk River', 'Me Has Echado Al Olvido', 'Corazón Mágico', 'Falling By The Wayside', 'Do You Want to Build a Snowman? - From \"Frozen\"', 'Millimeter', 'Lovers Like You', 'Whoa Oh! (Me vs Everyone)', 'Too Much Fun', 'Ba Do Bleep', 'Kisetsu no Ashioto (Footsteps Of The Seasons)', 'Desdicha', 'From the Beginning (Short Version)', 'I Feel Love', 'Meg White', 'Whole World Is Watching', 'Ithaca is Gorgeous', 'Safety (feat. Stephen Christian)', 'Soy un Problema (Remix)', '8 Days of Christmas - Live', 'Millionaire - JayKode Remix', 'Fanshawe', 'The Texas Aggie War Hymn', 'Lo Nafsik Et Hasimcha', 'Which Bridge To Cross (Which Bridge To Burn)', \"Porgy and Bess / Act 3: Clara, Clara, don't you be downhearted\", 'Talk', 'Hoy Que No Estás (feat. Noel Schajrís)', 'Saint Joan', 'Hands To Heaven', 'Apply', 'Ra - David August Remix', 'Unpack Your Heart', 'Brindo Por Ti', 'Strange Walking Man - 1998 Remastered Version', 'Candy Everybody Wants', \"Whats Happenin'\", 'Longshot', 'Veneno en la piel', 'Tony Story (feat. Meek Mill)', \"Don't Drink The Water/This Land Is Your Land - Live At Radio City\", 'Excuse Me', \"Rock'n Me\", 'Necessary', 'Nightlight', 'Ungirthed', 'Shiverman (Live)', 'Chalk Outline', 'Here Comes the Lightning', 'Love Gun - Radio Edit', 'Dirty Blonde', 'Punk Rock And Roll', \"Let's Get It\", 'Screwed Up Tape', 'Corners Of The Earth (feat. RY X)', 'Cecile', 'What Have You Done For Me Lately - Album Edit', 'IZ-US', 'My Life (feat. Ceekay Jones)', 'For', \"When 'You're' Around\", 'Animal Kingdom', 'Groovejet - Original Mix', 'endurance', 'En Totalidad a Ti', 'Let Your Tears Fall', \"If You Don't (feat. Cumulus)\", 'Olvidado - En Directo', 'Hope for rebirth', 'The Everclear Song', 'Pertho', 'The Thing About Love', 'Summer Sixteen', 'Colors - 2014 Remastered Version', 'Daffodils of Paris', 'Virgencita (Happy Colors Remix)', 'u', 'Oxin2lin - Valance Drakes Remix', 'Drunk On A Plane', 'Be There Soon', 'Forever Bound', 'The Dives (Lazarus in Ashes)', \"Ain't No Grave Gonna Hold My Body Down\", 'Hell to Pay', 'Oh Light (feat. Gungor & All Sons and Daughters)', 'K.I.n.G. (feat. Bishop Nehru)', 'New Moon', 'Sick & Beautiful', 'Bout My Money', 'Liberian Girl - 2012 Remaster', 'Como el Primer Beso', 'Poverty', '皮影戲', 'None of Us - Original Mix', 'Fear Like You', 'Piano Concerto No.2 in F, Op.102: 3. Allegro', 'Revenge of the Wankers', 'Pata Chalgea', 'Calm Flow', \"I'll Do Your Will\", 'Mientes', 'Love Without Fear', \"Dreamers' Shelter\", 'Save Your Day', '400 Lux', 'Maserati', 'Danse - Drauf & Dran Remix', 'Shuddha Sarang Song: Govinda Damodara', 'Troll', 'Quiet LOUD (Dubstep Mix)', 'Let Me Go - Acoustic Version', \"It Don't Matter To Me\", 'Just In Case - Acoustic', \"Can't Sleep Love\", 'Asmr Soft Scratching and Scraping', \"When They're Gone (Lyle County)\", 'Gatekeeper', \"Things Ain't Working Out Down At The Farm\", 'Tired', 'Curbstomp', 'Harrowdown Hill', 'Fiesta Tropical', 'Foreign', 'Hanuman Jump', 'Swing Low Sweet Chariot / Swing Down Chariot (Medley)', 'Everybody Stand Up - Radio Edit', 'Moments - Radio Edit', 'Holdin On To Black Metal', 'Moving on', 'Pretty Low', 'Me Ama Me Odia', 'U And Dat (feat. T. Pain & Kandi Girl)', 'That Was A Crazy Game of Poker (Acoustic)', 'Beep Box', 'Ooo Eee', 'Eat Sleep Love You Repeat', 'The North Mountain', 'Paper Chains', 'Ni Virgen Ni Santa (feat. Shadow Blow)', 'Pua o ka Hēʻī', 'Ah Ting', '第一次', 'Deezy Daisy - Oliver Nelson Remix', 'Rainy Day Mushroom Pillow', 'Streets Love Me (feat. Juicy J)', 'The Way I Do', 'Rock $Tar', 'Ruin', 'Head On (Hold On To Your Heart)', 'בלבלה', 'Home for Christmas', \"Suite d'Arrée: Bennilis - Nestaval - Trédudon + Trévezel - Arrée\", 'Savior Like a Shepherd Lead Us', 'What a Girl Is', 'Mayores', 'Silver Tongue Show', 'Hoohah', 'Aap Yahan Aaye Kisliye', 'You Are Mine (feat. Holley Maher)', 'Amor Secreto', 'We Glorify Your Name - feat. Chris Tomlin', 'Near Wild Heaven', 'Drop In the Ocean', 'Opus One', '紅塵客棧', 'World War III', 'Crucify Me (feat. Lights)', 'I Don\\'t Know If It\\'s Right - 12\" Mix', 'Thrush', 'De Hoy Hasta Siempre', 'Thunderstruck/Angus Thing', '扯', 'Dangerously In Love', 'Highly Possible (feat. Waka Flocka Flame)', 'Autologic - Demo', 'Just Wanna Praise You', 'Black Soap', 'Cup Fulla Beetlejuice', 'She Burns', \"Mi She'ma'amin\", 'Hickory Dichotomy', 'Suffragette City - 2012 Remastered Version', 'Bread Upon The Water', 'Message from Home', 'Broken Horse', 'Rougher Kids', 'Cosmic Rays', 'More Bounce (feat. Young Drummer Boy & 2-Tone)', 'All 4 Love', 'A Different Way (with Lauv)', 'Put A Praise On It - Live', 'Black or White', 'Malvada', 'All I Do Is Dream of You', 'Play That Sax', 'Come and See Me', 'Terry Jesse and Ernest Joint', 'Frontier', 'Over It - Ikonika Remix', 'Golden Dawn', 'Melbournia - Will Sparks Edit', 'Joy Unspeakable', 'Fallen Angel', 'Wrapped Up In Books', 'The Facts', 'Anywhere (feat. A Rose Jackson, Henry Strange) - Serenity Remix', \"We Weren't Born To Follow\", 'Pancho and Lefty', 'The Eraser', 'Luz De Dia', 'AVA', 'Head Bussa', \"Diamonds Are A Girl's Best Friend (Gold Digger Mix)\", 'Praise You In This Storm - acoustic', 'gun-shy', 'Fool', 'Slow Mo - Felix Palmqvist Remix', 'Change Is Hard', 'Carmina Burana / 3. Cour d\\'amours: \"Dies, nox et omnia\"', 'Se Quiere, Se Mata', 'Gun Shot', 'Sheila Put The Knife Down', \"Clear Eyes, Full Heart, Can't Lose\", 'When They Come', 'Night at Lake Unknown', 'Mojada', \"I Don't No About Chu\", 'El Duraznero', 'Let Me Get You Through the Night', 'María Elena', 'One Last Night On Earth - Young Bombs Remix', 'R.O.D.', 'Jesus Is Just Alright - Remastered 2013', 'Vocelot', \"Ain't Talkin' 'Bout Love\", 'Thuggish Ruggish Bone', 'Afise Me Mono', 'Black Hills', 'The Naked Mole Rap - From \"Kim Possible\"', 'Been You', 'Salem (Burn the Witch)', \"Takin' Care Of Business\", 'The Old Chair', 'If I ever feel better', 'People Like Me with Matthew West', 'The Forecast', 'Oceans (Instrumental)', 'Agape', 'Purple Heather', 'Make It Do', 'Orgullo', 'Another Round (feat. Chris Brown)', 'Into You [Main Mix feat. Tamia]', '♥', 'ใครสักคน (เพลงประกอบละคร พราว)', 'Queen Of The City', \"She's About A Mover\", 'Standing In The Way of The Light', 'Perpetuum Mobile Opus 257', 'Fishes', 'The Throw', 'Where You Came From', '(I Left My Heart) In San Francisco - 2007 Remastered Version', 'Self Centered Blues', 'Kid Gloves', 'Perfume do Invisível', 'En Su Trono', 'Angel of Air / Angel of Water', 'Light of Love', 'The Waves - Live from Spotify London', 'Custard Pie', 'Summer In The City', 'Happy Hour Hero', 'Moño Negro', 'Mi soledad y yo', 'Once in a Million Years', 'The Permanent Rain', 'Shawty Wassup', 'Muizenberg', 'Coming In From The Cold - 1984 12\" Single', 'Welcome to Dodge City', 'Gingerbread Man', 'Kaim Rahe Sardari', 'Love Field', 'Neverm!nd', 'American Boys', 'Play Nice', \"Where Am I to Go, M'Johnnies\", 'Playa Cardz Right', 'Cardova', \"Remember Why (It's Christmas)\", 'Menu', 'A Residual Haunting', \"I Was Country When Country Wasn't Cool\", 'Entregate', 'Blister In The Sun', 'Songs to Sing Along to', 'Siberian Girls', 'Drowning Shadows', 'You Owe Me', 'Save Me - Acoustic', 'Blue Christmas', 'Augusta 90b', 'Anymore', 'Guns For Show, Knives For A Pro', 'Andy Warhol - 2015 Remastered Version', 'Withered And Died', 'The Lost Child', 'Black Hole Sun - Live At Mercer Arena, Seattle/1996', 'La Ley Del Guaguancó', 'Too Bad', 'Muita Estrela, Pouca Constelação', 'Selekta - ETC!ETC! & Le Doom Remix', 'Sweat Doin It Refix', 'Doble Fondo', 'Letter To Mother', 'Hollywood Hollows', 'Lithium', 'Que Beleza', 'Guaranteed Struggle', 'The Glow Of Love', 'Poor Unfortunate Souls - From \"The Little Mermaid\" / Soundtrack Version', 'Tagroba Wa Addet', 'Beatbox - Big Mack Extended Edit', 'Когда ты рядом со мной', 'Morimos por Dentro', 'Puede Ser', 'Space Between - Live from The Village', \"Don't Lose My Number - 2016 Remastered\", 'Girls And Boys', 'Te Llamo Cristo', 'Cigarette Daydreams - Live From Guitar Center', 'Main Title - Score', 'Monday Morning', 'Any Last Words?', 'Rock In A Heart Space', 'Clean White Noise', 'When Can We', 'Ganapati Om', 'Long Walk Home (feat. Jayme Pearl)', 'Samrath Guru', 'Come Thou Fount of Every Blessing / Lead Kindly Light / I Need Thee Every Hour', 'I’Ll Be Fine', 'Dial My Heart', \"Liebesleid (Love's Sorrow)\", 'Wabby Legs', 'Pursuit - Live', 'East Of The Sun', 'Wintermoon', 'Courtesy', 'Forget The Flowers', \"These Things I've Done\", 'Jah War - Loefah Remix', 'Suicide social', 'Hats Off', 'This Is Our Time', 'Migrate', 'monster gambling in tokyo', 'Red Step', 'Ya No Lo Vamos a Hacer', 'No Me Quiten Mi Música', 'Line Of Sight (feat. WYNNE & Mansionair)', '모닝콜', 'Despedida De Soltero', \"If You Ain't Here To Party\", 'Waste the Alphabet', 'Place de la République - Live', 'Bound', 'Long Black Road', 'Girl I Want 2 Eat U', 'Amor Covarde', 'Life Chronicles', 'Wonder - Live', 'Do It for Something', 'Back To The Future', 'El Corrido del Chapo', 'Happy To Keep His Dinner Warm (Reprise)', 'Caminho II', 'Flowers', \"We're Looking For A Lot Of Love\", 'Dope on a Rope', 'Saber-Tooth & Bone', 'Law Faker', 'Voy a La Disco', 'Shenandoah (for Johnny Smith)', 'Kind', 'I Will Bless The Lord', 'Then I Kissed Her', 'Hasraten Hai Bahut Magar', 'lonely again', \"It's the Most Wonderful Time of the Year\", 'Burden Down', 'Blackwater (Full Strings Vocal Mix) [feat. Ann Saunderson & Urban Soul Orchestra]', \"Rovin' Gambler\", 'Hands Official (feat. Kevin Gates)', 'Neeti Mullai (Bit Song) - From \"Varsham\"', 'Battements Fondus 3/4', 'Have a Little More', \"Dean's Dirty Organ (Brother's Gtr Theme)\", 'All Gone', 'Oaxaca', 'Some Kind of Nature (feat. Lou Reed)', 'Love You Girl', \"Water Whippin'\", 'World, Hold On (Children of the Sky)', 'Little Angels', 'The Truth Is... [I Lied About Everything]', 'Amici mai', 'If You Wanted Me', 'Legalize Suicide', 'In Ya Hood Cypha Remix', 'Now That I Have You', 'The Ends of the Earth', \"Sundaze / Devin's Song\", 'Come Go with Me', 'Daydream Believer', 'Mad World - Live at Glam Nation', 'Take Out the Gunman', 'Nothing Was Different', 'Band of Gold', 'At The Cross - Live', 'Decisions - Jetique Remix', 'Contigo O Sin Ti', 'Calaveras y Diablitos', 'I Can Feel a Hot One', 'Rise up', 'Main Title Terminator 2 Theme - Remastered 2017', 'Then I Did', 'Consuming Fire', 'Can You Discover?', 'Faith - Remastered', 'Mala Hierba', 'The Stereotypes Song', 'Flip and Rewind', 'El Carro Blanco', 'Una Noche Me Embriague', '#41 - Live At Radio City', 'Humanity', 'Legends (feat. Kalibwoy) - Original Mix', 'Hollywood Freaks', '30/30-150', 'Невеста', 'Territory', \"La valse d'Amélie - Version piano\", 'The Star Carol', 'Holla at the DJ', 'Where the Money', 'Afghanistan', 'Divinity - ODESZA Remix', \"Where's My Angel\", 'Garde La Joie', 'Oh My Goodness', 'Sweetest Goodbye', 'Damn Sure', 'Skiptracing', 'Oskar’s Monologue', 'Barbarism Begins At Home - 2011 Remastered Version', 'Feeling Good - Bassnectar Remix', 'Hey Hey - Remix', 'Go, Tell It On The Mountain - Live', 'How Many Times?', 'None A Dem', 'Eu Sei de Cor - Ao Vivo', 'Cut To The Feeling', 'Ki Chilatzto', 'Into The Sunset', 'Downtown Battle', 'Chabad Nigun', 'What The World Needs Now', 'Discotraxx', 'Living', 'Irresistible Igor', 'Bout It, Bout It', 'On Me (feat. Trey Schafer & T-Rap)', 'Violent Proclivity', 'Rusty Cage - Studio Outtake', 'Cannibal Queen', 'Little Lady Blues', 'Across the Universe (Remix to Cj Catalizer)', 'Got Love', 'Amor Confuso - NOKIA Theatre LA Live Version', 'River Boat', 'We Go', 'Amorphous Form', 'Working Class Hero - 2010 - Remaster', 'Vietnow', 'Everlasting Love - Louie Vega Dance Ritual Mix', 'PDA', 'Smuggled', 'Over Under Sideways Down - The Mono Album', 'Tu vas rire', 'さよならダイアリー', 'Te Regalo', 'Giant Peach', 'Southern Point', 'Barricade (Matter of Fact)', 'My City Of Ruins (Benefiting Artists For Peace And Justice Haiti Relief) [Live From The Kennedy Center Honors]', 'Party Like A Rock Star', 'Shopping Spree', 'Trip Switch', '~', 'God Almighty', \"I'm Gettin' Stoned\", 'Yeah, I Said It', 'Take These Words', 'Adorarte', 'Keep The Conversation - Feat. Boaz', 'Up In the Club', 'Just When I Needed You Most', 'The Lover', '愛の翼-Eternal Song-', \"I'm Not Ashamed\", 'Ashiko Rhythm', 'Roll Up (feat. Marko Penn)', 'Love Natural - Scullious Remix', 'Kaldet', 'Freefall (feat. Julie Hardy) - High Maintenance Remix', 'Anywhere - Acoustic', 'Same Old Lang Syne - Live', 'Let Our Faith Be Not Alone', 'My Apologies', 'Itsumo Nandodemo (Spirited Away)', 'Way Too Long (feat. April Nhem)', 'Speechless - Original Mix', 'Sat Siri Siri Akal', \"Somos Novios (It's Impossible)\", 'Por Isso Corro Demais', 'K.U.S.H.', 'Light of Dawn', 'Prayer in C - Robin Schulz Radio Edit', 'Listen', 'Opus 44', 'Cascanueces suite, Op. 71a: No. 4, Danza rusa (Trepak)', \"I Don't Rate Your Man\", 'Hero to Myself', \"Round Whippin'\", \"My Fair Lady: I'm an Ordinary Man\", 'My Favorite Tingz', 'Great I Am', 'The Ballad Of Curtis Loew', 'Zoom - Remasterizado 2007', 'Busted Heart (Hold On To Me)', \"The Mummer's Dance - Live At The Alhambra Palace, Granada, Spain/2006\", \"Don't Stop Me Now - Remastered\", 'My Isle Of Golden Dreams', 'Leap Of Faith', 'A Different You (feat. Jessica Hart) [Original mix]', 'Ko Siro Hamar', 'At the Cross (Love Ran Red)', 'Rambo Kanambo', 'Heaven Calls My Name', 'Spin - Russ Chimes Big House Remix', 'My Pet Snakes', 'Campfire Cologne', \"I'd Rather Die Than Be Famous\", 'Island Ave', 'I’m Me', 'Never Have to Be Alone', 'First Flight Home (Cover)', 'I Could Be the One (To Set You Free Mix)', 'Down Is the New Up', 'Let It Enfold You', 'Spirit Breaker', 'You Hold It All - Live', \"Kane'ohe\", 'New Illuminati', 'Bangers, Beans and Mash', 'La Teza`al Ya Ghalee', 'Bloom (Objekt RMX)', 'Pani Da Rang (Male)', 'The Beautiful American - 1990 Remastered Version', 'Blessed Be Your Name - Acoustic', 'Montage, Part 2: Nothing', 'Sergio el Bailador', 'Something About the Name Jesus', 'What You Want (feat. Total)', \"I'll Have To Say I Love You In A Song\", 'Recollection', \"Jinsei No Merry Goround (Howl's Moving Castle)\", 'I’ve Been Waiting For Her', 'Liberdade Pra Dentro da Cabeça - Ao Vivo', 'No Stars', 'No Voy a Llorar', 'Joan Of Arc (Maid Of Orleans) - 2003 Digital Remaster', '說好的幸福呢', 'Song For You - Digitally Remastered, 1996', 'Jack and Diane', 'Matenme Porque Me Muero', 'Kicked in the Teeth', 'Anthem - 2000 Remastered Version', 'Skyrim Meets Metal', 'No Story Time', \"You Can Have Watergate Just Gimme Some Bucks And l'll Be Straight\", 'Forever in the Friendzone', 'Big City Hillbilly', 'Fast & Slow', 'Step One Two', 'Pinch Me', 'Make Room', 'The Mass', '#5', 'A Troll-Hoard', 'Broke Window', 'Eleu Mikimiki', \"Baby I'm for Real\", 'Some Things Burn', 'Featherweight', 'Human Nature', 'Asmr Inner Temple Whisper', 'Horn', 'Sa Iyo', 'Jan Jan - Live', 'Imperia', 'The Good, The Bad And The Ugly - (from the film \"The Good, The Bad And The Ugly\" released through United Artists)', 'Broken Bones - Bonus Track', 'Until We Get There', 'Trust and Obey', 'This Is Gospel', 'Martini Time', 'I Surrender All (Live) - with special guest Coalo Zamorano', 'Better Off Without You', 'Higher Love - PANG! Remix', 'Choppo vs. Felix Brothers', 'El Jonrón', '7 Min Freestyle', 'Hatzi Meshuga', 'Ignition (Remix)', 'Out of Touch', 'Still Believe - Live', 'Me Emocionas (Banda Version)', 'Born In The Echoes', 'Heavy Rains with Thunder and Lightning - Natural Sounds of Nature', 'Tic Tac Toe', 'Come, Bring Your Burdens to God (Woza Nomthwalo Wakho) (South Africa)', 'Violin Concerto: II. -', 'El Ano Viejo', 'Give It To Me Baby', 'Running To You', 'Not Like the Others', 'All Right', 'Dites-moi ma mère', 'Understand Why', 'Shahana', 'Timeless - Tchami Remix', \"I'm Tryin'\", 'La Estructura', 'Por Qué Sigues Con Él - Remix', \"What's Goin On\", 'Breathing Failure', 'VIII (feat. Alexa Harley) - JM∆C Remix', 'Only for the Weak', '流星雨', 'Hey Joe', 'I Hate Everything About You - Live Acoustic - Rolling Stone Original (EP)', \"Sooni (I'm your fanatic girl)\", \"You ain't really down - Jazzanova's hey baby remix\", 'Butterfly Fly Away', 'I Never Woke Up In Handcuffs Before', 'All Things Go - Original Mix', 'Mi Libertad', 'No Eres Tu Soy Yo', 'Mantra - Axwell Cut', 'Work In Progress (Intro)', 'I Miss Your Cat', 'Get Low - W&W Remix', 'Peach Pit', 'Wolf Scent', 'Howling', 'Doors In The Storm - Original Mix', 'No Way No', 'Jingle Jangle', 'FeelGood', 'Daddy Sang Bass - Live', 'Hamari Sanson Mein', 'Sip n Sunday', 'Holding On (Joe Remix) [feat. Josef Salvat & Niia]', 'New Perspective', 'La Merengue Mania', 'Black Widow - Vice Remix', 'Try the Bass', 'He Had To Rise', 'The Place I Feel Safest', 'Point of Awakening', 'Quesos, Cosas, Casas', \"I Don't - Remix\", 'Buried Alive Interlude', 'A Light in the Path of Exile', 'The Cassini Division', 'Black Body (feat. Shi Wisdom)', 'Blood Stutter - Color Study Remix', 'Yo Quisiera Entrar', 'Calm Music For Resting', \"It Ain't Wrong Loving You\", 'Beauty of the Day', \"I'll Be There For You/You're All I Need To Get By - Puff Daddy Mix\", \"Keep On Lovin'\", 'La Abeja Miope - En Vivo - Houston, Tx / 2005', 'Lightness', 'Would You Fight For My Love?', 'Embers - Live', '500 Blessed Miles', 'Canon in D', 'Wild Thoughts - Medasin Dance Remix', 'Quiet Niggas', 'Ave Que Emigra', 'Painted Faces and Long Hair', 'Spire', \"J'ai plongé dans le bruit\", 'We Can Ride [Dom Dolla Remix]', \"Don't Die On Me Now\", 'Gila River Sunrise', 'Charge My Car', \"I Don't Need The Sun\", 'Drunk Girls', 'A partir de hoy - (A dueto con Maite Perroni)', 'Mujer De Todos, Mujer De Nadie', 'What Would I Do?', '¿Que Me Paso?', \"Dil Kya Kare / Ain't No Sunshine\", 'English Lane', 'Wildlife (Single Version)', 'Discipline', 'Dime Donde Y Cuando', 'Star Signs', 'Dusk.', 'Freak Flag', 'In Illusions Of Order', 'The Recipe - Bonus Track', 'Said the King to the River', 'Always and Forever - Live', 'Lonely Bed - Radio Edit', 'Rattle', 'Discovering the Waterfront', 'Coração Pirata - Ao Vivo', 'Ely Medawebny', 'Abriendo Puertas', 'Another (feat. The Crushboys)', 'All I See Is Gold', \"We're Miners and We Know It\", 'Strict Machine', 'Gatos Rayados', 'M.U.P - KR Ver.', \"I Can't Hear You - Radio Edit\", 'Anim Zemiros', \"Jacob's Theme\", 'East Of Eden (Remastered)', 'Endless Wuk', 'Sparkly', 'Jumpin Like Jordan', 'Drop Down Mama', 'Under The Boardwalk - Single/LP Version', 'Do What I Gotta Do', 'Surrender - Pierce Fulton Remix', 'Close Enemies - Radio Edit', 'Todo Todo Todo - (Cha Cha Cha / 32 Bpm)', 'E suono rock', 'Over The Hills And Far Away - Guitar Mix Backing Track', 'Who Can Compare - Live', 'Choir Of Failure', 'Why We Like Spelling', 'What A Night', 'Cigarettes And Coffee Blues - Single Version', 'Thunder & Lightning', '#OnADailly (feat. Ugly God)', 'Do Road', \"Smokin' Love (feat. Collie Buddz)\", 'The Heart Of Rock And Roll', 'Captivate Us', \"Peaceful Om's\", \"Movin'\", 'Traición a la Mejicana', 'Natural Mystic - Love Crisis Mix', \"How It's Going To Be\", 'La Banda (Radio Version)', 'Downtown Money Waster', 'Stuck In The Middle With You - Remastered', 'Good Mistake', 'Love In Moscow', 'Tears of a Hopeless God', 'pink skies', 'Bird Is The Word', '1987 - Hybu Dub', 'Strength Of My Heart', 'Di que no', 'N.O.R.E.', 'About Falling', \"It's My Turn (James Landino Remix) [feat. Casey Lee Williams]\", '4L Gang Shit', 'Back To Me - Original Mix', 'Believers', 'Never Going Home', 'Shake Your Body (Down to the Ground) - Single Version', 'Hide - Original Mix', 'Epoch', 'My Favorite Memory', 'Siro Molorak', 'Danny Boy - Single Version', 'خايف', 'El Lapiz', 'Hasta El Sol De Hoy', 'Vivaldi: Concerto No. 10 in B Minor for 4 Violins and Cello, RV 580 (from \"L’estro armonico\", Op. 3): I. Allegro', 'Oh How We Love You (Live) [feat. Will Reagan]', 'The Morning (feat. Dvwez & Olukara)', 'Stranger On The Shore', 'Back to My Love', 'Never Gonna Stop - Stage Rockers Remix', 'I Just Called', \"Love The One You're With\", 'Couple of Days', 'The Perfect Stallion', 'A Lesson from Mr Gray', 'Borrow My Heart', 'Höru Mej Bae (Remix)', 'Son My Son', 'Go Hard (Mustafa Ali)', 'Jumpstart', 'Torn to Pieces', 'Swan Swan H', 'Maybe Monday', 'Your Love (feat. The Outfield)', 'A Good Start', 'Mazurka in A-Flat Major, Op. 59. No. 2', 'Sofi Needs A Ladder - Pig&Dan Remix', \"Pirelli's Miracle Elixir\", 'People Make The World Go Round', 'Suave Bruta', \"It's Yo Shit\", 'Economy', 'Thugz Mansion (N.Y.)', 'Gåte', 'Till There Was You - Remastered', 'Double Dutch Bus', 'Day Old Blues', 'NoOne - Uncut', 'First Coming - Ian Standerwick Remix', 'Coeur D’Alene', 'Painted In Gold - Robotaki Remix', 'Under the Water', 'La Vida Ruina - En Vivo', 'One Wild Life', 'Vi', 'Make Me Fade (B. Lewis Remix)', 'La Vida Es Bonita', 'Last Love', 'The Atlas Mountains', 'Less Than 3 (feat. Sara)', 'Ekki múkk', 'Hot Skin - Radio Edit', 'Ze Hazman Shelanu', 'Super Hyphie', 'Gimme AD', 'Juegos y Miedos', 'Flure Meditation', \"Hypnotized - Dj Vortex & Arpa's Dream Remix\", 'Rosemary', 'The Lord Our God - feat. Kristian Stanfill', 'The Things We Did Last Summer', 'The Highest', 'Ni Con Bala, Ni Con Cañon (La Bala De Billy)', 'Nanga Ti Feo', 'Seven Day Fool - Single Version', 'Weekend - Tarro Remix', 'Counting Comets - Ruede Hagelstein Remix', 'Unchained Melody - Live', 'Dime Baby (feat. Jory)', 'Freak - Original Mix', 'Same Ones', 'Protected', \"Settlin'\", 'Poet and Peasant: Overture', 'Cadeira de Aço - Ao Vivo', \"Those You've Known - Original Broadway Cast Recording/2006\", 'Holding Nothing Back', 'El Molino', 'Our Love - Radio Mix', 'Whisk', 'Used to It - Jorgen Odegard Remix', 'Polaroids', 'Through The Fire And Flames', 'O Come,All Ye Faithful (Adeste Fideles)', '100x', 'Lit Remix (feat. Surf Gvng)', 'Madre es Oracion', 'Sagitta', 'Girar O Mundo', \"We Don't Think, We Know\", 'The Weigh Down', 'Play The Guitar (feat. André 3000)', 'Emotional - Virtual Riot Remix', 'Dame Esta Noche', 'El Chavo', 'Betta Ask Somebody', 'Need Your Love - BBC Session Session Date: 1984 Programme Number: 99YJ7015', 'Água na Boca', 'Bacchanalist', 'Waves : Calm Down', 'Ding Dong The Witch Is Dead', 'Blue Hole Bridge', 'Coyote (feat. Joni Mitchell) - Concert Version', 'Elsie', 'Techno Is Fantasy', '낮에 뜨는 별 Starlight', 'Lotus Flower Bomb - feat. Miguel', 'Brass Goggles', 'Winter Time', 'No Option', \"Don't Bother\", 'Spirit of Moravia', 'Step Aside', \"Once Again It's Christmas\", 'Break Up To Make Up', 'Flight to Neverland from \"Hook\"', \"Glass Joe's Title Fight\", 'On Fire - Original Mix', 'A Quien Le Importa', 'Unravel (English Version)', 'Are You Hurting The One You Love?', 'Goofy (feat. Future & Jeezy)', 'Flawless Remix', 'Lollipop Remix (Bonus)', 'Want My Love - Club Mix', 'The Glorious Nosebleed', 'Go with the Flow', 'Forbidden Voices - Original Mix', 'Pokemon Battle', 'They Move On Tracks Of Never-Ending Light', 'The Strawberry Roan', 'Husky', 'Beat Again', 'Personally - Bonus', 'Mattress', 'Make A Move', 'Drink up (feat. Ty Weathers, Durwood Black & Derrty D)', 'Aoede', \"When You're Smiling (The Whole World Smiles With You) - With Intro\", 'Care', 'Stories', \"I'll Call U Back\", 'Je suis la montagne', 'World on Fire (feat. Matisyahu)', 'It’s The Holiday Season', 'She Got Away', 'Supervivencia', 'You Raise Me Up', 'Too Much (feat. Lizzle & Trey Songz)', 'Bombay Sapphires', 'Si No Me Ama', 'Rather Be (feat. Jess Glynne) - The Magician Remix', 'A Closer Look at Mexico', 'Eternity Part 2 - Studio', 'In Case of Emergency, Dial 411', 'You Better Run - 1980 / Live At The Old Waldorf, San Francisco, CA', 'For You - FTSE Remix', 'Midnight Funk', 'I Want a House', 'Too Trar', 'Busca Otro Amor', 'GTA (Fast)', \"They're Red Hot\", 'Crashing Head On', 'Dile A El', 'i miss the old u', 'Powerful Emotions', 'Ashley - Demo', 'You Remember', 'Kiss The Girl', 'UnFazed (feat. The Weeknd)', 'Down Home Blues', 'Love Machine', 'Below The Heavens pt. II', 'If Teardrops Were Pennies', 'Ai to Hi – Sadness and Sorrow [from Naruto] - Techno Remix', 'Trees and Flowers (Psalm 144) [Remastered]', 'Children Of God', \"Breakn' A Sweat\", 'Cumbia Barulera', 'Sup - Original Mix', 'Forever And Ever, Amen', 'Put on, Cologne', 'Gold (Acoustic)', 'Tequila Sunrise', 'Like Mariah', 'Life in the Rain', \"Granddaddy's Gun - feat. Rhett Akins & Dallas Davidson\", 'A Nightingale Sang in Berkeley Square', 'Golden God', \"It's Nobody's Fault but Mine\", 'About To Get Real', 'Cooler Than Me', \"If I Didn't Have Your Love\", 'Country Moon Pt. 1', 'Blow It Out (feat. Dizzy Wright)', 'Not the Other Guy', 'Worse Things Than Love', 'Keep On', 'Pretty Green', 'Bouquet final', 'The Poison (Reprise)', 'Man Kind (feat. E.D.I. Mean)', 'My Name Is', 'Real Me', 'Wave (feat. Kali Uchis)', 'Nubes Negras', 'Trátame Suavemente - Remasterizado 2007', 'Bleeds No More', '夢が醒めたら', 'Introduction to Metta Meditation', 'Lech', 'My Kind of Country', 'Make A Noise', 'No Desaparecera', 'Coração Sertanejo', 'Playing Your Game, Baby - Single Version', 'Men Of Respect - Feat. Tony Yayo, Papoose, Lloyed Banks, Jim Jones & Rell', 'Bust Your Windows (Glee Cast Version)', 'Breathless ft. Michelle Quezada - Regulators Remix', 'Music of My Heart', 'O.O.T', 'Our God Saves - Radio Mix', 'When Your Life Feels Like A Loss', 'Fire Crackle at the Lake', \"The Warrior's Code\", 'Must Be The Ganja', 'Feel Love - feat. J.Cole - Explicit Version', 'The Worst of Them', 'The Hell In Me', 'El Amor De Mi Vida', 'Mad Dawg', 'Extremities', \"Feliz Navidad (Jellybean Benitez's Groovy Dub Mix)\", \"Don't Waste The Night\", 'Met', \"I'm Never Gonna Dance Again\", 'Kenaston', 'The Air Is Getting Slippery', 'Le bout du monde', 'Here, In Heaven 2', 'The Sound of Settling - Demo', \"Why Don't You Try\", '2nd Childhood', 'He pensado tanto en tí', 'Want My Love (Acoustic)', \"Roger's Groove\", 'My Cabin In Caroline', 'Why When Love Is Gone', 'Big Homie (feat. Trill Sammy)', 'I Exist I Exist I Exist', '冒險時間', 'Gogol', 'With the Wind', \"What's Ur Name\", 'Dani California', 'Spiral - Acoustic', 'Flowers Grave', 'Ilegal', 'Long Story', 'I Almost Am (Live)', 'Sex Compressor', 'Welcome to the Show', 'De Contrabando', 'La Sirena Negra - Original Mix', 'Same Game', 'Aléjate de Mí', 'Sin for a Sin', \"It's Time - Passion Pit Remix\", 'Bruki (Radio)', 'Over My Shoulder - Orchestra Version', 'New Demons', 'Who Put The Bomp', 'Thank You For A Good Year', 'The Past Time', 'Transparency', \"Lovin' Lately\", \"Ain't Shit Changed\", \"You'll Never Beat The Irish\", 'More Colors', 'Down On Me - Live', '2 Minutes to Midnight - Live Long Beach Arena; 1998 Remastered Version', 'Imports', 'Tislam', 'Generation Away', 'See Her Again', 'Good Feeling', 'Truffle Butter (Originally by Nicky Minaj) - Instrumental', 'I Stella I Smirnia', 'What I Say', 'Gnawa Song', 'Lane Switching (feat. Lil Uzi Vert)', 'Un Osito de Peluche de Taiwán', 'Feel So Close - Nero Remix', 'My Boo (Running Man Challenge)', 'Hands On It (feat. Migos, Sage The Gemini & Sayyi)', '100 Ways to Hate (Remix)', 'Dirt', 'How To Never Stop Being Sad', 'The Downfall', 'Hoy (feat. Bad Bunny)', 'This Peaceful Sod', 'De nada sirve', 'La Super Chapiadora (Remix 2) [feat. J King, De la Ghetto, Pusho & Alexio]', 'Numbers On The Boards', 'Another Empty Bottle', \"Crushin' (Yeeeeaah!)\", 'Before It Breaks', 'In Control - Live', \"Freddie's Dead (Theme From 'Superfly')\", 'Rojitas las orejas', \"What's Forever For\", 'Year Of The Cat', 'In Time (feat. Clara C & Dumbfoundead)', 'Panic Station', \"Don't Walk Away\", 'The Middle of Starting Over', 'Allergies', 'Do It Like A Dude', 'Give Me the Reason', 'Permiso Que Llego Van Van', 'Pearls', \"He's Already in Your Tomorrow\", 'Peace', 'Dokunma', 'Unfamiliar', 'ด้านได้อายอด', 'Mohera', 'Is This It', 'La Pollera Colora', 'My Man', 'Ring Ring (feat. Gaeko)', 'Green Bottle - Original Mix', 'Ayahuasca Deep Dub', 'One More Time With Feeling', 'Raising Cain', 'These Old Boots Have Roots', \"I Won't Be Alone\", 'Part 3', 'Crocodile Tears', '3-Way (The Golden Rule)', 'Mud Digger Remix (feat. Colt Ford)', 'Sugar n Spice', 'Marley Medley - Rarities Version', 'Check Your Head (Live)', 'Primetime', \"Don't Turn Away\", 'Stand Up King', 'We Can Never Go Back - Acoustic', 'Devil May Cry - From “The Hunger Games: Catching Fire” Soundtrack', 'Funk Boutique', 'Desde Brasil', 'Auf der Tannenalm', \"This Isn't Goodbye, It's BRB\", 'Ven A Cantar', 'Cheatin’ Situation', 'Only Living', \"Don't You Worry 'Bout A Thing\", 'Jasmine', 'Heartbreak (Radio Edit)', 'Down For The Click (feat. Mike Dash-E, Dave Steezy)', 'You Upset Me, Baby', 'Magnets', 'Feel This Shit - Instrumental', 'Old Enough - feat. Ricky Skaggs and Ashley Monroe', 'The Nights - Avicii By Avicii', 'What We Live For', 'Bad Decisions', 'I Need You - Ultravibes Remix', 'Where The Fence Is Low - Acoustic', 'There She Stands (Frankie Felishiano Vocal Mix)', 'Chapter 1 - The Next Step Pt. 3', 'A Part of You - Original Mix', 'Joy Of The Lord', 'The Set Up (You Need This) - Best Of', 'The Last Living Rose', 'Se Vuelve Loca', 'Fixations', 'We Need a Little Christmas', 'Al Atardecer', 'Mama Says'}\n"
     ]
    }
   ],
   "source": [
    "#get N songs based on weighted random sampling (no particular reason for this apart from probably giving a more connected NW)\n",
    "\n",
    "if WEIGHTED_RANDOM == False:\n",
    "    songs = random.choices(list(all_tracks.keys()), weights=None, k=N)\n",
    "else:\n",
    "    songs = random.choices(list(all_tracks.keys()), weights=all_tracks.values(), k=N)\n",
    "\n",
    "\n",
    "songs = set(songs) #convert to set\n",
    "print(songs)"
   ]
  },
  {
   "cell_type": "code",
   "execution_count": 7,
   "id": "8cac8264",
   "metadata": {
    "id": "8cac8264",
    "scrolled": true
   },
   "outputs": [],
   "source": [
    "#Now I want to create a list of shared playlists\n",
    "\n",
    "shared_playlists = [] #this will contain items of the form (weight: [weight], tracks: [tracks]) for each playlist\n",
    "\n",
    "if SPECIFIC_FILE == '':\n",
    "    for file in directory:\n",
    "        f = open(DIRECTORY+file) \n",
    "        data = json.load(f)\n",
    "\n",
    "        for playlist in data['playlists']:  #parse through every playlist\n",
    "\n",
    "            num_followers = playlist['num_followers']\n",
    "\n",
    "            temp = []\n",
    "\n",
    "            for track in playlist['tracks']:\n",
    "                if track['track_name'] in songs and track['track_name'] not in temp:\n",
    "                    temp.append(track['track_name'])\n",
    "\n",
    "            if (len(temp) >1): #only if a playlist has two or more of the 10k songs then we add it to our shared_playlists lits\n",
    "                item = {'weight':num_followers, 'tracks':temp}\n",
    "                shared_playlists.append(item)\n",
    "\n",
    "else:\n",
    "    \n",
    "    f = open(SPECIFIC_FILE) \n",
    "    data = json.load(f)\n",
    "\n",
    "    for playlist in data['playlists']:  #parse through every playlist\n",
    "\n",
    "        num_followers = playlist['num_followers']\n",
    "\n",
    "        temp = []\n",
    "\n",
    "        for track in playlist['tracks']:\n",
    "            if track['track_name'] in songs and track['track_name'] not in temp:\n",
    "                temp.append(track['track_name'] + \", by \"+ track['artist_name'])\n",
    "\n",
    "        if (len(temp) >1): #only if a playlist has two or more of the 10k songs then we add it to our shared_playlists lits\n",
    "            item = {'weight':num_followers, 'tracks':temp}\n",
    "            shared_playlists.append(item)\n",
    "\n",
    "            \n",
    "                "
   ]
  },
  {
   "cell_type": "code",
   "execution_count": 8,
   "id": "51e02efa",
   "metadata": {
    "id": "51e02efa"
   },
   "outputs": [],
   "source": [
    "#create edges\n",
    "edges = {}\n",
    "count = 0\n",
    "for item in shared_playlists:\n",
    "\n",
    "    weight = item['weight']\n",
    "    tracks = item['tracks']\n",
    "    for track1 in tracks:\n",
    "        for track2 in tracks:\n",
    "            if (track1 == track2):\n",
    "                continue\n",
    "            if (track1,track2) in edges:\n",
    "                edges[(track1,track2)] += weight\n",
    "            elif ((track2,track1)) in edges:\n",
    "                edges[(track2,track1)] += weight\n",
    "            else:\n",
    "                edges[(track1,track2)] = weight\n",
    "            "
   ]
  },
  {
   "cell_type": "code",
   "execution_count": 9,
   "id": "6911605c",
   "metadata": {},
   "outputs": [
    {
     "name": "stdout",
     "output_type": "stream",
     "text": [
      "[(('Dirt, by Florida Georgia Line', 'Middle of a Memory, by Cole Swindell'), 1034), (('Dirt, by Florida Georgia Line', \"Lovin' Lately, by Big & Rich\"), 910), (('Middle of a Memory, by Cole Swindell', \"Lovin' Lately, by Big & Rich\"), 1236), ((\"Suite d'Arrée: Bennilis - Nestaval - Trédudon + Trévezel - Arrée, by Gwendal\", 'A Tune For Frankie, by Altan'), 28), (('Better Man - Remastered, by Pearl Jam', 'Good Feeling, by Flo Rida'), 88)]\n"
     ]
    }
   ],
   "source": [
    "print(list(edges.items())[0:5])"
   ]
  },
  {
   "cell_type": "code",
   "execution_count": 10,
   "id": "87ca21b2",
   "metadata": {
    "id": "87ca21b2"
   },
   "outputs": [
    {
     "name": "stdout",
     "output_type": "stream",
     "text": [
      "                                              Source  \\\n",
      "0                      Dirt, by Florida Georgia Line   \n",
      "1                      Dirt, by Florida Georgia Line   \n",
      "2               Middle of a Memory, by Cole Swindell   \n",
      "3  Suite d'Arrée: Bennilis - Nestaval - Trédudon ...   \n",
      "4              Better Man - Remastered, by Pearl Jam   \n",
      "\n",
      "                                 Target  Weight  \n",
      "0  Middle of a Memory, by Cole Swindell    1034  \n",
      "1          Lovin' Lately, by Big & Rich     910  \n",
      "2          Lovin' Lately, by Big & Rich    1236  \n",
      "3          A Tune For Frankie, by Altan      28  \n",
      "4             Good Feeling, by Flo Rida      88  \n"
     ]
    }
   ],
   "source": [
    "data = []\n",
    "\n",
    "for key in edges:\n",
    "    temp = (key[0],key[1],edges[key]) #make tuple of form (song1, song2, weight)\n",
    "    data.append(temp)\n",
    "data2 = pd.DataFrame(data)\n",
    "data2.columns = [\"Source\",\"Target\",\"Weight\"]\n",
    "print(data2[0:5]) #sanity check"
   ]
  },
  {
   "cell_type": "code",
   "execution_count": 11,
   "id": "edb5fd00",
   "metadata": {},
   "outputs": [],
   "source": [
    "#Create results folder\n",
    "\n",
    "path = os.getcwd()+\"/generated_data\"\n",
    "# Check whether the specified path exists or not\n",
    "isExist = os.path.exists(path)\n",
    "if not isExist:\n",
    "\n",
    "   # Create a new directory because it does not exist\n",
    "   os.makedirs(path)\n",
    "   print(\"The new directory is created!\")"
   ]
  },
  {
   "cell_type": "code",
   "execution_count": 12,
   "id": "6f82ee63",
   "metadata": {
    "id": "6f82ee63"
   },
   "outputs": [],
   "source": [
    "#Writing the file\n",
    "\n",
    "name = \"\"\n",
    "\n",
    "if (WEIGHTED_RANDOM == True):\n",
    "    name = str(N) + '_weighted'\n",
    "else:\n",
    "    name = str(N)\n",
    "filename = path+'/'+name+\"_random_songs.csv\"\n",
    "filepath = Path(filename)\n",
    "while (os.path.exists(filepath)):\n",
    "    if filename[-5]=='s':\n",
    "        filename = filename[:-4]+'2'+filename[-4:]\n",
    "    else:\n",
    "        filename = filename[:-5]+str(int(filename[-5])+1)+filename[-4:]\n",
    "    filepath = Path(filename)\n",
    "\n",
    "data2.to_csv(filepath, index = False)\n",
    "    \n",
    "    \n",
    "#The data should be saved in the same folder as this notebook"
   ]
  },
  {
   "cell_type": "markdown",
   "id": "4eab9394",
   "metadata": {
    "id": "4eab9394"
   },
   "source": [
    "## Thoughts so far\n",
    "\n",
    "- Selecting playlists above a certain number of likes produces a very dense network even with only the top 600~ networks\n",
    "- Selecting 10k songs randomly produces a pretty sparse network with some intereseting communities\n",
    "- Selecting 10k songs randomly with a weighted distribution produces an extremely dense network\n",
    "- The clustering coefficient for 100 random weighted songs is small (0.04), but when we pick 500 random weighted songs it grows larger (0.34). For 10000 random songs it was like 0.99"
   ]
  },
  {
   "cell_type": "markdown",
   "id": "3eb659b6",
   "metadata": {},
   "source": [
    "## 0.2 Implementing Networkx\n",
    "\n",
    "The purpose of this subsection is to use networkx to load our .csv files that we have produced, so that we can create adjacency matrices, figure out shortest path lengths, etc\n",
    "\n"
   ]
  },
  {
   "cell_type": "code",
   "execution_count": 27,
   "id": "8a4f7f01",
   "metadata": {},
   "outputs": [],
   "source": [
    "path = 'generated_data/2000_random_songs.csv' #file to be read"
   ]
  },
  {
   "cell_type": "code",
   "execution_count": 28,
   "id": "a4993bb1",
   "metadata": {},
   "outputs": [
    {
     "name": "stderr",
     "output_type": "stream",
     "text": [
      "/var/folders/xr/swmcxvvx1v97vbgsfrw5dbyw0000gn/T/ipykernel_3943/382350200.py:3: FutureWarning: adjacency_matrix will return a scipy.sparse array instead of a matrix in Networkx 3.0.\n",
      "  print(nx.adjacency_matrix(G).todense())\n"
     ]
    },
    {
     "ename": "AttributeError",
     "evalue": "module 'scipy.sparse' has no attribute 'coo_array'",
     "output_type": "error",
     "traceback": [
      "\u001b[0;31m---------------------------------------------------------------------------\u001b[0m",
      "\u001b[0;31mAttributeError\u001b[0m                            Traceback (most recent call last)",
      "Input \u001b[0;32mIn [28]\u001b[0m, in \u001b[0;36m<cell line: 3>\u001b[0;34m()\u001b[0m\n\u001b[1;32m      1\u001b[0m df \u001b[38;5;241m=\u001b[39m pd\u001b[38;5;241m.\u001b[39mread_csv(path)\n\u001b[1;32m      2\u001b[0m G \u001b[38;5;241m=\u001b[39m nx\u001b[38;5;241m.\u001b[39mfrom_pandas_edgelist(df, \u001b[38;5;124m\"\u001b[39m\u001b[38;5;124mSource\u001b[39m\u001b[38;5;124m\"\u001b[39m, \u001b[38;5;124m\"\u001b[39m\u001b[38;5;124mTarget\u001b[39m\u001b[38;5;124m\"\u001b[39m, edge_attr \u001b[38;5;241m=\u001b[39m \u001b[38;5;124m\"\u001b[39m\u001b[38;5;124mWeight\u001b[39m\u001b[38;5;124m\"\u001b[39m)  \u001b[38;5;66;03m#generate graph\u001b[39;00m\n\u001b[0;32m----> 3\u001b[0m \u001b[38;5;28mprint\u001b[39m(\u001b[43mnx\u001b[49m\u001b[38;5;241;43m.\u001b[39;49m\u001b[43madjacency_matrix\u001b[49m\u001b[43m(\u001b[49m\u001b[43mG\u001b[49m\u001b[43m)\u001b[49m\u001b[38;5;241m.\u001b[39mtodense())\n",
      "File \u001b[0;32m~/opt/anaconda3/lib/python3.9/site-packages/networkx/linalg/graphmatrix.py:173\u001b[0m, in \u001b[0;36madjacency_matrix\u001b[0;34m(G, nodelist, dtype, weight)\u001b[0m\n\u001b[1;32m    167\u001b[0m warnings\u001b[38;5;241m.\u001b[39mwarn(\n\u001b[1;32m    168\u001b[0m     \u001b[38;5;124m\"\u001b[39m\u001b[38;5;124madjacency_matrix will return a scipy.sparse array instead of a matrix in Networkx 3.0.\u001b[39m\u001b[38;5;124m\"\u001b[39m,\n\u001b[1;32m    169\u001b[0m     \u001b[38;5;167;01mFutureWarning\u001b[39;00m,\n\u001b[1;32m    170\u001b[0m     stacklevel\u001b[38;5;241m=\u001b[39m\u001b[38;5;241m2\u001b[39m,\n\u001b[1;32m    171\u001b[0m )\n\u001b[1;32m    172\u001b[0m \u001b[38;5;66;03m# TODO: Change to `to_scipy_sparse_array` for networkx 3.0\u001b[39;00m\n\u001b[0;32m--> 173\u001b[0m \u001b[38;5;28;01mreturn\u001b[39;00m \u001b[43mnx\u001b[49m\u001b[38;5;241;43m.\u001b[39;49m\u001b[43mto_scipy_sparse_matrix\u001b[49m\u001b[43m(\u001b[49m\u001b[43mG\u001b[49m\u001b[43m,\u001b[49m\u001b[43m \u001b[49m\u001b[43mnodelist\u001b[49m\u001b[38;5;241;43m=\u001b[39;49m\u001b[43mnodelist\u001b[49m\u001b[43m,\u001b[49m\u001b[43m \u001b[49m\u001b[43mdtype\u001b[49m\u001b[38;5;241;43m=\u001b[39;49m\u001b[43mdtype\u001b[49m\u001b[43m,\u001b[49m\u001b[43m \u001b[49m\u001b[43mweight\u001b[49m\u001b[38;5;241;43m=\u001b[39;49m\u001b[43mweight\u001b[49m\u001b[43m)\u001b[49m\n",
      "File \u001b[0;32m~/opt/anaconda3/lib/python3.9/site-packages/networkx/convert_matrix.py:1019\u001b[0m, in \u001b[0;36mto_scipy_sparse_matrix\u001b[0;34m(G, nodelist, dtype, weight, format)\u001b[0m\n\u001b[1;32m   1009\u001b[0m \u001b[38;5;28;01mimport\u001b[39;00m \u001b[38;5;21;01mscipy\u001b[39;00m\u001b[38;5;21;01m.\u001b[39;00m\u001b[38;5;21;01msparse\u001b[39;00m\n\u001b[1;32m   1011\u001b[0m warnings\u001b[38;5;241m.\u001b[39mwarn(\n\u001b[1;32m   1012\u001b[0m     (\n\u001b[1;32m   1013\u001b[0m         \u001b[38;5;124m\"\u001b[39m\u001b[38;5;130;01m\\n\u001b[39;00m\u001b[38;5;130;01m\\n\u001b[39;00m\u001b[38;5;124mThe scipy.sparse array containers will be used instead of matrices\u001b[39m\u001b[38;5;130;01m\\n\u001b[39;00m\u001b[38;5;124m\"\u001b[39m\n\u001b[0;32m   (...)\u001b[0m\n\u001b[1;32m   1017\u001b[0m     stacklevel\u001b[38;5;241m=\u001b[39m\u001b[38;5;241m2\u001b[39m,\n\u001b[1;32m   1018\u001b[0m )\n\u001b[0;32m-> 1019\u001b[0m A \u001b[38;5;241m=\u001b[39m \u001b[43mto_scipy_sparse_array\u001b[49m\u001b[43m(\u001b[49m\n\u001b[1;32m   1020\u001b[0m \u001b[43m    \u001b[49m\u001b[43mG\u001b[49m\u001b[43m,\u001b[49m\u001b[43m \u001b[49m\u001b[43mnodelist\u001b[49m\u001b[38;5;241;43m=\u001b[39;49m\u001b[43mnodelist\u001b[49m\u001b[43m,\u001b[49m\u001b[43m \u001b[49m\u001b[43mdtype\u001b[49m\u001b[38;5;241;43m=\u001b[39;49m\u001b[43mdtype\u001b[49m\u001b[43m,\u001b[49m\u001b[43m \u001b[49m\u001b[43mweight\u001b[49m\u001b[38;5;241;43m=\u001b[39;49m\u001b[43mweight\u001b[49m\u001b[43m,\u001b[49m\u001b[43m \u001b[49m\u001b[38;5;28;43mformat\u001b[39;49m\u001b[38;5;241;43m=\u001b[39;49m\u001b[38;5;28;43mformat\u001b[39;49m\n\u001b[1;32m   1021\u001b[0m \u001b[43m\u001b[49m\u001b[43m)\u001b[49m\n\u001b[1;32m   1022\u001b[0m \u001b[38;5;28;01mreturn\u001b[39;00m sp\u001b[38;5;241m.\u001b[39msparse\u001b[38;5;241m.\u001b[39mcsr_matrix(A)\u001b[38;5;241m.\u001b[39masformat(\u001b[38;5;28mformat\u001b[39m)\n",
      "File \u001b[0;32m~/opt/anaconda3/lib/python3.9/site-packages/networkx/convert_matrix.py:921\u001b[0m, in \u001b[0;36mto_scipy_sparse_array\u001b[0;34m(G, nodelist, dtype, weight, format)\u001b[0m\n\u001b[1;32m    919\u001b[0m         r \u001b[38;5;241m+\u001b[39m\u001b[38;5;241m=\u001b[39m diag_index\n\u001b[1;32m    920\u001b[0m         c \u001b[38;5;241m+\u001b[39m\u001b[38;5;241m=\u001b[39m diag_index\n\u001b[0;32m--> 921\u001b[0m     A \u001b[38;5;241m=\u001b[39m \u001b[43msp\u001b[49m\u001b[38;5;241;43m.\u001b[39;49m\u001b[43msparse\u001b[49m\u001b[38;5;241;43m.\u001b[39;49m\u001b[43mcoo_array\u001b[49m((d, (r, c)), shape\u001b[38;5;241m=\u001b[39m(nlen, nlen), dtype\u001b[38;5;241m=\u001b[39mdtype)\n\u001b[1;32m    922\u001b[0m \u001b[38;5;28;01mtry\u001b[39;00m:\n\u001b[1;32m    923\u001b[0m     \u001b[38;5;28;01mreturn\u001b[39;00m A\u001b[38;5;241m.\u001b[39masformat(\u001b[38;5;28mformat\u001b[39m)\n",
      "\u001b[0;31mAttributeError\u001b[0m: module 'scipy.sparse' has no attribute 'coo_array'"
     ]
    }
   ],
   "source": [
    "df = pd.read_csv(path)\n",
    "G = nx.from_pandas_edgelist(df, \"Source\", \"Target\", edge_attr = \"Weight\")  #generate graph\n",
    "print(nx.adjacency_matrix(G).todense())"
   ]
  },
  {
   "cell_type": "markdown",
   "id": "c0d3b002",
   "metadata": {},
   "source": [
    "# Section 1: Defining the edges of the network\n",
    "\n",
    "In this section we explore several different means to quantify how similar one song is to another. We will use these similarity scores to assign weights to the edges of our network. \n",
    "\n",
    "### Idea 1: Shared Followers\n",
    "This method assigns a weight to each edge based on the sum of likes of each playlist that both songs in the edge appear in.\n",
    "\n",
    "$w_{i,j} = \\Sigma_{p \\in P_{i,j}}{\\normalsize \\text{# likes of }p}$, where $P_{i,j}$ is the set of playlists contatining songs $i$ and $j$\n",
    "\n",
    "### Idea 2: Shared Playlists\n",
    "The weight of each edge is the number of shared playlists of the song\n",
    "\n",
    "$w_{i,j} = \\normalsize |P_{i,j}|$\n",
    "\n",
    "### Idea 3: Hybrid of 1 and 2\n",
    "Since the follower numbers of the playlists are heavily skewed, ranging from 1 to over 70k, we experiment with weighting the shared playlist number higher than the shared follower number.\n",
    "\n",
    "$w_{i,j} = \\normalsize |P_{i,j}| + log_2({\\Sigma_{p \\in P_{i,j}}{\\text{# likes of }p}})$\n",
    "\n",
    "For our purposes, we use $log_2$ to weight the follower numbers as we think it suits our data well.\n",
    "\n",
    "### Idea 4: Shared Playlist Simliarity\n",
    "\n",
    "Let $p_{i,j}$ denote the fraction of playlists that song $i$ belongs to which also contain song $j$. \n",
    "Then, $ w_{i,j} = \\large \\frac{p_{i,j}\\cdot p_{j,i}}{2}$\n",
    "\n",
    "I.e, this is the average of the fraction of all playlists containing one song that also contain the other\n",
    "\n",
    "\n",
    "## TODO: Define functions that implement each of these ideas\n",
    "\n",
    "Each function should take in a set of N songs, an input file (not the whole dataset as that is way too big!) and return two things: 1. The edges of the graph created by each method, and 2. A dictionary of node relations to each other.\n",
    "\n",
    "\n",
    "So what we're doing here is \n",
    "- selecting N songs (like 10k out of the million) out of the input file (has more than N songs).  \n",
    "- We want to remember only the playlists with two or more of the N songs in them. For that playlist, we remember it as a pair of (weight, [tracks out of the N in that playlist]) (but you could play around with this to see what works) \n",
    "- Then, using the cleaned up, relevant playlists with their weights (that we did in the previous step) we make the graph, which is a dictionary of the form { {(node1,node2), weight} }. So, the key is (node1,node2) and the corresponding value is weight\n",
    "\n",
    "Ultimately the output should be the network with the weights aligned with each of the above ideas. "
   ]
  },
  {
   "cell_type": "markdown",
   "id": "3fcd89b2",
   "metadata": {
    "id": "3fcd89b2"
   },
   "source": [
    "# Section 2: Implementing algorithm to generate playlists\n",
    "\n",
    "## 2.1: Star Graph Algorithm\n",
    "\n",
    "Here I'll try to create the playlists using the star graph recommendation method. For this I need two things - first is a recommendation algorithm based on the edges, and second is an easy way to iterate over song connections. \n",
    "\n",
    "### How this works:\n",
    "\n",
    "First we consider the one node case. We feed a single node, call it node A, into the algorithm which gives us the subset of the network with one edge at A, which is a star graph. We store this star graph in a dictionary object. The next song to be recommended is one of the edges in this graph, randomly chosen with a weighted probability distribution. Call this song B. Now, we want the playlist that we are generating to be the center of the star graph. Now, we make the center of the star graph represent both nodes A and B. We add all the edges with end to B (except those with end A) from the original dataset to the star graph. If an edge already exists between the center and another node, and B is also connected with that node, the new weight of that edge becomes the sum of the weights of those edges. This is to implement familiarity. Continue this until the desired playlist size is reached. \n",
    "\n",
    "\n",
    "### TODO:\n",
    "- If we can create functions for creating the edge weights of the network that would be totally awesome\n",
    "- Perhaps cosine simliarity would be a good thing to explore for our recommendations?"
   ]
  },
  {
   "cell_type": "markdown",
   "id": "c642371c",
   "metadata": {
    "id": "c642371c"
   },
   "source": [
    "Running the two cells below will initialize the network. There are some constants at the start that you need to input"
   ]
  },
  {
   "cell_type": "code",
   "execution_count": null,
   "id": "4522710d",
   "metadata": {
    "id": "4522710d"
   },
   "outputs": [],
   "source": [
    "######################################### Constants\n",
    "\n",
    "SPECIFIC_FILE = 'generated_data/moreThan10followers.json' #Rename this to something else if you want to only consider some other dataset, \n",
    "                    #otherwise we go over all data. specify the file name/path as the name\n",
    "WEIGHTED_RANDOM = False   #If we want weighted random sampling or not\n",
    "N = 1000  #number of songs to consider"
   ]
  },
  {
   "cell_type": "code",
   "execution_count": null,
   "id": "d80f0f40",
   "metadata": {
    "id": "d80f0f40"
   },
   "outputs": [],
   "source": [
    "######################################### LOADING SONGS FROM FILE\n",
    "#first we need to load all the songs into a dictionary so that we can randomly select N of them\n",
    "\n",
    "\n",
    "all_tracks = {} #stores all the songs\n",
    "count = 0 #progress bar\n",
    "\n",
    "\n",
    "f = open(SPECIFIC_FILE)\n",
    "data = json.load(f)\n",
    "\n",
    "for playlist in data['playlists']:\n",
    "    for track in playlist['tracks']:\n",
    "        if track['track_name'] not in all_tracks:  #if it not in the dict then we add it to it and increase its weight\n",
    "            all_tracks[track['track_name']] = 1 #weight is used for weighted random sampling (if needed)\n",
    "        else:\n",
    "            all_tracks[track['track_name']] +=1\n",
    "\n",
    "\n",
    "######################################### CHOOSING RANDOM SONGS\n",
    "\n",
    "if WEIGHTED_RANDOM == False:\n",
    "    songs = random.choices(list(all_tracks.keys()), weights=None, k=N)\n",
    "else:\n",
    "    songs = random.choices(list(all_tracks.keys()), weights=all_tracks.values(), k=N)\n",
    "\n",
    "#print(songs)\n",
    "\n",
    "######################################### CREATING SHARED PLAYLIST EDGES\n",
    "\n",
    "shared_playlists = [] #this will contain items of the form (weight: [weight], tracks: [tracks]) for each playlist\n",
    "\n",
    "\n",
    "f = open(SPECIFIC_FILE) \n",
    "data = json.load(f)\n",
    "\n",
    "for playlist in data['playlists']:  #parse through every playlist\n",
    "\n",
    "    num_followers = playlist['num_followers']\n",
    "    temp = []\n",
    "    for track in playlist['tracks']: #if one of the random songs is in the playlist then remember it\n",
    "        if track['track_name'] in songs and track['track_name'] not in temp:\n",
    "            temp.append(track['track_name'])\n",
    "\n",
    "    if (len(temp) >1): #only if a playlist has two or more of the 10k songs then we add it to our shared_playlists lits\n",
    "        item = {'weight':num_followers, 'tracks':temp}\n",
    "        shared_playlists.append(item)\n",
    "\n",
    "\n",
    "# #Here we create the big graph\n",
    "edges = {}\n",
    "relations = {} #this variable stores all of the node pairs in the graph. It is useful for the playlist-generation part of the notebook\n",
    "for song in songs:\n",
    "    relations[song] = set({})\n",
    "\n",
    "for item in shared_playlists:\n",
    "    \n",
    "    weight = item['weight']\n",
    "    tracks = item['tracks']\n",
    "    for track1 in tracks:\n",
    "        for track2 in tracks:\n",
    "            if (track1 == track2):\n",
    "                continue\n",
    "            #now we add relations\n",
    "            if track2 not in relations[track1]:\n",
    "                relations[track1].add(track2)\n",
    "            if track1 not in relations[track2]:\n",
    "                relations[track2].add(track1)\n",
    "                \n",
    "            #now create edge and weight\n",
    "            if (track1,track2) not in edges and (track2,track1) not in edges:\n",
    "                edges[(track1,track2)] = weight\n",
    "                edges[(track2,track1)] = weight\n",
    "            else:\n",
    "                edges[(track1,track2)] += weight\n",
    "                edges[(track2,track1)] += weight\n",
    "\n",
    "\n",
    "print(\"Some songs that were selected:\")\n",
    "print(songs[0:5])\n",
    "print('\\n')\n",
    "print(\"Some of the edges that were created:\")\n",
    "print(list(edges.items())[0:5])\n",
    "print('\\n')\n",
    "print(\"Some of the pairs of nodes in the graph:\\n\")\n",
    "for n in range(5):\n",
    "    i = random.randint(0,len(songs))\n",
    "    print(\"Track:\"+str(songs[i]))\n",
    "    print(\"Tracks it is related to:\")\n",
    "    print(relations[songs[i]])\n",
    "    print('\\n')\n",
    "\n",
    "\n",
    "\n"
   ]
  },
  {
   "cell_type": "markdown",
   "id": "f44f01ed",
   "metadata": {
    "id": "f44f01ed"
   },
   "source": [
    "The cell below defines the function that we use"
   ]
  },
  {
   "cell_type": "code",
   "execution_count": null,
   "id": "7922166f",
   "metadata": {
    "id": "7922166f"
   },
   "outputs": [],
   "source": [
    "def recommend_song(stargraph, songs, alpha = 1):\n",
    "    '''\n",
    "    Function that will implement the recommend algorithm for a given input star graph. We are assigning weights to every \n",
    "    song in the number of songs we are operating over. The weight of each song will be the weight of the edge from it to the\n",
    "    center of the stargraph (0 otherwise) + alpha. We will then make a weighted random prediction to get the next song.\n",
    "    \n",
    "    Parameters:\n",
    "        stargraph: the input star graph. The first element is the nodes inside the graph and the second one is a dictionary \n",
    "        of node:weight pairs\n",
    "        songslist: the list of songs over which we are operating\n",
    "        alpha: value to give to every song to allow possible recommendation of songs without any edges (teleportation). 1 by default\n",
    "  \n",
    "  Returns:\n",
    "       The predicted song\n",
    "   '''\n",
    "    weights = []\n",
    "    for i in range(len(songs)):\n",
    "        song = songs[i]\n",
    "        weight = alpha\n",
    "        if song in stargraph[1]: #if there is already an edge to it\n",
    "            weight+= stargraph[1][song]\n",
    "        if song in stargraph[0]: #if it is already in our playlist\n",
    "            weight = 0\n",
    "        weights.append(weight)\n",
    "    nextsong = random.choices(songs, weights, k=1)[0] #return our weighted random choice\n",
    "    #print (nextsong)\n",
    "    return nextsong\n",
    "\n",
    "def update_graph(stargraph, songToAdd, relations, edges):\n",
    "    '''\n",
    "    Function that will update the star graph to include edges that belong to the song to add. Returns updated star graph\n",
    "    \n",
    "    Parameters:\n",
    "        stargraph: the input star graph. The first element is the nodes inside the graph and the second one is a dictionary \n",
    "        of node:weight pairs\n",
    "        songToAdd: the song to add\n",
    "        relations: the dictionary of all pairs in the graph\n",
    "        edges: the original network with all the node pair relations\n",
    "   \n",
    "   Returns:\n",
    "        The updated star graph\n",
    "    '''\n",
    "    relationsToAdd = relations[songToAdd] #give a set of all the pairs of nodes with the song to add\n",
    "    stargraphNodes = stargraph[0]\n",
    "    stargraphEdges = stargraph[1]\n",
    "    \n",
    "    for song in relationsToAdd: #go through each pair belonging to this song\n",
    "        \n",
    "        if song not in stargraphNodes:\n",
    "            if song not in stargraphEdges:\n",
    "                stargraphEdges[song] = edges[(song,songToAdd)] #add value of edge from the original network\n",
    "            else:\n",
    "                stargraphEdges[song] += edges[(song,songToAdd)]\n",
    "                \n",
    "    stargraph[0].add(songToAdd)\n",
    "    return stargraph\n",
    "    \n",
    "    \n",
    "def create_playlist(inputSongs, length,  songs, relations, edges,alpha = 1):\n",
    "    '''\n",
    "    Function that generates a recommendation playlist of length length based on an input of songs, and an input network\n",
    "    \n",
    "    Parameters:\n",
    "    inputSongs: The input songs (list)\n",
    "    length: Number of songs to add\n",
    "    songs: List of all songs\n",
    "    relations: Dictionary of all pair relations in the graph\n",
    "    edges: The original network\n",
    "    alpha: The teleportation probability in the recommendation algorithm\n",
    "    '''\n",
    "    stargraph = (set(), dict())\n",
    "    \n",
    "    for song in inputSongs: #build the star graph\n",
    "        stargraph = update_graph(stargraph, song, relations, edges) \n",
    "    \n",
    "    for i in range(length):\n",
    "        newSong = recommend_song(stargraph, songs, alpha)\n",
    "        stargraph = update_graph(stargraph, newSong, relations, edges)\n",
    "    \n",
    "    return list(stargraph[0])\n",
    "    \n",
    "    \n",
    "            \n",
    "        \n",
    "        \n",
    "    \n",
    "    "
   ]
  },
  {
   "cell_type": "markdown",
   "id": "7806d8c0",
   "metadata": {
    "id": "7806d8c0"
   },
   "source": [
    "## Using the algorithm\n",
    "\n",
    "Finally, the cell below tests the algorithm"
   ]
  },
  {
   "cell_type": "code",
   "execution_count": null,
   "id": "d794292e",
   "metadata": {
    "id": "d794292e",
    "outputId": "6ef5bc56-23dc-4140-f58d-2178aff41fc5"
   },
   "outputs": [],
   "source": [
    "#Testing the algorithm\n",
    "\n",
    "playlist = []\n",
    "for i in range(3):\n",
    "    playlist.append(songs[random.randint(0,len(songs))])\n",
    "length = len(playlist)+10\n",
    "print(\"Input songs:\")\n",
    "print(playlist)\n",
    "playlist = create_playlist(playlist, length, songs, relations, edges)\n",
    "print(\"Generated playlist:\")\n",
    "print(playlist)\n"
   ]
  },
  {
   "cell_type": "markdown",
   "id": "fc5f0a9c",
   "metadata": {
    "id": "fc5f0a9c"
   },
   "source": [
    "### Thoughts on algorithm\n",
    "\n",
    "I have no idea if these are great playlists or not lmao"
   ]
  },
  {
   "cell_type": "markdown",
   "id": "1dd2c770",
   "metadata": {},
   "source": [
    "## 2.2 Cosine Simliarity\n",
    "\n",
    "### TODO\n",
    "- maybe this would be good for idea #4 of Section 1 since the weights are all normalized and in the [0,1] range"
   ]
  },
  {
   "cell_type": "code",
   "execution_count": null,
   "id": "1e847f4a",
   "metadata": {
    "id": "1e847f4a"
   },
   "outputs": [],
   "source": []
  }
 ],
 "metadata": {
  "colab": {
   "provenance": []
  },
  "kernelspec": {
   "display_name": "Python 3 (ipykernel)",
   "language": "python",
   "name": "python3"
  },
  "language_info": {
   "codemirror_mode": {
    "name": "ipython",
    "version": 3
   },
   "file_extension": ".py",
   "mimetype": "text/x-python",
   "name": "python",
   "nbconvert_exporter": "python",
   "pygments_lexer": "ipython3",
   "version": "3.9.12"
  }
 },
 "nbformat": 4,
 "nbformat_minor": 5
}
