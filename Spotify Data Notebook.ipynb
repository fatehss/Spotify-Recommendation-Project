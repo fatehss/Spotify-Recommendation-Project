{
 "cells": [
  {
   "cell_type": "code",
   "execution_count": null,
   "id": "3f540c24",
   "metadata": {},
   "outputs": [],
   "source": [
    "!pip install -U networkx\n",
    "!pip install -U scipy"
   ]
  },
  {
   "cell_type": "code",
   "execution_count": 1,
   "id": "662ea106",
   "metadata": {
    "id": "662ea106"
   },
   "outputs": [],
   "source": [
    "import math\n",
    "import json\n",
    "import scipy\n",
    "import pandas as pd\n",
    "import os\n",
    "import os.path\n",
    "import matplotlib.pyplot as plt\n",
    "import numpy as np\n",
    "import random\n",
    "import networkx as nx\n",
    "from pathlib import Path"
   ]
  },
  {
   "cell_type": "markdown",
   "id": "a2dd32b7",
   "metadata": {
    "id": "a2dd32b7"
   },
   "source": [
    "# How to use this notebook\n",
    "\n",
    "1. Download it\n",
    "2. Download and extract the million songs dataset (link in the README.md on the repo) in the same directory as this notebook\n",
    "3. Set the DIRECTORY constant in the cell below as the directory containing the dataset\n",
    "4. You should then be able to run all of it\n",
    "\n",
    "Section 1 is making a graph to figure out how the number of followers over all the playlists is distributed\n",
    "Section 2 is removing all playlists from the dataset which have N or more fewer, and creating a new file containing playlists with only more than N followers\n",
    "Section 3 is extracting N songs randomly from a given dataset, either randomly or with a weighted random distribution. You can set the constants to change the sampling method, number of songs, and the dataset you are computing over. If you use the default dataset to pick the songs, it is quite slow (takes like 10 minutes overall), so you may want to use a smaller dataset to choose these songs. I set the dataset to the dataset containing playlists with over 5 followers and it is significantly quicker to run. "
   ]
  },
  {
   "cell_type": "markdown",
   "id": "c0d3b002",
   "metadata": {},
   "source": [
    "# Part 1: Definitions\n",
    "\n",
    "## Section 1.1: Defining the edges of the network\n",
    "\n",
    "In this section we explore several different means to quantify how similar one song is to another. We will use these similarity scores to assign weights to the edges of our network. We denote the weight of the edge from i to j as $w_{i,j}$\n",
    "\n",
    "\n"
   ]
  },
  {
   "cell_type": "markdown",
   "id": "5745450e",
   "metadata": {},
   "source": [
    "### Function that selects N songs"
   ]
  },
  {
   "cell_type": "code",
   "execution_count": 2,
   "id": "15a99b57",
   "metadata": {},
   "outputs": [],
   "source": [
    "def select_N_songs(N, SPECIFIC_FILE, WEIGHTED_RANDOM = False):\n",
    "    all_tracks = {} #stores all the songs\n",
    "    f = open(SPECIFIC_FILE)\n",
    "    data = json.load(f)\n",
    "\n",
    "    for playlist in data['playlists']:\n",
    "        for track in playlist['tracks']:\n",
    "            name = track['track_name']+', by '+ track['artist_name']\n",
    "            if name not in all_tracks:  #if it not in the dict then we add it to it and increase its weight\n",
    "                all_tracks[name] = 1 #weight is used for weighted random sampling (if needed)\n",
    "            else:\n",
    "                all_tracks[name] +=1\n",
    "    if WEIGHTED_RANDOM == False:\n",
    "        songs = random.choices(list(all_tracks.keys()), weights=None, k=N)\n",
    "    else:\n",
    "        songs = random.choices(list(all_tracks.keys()), weights=all_tracks.values(), k=N)\n",
    "    return set(songs)"
   ]
  },
  {
   "cell_type": "code",
   "execution_count": 3,
   "id": "f0f588bb",
   "metadata": {},
   "outputs": [],
   "source": [
    "#load some songs to test the methods below\n",
    "################# Constants #################\n",
    "SPECIFIC_FILE = 'generated_data/moreThan10followers.json' \n",
    "WEIGHTED_RANDOM = False   #If we want weighted random sampling or not\n",
    "N = 1000  #number of songs to consider\n",
    "\n",
    "songs = select_N_songs(N,SPECIFIC_FILE, WEIGHTED_RANDOM)\n",
    "\n",
    "############################################"
   ]
  },
  {
   "cell_type": "markdown",
   "id": "e83d1bbf",
   "metadata": {},
   "source": [
    "### Idea 1: Shared Followers\n",
    "This method assigns a weight to each edge based on the sum of likes of each playlist that both songs in the edge appear in.\n",
    "\n",
    "$w_{i,j} = \\Sigma_{p \\in P_{i,j}}{\\normalsize \\text{# likes of }p}$, where $P_{i,j}$ is the set of playlists contatining songs $i$ and $j$"
   ]
  },
  {
   "cell_type": "code",
   "execution_count": 4,
   "id": "ea09e291",
   "metadata": {
    "scrolled": true
   },
   "outputs": [],
   "source": [
    "def method1(directory, songs):\n",
    "    '''\n",
    "    Function that takes in a directory and N random songs and produces a network using the method 1 described above.\n",
    "    \n",
    "    Parameters:\n",
    "        directory - the directory containing the data (assumed to be in a single .json file)\n",
    "        songs - the N songs to select out of all the data\n",
    "    Returns:\n",
    "        edges - the constructed network\n",
    "        relations - the node-node relations useful for certain recommendation algorithms\n",
    "    '''\n",
    "    shared_playlists = [] #this will contain items of the form (weight: [weight], tracks: [tracks]) for each playlist\n",
    "    f = open(SPECIFIC_FILE) \n",
    "    data = json.load(f)\n",
    "\n",
    "    for playlist in data['playlists']:  #parse through every playlist\n",
    "\n",
    "        num_followers = playlist['num_followers']\n",
    "        temp = []\n",
    "        for track in playlist['tracks']: #if one of the random songs is in the playlist then remember it\n",
    "            name = track['track_name']+', by '+ track['artist_name']\n",
    "            if name in songs and name not in temp:\n",
    "                temp.append(name)\n",
    "\n",
    "        if (len(temp) >1): #only if a playlist has two or more of the 10k songs then we add it to our shared_playlists lits\n",
    "            item = {'weight':num_followers, 'tracks':temp}\n",
    "            shared_playlists.append(item)\n",
    "\n",
    "\n",
    "    # #Here we create the big graph\n",
    "    edges = {}\n",
    "    relations = {} #this variable stores all of the node pairs in the graph. It is useful for the playlist-generation part of the notebook\n",
    "    for song in songs:\n",
    "        relations[song] = set({})\n",
    "\n",
    "    for item in shared_playlists:\n",
    "\n",
    "        weight = item['weight']\n",
    "        tracks = item['tracks']\n",
    "        for track1 in tracks:\n",
    "            for track2 in tracks:\n",
    "                if (track1 == track2):\n",
    "                    continue\n",
    "                #now we add relations\n",
    "                if track2 not in relations[track1]:\n",
    "                    relations[track1].add(track2)\n",
    "                if track1 not in relations[track2]:\n",
    "                    relations[track2].add(track1)\n",
    "\n",
    "                #now create edge and weight\n",
    "                if (track1,track2) not in edges and (track2,track1) not in edges:\n",
    "                    edges[(track1,track2)] = weight\n",
    "                    edges[(track2,track1)] = weight\n",
    "                else:\n",
    "                    edges[(track1,track2)] += weight\n",
    "                    edges[(track2,track1)] += weight\n",
    "    return edges,relations\n",
    "        \n",
    "#print(list(method1('generated_data/moreThan10followers.json',songs)[0].items())[0:5])"
   ]
  },
  {
   "cell_type": "markdown",
   "id": "317b12e5",
   "metadata": {},
   "source": [
    "\n",
    "### Idea 2: Shared Playlists\n",
    "The weight of each edge is the number of shared playlists of the song\n",
    "\n",
    "$w_{i,j} = \\normalsize |P_{i,j}|$\n"
   ]
  },
  {
   "cell_type": "code",
   "execution_count": 5,
   "id": "4a40009a",
   "metadata": {},
   "outputs": [],
   "source": [
    "def method2(directory, songs):\n",
    "    '''\n",
    "    Function that takes in a directory and N random songs and produces a network using the method 2 described above.\n",
    "    \n",
    "    Parameters:\n",
    "        directory - the directory containing the data (assumed to be in a single .json file)\n",
    "        songs - the N songs to select out of all the data\n",
    "    Returns:\n",
    "        edges - the constructed network\n",
    "        relations - the node-node relations useful for certain recommendation algorithms\n",
    "    '''\n",
    "    shared_playlists = [] #this will contain items of the form (weight: [weight], tracks: [tracks]) for each playlist\n",
    "    f = open(SPECIFIC_FILE) \n",
    "    data = json.load(f)\n",
    "\n",
    "    for playlist in data['playlists']:  #parse through every playlist\n",
    "\n",
    "        num_followers = playlist['num_followers']\n",
    "        temp = []\n",
    "        for track in playlist['tracks']: #if one of the random songs is in the playlist then remember it\n",
    "            name = track['track_name']+', by '+ track['artist_name']\n",
    "            if name in songs and name not in temp:\n",
    "                temp.append(name)\n",
    "\n",
    "        if (len(temp) >1): #only if a playlist has two or more of the 10k songs then we add it to our shared_playlists lits\n",
    "            item = {'weight':1, 'tracks':temp}\n",
    "            shared_playlists.append(item)\n",
    "\n",
    "\n",
    "    # #Here we create the big graph\n",
    "    edges = {}\n",
    "    relations = {} #this variable stores all of the node pairs in the graph. It is useful for the playlist-generation part of the notebook\n",
    "    for song in songs:\n",
    "        relations[song] = set({})\n",
    "\n",
    "    for item in shared_playlists:\n",
    "\n",
    "        weight = item['weight']\n",
    "        tracks = item['tracks']\n",
    "        for track1 in tracks:\n",
    "            for track2 in tracks:\n",
    "                if (track1 == track2):\n",
    "                    continue\n",
    "                #now we add relations\n",
    "                if track2 not in relations[track1]:\n",
    "                    relations[track1].add(track2)\n",
    "                if track1 not in relations[track2]:\n",
    "                    relations[track2].add(track1)\n",
    "\n",
    "                #now create edge and weight\n",
    "                if (track1,track2) not in edges and (track2,track1) not in edges:\n",
    "                    edges[(track1,track2)] = weight\n",
    "                    edges[(track2,track1)] = weight\n",
    "                else:\n",
    "                    edges[(track1,track2)] += weight\n",
    "                    edges[(track2,track1)] += weight\n",
    "    return edges,relations\n",
    "        \n",
    "#print(list(method2('generated_data/moreThan10followers.json',songs)[0].items())[0:5])"
   ]
  },
  {
   "cell_type": "markdown",
   "id": "e699b46d",
   "metadata": {},
   "source": [
    "\n",
    "### Idea 3: Hybrid of 1 and 2\n",
    "Since the follower numbers of the playlists are heavily skewed, ranging from 1 to over 70k, we experiment with weighting the shared playlist number higher than the shared follower number.\n",
    "\n",
    "$w_{i,j} = \\normalsize |P_{i,j}| + log_2({\\Sigma_{p \\in P_{i,j}}{\\text{# likes of }p}})$\n",
    "\n",
    "For our purposes, we use $log_2$ to weight the follower numbers as we think it suits our data well.\n"
   ]
  },
  {
   "cell_type": "code",
   "execution_count": 6,
   "id": "7f95d5a3",
   "metadata": {},
   "outputs": [],
   "source": [
    "def method3(directory, songs):\n",
    "    '''\n",
    "    Function that takes in a directory and N random songs and produces a network using the method 2 described above.\n",
    "    \n",
    "    Parameters:\n",
    "        directory - the directory containing the data (assumed to be in a single .json file)\n",
    "        songs - the N songs to select out of all the data\n",
    "    Returns:\n",
    "        edges - the constructed network\n",
    "        relations - the node-node relations useful for certain recommendation algorithms\n",
    "    '''\n",
    "    shared_playlists = [] #this will contain items of the form (weight: [weight], tracks: [tracks]) for each playlist\n",
    "    f = open(SPECIFIC_FILE) \n",
    "    data = json.load(f)\n",
    "\n",
    "    for playlist in data['playlists']:  #parse through every playlist\n",
    "\n",
    "        num_followers = playlist['num_followers']\n",
    "        temp = []\n",
    "        for track in playlist['tracks']: #if one of the random songs is in the playlist then remember it\n",
    "            name = track['track_name']+', by '+ track['artist_name']\n",
    "            if name in songs and name not in temp:\n",
    "                temp.append(name)\n",
    "\n",
    "        if (len(temp) >1): #only if a playlist has two or more of the 10k songs then we add it to our shared_playlists lits\n",
    "            item = {'weight':num_followers, 'tracks':temp}\n",
    "            shared_playlists.append(item)\n",
    "\n",
    "\n",
    "    # #Here we create the big graph\n",
    "    edges = {}\n",
    "    relations = {} #this variable stores all of the node pairs in the graph. It is useful for the playlist-generation part of the notebook\n",
    "    for song in songs:\n",
    "        relations[song] = set({})\n",
    "\n",
    "    for item in shared_playlists:\n",
    "\n",
    "        weight = item['weight']\n",
    "        tracks = item['tracks']\n",
    "        for track1 in tracks:\n",
    "            for track2 in tracks:\n",
    "                if (track1 == track2):\n",
    "                    continue\n",
    "                #now we add relations\n",
    "                if track2 not in relations[track1]:\n",
    "                    relations[track1].add(track2)\n",
    "                if track1 not in relations[track2]:\n",
    "                    relations[track2].add(track1)\n",
    "\n",
    "                #now create edge and weight\n",
    "                if (track1,track2) not in edges and (track2,track1) not in edges:\n",
    "                    edges[(track1,track2)] = [1,weight]\n",
    "                    edges[(track2,track1)] = [1,weight]\n",
    "                else:\n",
    "                    val = edges[(track1,track2)] #store value of previous shared playlists and shared followers\n",
    "                    edges[(track1,track2)] += [val[0]+1, val[1]+weight]\n",
    "                    edges[(track2,track1)] += [val[0]+1, val[1]+weight]\n",
    "    \n",
    "    for key in edges.keys():\n",
    "        edges[key] = edges[key][0] + math.log(edges[key][1],2)\n",
    "        \n",
    "    return edges,relations\n",
    "        \n",
    "#print(list(method3('generated_data/moreThan10followers.json',songs)[0].items())[0:50])"
   ]
  },
  {
   "cell_type": "markdown",
   "id": "4ba6d720",
   "metadata": {},
   "source": [
    "\n",
    "### Idea 4: Shared Playlist Simliarity\n",
    "\n",
    "Let $p_{i,j}$ denote the fraction of playlists that song $i$ belongs to which also contain song $j$. \n",
    "Then, $ w_{i,j} = p_{i,j}$\n",
    "\n",
    "This method is different from the first three methods since the graph is directed in the sense that $w_{i,j}$ is not necessarily equal to $w_{j,i}$. However, if an edge exists from i to j then one must also exist from j to i.\n"
   ]
  },
  {
   "cell_type": "code",
   "execution_count": 13,
   "id": "c880e36d",
   "metadata": {},
   "outputs": [],
   "source": [
    "def method4(SPECIFIC_FILE, Input_Songs):\n",
    "    '''\n",
    "    \n",
    "    \n",
    "    '''\n",
    "    song_appearances ={}\n",
    "    for song in Input_Songs:\n",
    "        song_appearances[song] = set() #store the playlists for each song in a set \n",
    "        \n",
    "    f = open(SPECIFIC_FILE) \n",
    "    data = json.load(f)\n",
    "    \n",
    "    playlist_index = 0 #stores the index of the playlist\n",
    "    for playlist in data['playlists']:\n",
    "        for track in playlist['tracks']: #if one of the random songs is in the playlist then remember it\n",
    "            songname = track['track_name']+', by '+ track['artist_name']\n",
    "            if songname in Input_Songs:\n",
    "                #print('yes')\n",
    "                song_appearances[songname].add(playlist_index)\n",
    "        playlist_index+=1 \n",
    "         \n",
    "\n",
    "    #Here we create the big graph\n",
    "    edges = {}\n",
    "    relations = {} #this variable stores all of the node pairs in the graph. It is useful for the playlist-generation part of the notebook\n",
    "    for song in songs:\n",
    "        relations[song] = set({})\n",
    "    \n",
    "    for track1 in Input_Songs:\n",
    "        for track2 in Input_Songs:\n",
    "            if track1 == track2: #no self edges allowed\n",
    "                continue\n",
    "            common_playlists = song_appearances[track1].intersection(song_appearances[track2]) #find size of intersection\n",
    "            \n",
    "            if len(common_playlists) == 0: #if they share no playlist then no edge bw them\n",
    "                continue\n",
    "            else:\n",
    "                relations[track1].add(track2)\n",
    "                edges[(track1, track2)] = 100*(len(common_playlists)/len(song_appearances[track1])) #multiply by 100 for percent\n",
    "        \n",
    "\n",
    "    return edges,relations\n",
    "                \n",
    "                \n",
    "            \n",
    "                         \n",
    "#mydata = method4('generated_data/moreThan10followers.json',songs)\n",
    "\n",
    "#print(mydata[0])"
   ]
  },
  {
   "cell_type": "markdown",
   "id": "a9b3e702",
   "metadata": {},
   "source": [
    "### Idea 5: Shortest Paths\n",
    "\n",
    "We have $w_{i,j} = d_{i,j}$, where $d_{i,j}$ denotes the shortest distance between nodes i and j.\n",
    "\n",
    "This method produces good results however it is very computationally expensive (complexity of $O(N \\cdot |V|^2)|$ where $N$ is final playlist size and $V$ is set of all vertices) so it is not practical for our applications of this algorithm. "
   ]
  },
  {
   "cell_type": "code",
   "execution_count": 8,
   "id": "a59ae42f",
   "metadata": {},
   "outputs": [],
   "source": [
    "def method5(directory, songs):\n",
    "    '''\n",
    "    This method uses networkx functions that use dijkstra's algorithm to find the shortest path lengths between two nodes.\n",
    "    We do this for all pairs to produce a graph. Since dijkstra's algorithm is O(|V|^2) and we call it for |V| nodes, this\n",
    "    is the slowest method this far (in the form of its current implementation). Since our graph is not connected, we arbitrarily\n",
    "    penalize a pair of unconnected nodes by assigning an edge weight between them of 10 (from the graph analysis we did, the \n",
    "    longest path between two nodes is less than 10 for all |songs|<10000)\n",
    "    \n",
    "    Parameters:\n",
    "        directory - the directory containing the data (assumed to be in a single .json file)\n",
    "        songs - the N songs to select out of all the data\n",
    "    Returns:\n",
    "        edges - the constructed network's edges, which are the shortest distances between two nodes.\n",
    "        relations - the node-node relations useful for certain recommendation algorithms\n",
    "    '''\n",
    "    \n",
    "    \n",
    "    #first we need to call the function for method 2 to get the edges between nodes. then, we perform networkx stuff\n",
    "    edges, relations = method2(directory, songs) #get edge relations between all nodes\n",
    "\n",
    "    data = []\n",
    "    for key in edges:\n",
    "        temp = (key[0],key[1]) #make tuple of form (song1, song2, weight)\n",
    "        data.append(temp)\n",
    "    df = pd.DataFrame(data)\n",
    "    df.columns = [\"Source\",\"Target\"]\n",
    "    G = nx.from_pandas_edgelist(df, \"Source\", \"Target\")  #generate graph\n",
    "    #diameter = nx.diameter(G) #get diameter if no path between nodes exists\n",
    "    diameter = 10 #set to 10 for now\n",
    "    \n",
    "    out_relations = {}\n",
    "    for song in relations.keys():\n",
    "        out_relations[song] = set({})\n",
    "    out_edges = {}\n",
    "    for song1 in relations.keys(): #iterate over all songs with at least one edge\n",
    "        for song2 in relations.keys():\n",
    "            if (song1 != song2):\n",
    "                try:\n",
    "                    length = nx.shortest_path_length(G,song1,song2)\n",
    "                except:\n",
    "                    length = diameter\n",
    "                out_edges[(song1,song2)] = length\n",
    "                out_relations[song1].add(song2)\n",
    "\n",
    "    return out_edges, out_relations\n",
    "        \n",
    "\n",
    "#print(list(method5('generated_data/moreThan10followers.json',songs)[1].items())[0:50]) #test"
   ]
  },
  {
   "cell_type": "markdown",
   "id": "3fcd89b2",
   "metadata": {
    "id": "3fcd89b2"
   },
   "source": [
    "# Section 1.2: Implementing algorithm to generate playlists\n",
    "\n",
    "## 1.2.1: Star Graph Algorithm\n",
    "\n",
    "Here I'll try to create the playlists using the star graph recommendation method. For this I need two things - first is a recommendation algorithm based on the edges, and second is an easy way to iterate over song connections. \n",
    "\n",
    "### How this works:\n",
    "\n",
    "First we consider the one node case. We feed a single node, call it node A, into the algorithm which gives us the subset of the network with one edge at A, which is a star graph. We store this star graph in a dictionary object. The next song to be recommended is one of the edges in this graph, randomly chosen with a weighted probability distribution. Call this song B. Now, we want the playlist that we are generating to be the center of the star graph. Now, we make the center of the star graph represent both nodes A and B. We add all the edges with end to B (except those with end A) from the original dataset to the star graph. If an edge already exists between the center and another node, and B is also connected with that node, the new weight of that edge becomes the sum of the weights of those edges. This is to implement familiarity. Continue this until the desired playlist size is reached. "
   ]
  },
  {
   "cell_type": "markdown",
   "id": "c642371c",
   "metadata": {
    "id": "c642371c"
   },
   "source": [
    "Running the two cells below will initialize the network. There are some constants at the start that you need to input"
   ]
  },
  {
   "cell_type": "code",
   "execution_count": 9,
   "id": "7922166f",
   "metadata": {
    "id": "7922166f"
   },
   "outputs": [],
   "source": [
    "def recommend_song(stargraph, songs, alpha = 1):\n",
    "    '''\n",
    "    Function that will implement the recommend algorithm for a given input star graph. We are assigning weights to every \n",
    "    song in the number of songs we are operating over. The weight of each song will be the weight of the edge from it to the\n",
    "    center of the stargraph (0 otherwise) + alpha. We will then make a weighted random prediction to get the next song.\n",
    "    \n",
    "    Parameters:\n",
    "        stargraph: the input star graph. The first element is the nodes inside the graph and the second one is a dictionary \n",
    "        of node:weight pairs\n",
    "        songslist: the list of songs over which we are operating\n",
    "        alpha: value to give to every song to allow possible recommendation of songs without any edges (teleportation). 1 by default\n",
    "  \n",
    "  Returns:\n",
    "       The predicted song\n",
    "   '''\n",
    "    weights = []\n",
    "    for i in range(len(songs)):\n",
    "        song = songs[i]\n",
    "        weight = alpha\n",
    "        if song in stargraph[1]: #if there is already an edge to it\n",
    "            weight+= stargraph[1][song]\n",
    "        if song in stargraph[0]: #if it is already in our playlist\n",
    "            weight = 0\n",
    "        weights.append(weight)\n",
    "    nextsong = random.choices(songs, weights, k=1)[0] #return our weighted random choice\n",
    "    #print (nextsong)\n",
    "    return nextsong\n",
    "\n",
    "def update_graph(stargraph, songToAdd, relations, edges):\n",
    "    '''\n",
    "    Function that will update the star graph to include edges that belong to the song to add. Returns updated star graph\n",
    "    \n",
    "    Parameters:\n",
    "        stargraph: the input star graph. The first element is the nodes inside the graph and the second one is a dictionary \n",
    "        of node:weight pairs\n",
    "        songToAdd: the song to add\n",
    "        relations: the dictionary of all pairs in the graph\n",
    "        edges: the original network with all the node pair relations\n",
    "   \n",
    "   Returns:\n",
    "        The updated star graph\n",
    "    '''\n",
    "    relationsToAdd = relations[songToAdd] #give a set of all the pairs of nodes with the song to add\n",
    "    stargraphNodes = stargraph[0]\n",
    "    stargraphEdges = stargraph[1]\n",
    "    \n",
    "    for song in relationsToAdd: #go through each pair belonging to this song\n",
    "        \n",
    "        if song not in stargraphNodes:\n",
    "            if song not in stargraphEdges:\n",
    "                stargraphEdges[song] = edges[(song,songToAdd)] #add value of edge from the original network\n",
    "            else:\n",
    "                stargraphEdges[song] += edges[(song,songToAdd)]\n",
    "                \n",
    "    stargraph[0].add(songToAdd)\n",
    "    return stargraph\n",
    "    \n",
    "    \n",
    "def create_playlist(inputSongs, length,  songs, relations, edges,alpha = 1):\n",
    "    '''\n",
    "    Function that generates a recommendation playlist of length length based on an input of songs, and an input network\n",
    "    \n",
    "    Parameters:\n",
    "    inputSongs: The input songs (list)\n",
    "    length: Number of songs to add\n",
    "    songs: List of all songs\n",
    "    relations: Dictionary of all pair relations in the graph\n",
    "    edges: The original network\n",
    "    alpha: The teleportation probability in the recommendation algorithm\n",
    "    '''\n",
    "    stargraph = (set(), dict())\n",
    "    \n",
    "    for song in inputSongs: #build the star graph\n",
    "        stargraph = update_graph(stargraph, song, relations, edges) \n",
    "    \n",
    "    for i in range(length):\n",
    "        newSong = recommend_song(stargraph, songs, alpha)\n",
    "        stargraph = update_graph(stargraph, newSong, relations, edges)\n",
    "    \n",
    "    return list(stargraph[0])\n",
    "    \n",
    "    \n",
    "            \n",
    "        \n",
    "        \n",
    "    \n",
    "    "
   ]
  },
  {
   "cell_type": "markdown",
   "id": "7806d8c0",
   "metadata": {
    "id": "7806d8c0"
   },
   "source": [
    "## Using the algorithm\n",
    "\n",
    "The cells below test the algorithm"
   ]
  },
  {
   "cell_type": "code",
   "execution_count": null,
   "id": "4522710d",
   "metadata": {
    "id": "4522710d"
   },
   "outputs": [],
   "source": [
    "######################################### Constants\n",
    "\n",
    "SPECIFIC_FILE = 'generated_data/moreThan10followers.json' #Rename this to something else if you want to only consider some other dataset, \n",
    "                    #otherwise we go over all data. specify the file name/path as the name\n",
    "WEIGHTED_RANDOM = False   #If we want weighted random sampling or not\n",
    "N = 1000  #number of songs to consider\n",
    "METHOD = 'method1'  #define method to use \n",
    "METHODS = {'method1':method1, 'method2':method2, 'method3':method3}"
   ]
  },
  {
   "cell_type": "code",
   "execution_count": null,
   "id": "d80f0f40",
   "metadata": {
    "id": "d80f0f40"
   },
   "outputs": [],
   "source": [
    "######################################### LOADING SONGS FROM FILE\n",
    "#first we need to load all the songs into a dictionary so that we can randomly select N of them\n",
    "songs = list(select_N_songs(N,SPECIFIC_FILE, WEIGHTED_RANDOM))\n",
    "#print(songs)"
   ]
  },
  {
   "cell_type": "code",
   "execution_count": null,
   "id": "df2dd959",
   "metadata": {},
   "outputs": [],
   "source": [
    "#print(songs)"
   ]
  },
  {
   "cell_type": "code",
   "execution_count": null,
   "id": "d794292e",
   "metadata": {
    "id": "d794292e",
    "outputId": "6ef5bc56-23dc-4140-f58d-2178aff41fc5"
   },
   "outputs": [],
   "source": [
    "#Testing the algorithm\n",
    "inputPlaylist = []  #pick some random songs OR you can manually add some songs (in cell above)\n",
    "for i in range(5):\n",
    "    inputPlaylist.append(songs[random.randint(0,len(songs))])\n",
    "length = len(inputPlaylist)+10\n",
    "print(\"Input songs:\")\n",
    "print(inputPlaylist)\n",
    "\n",
    "gen = []\n",
    "for method in METHODS.keys():  \n",
    "    edges, relations = method1(SPECIFIC_FILE,set(songs))\n",
    "    gen.append(set(create_playlist(inputPlaylist, length, songs, relations, edges)))\n",
    "    \n",
    "for g in gen:\n",
    "    x =list(g)\n",
    "    x.sort()\n",
    "    print(x)"
   ]
  },
  {
   "cell_type": "code",
   "execution_count": null,
   "id": "e6c50591",
   "metadata": {
    "scrolled": true
   },
   "outputs": [],
   "source": [
    "print(\"Songs common in method 1 and 2:\", (gen[0].intersection(gen[1])).difference(set(inputPlaylist)))\n",
    "print(\"Songs common in method 1 and 3:\", (gen[0].intersection(gen[2])).difference(set(inputPlaylist)))\n",
    "print(\"Songs common in method 2 and 3:\", (gen[1].intersection(gen[2])).difference(set(inputPlaylist)))"
   ]
  },
  {
   "cell_type": "markdown",
   "id": "fc5f0a9c",
   "metadata": {
    "id": "fc5f0a9c"
   },
   "source": [
    "### Thoughts on algorithm\n",
    "\n",
    "Perhaps in the future using the spotify audio features api (https://developer.spotify.com/documentation/web-api/reference/#/operations/get-audio-features) we could define some kind of metric to evaluate the success of each algorithm"
   ]
  },
  {
   "cell_type": "markdown",
   "id": "fe1eb6de",
   "metadata": {},
   "source": [
    "## Section 1.2.2 Implementing Networkx\n",
    "\n",
    "The purpose of this section is to try to implement method 5 into our playlist generation\n"
   ]
  },
  {
   "cell_type": "code",
   "execution_count": null,
   "id": "6d5dcfbf",
   "metadata": {},
   "outputs": [],
   "source": [
    "path = 'presentation_data/presentation.csv' #file to be read\n",
    "df = pd.read_csv(path)\n",
    "songs = []\n",
    "for song in df['Source']:\n",
    "    songs.append(song)\n",
    "print(df.head)"
   ]
  },
  {
   "cell_type": "code",
   "execution_count": null,
   "id": "869a7642",
   "metadata": {},
   "outputs": [],
   "source": [
    "G = nx.from_pandas_edgelist(df, \"Source\", \"Target\", edge_attr = \"Weight\")  #generate graph\n",
    "\n",
    "out = []\n",
    "\n",
    "for song1 in songs:\n",
    "    paths = nx.single_source_shortest_path_length(G, song1)\n",
    "    vals = []\n",
    "    for p in paths.keys():\n",
    "        if p!=song1:\n",
    "            vals.append(paths[p])\n",
    "    out.append(vals)\n",
    "print(len(out))\n",
    "#print(nx.adjacency_matrix(G).shape)\n"
   ]
  },
  {
   "cell_type": "code",
   "execution_count": null,
   "id": "cf5d943f",
   "metadata": {},
   "outputs": [],
   "source": [
    "print((np.array(out[1])-np.array(out[2])).sum())"
   ]
  },
  {
   "cell_type": "code",
   "execution_count": null,
   "id": "43225e35",
   "metadata": {},
   "outputs": [],
   "source": [
    "#Playlist Generation using shortest paths method\n",
    "\n",
    "input_songs = ['Straight Outta Compton, by N.W.A.']\n",
    "out = input_songs\n",
    "n = 5 # number of songs to add\n",
    "sp = []\n",
    "\n",
    "for s in input_songs:\n",
    "    if sp == []:\n",
    "        sp = nx.shortest_path(G,s)\n",
    "        sp.pop(s)\n",
    "    else:\n",
    "        for key in sp.keys():\n",
    "            sp[key]+= nx.shortest_path(G,s)[key]\n",
    "        sp.pop(s)\n",
    "\n",
    "        \n",
    "for i in range (10):\n",
    "    s = min(sp, key = sp.get) #get song with lowest combined shortest path\n",
    "    out.append(s)\n",
    "    for key in sp.keys():\n",
    "        sp[key]+= nx.shortest_path(G,s)[key]\n",
    "    sp.pop(s)\n",
    "    \n",
    "print(out)"
   ]
  },
  {
   "cell_type": "code",
   "execution_count": null,
   "id": "8ba2ef9b",
   "metadata": {},
   "outputs": [],
   "source": [
    "def create_playlist_method5(input_songs, G):\n",
    "    out = input_songs\n",
    "    n = 10 # number of songs to add\n",
    "    sp = []\n",
    "\n",
    "    for s in input_songs:\n",
    "        if sp == []:\n",
    "            sp = nx.shortest_path(G,s)\n",
    "            \n",
    "            sp.pop(s) #remove this song from the shortest paths dictionary\n",
    "        else:\n",
    "            for key in sp.keys():\n",
    "                sp[key]+= nx.shortest_path(G,s)[key]\n",
    "            sp.pop(s)\n",
    "\n",
    "\n",
    "    for i in range (10):\n",
    "        s = min(sp, key = sp.get) #get song with lowest combined shortest path\n",
    "        out.append(s)\n",
    "        for key in sp.keys():\n",
    "            sp[key]+= nx.shortest_path(G,s)[key]\n",
    "        sp.pop(s)\n",
    "\n",
    "    return out\n",
    "    "
   ]
  },
  {
   "cell_type": "markdown",
   "id": "e54bf306",
   "metadata": {},
   "source": [
    "# Part 2. Using the data"
   ]
  },
  {
   "cell_type": "markdown",
   "id": "561efd48",
   "metadata": {},
   "source": [
    "### IMPORTANT: Set the directory containing the data below"
   ]
  },
  {
   "cell_type": "code",
   "execution_count": null,
   "id": "f900x3nJpM8J",
   "metadata": {
    "id": "f900x3nJpM8J"
   },
   "outputs": [],
   "source": [
    "DIRECTORY = \"spotify_million_playlist_dataset/data/\""
   ]
  },
  {
   "cell_type": "markdown",
   "id": "1f57447f",
   "metadata": {
    "id": "1f57447f"
   },
   "source": [
    "## Section 2.1. Figuring out distribution of number of followers over playlists\n",
    "\n",
    "This is just to figure out what the distribution of the followers looks like"
   ]
  },
  {
   "cell_type": "code",
   "execution_count": null,
   "id": "2e38ec2a",
   "metadata": {
    "colab": {
     "base_uri": "https://localhost:8080/"
    },
    "id": "2e38ec2a",
    "outputId": "53f204b0-95ba-4175-f7e2-2bc407691d54"
   },
   "outputs": [],
   "source": [
    "# 1. Followers numbers\n",
    "# 10,000 songs choose (Quanchi's link)\n",
    "\n",
    "\n",
    "num_followers = []\n",
    "directory = os.listdir(DIRECTORY)\n",
    "\n",
    "for file in directory:\n",
    "\n",
    "    f = open(DIRECTORY+file)\n",
    "    data = json.load(f)\n",
    "\n",
    "\n",
    "    for playlist in range(len(data['playlists'])):\n",
    "        x = data['playlists'][playlist]['num_followers']\n",
    "        num_followers += [x]\n",
    "\n",
    "num_followers = pd.Series(num_followers)\n",
    "num_followers.value_counts()\n"
   ]
  },
  {
   "cell_type": "code",
   "execution_count": null,
   "id": "5dd9d657",
   "metadata": {
    "id": "5dd9d657"
   },
   "outputs": [],
   "source": [
    "num_likes = {}\n",
    "\n",
    "for val in num_followers:\n",
    "    if val in num_likes:\n",
    "        num_likes[val] += 1\n",
    "    else:\n",
    "        num_likes[val] = 1\n",
    "\n",
    "keys = []\n",
    "for key in num_likes.keys():\n",
    "    keys += [key]\n",
    "\n",
    "keys.sort()\n",
    "\n",
    "X,y = [],[]\n",
    "\n",
    "for key in keys:\n",
    "    X +=[key]\n",
    "    y +=[num_likes[key]]\n",
    "    \n",
    "    \n",
    "#make the y-values a fraction of the size of the dataset\n",
    "y_c = y     \n",
    "for i in range(len(y_c)):\n",
    "        y_c[i] = (y_c[i]+y_c[i-1])\n",
    "\n",
    "for i in range(len(y_c)):\n",
    "    y_c[i]/= 1000000\n",
    "\n",
    "y_c\n",
    "\n",
    "\n",
    "    \n",
    "    "
   ]
  },
  {
   "cell_type": "code",
   "execution_count": null,
   "id": "4ae833b8",
   "metadata": {
    "id": "4ae833b8"
   },
   "outputs": [],
   "source": [
    "#Plot\n",
    "\n",
    "plt.plot(X[:40], y[:40],linestyle=\"-\", marker=\"o\")\n",
    "plt.ylabel(\"Fraction of playlists with followers <= than this number\")\n",
    "plt.xlabel(\"Number of Followers\")\n",
    "plt.xticks(np.arange(0,41,2))\n",
    "plt.show()\n",
    "f = plt.figure()\n",
    "f.set_figwidth(1)\n",
    "f.set_figheight(1)"
   ]
  },
  {
   "cell_type": "code",
   "execution_count": null,
   "id": "5556a4cf",
   "metadata": {
    "id": "5556a4cf"
   },
   "outputs": [],
   "source": [
    "print(1000000 - y_c[5]*1000000)\n"
   ]
  },
  {
   "cell_type": "markdown",
   "id": "f0622574",
   "metadata": {
    "id": "f0622574"
   },
   "source": [
    "## Section 2.2. Removing the majority of the playlists\n",
    "\n",
    "Removing all playlists with N or less followers "
   ]
  },
  {
   "cell_type": "code",
   "execution_count": null,
   "id": "a8ca01a8",
   "metadata": {
    "id": "a8ca01a8"
   },
   "outputs": [],
   "source": [
    "N = 10\n",
    "directory = os.listdir(DIRECTORY)\n",
    "\n",
    "moreThanN = []\n",
    "\n",
    "for file in directory:\n",
    "\n",
    "    f = open(DIRECTORY+file)\n",
    "    data = json.load(f)\n",
    "\n",
    "\n",
    "    for playlist in range(len(data['playlists'])):\n",
    "        if data['playlists'][playlist]['num_followers'] >N:  \n",
    "            moreThanN += [data['playlists'][playlist]]"
   ]
  },
  {
   "cell_type": "code",
   "execution_count": null,
   "id": "a7877ad0",
   "metadata": {
    "colab": {
     "base_uri": "https://localhost:8080/"
    },
    "id": "a7877ad0",
    "outputId": "67370876-3a87-4d5b-e9b2-602ca77fc6a4"
   },
   "outputs": [],
   "source": [
    "#sanity check\n",
    "\n",
    "len(moreThanN)"
   ]
  },
  {
   "cell_type": "code",
   "execution_count": null,
   "id": "GJeLZslQm0-c",
   "metadata": {
    "colab": {
     "base_uri": "https://localhost:8080/"
    },
    "id": "GJeLZslQm0-c",
    "outputId": "ba4ac40c-6a8b-457c-84b2-7247c3b836bd"
   },
   "outputs": [],
   "source": [
    "#Create results folder\n",
    "\n",
    "path = os.getcwd()+\"/generated_data\"\n",
    "# Check whether the specified path exists or not\n",
    "isExist = os.path.exists(path)\n",
    "if not isExist:\n",
    "\n",
    "   # Create a new directory because it does not exist\n",
    "   os.makedirs(path)\n",
    "   print(\"The new directory is created!\")"
   ]
  },
  {
   "cell_type": "code",
   "execution_count": null,
   "id": "161047a2",
   "metadata": {
    "id": "161047a2"
   },
   "outputs": [],
   "source": [
    "#SAVING DATA\n",
    "#convert to dictionary \n",
    "moreThanN_dict = {\"playlists\": moreThanN}\n",
    "\n",
    "json_object = json.dumps(moreThanN_dict, indent=4)\n",
    "with open(path+\"/moreThan\"+str(N)+\"followers.json\", \"w\") as outfile:\n",
    "    outfile.write(json_object)\n",
    "\n"
   ]
  },
  {
   "cell_type": "markdown",
   "id": "6caa0ad4",
   "metadata": {
    "id": "6caa0ad4"
   },
   "source": [
    "## Section 2.3. Choosing our songs and generating data\n",
    "\n",
    "Selecting N songs randomly and performing an analysis on them.\n",
    "\n",
    "Change the constants in the cell below to change the kind of data you create.\n",
    "\n",
    "The output of these cells will be a .csv file in the generated_data folder."
   ]
  },
  {
   "cell_type": "code",
   "execution_count": null,
   "id": "e28dc57f",
   "metadata": {
    "id": "e28dc57f"
   },
   "outputs": [],
   "source": [
    "################# Constants #################\n",
    "'''Rename this constant to the file containing the data, otherwise it will go through all of the data.\n",
    "I recommend using a file generated by the previous steps (like moreThan10followers.json) as the specific file (for instance, moreThan10followers.json) since\n",
    "the computation times will be much much faster'''\n",
    "SPECIFIC_FILE = 'generated_data/moreThan10followers.json' \n",
    "\n",
    "WEIGHTED_RANDOM = False   #If we want weighted random sampling or not\n",
    "N = 1000  #number of songs to consider\n",
    "METHOD = 'method1'  #define method to use \n",
    "METHODS = {'method1':method1, 'method2':method2, 'method3':method3, 'method4':method4} #methods  5 excluded for now\n",
    "############################################"
   ]
  },
  {
   "cell_type": "code",
   "execution_count": null,
   "id": "b8f26d39",
   "metadata": {
    "id": "b8f26d39"
   },
   "outputs": [],
   "source": [
    "'''Randomly selecting N songs'''\n",
    "songs = select_N_songs(N,SPECIFIC_FILE, WEIGHTED_RANDOM)\n",
    "\n",
    "#songs = set(songs) #convert to set"
   ]
  },
  {
   "cell_type": "code",
   "execution_count": null,
   "id": "8cac8264",
   "metadata": {
    "id": "8cac8264",
    "scrolled": true
   },
   "outputs": [],
   "source": [
    "'''Computing the graph using the desired method'''\n",
    "edges =  METHODS[METHOD](SPECIFIC_FILE, songs)[0]                "
   ]
  },
  {
   "cell_type": "code",
   "execution_count": null,
   "id": "6911605c",
   "metadata": {},
   "outputs": [],
   "source": [
    "print(len(edges))"
   ]
  },
  {
   "cell_type": "code",
   "execution_count": null,
   "id": "87ca21b2",
   "metadata": {
    "id": "87ca21b2"
   },
   "outputs": [],
   "source": [
    "'''SAVING THE DATA AS .CSV'''\n",
    "\n",
    "#converting to pd\n",
    "\n",
    "data = []\n",
    "for key in edges:\n",
    "    temp = (key[0],key[1],edges[key]) #make tuple of form (song1, song2, weight)\n",
    "    data.append(temp)\n",
    "data2 = pd.DataFrame(data)\n",
    "data2.columns = [\"Source\",\"Target\",\"Weight\"]\n",
    "\n",
    "#Create results folder\n",
    "\n",
    "path = os.getcwd()+\"/generated_data\"\n",
    "# Check whether the specified path exists or not\n",
    "isExist = os.path.exists(path)\n",
    "if not isExist:\n",
    "\n",
    "   # Create a new directory because it does not exist\n",
    "   os.makedirs(path)\n",
    "   print(\"The new directory is created!\")\n",
    "\n",
    "#Writing the file\n",
    "\n",
    "name = \"\"\n",
    "\n",
    "if (WEIGHTED_RANDOM == True):\n",
    "    name = str(N) + '_weighted_'+METHOD\n",
    "else:\n",
    "    name = str(N)+'_'+METHOD\n",
    "filename = path+'/'+name+\"_random_songs.csv\"\n",
    "filepath = Path(filename)\n",
    "while (os.path.exists(filepath)):\n",
    "    if filename[-5]=='s':\n",
    "        filename = filename[:-4]+'2'+filename[-4:]\n",
    "    else:\n",
    "        filename = filename[:-5]+str(int(filename[-5])+1)+filename[-4:]\n",
    "    filepath = Path(filename)\n",
    "\n",
    "data2.to_csv(filepath, index = False)\n",
    "    \n",
    "    \n",
    "#The data should be saved in the same folder as this notebook"
   ]
  },
  {
   "cell_type": "markdown",
   "id": "1dd2c770",
   "metadata": {},
   "source": [
    "## Section 2.4 Generating playlists using different methdos\n",
    "\n",
    "In this section, we fix a network generated from S2.3 and we create playlists from songs in that network."
   ]
  },
  {
   "cell_type": "code",
   "execution_count": 15,
   "id": "1e847f4a",
   "metadata": {
    "id": "1e847f4a"
   },
   "outputs": [],
   "source": [
    "#Load the .csv file we are working with\n",
    "SPECIFIC_FILE = 'generated_data/moreThan10followers.json' #remember directory of data\n",
    "path = 'presentation_data/presentation.csv' #file to be read\n",
    "#path = 'generated_data/1000_method1_random_songs.csv'\n",
    "df = pd.read_csv(path)\n",
    "G = nx.from_pandas_edgelist(df, \"Source\", \"Target\", edge_attr = \"Weight\")  #generate graph\n",
    "songs = set()\n",
    "for song in df['Source']:\n",
    "    songs.add(song)\n",
    "METHODS = {'method1':method1, 'method2':method2, 'method3':method3, 'method4':method4}"
   ]
  },
  {
   "cell_type": "code",
   "execution_count": 16,
   "id": "ebedaf68",
   "metadata": {},
   "outputs": [],
   "source": [
    "#Pick some song names - you could pick random ones instead by commenting out the line below and uncommenting the for loop in the next one\n",
    "inputPlaylist = ['Jersey, by Future', 'Love Scars Pt. 2 / Rack City, by Trippie Redd', 'In My Room (feat. Ty Dolla $ign & Tyga), by Yellow Claw']\n",
    "#for i in range(3):\n",
    "#    inputPlaylist.append(songs[random.randint(0,len(songs))])\n",
    "gen = []\n",
    "length = 7\n",
    "\n",
    "for method in METHODS.keys():  \n",
    "    edges, relations = METHODS[method](SPECIFIC_FILE,set(songs))\n",
    "    gen.append(set(create_playlist(inputPlaylist, length, list(songs), relations, edges)))"
   ]
  },
  {
   "cell_type": "code",
   "execution_count": 17,
   "id": "f58725d7",
   "metadata": {},
   "outputs": [
    {
     "name": "stdout",
     "output_type": "stream",
     "text": [
      "The input songs are ['Jersey, by Future', 'Love Scars Pt. 2 / Rack City, by Trippie Redd', 'In My Room (feat. Ty Dolla $ign & Tyga), by Yellow Claw']\n",
      "\n",
      "Playlist by method 1: \n",
      "{'Wowzerz, by Lil Wayne', 'Jersey, by Future', 'New Phone, Who Dis?, by Flatbush Zombies', 'Free Money, by K CAMP', 'Love Scars Pt. 2 / Rack City, by Trippie Redd', 'Swang, by Rae Sremmurd', 'A Tale of 2 Citiez, by J. Cole', 'Sparks (Turn off your Mind) - Atmozfears & Audiotricz Radio, by Fedde Le Grand', 'Get Right Witcha, by Migos', 'In My Room (feat. Ty Dolla $ign & Tyga), by Yellow Claw'}\n",
      "\n",
      "\n",
      "\n",
      "Playlist by method 2: \n",
      "{'Respira - Club Mix Version, by Alkilados', 'Jersey, by Future', 'Love Scars Pt. 2 / Rack City, by Trippie Redd', 'Safe in the Steep Cliffs, by Emancipator', 'Comeback Kid, by Brett Dennen', 'Crossroad, by Alexandre Desplat', 'Hare un Altar para Ti, by Inspiraciòn', 'Bass Cannon - Dubstep Remix, by Swan', 'Let Me Praise Him, by Euclid Gray', 'In My Room (feat. Ty Dolla $ign & Tyga), by Yellow Claw'}\n",
      "\n",
      "\n",
      "\n",
      "Playlist by method 3: \n",
      "{'Survival of the Fittest, by Mobb Deep', 'Born In The Echoes, by The Chemical Brothers', 'Jersey, by Future', 'Lord of the Rings (Dubstep Rap Remix), by None Like Joshua', 'Love Scars Pt. 2 / Rack City, by Trippie Redd', 'Dancing In The Dark - From The \"Home\" Soundtrack, by Rihanna', 'Hyperparadise - Flume Mixtape Version, by Flume', \"I Don't Wanna Love Somebody Else, by A Great Big World\", 'Sleep With A Stranger, by Nikki Lane', 'In My Room (feat. Ty Dolla $ign & Tyga), by Yellow Claw'}\n",
      "\n",
      "\n",
      "\n",
      "Playlist by method 4: \n",
      "{'All That, by Dillon Francis', 'Jersey, by Future', 'Love Scars Pt. 2 / Rack City, by Trippie Redd', 'Think of You (feat. Meiko), by Morgan Page', '100 Joints, by 2 Chainz', 'No Games, by Rick Ross', 'Freak - feat. Steve Bays, by Steve Aoki', \"Can't Stop The Swag, by Steve Aoki & Coone\", 'In My Room (feat. Ty Dolla $ign & Tyga), by Yellow Claw', 'Tic Toc, by Bingo Players'}\n",
      "\n",
      "\n",
      "\n"
     ]
    }
   ],
   "source": [
    "print(\"The input songs are \" + str(inputPlaylist) +'\\n')\n",
    "for i in range(len(gen)):\n",
    "    print(\"Playlist by method \"+str(i+1)+': ')\n",
    "    print(gen[i])\n",
    "    print('\\n\\n')"
   ]
  }
 ],
 "metadata": {
  "colab": {
   "provenance": []
  },
  "kernelspec": {
   "display_name": "Python 3",
   "language": "python",
   "name": "python3"
  },
  "language_info": {
   "codemirror_mode": {
    "name": "ipython",
    "version": 3
   },
   "file_extension": ".py",
   "mimetype": "text/x-python",
   "name": "python",
   "nbconvert_exporter": "python",
   "pygments_lexer": "ipython3",
   "version": "3.8.8"
  }
 },
 "nbformat": 4,
 "nbformat_minor": 5
}
