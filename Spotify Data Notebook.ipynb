{
 "cells": [
  {
   "cell_type": "code",
   "execution_count": null,
   "id": "3f540c24",
   "metadata": {},
   "outputs": [],
   "source": [
    "!pip install -U networkx\n",
    "!pip install -U scipy"
   ]
  },
  {
   "cell_type": "code",
   "execution_count": 1,
   "id": "662ea106",
   "metadata": {
    "id": "662ea106"
   },
   "outputs": [],
   "source": [
    "import math\n",
    "import json\n",
    "import scipy\n",
    "import pandas as pd\n",
    "import os\n",
    "import os.path\n",
    "import matplotlib.pyplot as plt\n",
    "import numpy as np\n",
    "import random\n",
    "import networkx as nx\n",
    "from pathlib import Path"
   ]
  },
  {
   "cell_type": "code",
   "execution_count": null,
   "id": "f0b82eba",
   "metadata": {},
   "outputs": [],
   "source": [
    "print (nx.__version__)\n",
    "print(scipy.__version__)"
   ]
  },
  {
   "cell_type": "code",
   "execution_count": null,
   "id": "U-wHnUm3kYnZ",
   "metadata": {
    "colab": {
     "base_uri": "https://localhost:8080/"
    },
    "id": "U-wHnUm3kYnZ",
    "outputId": "41f12f03-7583-4725-8e87-cffb40a18970"
   },
   "outputs": [],
   "source": [
    "#optional cell if using drive:\n",
    "#if using drive the file creeation will not work!\n",
    "#from google.colab import drive\n",
    "#drive.mount('/content/gdrive')"
   ]
  },
  {
   "cell_type": "markdown",
   "id": "a2dd32b7",
   "metadata": {
    "id": "a2dd32b7"
   },
   "source": [
    "\n",
    "\n",
    "# Section 0: Getting data from million songs playlists\n",
    "\n",
    "### How to use this notebook\n",
    "\n",
    "1. Download it\n",
    "2. Download and extract the million songs dataset (link in the README.md on the repo) in the same directory as this notebook\n",
    "3. Set the DIRECTORY constant in the cell below as the directory containing the dataset\n",
    "4. You should then be able to run all of it\n",
    "\n",
    "Section 1 is making a graph to figure out how the number of followers over all the playlists is distributed\n",
    "Section 2 is removing all playlists from the dataset which have N or more fewer, and creating a new file containing playlists with only more than N followers\n",
    "Section 3 is extracting N songs randomly from a given dataset, either randomly or with a weighted random distribution. You can set the constants to change the sampling method, number of songs, and the dataset you are computing over. If you use the default dataset to pick the songs, it is quite slow (takes like 10 minutes overall), so you may want to use a smaller dataset to choose these songs. I set the dataset to the dataset containing playlists with over 5 followers and it is significantly quicker to run. "
   ]
  },
  {
   "cell_type": "markdown",
   "id": "561efd48",
   "metadata": {},
   "source": [
    "### IMPORTANT: Set the directory containing the data below"
   ]
  },
  {
   "cell_type": "code",
   "execution_count": null,
   "id": "f900x3nJpM8J",
   "metadata": {
    "id": "f900x3nJpM8J"
   },
   "outputs": [],
   "source": [
    "DIRECTORY = \"spotify_million_playlist_dataset/data/\""
   ]
  },
  {
   "cell_type": "markdown",
   "id": "1f57447f",
   "metadata": {
    "id": "1f57447f"
   },
   "source": [
    "### 1. Figuring out distribution of number of followers over playlists\n",
    "\n",
    "This is just to figure out what the distribution of the followers looks like"
   ]
  },
  {
   "cell_type": "code",
   "execution_count": null,
   "id": "2e38ec2a",
   "metadata": {
    "colab": {
     "base_uri": "https://localhost:8080/"
    },
    "id": "2e38ec2a",
    "outputId": "53f204b0-95ba-4175-f7e2-2bc407691d54"
   },
   "outputs": [],
   "source": [
    "# 1. Followers numbers\n",
    "# 10,000 songs choose (Quanchi's link)\n",
    "\n",
    "\n",
    "num_followers = []\n",
    "directory = os.listdir(DIRECTORY)\n",
    "\n",
    "for file in directory:\n",
    "\n",
    "    f = open(DIRECTORY+file)\n",
    "    data = json.load(f)\n",
    "\n",
    "\n",
    "    for playlist in range(len(data['playlists'])):\n",
    "        x = data['playlists'][playlist]['num_followers']\n",
    "        num_followers += [x]\n",
    "\n",
    "num_followers = pd.Series(num_followers)\n",
    "num_followers.value_counts()\n"
   ]
  },
  {
   "cell_type": "code",
   "execution_count": null,
   "id": "5dd9d657",
   "metadata": {
    "id": "5dd9d657"
   },
   "outputs": [],
   "source": [
    "num_likes = {}\n",
    "\n",
    "for val in num_followers:\n",
    "    if val in num_likes:\n",
    "        num_likes[val] += 1\n",
    "    else:\n",
    "        num_likes[val] = 1\n",
    "\n",
    "keys = []\n",
    "for key in num_likes.keys():\n",
    "    keys += [key]\n",
    "\n",
    "keys.sort()\n",
    "\n",
    "X,y = [],[]\n",
    "\n",
    "for key in keys:\n",
    "    X +=[key]\n",
    "    y +=[num_likes[key]]\n",
    "    \n",
    "    \n",
    "#make the y-values a fraction of the size of the dataset\n",
    "y_c = y     \n",
    "for i in range(len(y_c)):\n",
    "        y_c[i] = (y_c[i]+y_c[i-1])\n",
    "\n",
    "for i in range(len(y_c)):\n",
    "    y_c[i]/= 1000000\n",
    "\n",
    "y_c\n",
    "\n",
    "\n",
    "    \n",
    "    "
   ]
  },
  {
   "cell_type": "code",
   "execution_count": null,
   "id": "4ae833b8",
   "metadata": {
    "id": "4ae833b8"
   },
   "outputs": [],
   "source": [
    "#Plot\n",
    "\n",
    "plt.plot(X[:40], y[:40],linestyle=\"-\", marker=\"o\")\n",
    "plt.ylabel(\"Fraction of playlists with followers <= than this number\")\n",
    "plt.xlabel(\"Number of Followers\")\n",
    "plt.xticks(np.arange(0,41,2))\n",
    "plt.show()\n",
    "f = plt.figure()\n",
    "f.set_figwidth(1)\n",
    "f.set_figheight(1)"
   ]
  },
  {
   "cell_type": "code",
   "execution_count": null,
   "id": "5556a4cf",
   "metadata": {
    "id": "5556a4cf"
   },
   "outputs": [],
   "source": [
    "print(1000000 - y_c[5]*1000000)\n"
   ]
  },
  {
   "cell_type": "markdown",
   "id": "f0622574",
   "metadata": {
    "id": "f0622574"
   },
   "source": [
    "### 2. Removing the majority of the playlists\n",
    "\n",
    "Removing all playlists with N or less followers "
   ]
  },
  {
   "cell_type": "code",
   "execution_count": null,
   "id": "a8ca01a8",
   "metadata": {
    "id": "a8ca01a8"
   },
   "outputs": [],
   "source": [
    "N = 10\n",
    "directory = os.listdir(DIRECTORY)\n",
    "\n",
    "moreThanN = []\n",
    "\n",
    "for file in directory:\n",
    "\n",
    "    f = open(DIRECTORY+file)\n",
    "    data = json.load(f)\n",
    "\n",
    "\n",
    "    for playlist in range(len(data['playlists'])):\n",
    "        if data['playlists'][playlist]['num_followers'] >N:  \n",
    "            moreThanN += [data['playlists'][playlist]]"
   ]
  },
  {
   "cell_type": "code",
   "execution_count": null,
   "id": "a7877ad0",
   "metadata": {
    "colab": {
     "base_uri": "https://localhost:8080/"
    },
    "id": "a7877ad0",
    "outputId": "67370876-3a87-4d5b-e9b2-602ca77fc6a4"
   },
   "outputs": [],
   "source": [
    "#sanity check\n",
    "\n",
    "len(moreThanN)"
   ]
  },
  {
   "cell_type": "code",
   "execution_count": null,
   "id": "GJeLZslQm0-c",
   "metadata": {
    "colab": {
     "base_uri": "https://localhost:8080/"
    },
    "id": "GJeLZslQm0-c",
    "outputId": "ba4ac40c-6a8b-457c-84b2-7247c3b836bd"
   },
   "outputs": [],
   "source": [
    "#Create results folder\n",
    "\n",
    "path = os.getcwd()+\"/generated_data\"\n",
    "# Check whether the specified path exists or not\n",
    "isExist = os.path.exists(path)\n",
    "if not isExist:\n",
    "\n",
    "   # Create a new directory because it does not exist\n",
    "   os.makedirs(path)\n",
    "   print(\"The new directory is created!\")"
   ]
  },
  {
   "cell_type": "code",
   "execution_count": null,
   "id": "161047a2",
   "metadata": {
    "id": "161047a2"
   },
   "outputs": [],
   "source": [
    "#SAVING DATA\n",
    "#convert to dictionary \n",
    "moreThanN_dict = {\"playlists\": moreThanN}\n",
    "\n",
    "json_object = json.dumps(moreThanN_dict, indent=4)\n",
    "with open(path+\"/moreThan\"+str(N)+\"followers.json\", \"w\") as outfile:\n",
    "    outfile.write(json_object)\n",
    "\n"
   ]
  },
  {
   "cell_type": "code",
   "execution_count": 2,
   "id": "15a99b57",
   "metadata": {},
   "outputs": [],
   "source": [
    "def select_N_songs(N, SPECIFIC_FILE, WEIGHTED_RANDOM = False):\n",
    "    all_tracks = {} #stores all the songs\n",
    "    f = open(SPECIFIC_FILE)\n",
    "    data = json.load(f)\n",
    "\n",
    "    for playlist in data['playlists']:\n",
    "        for track in playlist['tracks']:\n",
    "            name = track['track_name']+', by '+ track['artist_name']\n",
    "            if name not in all_tracks:  #if it not in the dict then we add it to it and increase its weight\n",
    "                all_tracks[name] = 1 #weight is used for weighted random sampling (if needed)\n",
    "            else:\n",
    "                all_tracks[name] +=1\n",
    "    if WEIGHTED_RANDOM == False:\n",
    "        songs = random.choices(list(all_tracks.keys()), weights=None, k=N)\n",
    "    else:\n",
    "        songs = random.choices(list(all_tracks.keys()), weights=all_tracks.values(), k=N)\n",
    "    return set(songs)"
   ]
  },
  {
   "cell_type": "markdown",
   "id": "c0d3b002",
   "metadata": {},
   "source": [
    "# Section 1: Defining the edges of the network\n",
    "\n",
    "In this section we explore several different means to quantify how similar one song is to another. We will use these similarity scores to assign weights to the edges of our network. \n",
    "\n",
    "\n"
   ]
  },
  {
   "cell_type": "code",
   "execution_count": 3,
   "id": "f0f588bb",
   "metadata": {},
   "outputs": [],
   "source": [
    "#load some songs to test the methods below\n",
    "################# Constants #################\n",
    "SPECIFIC_FILE = 'generated_data/moreThan10followers.json' \n",
    "WEIGHTED_RANDOM = False   #If we want weighted random sampling or not\n",
    "N = 2000  #number of songs to consider\n",
    "\n",
    "songs = select_N_songs(N,SPECIFIC_FILE, WEIGHTED_RANDOM)\n",
    "\n",
    "############################################"
   ]
  },
  {
   "cell_type": "markdown",
   "id": "e83d1bbf",
   "metadata": {},
   "source": [
    "### Idea 1: Shared Followers\n",
    "This method assigns a weight to each edge based on the sum of likes of each playlist that both songs in the edge appear in.\n",
    "\n",
    "$w_{i,j} = \\Sigma_{p \\in P_{i,j}}{\\normalsize \\text{# likes of }p}$, where $P_{i,j}$ is the set of playlists contatining songs $i$ and $j$"
   ]
  },
  {
   "cell_type": "code",
   "execution_count": 4,
   "id": "ea09e291",
   "metadata": {
    "scrolled": true
   },
   "outputs": [
    {
     "name": "stdout",
     "output_type": "stream",
     "text": [
      "[((\"Ain't No Other Man, by Christina Aguilera\", 'Hollaback Girl, by Gwen Stefani'), 336), (('Hollaback Girl, by Gwen Stefani', \"Ain't No Other Man, by Christina Aguilera\"), 336), ((\"Ain't No Other Man, by Christina Aguilera\", 'Gold Digger, by Kanye West'), 106), (('Gold Digger, by Kanye West', \"Ain't No Other Man, by Christina Aguilera\"), 106), ((\"Ain't No Other Man, by Christina Aguilera\", 'Some Nights, by fun.'), 26)]\n"
     ]
    }
   ],
   "source": [
    "def method1(directory, songs):\n",
    "    '''\n",
    "    Function that takes in a directory and N random songs and produces a network using the method 1 described above.\n",
    "    \n",
    "    Parameters:\n",
    "        directory - the directory containing the data (assumed to be in a single .json file)\n",
    "        songs - the N songs to select out of all the data\n",
    "    Returns:\n",
    "        edges - the constructed network\n",
    "        relations - the node-node relations useful for certain recommendation algorithms\n",
    "    '''\n",
    "    shared_playlists = [] #this will contain items of the form (weight: [weight], tracks: [tracks]) for each playlist\n",
    "    f = open(SPECIFIC_FILE) \n",
    "    data = json.load(f)\n",
    "\n",
    "    for playlist in data['playlists']:  #parse through every playlist\n",
    "\n",
    "        num_followers = playlist['num_followers']\n",
    "        temp = []\n",
    "        for track in playlist['tracks']: #if one of the random songs is in the playlist then remember it\n",
    "            name = track['track_name']+', by '+ track['artist_name']\n",
    "            if name in songs and name not in temp:\n",
    "                temp.append(name)\n",
    "\n",
    "        if (len(temp) >1): #only if a playlist has two or more of the 10k songs then we add it to our shared_playlists lits\n",
    "            item = {'weight':num_followers, 'tracks':temp}\n",
    "            shared_playlists.append(item)\n",
    "\n",
    "\n",
    "    # #Here we create the big graph\n",
    "    edges = {}\n",
    "    relations = {} #this variable stores all of the node pairs in the graph. It is useful for the playlist-generation part of the notebook\n",
    "    for song in songs:\n",
    "        relations[song] = set({})\n",
    "\n",
    "    for item in shared_playlists:\n",
    "\n",
    "        weight = item['weight']\n",
    "        tracks = item['tracks']\n",
    "        for track1 in tracks:\n",
    "            for track2 in tracks:\n",
    "                if (track1 == track2):\n",
    "                    continue\n",
    "                #now we add relations\n",
    "                if track2 not in relations[track1]:\n",
    "                    relations[track1].add(track2)\n",
    "                if track1 not in relations[track2]:\n",
    "                    relations[track2].add(track1)\n",
    "\n",
    "                #now create edge and weight\n",
    "                if (track1,track2) not in edges and (track2,track1) not in edges:\n",
    "                    edges[(track1,track2)] = weight\n",
    "                    edges[(track2,track1)] = weight\n",
    "                else:\n",
    "                    edges[(track1,track2)] += weight\n",
    "                    edges[(track2,track1)] += weight\n",
    "    return edges,relations\n",
    "        \n",
    "print(list(method1('generated_data/moreThan10followers.json',songs)[0].items())[0:5])"
   ]
  },
  {
   "cell_type": "markdown",
   "id": "317b12e5",
   "metadata": {},
   "source": [
    "\n",
    "### Idea 2: Shared Playlists\n",
    "The weight of each edge is the number of shared playlists of the song\n",
    "\n",
    "$w_{i,j} = \\normalsize |P_{i,j}|$\n"
   ]
  },
  {
   "cell_type": "code",
   "execution_count": 5,
   "id": "4a40009a",
   "metadata": {},
   "outputs": [
    {
     "name": "stdout",
     "output_type": "stream",
     "text": [
      "[((\"Ain't No Other Man, by Christina Aguilera\", 'Hollaback Girl, by Gwen Stefani'), 10), (('Hollaback Girl, by Gwen Stefani', \"Ain't No Other Man, by Christina Aguilera\"), 10), ((\"Ain't No Other Man, by Christina Aguilera\", 'Gold Digger, by Kanye West'), 8), (('Gold Digger, by Kanye West', \"Ain't No Other Man, by Christina Aguilera\"), 8), ((\"Ain't No Other Man, by Christina Aguilera\", 'Some Nights, by fun.'), 2)]\n"
     ]
    }
   ],
   "source": [
    "def method2(directory, songs):\n",
    "    '''\n",
    "    Function that takes in a directory and N random songs and produces a network using the method 2 described above.\n",
    "    \n",
    "    Parameters:\n",
    "        directory - the directory containing the data (assumed to be in a single .json file)\n",
    "        songs - the N songs to select out of all the data\n",
    "    Returns:\n",
    "        edges - the constructed network\n",
    "        relations - the node-node relations useful for certain recommendation algorithms\n",
    "    '''\n",
    "    shared_playlists = [] #this will contain items of the form (weight: [weight], tracks: [tracks]) for each playlist\n",
    "    f = open(SPECIFIC_FILE) \n",
    "    data = json.load(f)\n",
    "\n",
    "    for playlist in data['playlists']:  #parse through every playlist\n",
    "\n",
    "        num_followers = playlist['num_followers']\n",
    "        temp = []\n",
    "        for track in playlist['tracks']: #if one of the random songs is in the playlist then remember it\n",
    "            name = track['track_name']+', by '+ track['artist_name']\n",
    "            if name in songs and name not in temp:\n",
    "                temp.append(name)\n",
    "\n",
    "        if (len(temp) >1): #only if a playlist has two or more of the 10k songs then we add it to our shared_playlists lits\n",
    "            item = {'weight':1, 'tracks':temp}\n",
    "            shared_playlists.append(item)\n",
    "\n",
    "\n",
    "    # #Here we create the big graph\n",
    "    edges = {}\n",
    "    relations = {} #this variable stores all of the node pairs in the graph. It is useful for the playlist-generation part of the notebook\n",
    "    for song in songs:\n",
    "        relations[song] = set({})\n",
    "\n",
    "    for item in shared_playlists:\n",
    "\n",
    "        weight = item['weight']\n",
    "        tracks = item['tracks']\n",
    "        for track1 in tracks:\n",
    "            for track2 in tracks:\n",
    "                if (track1 == track2):\n",
    "                    continue\n",
    "                #now we add relations\n",
    "                if track2 not in relations[track1]:\n",
    "                    relations[track1].add(track2)\n",
    "                if track1 not in relations[track2]:\n",
    "                    relations[track2].add(track1)\n",
    "\n",
    "                #now create edge and weight\n",
    "                if (track1,track2) not in edges and (track2,track1) not in edges:\n",
    "                    edges[(track1,track2)] = weight\n",
    "                    edges[(track2,track1)] = weight\n",
    "                else:\n",
    "                    edges[(track1,track2)] += weight\n",
    "                    edges[(track2,track1)] += weight\n",
    "    return edges,relations\n",
    "        \n",
    "print(list(method2('generated_data/moreThan10followers.json',songs)[0].items())[0:5])"
   ]
  },
  {
   "cell_type": "markdown",
   "id": "e699b46d",
   "metadata": {},
   "source": [
    "\n",
    "### Idea 3: Hybrid of 1 and 2\n",
    "Since the follower numbers of the playlists are heavily skewed, ranging from 1 to over 70k, we experiment with weighting the shared playlist number higher than the shared follower number.\n",
    "\n",
    "$w_{i,j} = \\normalsize |P_{i,j}| + log_2({\\Sigma_{p \\in P_{i,j}}{\\text{# likes of }p}})$\n",
    "\n",
    "For our purposes, we use $log_2$ to weight the follower numbers as we think it suits our data well.\n"
   ]
  },
  {
   "cell_type": "code",
   "execution_count": 6,
   "id": "7f95d5a3",
   "metadata": {},
   "outputs": [
    {
     "name": "stdout",
     "output_type": "stream",
     "text": [
      "[((\"Ain't No Other Man, by Christina Aguilera\", 'Hollaback Girl, by Gwen Stefani'), 4.700439718141093), (('Hollaback Girl, by Gwen Stefani', \"Ain't No Other Man, by Christina Aguilera\"), 4.700439718141093), ((\"Ain't No Other Man, by Christina Aguilera\", 'Gold Digger, by Kanye West'), 4.700439718141093), (('Gold Digger, by Kanye West', \"Ain't No Other Man, by Christina Aguilera\"), 4.700439718141093), ((\"Ain't No Other Man, by Christina Aguilera\", 'Some Nights, by fun.'), 4.700439718141093), (('Some Nights, by fun.', \"Ain't No Other Man, by Christina Aguilera\"), 4.700439718141093), ((\"Ain't No Other Man, by Christina Aguilera\", 'Rehab, by Rihanna'), 4.700439718141093), (('Rehab, by Rihanna', \"Ain't No Other Man, by Christina Aguilera\"), 4.700439718141093), (('Hollaback Girl, by Gwen Stefani', 'Gold Digger, by Kanye West'), 4.700439718141093), (('Gold Digger, by Kanye West', 'Hollaback Girl, by Gwen Stefani'), 4.700439718141093), (('Hollaback Girl, by Gwen Stefani', 'Some Nights, by fun.'), 4.700439718141093), (('Some Nights, by fun.', 'Hollaback Girl, by Gwen Stefani'), 4.700439718141093), (('Hollaback Girl, by Gwen Stefani', 'Rehab, by Rihanna'), 4.700439718141093), (('Rehab, by Rihanna', 'Hollaback Girl, by Gwen Stefani'), 4.700439718141093), (('Gold Digger, by Kanye West', 'Some Nights, by fun.'), 4.700439718141093), (('Some Nights, by fun.', 'Gold Digger, by Kanye West'), 4.700439718141093), (('Gold Digger, by Kanye West', 'Rehab, by Rihanna'), 4.700439718141093), (('Rehab, by Rihanna', 'Gold Digger, by Kanye West'), 4.700439718141093), (('Some Nights, by fun.', 'Rehab, by Rihanna'), 4.700439718141093), (('Rehab, by Rihanna', 'Some Nights, by fun.'), 4.700439718141093), (('Party For Two - Country Version With Intro, by Shania Twain', \"Goin' Through The Big D, by Mark Chesnutt\"), 6.7279204545632), ((\"Goin' Through The Big D, by Mark Chesnutt\", 'Party For Two - Country Version With Intro, by Shania Twain'), 6.7279204545632), (('Party For Two - Country Version With Intro, by Shania Twain', 'Little Red Rodeo, by Phil Vassar'), 6.7279204545632), (('Little Red Rodeo, by Phil Vassar', 'Party For Two - Country Version With Intro, by Shania Twain'), 6.7279204545632), (('Party For Two - Country Version With Intro, by Shania Twain', \"Help Pour Out the Rain (Lacey's Song), by Buddy Jewell\"), 6.7279204545632), ((\"Help Pour Out the Rain (Lacey's Song), by Buddy Jewell\", 'Party For Two - Country Version With Intro, by Shania Twain'), 6.7279204545632), ((\"Goin' Through The Big D, by Mark Chesnutt\", 'Little Red Rodeo, by Phil Vassar'), 6.7279204545632), (('Little Red Rodeo, by Phil Vassar', \"Goin' Through The Big D, by Mark Chesnutt\"), 6.7279204545632), ((\"Goin' Through The Big D, by Mark Chesnutt\", \"Help Pour Out the Rain (Lacey's Song), by Buddy Jewell\"), 6.7279204545632), ((\"Help Pour Out the Rain (Lacey's Song), by Buddy Jewell\", \"Goin' Through The Big D, by Mark Chesnutt\"), 6.7279204545632), (('Little Red Rodeo, by Phil Vassar', \"Help Pour Out the Rain (Lacey's Song), by Buddy Jewell\"), 6.7279204545632), ((\"Help Pour Out the Rain (Lacey's Song), by Buddy Jewell\", 'Little Red Rodeo, by Phil Vassar'), 6.7279204545632), (('Little Games - St. Lucia Remix, by The Colourist', 'Seve - Radio Edit, by Tez Cadey'), 4.584962500721156), (('Seve - Radio Edit, by Tez Cadey', 'Little Games - St. Lucia Remix, by The Colourist'), 4.584962500721156), (('Stan, by Eminem', 'Some Nights, by fun.'), 4.459431618637298), (('Some Nights, by fun.', 'Stan, by Eminem'), 4.459431618637298), (('Stan, by Eminem', 'Burn, by Ellie Goulding'), 4.459431618637298), (('Burn, by Ellie Goulding', 'Stan, by Eminem'), 4.459431618637298), (('Stan, by Eminem', 'Football Season is Over - After the Night Remix, by Bring Me The Horizon'), 4.459431618637298), (('Football Season is Over - After the Night Remix, by Bring Me The Horizon', 'Stan, by Eminem'), 4.459431618637298), (('Stan, by Eminem', 'Suicide Season - Outcry Collective Remix, by Bring Me The Horizon'), 4.459431618637298), (('Suicide Season - Outcry Collective Remix, by Bring Me The Horizon', 'Stan, by Eminem'), 4.459431618637298), (('Stan, by Eminem', 'Like We Did [Windows Down], by The Maine'), 4.459431618637298), (('Like We Did [Windows Down], by The Maine', 'Stan, by Eminem'), 4.459431618637298), (('Stan, by Eminem', 'Take Me Dancing, by The Maine'), 4.459431618637298), (('Take Me Dancing, by The Maine', 'Stan, by Eminem'), 4.459431618637298), (('Stan, by Eminem', 'Right Girl, by The Maine'), 4.459431618637298), (('Right Girl, by The Maine', 'Stan, by Eminem'), 4.459431618637298), (('Stan, by Eminem', 'Die Young Live Forever, by We The Kings'), 4.459431618637298), (('Die Young Live Forever, by We The Kings', 'Stan, by Eminem'), 4.459431618637298)]\n"
     ]
    }
   ],
   "source": [
    "def method3(directory, songs):\n",
    "    '''\n",
    "    Function that takes in a directory and N random songs and produces a network using the method 2 described above.\n",
    "    \n",
    "    Parameters:\n",
    "        directory - the directory containing the data (assumed to be in a single .json file)\n",
    "        songs - the N songs to select out of all the data\n",
    "    Returns:\n",
    "        edges - the constructed network\n",
    "        relations - the node-node relations useful for certain recommendation algorithms\n",
    "    '''\n",
    "    shared_playlists = [] #this will contain items of the form (weight: [weight], tracks: [tracks]) for each playlist\n",
    "    f = open(SPECIFIC_FILE) \n",
    "    data = json.load(f)\n",
    "\n",
    "    for playlist in data['playlists']:  #parse through every playlist\n",
    "\n",
    "        num_followers = playlist['num_followers']\n",
    "        temp = []\n",
    "        for track in playlist['tracks']: #if one of the random songs is in the playlist then remember it\n",
    "            name = track['track_name']+', by '+ track['artist_name']\n",
    "            if name in songs and name not in temp:\n",
    "                temp.append(name)\n",
    "\n",
    "        if (len(temp) >1): #only if a playlist has two or more of the 10k songs then we add it to our shared_playlists lits\n",
    "            item = {'weight':num_followers, 'tracks':temp}\n",
    "            shared_playlists.append(item)\n",
    "\n",
    "\n",
    "    # #Here we create the big graph\n",
    "    edges = {}\n",
    "    relations = {} #this variable stores all of the node pairs in the graph. It is useful for the playlist-generation part of the notebook\n",
    "    for song in songs:\n",
    "        relations[song] = set({})\n",
    "\n",
    "    for item in shared_playlists:\n",
    "\n",
    "        weight = item['weight']\n",
    "        tracks = item['tracks']\n",
    "        for track1 in tracks:\n",
    "            for track2 in tracks:\n",
    "                if (track1 == track2):\n",
    "                    continue\n",
    "                #now we add relations\n",
    "                if track2 not in relations[track1]:\n",
    "                    relations[track1].add(track2)\n",
    "                if track1 not in relations[track2]:\n",
    "                    relations[track2].add(track1)\n",
    "\n",
    "                #now create edge and weight\n",
    "                if (track1,track2) not in edges and (track2,track1) not in edges:\n",
    "                    edges[(track1,track2)] = [1,weight]\n",
    "                    edges[(track2,track1)] = [1,weight]\n",
    "                else:\n",
    "                    val = edges[(track1,track2)] #store value of previous shared playlists and shared followers\n",
    "                    edges[(track1,track2)] += [val[0]+1, val[1]+weight]\n",
    "                    edges[(track2,track1)] += [val[0]+1, val[1]+weight]\n",
    "    \n",
    "    for key in edges.keys():\n",
    "        edges[key] = edges[key][0] + math.log(edges[key][1],2)\n",
    "        \n",
    "    return edges,relations\n",
    "        \n",
    "print(list(method3('generated_data/moreThan10followers.json',songs)[0].items())[0:50])"
   ]
  },
  {
   "cell_type": "markdown",
   "id": "4ba6d720",
   "metadata": {},
   "source": [
    "\n",
    "### Idea 4: Shared Playlist Simliarity\n",
    "\n",
    "Let $p_{i,j}$ denote the fraction of playlists that song $i$ belongs to which also contain song $j$. \n",
    "Then, $ w_{i,j} = \\large \\frac{p_{i,j}\\cdot p_{j,i}}{2}$\n",
    "\n",
    "I.e, this is the average of the fraction of all playlists containing one song that also contain the other\n"
   ]
  },
  {
   "cell_type": "code",
   "execution_count": null,
   "id": "c880e36d",
   "metadata": {},
   "outputs": [],
   "source": []
  },
  {
   "cell_type": "markdown",
   "id": "a9b3e702",
   "metadata": {},
   "source": [
    "### Idea 5: Shortest Paths\n",
    "\n",
    "We have $w_{i,j} = d_{i,j}$, where $d_{i,j}$ denotes the shortest distance between nodes i and j"
   ]
  },
  {
   "cell_type": "code",
   "execution_count": null,
   "id": "a59ae42f",
   "metadata": {},
   "outputs": [],
   "source": [
    "def method5(directory, songs):\n",
    "    '''\n",
    "    This method uses networkx functions that use dijkstra's algorithm to find the shortest path lengths between two nodes.\n",
    "    We do this for all pairs to produce a graph. Since dijkstra's algorithm is O(|V|^2) and we call it for |V| nodes, this\n",
    "    is the slowest method this far (in the form of its current implementation). Since our graph is not connected, we arbitrarily\n",
    "    penalize a pair of unconnected nodes by assigning an edge weight between them of 10 (from the graph analysis we did, the \n",
    "    longest path between two nodes is less than 10 for all |songs|<10000)\n",
    "    \n",
    "    Parameters:\n",
    "        directory - the directory containing the data (assumed to be in a single .json file)\n",
    "        songs - the N songs to select out of all the data\n",
    "    Returns:\n",
    "        edges - the constructed network's edges, which are the shortest distances between two nodes.\n",
    "        relations - the node-node relations useful for certain recommendation algorithms\n",
    "    '''\n",
    "    \n",
    "    \n",
    "    #first we need to call the function for method 2 to get the edges between nodes. then, we perform networkx stuff\n",
    "    edges, relations = method2(directory, songs) #get edge relations between all nodes\n",
    "\n",
    "    data = []\n",
    "    for key in edges:\n",
    "        temp = (key[0],key[1]) #make tuple of form (song1, song2, weight)\n",
    "        data.append(temp)\n",
    "    df = pd.DataFrame(data)\n",
    "    df.columns = [\"Source\",\"Target\"]\n",
    "    G = nx.from_pandas_edgelist(df, \"Source\", \"Target\")  #generate graph\n",
    "    #diameter = nx.diameter(G) #get diameter if no path between nodes exists\n",
    "    diameter = 10 #set to 10 for now\n",
    "    \n",
    "    out_relations = {}\n",
    "    for song in relations.keys():\n",
    "        out_relations[song] = set({})\n",
    "    out_edges = {}\n",
    "    for song1 in relations.keys(): #iterate over all songs with at least one edge\n",
    "        for song2 in relations.keys():\n",
    "            if (song1 != song2):\n",
    "                try:\n",
    "                    length = nx.shortest_path_length(G,song1,song2)\n",
    "                except:\n",
    "                    length = diameter\n",
    "                out_edges[(song1,song2)] = length\n",
    "                out_relations[song1].add(song2)\n",
    "\n",
    "    return out_edges, out_relations\n",
    "        \n",
    "\n",
    "print(list(method5('generated_data/moreThan10followers.json',songs)[1].items())[0:50]) #test"
   ]
  },
  {
   "cell_type": "markdown",
   "id": "b1bd5f6e",
   "metadata": {},
   "source": [
    "\n",
    "\n",
    "## TODO: Define functions that implement each of these ideas\n",
    "\n",
    "Each function should take in a set of N songs, an input file (not the whole dataset as that is way too big!) and return two things: 1. The edges of the graph created by each method, and 2. A dictionary of node relations to each other.\n",
    "\n",
    "\n",
    "So what we're doing here is \n",
    "- selecting N songs (like 10k out of the million) out of the input file (has more than N songs).  \n",
    "- We want to remember only the playlists with two or more of the N songs in them. For that playlist, we remember it as a pair of (weight, [tracks out of the N in that playlist]) (but you could play around with this to see what works) \n",
    "- Then, using the cleaned up, relevant playlists with their weights (that we did in the previous step) we make the graph, which is a dictionary of the form { {(node1,node2), weight} }. So, the key is (node1,node2) and the corresponding value is weight\n",
    "\n",
    "Ultimately the output should be the network with the weights aligned with each of the above ideas. "
   ]
  },
  {
   "cell_type": "markdown",
   "id": "6caa0ad4",
   "metadata": {
    "id": "6caa0ad4"
   },
   "source": [
    "## 1.2. Choosing our songs and generating data\n",
    "\n",
    "Selecting N songs randomly and performing an analysis on them.\n",
    "\n",
    "Change the constants in the cell below to change the kind of data you create.\n",
    "\n",
    "The output of these cells will be a .csv file in the generated_data folder."
   ]
  },
  {
   "cell_type": "code",
   "execution_count": 7,
   "id": "e28dc57f",
   "metadata": {
    "id": "e28dc57f"
   },
   "outputs": [],
   "source": [
    "################# Constants #################\n",
    "'''Rename this constant to the file containing the data, otherwise it will go through all of the data.\n",
    "I recommend using a file generated by the previous steps (like moreThan10followers.json) as the specific file (for instance, moreThan10followers.json) since\n",
    "the computation times will be much much faster'''\n",
    "SPECIFIC_FILE = 'generated_data/moreThan10followers.json' \n",
    "\n",
    "WEIGHTED_RANDOM = False   #If we want weighted random sampling or not\n",
    "N = 2000  #number of songs to consider\n",
    "METHOD = 'method1'  #define method to use \n",
    "\n",
    "############################################"
   ]
  },
  {
   "cell_type": "code",
   "execution_count": 8,
   "id": "b8f26d39",
   "metadata": {
    "id": "b8f26d39"
   },
   "outputs": [],
   "source": [
    "'''Randomly selecting N songs'''\n",
    "\n",
    "METHODS = {'method1':method1, 'method2':method2, 'method3':method3} #methods 4, 5 excluded for now\n",
    "\n",
    "songs = select_N_songs(N,SPECIFIC_FILE, WEIGHTED_RANDOM)\n",
    "\n",
    "#songs = set(songs) #convert to set"
   ]
  },
  {
   "cell_type": "code",
   "execution_count": 9,
   "id": "8cac8264",
   "metadata": {
    "id": "8cac8264",
    "scrolled": true
   },
   "outputs": [],
   "source": [
    "'''Computing the graph using the desired method'''\n",
    "edges =  METHODS[METHOD](SPECIFIC_FILE, songs)[0]                "
   ]
  },
  {
   "cell_type": "code",
   "execution_count": 10,
   "id": "6911605c",
   "metadata": {},
   "outputs": [
    {
     "name": "stdout",
     "output_type": "stream",
     "text": [
      "12170\n"
     ]
    }
   ],
   "source": [
    "print(len(edges))"
   ]
  },
  {
   "cell_type": "code",
   "execution_count": null,
   "id": "87ca21b2",
   "metadata": {
    "id": "87ca21b2"
   },
   "outputs": [],
   "source": [
    "'''SAVING THE DATA AS .CSV'''\n",
    "\n",
    "#converting to pd\n",
    "\n",
    "data = []\n",
    "for key in edges:\n",
    "    temp = (key[0],key[1],edges[key]) #make tuple of form (song1, song2, weight)\n",
    "    data.append(temp)\n",
    "data2 = pd.DataFrame(data)\n",
    "data2.columns = [\"Source\",\"Target\",\"Weight\"]\n",
    "\n",
    "#Create results folder\n",
    "\n",
    "path = os.getcwd()+\"/generated_data\"\n",
    "# Check whether the specified path exists or not\n",
    "isExist = os.path.exists(path)\n",
    "if not isExist:\n",
    "\n",
    "   # Create a new directory because it does not exist\n",
    "   os.makedirs(path)\n",
    "   print(\"The new directory is created!\")\n",
    "\n",
    "#Writing the file\n",
    "\n",
    "name = \"\"\n",
    "\n",
    "if (WEIGHTED_RANDOM == True):\n",
    "    name = str(N) + '_weighted_'+METHOD\n",
    "else:\n",
    "    name = str(N)+'_'+METHOD\n",
    "filename = path+'/'+name+\"_random_songs.csv\"\n",
    "filepath = Path(filename)\n",
    "while (os.path.exists(filepath)):\n",
    "    if filename[-5]=='s':\n",
    "        filename = filename[:-4]+'2'+filename[-4:]\n",
    "    else:\n",
    "        filename = filename[:-5]+str(int(filename[-5])+1)+filename[-4:]\n",
    "    filepath = Path(filename)\n",
    "\n",
    "data2.to_csv(filepath, index = False)\n",
    "    \n",
    "    \n",
    "#The data should be saved in the same folder as this notebook"
   ]
  },
  {
   "cell_type": "markdown",
   "id": "3fcd89b2",
   "metadata": {
    "id": "3fcd89b2"
   },
   "source": [
    "# Section 2: Implementing algorithm to generate playlists\n",
    "\n",
    "## 2.1: Star Graph Algorithm\n",
    "\n",
    "Here I'll try to create the playlists using the star graph recommendation method. For this I need two things - first is a recommendation algorithm based on the edges, and second is an easy way to iterate over song connections. \n",
    "\n",
    "### How this works:\n",
    "\n",
    "First we consider the one node case. We feed a single node, call it node A, into the algorithm which gives us the subset of the network with one edge at A, which is a star graph. We store this star graph in a dictionary object. The next song to be recommended is one of the edges in this graph, randomly chosen with a weighted probability distribution. Call this song B. Now, we want the playlist that we are generating to be the center of the star graph. Now, we make the center of the star graph represent both nodes A and B. We add all the edges with end to B (except those with end A) from the original dataset to the star graph. If an edge already exists between the center and another node, and B is also connected with that node, the new weight of that edge becomes the sum of the weights of those edges. This is to implement familiarity. Continue this until the desired playlist size is reached. "
   ]
  },
  {
   "cell_type": "markdown",
   "id": "c642371c",
   "metadata": {
    "id": "c642371c"
   },
   "source": [
    "Running the two cells below will initialize the network. There are some constants at the start that you need to input"
   ]
  },
  {
   "cell_type": "code",
   "execution_count": 11,
   "id": "7922166f",
   "metadata": {
    "id": "7922166f"
   },
   "outputs": [],
   "source": [
    "def recommend_song(stargraph, songs, alpha = 1):\n",
    "    '''\n",
    "    Function that will implement the recommend algorithm for a given input star graph. We are assigning weights to every \n",
    "    song in the number of songs we are operating over. The weight of each song will be the weight of the edge from it to the\n",
    "    center of the stargraph (0 otherwise) + alpha. We will then make a weighted random prediction to get the next song.\n",
    "    \n",
    "    Parameters:\n",
    "        stargraph: the input star graph. The first element is the nodes inside the graph and the second one is a dictionary \n",
    "        of node:weight pairs\n",
    "        songslist: the list of songs over which we are operating\n",
    "        alpha: value to give to every song to allow possible recommendation of songs without any edges (teleportation). 1 by default\n",
    "  \n",
    "  Returns:\n",
    "       The predicted song\n",
    "   '''\n",
    "    weights = []\n",
    "    for i in range(len(songs)):\n",
    "        song = songs[i]\n",
    "        weight = alpha\n",
    "        if song in stargraph[1]: #if there is already an edge to it\n",
    "            weight+= stargraph[1][song]\n",
    "        if song in stargraph[0]: #if it is already in our playlist\n",
    "            weight = 0\n",
    "        weights.append(weight)\n",
    "    nextsong = random.choices(songs, weights, k=1)[0] #return our weighted random choice\n",
    "    #print (nextsong)\n",
    "    return nextsong\n",
    "\n",
    "def update_graph(stargraph, songToAdd, relations, edges):\n",
    "    '''\n",
    "    Function that will update the star graph to include edges that belong to the song to add. Returns updated star graph\n",
    "    \n",
    "    Parameters:\n",
    "        stargraph: the input star graph. The first element is the nodes inside the graph and the second one is a dictionary \n",
    "        of node:weight pairs\n",
    "        songToAdd: the song to add\n",
    "        relations: the dictionary of all pairs in the graph\n",
    "        edges: the original network with all the node pair relations\n",
    "   \n",
    "   Returns:\n",
    "        The updated star graph\n",
    "    '''\n",
    "    relationsToAdd = relations[songToAdd] #give a set of all the pairs of nodes with the song to add\n",
    "    stargraphNodes = stargraph[0]\n",
    "    stargraphEdges = stargraph[1]\n",
    "    \n",
    "    for song in relationsToAdd: #go through each pair belonging to this song\n",
    "        \n",
    "        if song not in stargraphNodes:\n",
    "            if song not in stargraphEdges:\n",
    "                stargraphEdges[song] = edges[(song,songToAdd)] #add value of edge from the original network\n",
    "            else:\n",
    "                stargraphEdges[song] += edges[(song,songToAdd)]\n",
    "                \n",
    "    stargraph[0].add(songToAdd)\n",
    "    return stargraph\n",
    "    \n",
    "    \n",
    "def create_playlist(inputSongs, length,  songs, relations, edges,alpha = 1):\n",
    "    '''\n",
    "    Function that generates a recommendation playlist of length length based on an input of songs, and an input network\n",
    "    \n",
    "    Parameters:\n",
    "    inputSongs: The input songs (list)\n",
    "    length: Number of songs to add\n",
    "    songs: List of all songs\n",
    "    relations: Dictionary of all pair relations in the graph\n",
    "    edges: The original network\n",
    "    alpha: The teleportation probability in the recommendation algorithm\n",
    "    '''\n",
    "    stargraph = (set(), dict())\n",
    "    \n",
    "    for song in inputSongs: #build the star graph\n",
    "        stargraph = update_graph(stargraph, song, relations, edges) \n",
    "    \n",
    "    for i in range(length):\n",
    "        newSong = recommend_song(stargraph, songs, alpha)\n",
    "        stargraph = update_graph(stargraph, newSong, relations, edges)\n",
    "    \n",
    "    return list(stargraph[0])\n",
    "    \n",
    "    \n",
    "            \n",
    "        \n",
    "        \n",
    "    \n",
    "    "
   ]
  },
  {
   "cell_type": "code",
   "execution_count": 12,
   "id": "4522710d",
   "metadata": {
    "id": "4522710d"
   },
   "outputs": [],
   "source": [
    "######################################### Constants\n",
    "\n",
    "SPECIFIC_FILE = 'generated_data/moreThan10followers.json' #Rename this to something else if you want to only consider some other dataset, \n",
    "                    #otherwise we go over all data. specify the file name/path as the name\n",
    "WEIGHTED_RANDOM = False   #If we want weighted random sampling or not\n",
    "N = 1000  #number of songs to consider\n",
    "METHOD = 'method1'  #define method to use \n",
    "METHODS = {'method1':method1, 'method2':method2, 'method3':method3}"
   ]
  },
  {
   "cell_type": "code",
   "execution_count": 13,
   "id": "d80f0f40",
   "metadata": {
    "id": "d80f0f40"
   },
   "outputs": [],
   "source": [
    "######################################### LOADING SONGS FROM FILE\n",
    "#first we need to load all the songs into a dictionary so that we can randomly select N of them\n",
    "\n",
    "\n",
    "songs = list(select_N_songs(N,SPECIFIC_FILE, WEIGHTED_RANDOM))\n",
    "\n",
    "#print(songs)"
   ]
  },
  {
   "cell_type": "markdown",
   "id": "f44f01ed",
   "metadata": {
    "id": "f44f01ed"
   },
   "source": [
    "The cell below defines the function that we use for the star graph recommendation method"
   ]
  },
  {
   "cell_type": "markdown",
   "id": "7806d8c0",
   "metadata": {
    "id": "7806d8c0"
   },
   "source": [
    "## Using the algorithm\n",
    "\n",
    "Finally, the cell below tests the algorithm"
   ]
  },
  {
   "cell_type": "code",
   "execution_count": 14,
   "id": "df2dd959",
   "metadata": {},
   "outputs": [
    {
     "name": "stdout",
     "output_type": "stream",
     "text": [
      "['In the Nite, by Nite Jewel', 'Life on the Line, by Rebelution', 'Cerca, by Luis Jara', \"Don't Bother, by Shakira\", 'Jatt Pagal Karte, by Lehmber Hussainpuri', 'Death Breath - Toxic Avenger Remix, by Bring Me The Horizon', \"I Feel A Sin Comin' On, by Pistol Annies\", 'Freeze Frame Time, by Brandon Rhyder', 'Get Buck, by Young Buck', 'A Moment Apart, by ODESZA', 'Civilizations Lost, by Alice Gomez; Madalyn Blanchett; Marilyn Rife', 'Byob, by Sevenn', 'Woman First, by Kindred The Family Soul', 'Fear, by Disturbed', 'Free, by 6LACK', 'Krazy (Clean Version), by Pitbull', 'Summer Jam, by R.I.O.', 'On My Way, by The Melodic', 'Bound For The Floor, by Local H', 'Me & Mr Jones, by Amy Winehouse', 'What If I Just Walked off Stage and Never Came Back?, by Nate Bargatze', 'Just In Case, by Jaheim', 'Lost It All, by King Arthur', 'Victim of Love (feat. Menahan Street Band), by Charles Bradley', 'Wishes, by RHODES', 'Love Come Down, by Evelyn \"Champagne\" King', 'Playing Your Game, Baby - Single Version, by Barry White', 'Homewrecker, by Marina and the Diamonds', \"Our Lips Are Sealed, by The Go-Go's\", 'Crush, by Jordan Xidas', 'Meet in the Middle, by Diamond Rio', 'Enamorado De Ti, by Glup!', 'Existence, by NateWantsToBattle', 'Six-feet-two at thirteen, by Jeanne Robertson', 'If This Country Still Had Balls, by Buddy Brown', 'Purest of Pain - English Version, by Son By Four', 'Nosotros Los Amalianos, by Chappotin Y Sus Estrellas', 'Weave Me (Into Yr Sin), by Citizen', 'La Oportunidad, by Danny Romero', \"I'm In A State Of Trance (ASOT 750 Anthem), by Ben Gold\", 'Who You Waiting On?, by Lucero', 'Alive In Me, by JJ Weeks Band', 'Shots Go Off, by Cypress Hill', 'Little Bit, by Lykke Li', 'Holocene, by Bon Iver', 'Surprise Party (feat. Blackbear), by Hoodie Allen', 'Morning, by Janice Vidal', 'Winter Schemes, by King Colee', 'Shortie Like Mine, by Bow Wow', \"How Do You Get 'Em Back, by David Ramirez\", 'The Londonderry Air, by Armonia, Benessere & Musica', \"I Won't Wait in Line, by Casey Jack\", 'Lumbra, by Cali Y El Dandee', 'Beautiful, by Apocalyptica', 'Make It Happen, by Gareth Emery', \"The Apprentice (feat. Rag'n'Bone Man, Zebra Katz & RAY BLK), by Gorillaz\", 'Shiva Station (Namah Shivaya), by Jai Uttal', 'Bits and Pieces, by BoomBox', 'Hungry N Lurkin, by K CAMP', 'More Girls Like You, by Kip Moore', 'Cactus In The Valley, by Lights', 'The End - Carnage & Breaux Remix, by Carnage', 'Cocaine Rain, by Lais', 'My Dick, by Mickey Avalon', 'Get Hurt, by The Gaslight Anthem', 'Jump, by Lupe Fiasco', \"Any King's Shilling, by Elvis Costello\", 'Go, by Louis The Child', 'Cool Breeze, by Big Youth', 'Not Over You, by Gavin DeGraw', 'Power, by Rapsody', 'Donde Estan Esos Amigos, by El Chaval', 'Like 2 Get Weird, by Billy Kenny', 'Everybody Hurts, by R.E.M.', \"The Hockey Song, by Stompin' Tom Connors\", 'Rage, by Vic Mensa', 'Tennessee Waltz, by Roy Acuff', 'Mumpitz (Huepfburg Edit), by Alec Troniq', 'Invincible - Ducked Ape Remix, by Di-Rect', 'Love Divine, by Rend Collective', 'Over My Head (Cable Car), by The Fray', \"V'ezakeini / Vehi Sheamda, by 8th Day\", 'Count On Me, by Javier', 'Reckless Love, by Cory Asbury', 'Soy un Problema (Remix), by Pusho', 'My Body, by LSG', 'A Day in the Life, by The Album Leaf', 'Stay, by Jodeci', 'Locos Por Jesus, by Tercer Cielo', 'Wearing Nothing, by Dagny', 'Say It - SG Lewis Remix, by Flume', 'Don’t Gotta Work It Out, by Fitz and The Tantrums', 'We Only Just Begun, by B-Wat', 'Miéntele (feat. Kartel Montana), by Kevin Roldan', 'Trickery of the Scourge, by Steel Prophet', 'Miss You, by EXO-CBX', 'Carried Away [Umpire Remix], by Alex Doan', 'Is It Gonna Work, by Ark & Ocean', \"You've Really Got A Hold On Me, by The Miracles\", 'This Is Christmas, by Luther Vandross', 'Me Llamas, by Arcangel', 'Hysteria, by Steve Aoki', 'It Only Makes Me Laugh - 1988 Boingo Alive Version, by Oingo Boingo', 'The Dig, by Groundislava', 'Bibi The Dog (feat. Mai Lan) - Fabich Remix, by M83', 'My Girl, by The Harvard Opportunes', 'Job Well Done, by Run The Jewels', 'Under the Sun (feat. Roberta Ayres), by Marina Diniz', 'A Prophecy, by Asking Alexandria', 'Soulshine, by The Allman Brothers Band', 'Trap Queen, by William Singe', 'After Laughter, by Filtertypen', 'Que Lo Sepa El Mundo, by Los Gigantes Del Vallenato', 'Seventeen, by Sjowgren', 'Mala y Descarada (feat. Pusho), by Luigi 21 Plus', 'Palm Reader (feat. Lido), by Hoodboi', 'November, by Grace & Tony', 'Sally, by Hardwell', 'Running, by Computer Magic', 'Called Out In The Dark, by Snow Patrol', \"I'm A Survivor, by Reba McEntire\", 'Jerusalem, by Dan Bern', 'We Three Kings of Orient Are, by Traditional', \"I'm Changing, by William Murphy\", 'Alive, by Dyro', 'Playbook, by Blake Fades', 'Make It Rain, by Foy Vance', \"Ipo Lei Momi, by Keali'i Reichel\", 'The Castle, by Mastercastle', 'Recognize, by Flaw', 'These Streets, by Bastille', 'Sumiregusa (Wild Violet), by Enya', 'Turn Me Up, by Twin Shadow', 'Benjamins, by CVIRO', 'Are We Faded - Original Mix, by Keys N Krates', 'Cotton Fields, by The New Christy Minstrels', 'For the Stunt, by Russ', 'Sandcastles - Radio Edit, by Volt & State', 'Ahorita Me Voy, by Pepe Aguilar', 'Techno Cumbia, by Selena', 'Satellite - Live In New York City, by Dave Matthews Band', 'Half Truth, by Michael McDonald', 'The Hills Of Ireland, by Celtic Woman', 'Almost Lover, by Kelly Rida', 'I Got Nerve - Live from Arrowhead Pond, Anaheim, U.S.A./2008, by Hannah Montana', 'Preben Goes to Acapulco, by Todd Terje', 'Landslide - Live, by Fleetwood Mac', 'Katniss Is Chosen, by James Newton Howard', 'Taylor, by ATTLAS', 'Meet Me In Montauk - Original Mix, by Signalrunners', 'Utopian House Party, by The Good Husbands', 'Upward Over The Mountain, by Iron & Wine', 'King of Wonders, by Chris Quilala', 'Ayer, Hoy & Mañana, by C-Kan', 'Orinoco Flow, by Celtic Woman', 'Whole, by Flaw', 'I Can See Clearly Now, by On The Rocks', 'No Justice, by Astronauts, etc.', 'From The Clouds, by Jack Johnson', 'Showdown, by Electric Light Orchestra', 'With A Girl Like You, by The Troggs', 'One Love / People Get Ready, by Bob Marley & The Wailers', 'La Secretaria, by Banda Sinaloense', 'Ms. November, by The Silver Seas', 'Well Enough Alone, by Chevelle', 'I Never Loved Before I Found You, by Front Porch Step', 'All the Poor and Powerless, by The Digital Age', 'Grow A Pear, by Kesha', 'Chapter 3 - Of Runaways and Stowaways Pt. 2, by Alex Abraham', 'Plans (feat. Brandyn Burnette) - cln Remix, by Elephante', 'Wild Thing (Re-Recorded / Remastered), by The Troggs', 'Progress A, by Elevation Worship', 'Through the Mail, by Stitches', 'New Slang, by The Shins', 'Love Bites [So Do I], by Halestorm', 'Portland, by Middle Brother', 'Enough Light - Live, by Worship Central', 'Dirty Laundry, by Bitter:Sweet', 'Desde Que La Vi, by Los De La Noria', 'These Are The Nights, by Making April', 'Virtue, by Jesse Cook', 'Valerie, by La Mer', 'B Boy (feat. Big Sean & A$AP Ferg), by Meek Mill', \"It's Not You (It's Me), by T-Pain\", 'Sugar Water, by Cibo Matto', 'On Ancient Ground, by Communic', 'Gravity - Live at the Nokia Theatre, by John Mayer', 'Joyful Lament, by Sanctuary Worship', 'Like A Wrecking Ball, by Eric Church', 'Revolusion, by Elliphant', 'Float, by Kill Paris', 'Chicken Dance, by Electric Slide Music Makers', 'Looking Out My Backdoor, by CCR Revival Band', 'Summertime (feat. Dylan Rockoff), by Sean Mula', 'Shock, by Beast', 'Macaroni, by A Boogie Wit da Hoodie', \"Ol' Keeper, by Anthony Hamilton\", 'Time For Thought, by Peaceful Piano', 'Soak It Up, by Houses', 'Under the Big Top, by INSANE CLOWN POSSE (ICP)', 'Oye mi amor, by Maná', 'Halochesh Bamchoniyot, by Berry Sakharof', 'Remind Me, by Patrice Rushen', 'Monedita, by La Santa Cecilia', 'Penetration - Iggy Pop Mix, by The Stooges', 'Conscious Fog, by The Vegabonds', 'I Wanna Know, by Joe', 'マイクラ, by TakeponG', 'No One On Earth - Gabriel & Dresden Radio Edit, by Above & Beyond', \"It'z Just What We Do, by Florida Georgia Line\", 'Rvtchet Bitch, by Brillz', 'The Wild Rover, by Dropkick Murphys', 'Between the Lines (feat. Chris Lee), by Jase Harley', 'The Magnificent Sound of Thunder and Rain, by Music for Deep Meditation', 'Play, by iamamiwhoami', 'Travel Slow, by Elderbrook', 'Cuéntame al Oido, by La Oreja de Van Gogh', 'That Bag, by Rich The Kid', \"She's Always a Woman, by Billy Joel\", 'Way to be Loved, by TOPS', 'A Mover la Colita, by La Sonora Dinamita', 'What The Price, by Migos', 'Give It Up Now, by Kingsfoil', 'Afterlight, by Capital Kings', 'Never Had Before, by Fever Charm', 'De Ti Exclusivo, by La Arrolladora Banda El Limón De Rene Camacho', 'Take Me To The River - 2005 Remastered Version, by Talking Heads', 'New Sensation, by INXS', 'Make It Mine - From The Casa Nova Sessions, by Jason Mraz', 'Like Toy Soldiers, by Eminem', 'Lotto (feat.Don Mills) (Prod. by Gonzo), by Vernon', 'Who Wants To Be Alone, by Tiësto', 'Be Easy, by Sharon Jones & The Dap-Kings', 'Dream Within A Dream, by Hans Zimmer', 'Just A Game, by Birdy', 'Hmmm, by Hott Headzz', 'CALL ME BABY, by EXO', 'Kiss, by Prince', 'Tu Silencio, by Manolo Galvan', \"That's All - 2007 Remastered Version, by Genesis\", 'Academic - Original Mix, by Litek', 'Beautiful Monster, by Ne-Yo', 'Deep Sleep, by Deep Meditation', 'Little Indian - Live, by Nils Petter Molvær', 'Unreal, by Amaranthe', \"We're An American Band, by Poison\", 'Alive - Live from The Village, by Sia', 'No Es Que Lo Quiera Hacer, by C-Kan', 'Happy Hours, by John De Sohn', 'One More Night, by TK', 'Panoramic (feat. Sage The Gemini, Show Banga), by Dmac', 'Oh Well, Oh Well, by Mayday Parade', 'This Town, by Linney', 'My Beloved, by mansionz', 'Never Ever Getting Rid of Me, by Christopher Fitzgerald', 'From Shadows (feat. Casey Lee Williams), by Jeff Williams', 'Te Necesito, by Hombres G', \"Lovin' You, Baby, by Charles Bradley\", 'The Devil In Stitches, by Bad Religion', 'Smile, by Portugal. The Man', 'Early in the Morning, by Lando Chill', \"I'm OK, by Eric Nam\", 'How Bizarre, by OMC', \"My Ol' Bronco, by Luke Bryan\", \"Real Muthaphuckkin' G's, by Eazy-E\", 'Bar Yochai, by Avi Ben-Israel', 'Knives and Pens, by Black Veil Brides', 'East Coast, by A$AP Ferg', 'Unbelievable, by Just Seconds Apart', 'My Chick Bad, by Ludacris', 'You Broke My Heart, by Current Joys', \"Electric Avenue to Hell (feat. Jennifer Hartswick), by Umphrey's McGee\", 'No Fun - Original Mix, by Robin Schulz', 'Good Times, by Catch 22', 'A Night In Tunisia, by Freddie Hubbard', 'Clarity - Zedd Union Mix, by Zedd', 'The Master Plan, by Tamela Mann', 'Magic Guitar, by Phoenix Juggernaut', 'Brittle Boned, by Julien Baker', \"Doesn't Mean Goodbye, by Jon McLaughlin\", 'Get Better, by Frank Turner', 'Tool Up, by Blueboy', 'Time, by Ben Folds', 'Stand Tall, by Dirty Heads', 'Cannes - Radio Edit, by Aevion', 'Scars To Your Beautiful, by Alessia Cara', 'BOOMBOOM, by SEVENTEEN', 'Sodoma Y Gomorra, by Tierra Santa', 'Running Away, by Tobu', 'Feeling Good, by Muse', 'Who Can I Run To, by Xscape', 'Sugar Snap, by Tora', \"Dopefiend's Diner, by 2Pac\", 'Truly, by Janet Jackson', 'Victory (feat. The Notorious B.I.G. & Busta Rhymes), by Diddy', 'Steal My Girl - Live Acoustic Session, by One Direction', '2 Heads, by Coleman Hell', \"What's Happenin!, by Ying Yang Twins\", 'Amor De Niño, by Los Titanes De Durango', 'Symbol In My Driveway, by Jack Johnson', 'Dance Dance, by Josh Rumble', 'Find You Here, by Ellie Holcomb', 'Baptize My Heart (Live), by Misty Edwards', 'Pon De River Pon De Bank, by Elephant Man', 'Harvester Of Sorrow, by Metallica', 'Speedracer, by CAPYAC', \"It's Your Love, by Tim McGraw\", 'Smell Like Money, by 2 Chainz', 'Grown, by Little Mix', 'Worn Out Shoes, by Joe Purdy', 'Paseo, by Estopa', 'One In Every Crowd, by Montgomery Gentry', 'O Come All Ye Faithful, by Nat King Cole', 'Knee Deep (feat. Jimmy Buffett), by Zac Brown Band', 'Kisses Down Low, by Kelly Rowland', 'Three White Horses, by Andrew Bird', 'El Inicio del Final, by Alfredo Olivas', 'Arioso In G, BWV 156: Adagio, by Michael Silverman', 'Close Your Eyes (And Count to Fuck), by Run The Jewels', 'Weeping Pirates, by Groundation', 'Break Of Day, by Deep Sector', 'Davy Brown, by Ben Nichols', 'I Try to Change, by Stitches', 'Celebrate (From the Original Motion Picture \"Penguins of Madagascar\"), by Pitbull', '10,000 Hours, by Ella Mai', 'Lift Me Up, by Imaginary Future', 'Overcome, by Tora', 'Give It To Me, by Sheryl Crow', 'The Well, by Casting Crowns', 'Battle of the Shadow, by Hieroglyphics', 'Down On The Farm, by Tim McGraw', 'Silver Bells, by Lou Rawls', 'Thousand Eyes, by Of Monsters and Men', 'She Pretends, by Isaac Delusion', 'When the Sun Goes Down, by Phora', 'In Your Love, by United Pursuit / Iris Ministries', 'Night Of Your Life (feat. Jennifer Hudson) - feat. Jennifer Hudson, by David Guetta', 'Ni Pisando el Dolor, by Virlan Garcia', 'Only the Wine, by David Gray', 'Must Be The Feeling - Kill The Noise Remix, by NERO', 'Chaiyya Chaiyya (From \"Dil Se\"), by Sukhwinder Singh', 'Root Chakra: Tibetan Singing Bowls for Relaxation, Meditation and Chakra Balancing, by Tibetan Singing Bowls for Relaxation, Meditation and Chakra Balancing', 'Tonight, by Emy Reynolds', 'Something About You - Radio Edit, by Grum', 'Someday At Christmas, by Jack Johnson', 'Fat Hoes (feat. SDot Braddy, Germ & $uicideBoy$), by Pouya', 'Little Queenie, by Chuck Berry', \"We're Gonna Need A Bigger Boat, by We Are The Union\", 'Alterado Y Cochino, by Calibre 50', 'I Will Miss the Jasmine, by Shannon and The Clams', 'Arcarsenal, by At The Drive In', 'Girl On Fire, by Alicia Keys', 'Noah Visits - Score, by James Newton Howard', 'Super Blue, by Freddie Hubbard', 'Coyotes, by Modest Mouse', 'Matter of Time, by Sharon Jones & The Dap-Kings', 'Grandloves (feat. Young Magic), by Purity Ring', 'Carry On, by Jim Yosef', 'A Beautiful Mess, by Jason Mraz', \"Devil's Daughter, by The Bama Gamblers\", 'It Takes Time To Be A Man, by The Rapture', 'Concrete Angel - RAM Radio Edit, by Gareth Emery', 'Million Dollar Bill, by Middle Brother', 'Good For Your Souls - Extended Mix, by Sebastien', '\"Impossible\", by Rodgers + Hammerstein\\'s Cinderella (Original Broadway Cast)', 'Sleigh Ride, by Matt Wertz', 'Air Catcher, by Twenty One Pilots', 'Again, by Wun Two', 'No Rest For The Wicked, by Lykke Li', 'The Lament Of Eustace Scrubb, by The Oh Hellos', 'New Classic (Live Version), by Selena Gomez', 'Disculpa Corazón, by La Poderosa Banda San Juan', 'Crooked Crown, by The Anniversary', 'Love Child, by Diana Ross & The Supremes', 'In My Way, by MUNA', 'Porcelain, by Tonedeff', 'Misconceptions 3 (feat. John Givez, Jgivens & Jackie Hill Perry), by Lecrae', 'Loser, by Beartooth', 'Bienvenida, by Musique Pour La Détente', 'I Wonder, by Kanye West', 'No Vacancy (with Sebastián Yatra), by OneRepublic', 'Use Me, by Beans & Fatback', 'My Love Will, by Ross Copperman', 'Song of the Heart, by Roy Todd', 'Ay Mi Dios, by IAmChino', 'Espacio En El Entrecejo, Ajna Chakra- Om En La Clave De A, by Musica Para Meditacion Profunda', 'Gur Pooray Mayree Raakh Laee, by Pritpal Singh Khalsa', 'Put on Your Shit Kickers, by House Of Pain', 'We Fly High, by Jim Jones', 'I Get It, by Tedashii', 'Havana, by Guys and Dolls Ensemble (1992)', 'Sallimoli Aale, by Nancy Ajram', 'Girls, Girls, Girls, by Celtic Thunder', 'This Bitter Earth - Original, by Dinah Washington', 'Mand: A Devotional Song, Jay Jay Krishna Hare, by Flute Raman', 'Come Running, by Van Morrison', 'Morrigan - The Goddess of War, by Peter Gundry', 'The Stones Are Not Too Busy, by Solar Fields', 'Gonna Get Over You (feat. Urban Method), by Sara Bareilles', 'El Ladron, by Marimba Chiapas', 'Entertainment 2.0 (feat. Juicy J, 2 Chainz and Nicki Minaj), by Sean Paul', 'DAY N NIGHT (feat. GRAY), by ELO', 'Too Many Nights Alone, by Bobby Bare', \"Help Me Help You (feat. Why Don't We) (GARABATTO Remix), by Logan Paul\", 'Guardian Angel, by Coco Jones', 'Sensations, by Elohim', 'Away In A Manger - 1999 Digital Remaster, by Nat King Cole', \"Santa, by Lightnin' Hopkins\", 'II B.S. - Edit, by Charles Mingus', 'Temptation, by Sister Machine Gun', 'Be Embraced, You Millions, Op. 443: Waltz, by Mostar Symphony Orchestra', 'Bells Bleed & Bloom, by ef', 'The Country Where I Came From, by Mike Edel', 'Yo Juré, by Edgar', 'Beautiful (feat. Pk), by Pro', \"What'd I Miss, by Daveed Diggs\", 'Everyday (feat. DRAM & Kyle), by The Americanos', 'Uma Thurman, by Fall Out Boy', 'Summer Love Song, by Brooke Hyland', 'Santa Baby, by Colbie Caillat', 'Ghetto Passion, by Dwyr', 'Get Silly, by V.I.C.', 'The World Is Ours, by Jai Wolf', 'Country Music Has Gone to Town, by Porter Wagoner', 'Summer - August 15th Remix, by Marsheaux', 'Just The Two Of Us (feat. Bill Withers), by Grover Washington, Jr.', 'My Guy, by Sonny Digital', 'Open Season - Gryffin Remix, by Josef Salvat', 'Pretty Girl Shake It (feat. Fatman Scoop), by The Ranger$', 'DOLCE & GABBANA, by Riff Raff', '911, by Willie Taylor', 'To Dust - Sam Sparro Remix, by Alice Russell', \"You're Worth It, by Cimorelli\", 'I Lift My Hands, by Chris Tomlin', 'His Kind Of Money (My Kind Of Love), by Eric Church', 'Pensé Que No, by Los Panchos', 'Not Just Another Girl, by Trey Kennedy', \"Maybe I'm Amazed - 2013 Remaster, by Paul McCartney\", 'Fame>Demise [acoustic], by Woe, Is Me', 'The Wall, by Matrix & Futurebound', 'Dream Time, by Mackz', 'WORTH FIGHTING FOR, by CASS', 'Not Afraid Anymore, by Halsey', 'Dos Hojas Sin Rumbo, by Ramon Ayala Y Sus Bravos Del Norte', 'Crash And Burn, by Thomas Rhett', 'Solo Dolo (nightmare), by Kid Cudi', 'Honey, Fire (Alt), by Aaron Krause', 'Hollow, by Wage War', 'Stand Alone - Radio Edit, by Chris Lake', 'No Noise, by Famous Dex', 'You Look Like I Need A Drink, by Justin Moore', \"8 Days of Christmas - Live, by Destiny's Child\", 'Jamaica, by Van She', 'Rolling With The Punches, by The Blue Stones', 'One Week, by Kidz Bop Kids', 'Blow, by Atreyu', 'Background Music, by Thomas Rhett', 'Blame, by KYLE', \"It's a Girl Party, by Mackz\", 'Paano Kita Mapapasalamatan, by Kuh Ledesma', 'Good Girls Bad Guys, by Falling In Reverse', 'Symmetry - Lenno Remix, by Tropic Of Pisces', 'Carried Away, by Dionysia', 'Save Me, by Aretha Franklin', 'Silver Moon, by Roo Panes', 'Sono, by Buscabulla', 'Mass Appeal, by Gang Starr', 'Embracing Me, by SAFIA', 'Lie To Me, by Sara Bareilles', 'Ecos de amor, by Jesse & Joy', \"Don't You Want Me (Glee Cast Version), by Glee Cast\", 'When Your Life Feels Like A Loss, by De Lux', 'Open Your Mind, by Ultimate Spa Music', 'The Jacket, by Henry Jamison', 'Insta Bae, by Zach Clayton', 'Nicotine, by Escapades', '1990 Something, by Hi-Rez', 'Cuatro Babys, by Maluma', 'Sacrifice, by Simian Mobile Disco', 'Boom Biddy Bye Bye, by Cypress Hill', 'At the Hop, by Angelo Grey Band', 'Hey World - Remastered, by Gwen McCrae', 'Disco Azúcar, by Juan Formell y Los Van Van', 'GOOD TO YOU, by 2NE1', 'Pain, by LVL UP', 'Bang Bang, by Dispatch', \"I'm Alive (Live), by CCV Music\", 'Metaphysical - Daktyl Remix, by Autograf', \"Angel On My Shoulder - EDX's Belo Horizonte at Night Remix, by Kaskade\", 'Ek Pyar Ka Naghma Hai - From \"Shor\", by Lata Mangeshkar', 'Father, by Odina', 'Wanted Man, by Nick Nolan', 'February Seven, by The Avett Brothers', 'Gorgeous - Live – Upstate Sessions, by X Ambassadors', 'I Still Make Her Cry, by The Strumbellas', 'Come Up, by Lil Yachty', 'Natalie, by HUNNY', 'I Saw God Today, by George Strait', 'Drippy, by Young Dolph', 'Hi Freq Girl, by Drummakid', 'The Nothing, by Baths', 'No Way, by OnCue', 'In the Colors, by Ben Harper', 'Every Time I Get Around You, by David Lee Murphy', \"Runnin', by The Pharcyde\", 'Wake Up, by Hilary Duff', 'Dinggin, by Sugar High', 'Turn It Up, by DJ T.Y.', 'All I Do, by Majid Jordan', 'Soul Meets Body, by Death Cab for Cutie', 'All for You, by French Montana', 'Birfday Suit, by The Floozies', 'Las Guojolotas, by Banda Yurirense', 'Worthy Is The Lamb - Live, by Hillsong Worship', 'Action Cat, by Gerard Way', 'Por Aire, Por Tierra O Mar, by Grupo Maximo Grado', 'Talk Too Much, by COIN', 'Losing U, by Klingande', 'The Best I Ever Had, by The Swellers', 'Smoke, by Lucero', 'Kids - Original Mix, by Global Deejays', 'Lovesick (feat. Felix Snow), by Caroline Pennell', 'Be Alright, by Nappy Roots', 'Ni Se Te Ocurra, by Julian Mercado', 'All a Woman Wants, by Lori McKenna', 'The Girl From Ipanema, by Stan Getz', 'Whiskey And You, by Chris Stapleton', 'Tim McGraw, by Taylor Swift', 'Chinese Dance, by The Hit Crew', 'Carpool Companion, by Tyler Boeh', 'Slow It Down, by Amy Macdonald', 'Te Perdone Una Vez, by Los Huracanes del Norte', 'Suicide Season - The Secret Handshake Remix, by Bring Me The Horizon', 'Acid Run, by Traxman', 'Charlie Brown - Remastered, by The Coasters', 'Empty Streets, by Late Night Alumni', 'St. Patrick, by Crywolf', 'Wanted Dead, by Sodom', 'The End Of All Things, by Panic! At The Disco', 'Foreign, by Sam Gouthro', 'Prayer, by Burial', 'Wildest Dreams, by Madilyn Bailey', 'Breaking News, by Juicy J', 'We Wish You a Merry Christmas, by Kenny G', 'Una Lady Como Tú, by Manuel Turizo', 'In / Out - Baardsen Remix, by Dan Croll', 'D.O.P.E., by Rick Ross', 'Deodorant, by Jim Gaffigan', 'O Holy Night, by Martina McBride', \"I Don't Believe It's Through - 2013 Remake, by Greg Laswell\", 'Raincoat, by Timeflies', \"I Just Can't, by Hopsin\", 'Home By Now, by Bombay Bicycle Club', 'The Maze, by Manchester Orchestra', 'Pray, by Sam Smith', 'Quimeras del Mar, by Antonio Lizana', \"Don't You Know Who I Think I Am?, by Fall Out Boy\", 'Shivaratri, by Benjy Wertheimer', 'Jacksonville, by Sufjan Stevens', 'Ten Million, by Macklemore', 'Car Radio, by Twenty One Pilots', 'Guilt, by NERO', 'Hey You Beautiful, by Olly Murs', 'California Rain, by Betty Who', 'Hey Jude, by The Beatles Greatest Hits Performed By The Frank Berman Band', 'John Gotti, by Kevin Gates', 'My Wild Irish Rose, by The Irish Folk', 'Twentytwofourteen, by The Album Leaf', 'I Will Follow, by Vertical Worship', 'do re mi - Y2K Remix, by blackbear', 'What God Wants For Christmas, by Darius Rucker', 'To the End, by Graduating Life', 'Naked (Alison Wonderland X Slumberjack), by Alison Wonderland', 'We Can Get It On, by Yo Gotti', \"But You Won't Love a Ghost, by Emarosa\", 'What A Little Moonlight Can Do, by Billie Holiday', 'My Own Throne, by Pat Lok', 'Highlights, by Kanye West', 'The Love, by Jadu Heart', 'Noble Maiden Fair (A Mhaighdean Bhan Uasal) - From \"Brave\"/Soundtrack, by Emma Thompson', \"Complicated, by Olivia O'Brien\", 'Airport, by The Motors', 'Tunnel Vision, by Kodak Black', 'Running For You, by Kip Moore', 'Smokey Taboo, by CocoRosie', 'Freesol, by Seven Lions', 'You’re Not Alone, by Owl City', 'Miracles - Charlie Who Remix, by Martin Jensen', 'Every Little Thing, by Soft Swells', 'Snapchat Song, by Mr_hotspot', 'Al Filo de Tu Amor, by Carlos Vives', 'Forces of Nature, by Peaceful Piano', 'This Love, by Ryan Adams', 'Swim, by Wun Two', 'Walking Home, by Tina Malia', \"I Don't Even Know Your Name, by Shawn Mendes\", 'Dangerous - CHAPPO Remix, by Big Data', 'Trendsetter, by Skrip', 'Settle For My Love, by Musiq Soulchild', 'Como Te Olvido, by Perdidos De Sinaloa', 'Barbwire, by Nora Dean', 'Perdidamente Enamorado, by Alacranes Musical', 'Innocence (Sword Art Online), by AmaLee', 'Sri Suktham, by Kasinatha Sarma & N.S. Prakash Rao', 'Restless Fugitive, by Willy Mason', 'Altara, by Johan Vilborg', '3 Foot Tall, by Classified', 'Monster (Dotexe Remix), by Nightcore', 'Kiss Me Thru The Phone, by Soulja Boy', 'Fuck It All Up (feat. JVZEL), by DOLF', 'Tú Me Elevas, by Chyno Miranda', 'I Was Made For Loving You, by Tori Kelly', 'Juégala, by Los Que Son Son', 'All Creatures of Our God and King, by David Crowder Band', 'I Want Your Attention, by Moon Boots', \"Can't You Hear Me Knocking - Remastered, by The Rolling Stones\", 'Mélonade and Funkmammoth (Desert Love Affair), by Mélonade', 'God Is Love, by Eclipse 6', 'Let The Heavens Open - Live, by Kari Jobe', 'Sooraj Dooba Hain, by Aditi Singh Sharma', 'Malebranche, by $uicideBoy$', 'Gouwaya, by Fadhl Shaker', 'Give Me the Beat, by Ghostland Observatory', 'Inseparable, by Jonas Brothers', \"Baby, It's Cold Outside, by She & Him\", 'Show Me, by Tiësto', 'No Fue Fácil, by Roberto Tapia', 'Falling Through - Eric Rigo Remix, by Eric Rigo', 'Milk & Honey, by Thundamentals', 'No Quieren Que Gane, by Justin Quiles', \"She's Not Afraid, by One Direction\", 'MFN Right - Remix, by 2 Chainz', 'Stadium Arcadium, by Red Hot Chili Peppers', 'September - Throttle x Earth, Wind & Fire, by Throttle', 'Amor Regresa, by Los Askis', 'War of Hormone, by BTS', 'So 4 More, by BTS', 'Perdido En Tus Ojos, by Don Omar', 'Fight, by Grand Magus', 'Blue Sky, by The Allman Brothers Band', 'Millstone, by Brand New', 'El Paso, by Marty Robbins', 'Estrellas De Fania, by Fania All Stars', 'Lit Up, by Buckcherry', 'The Swings Of Central Park, by Alexandre Desplat', 'Faxing Berlin - Piano Acoustic Version, by deadmau5', 'Like A Rolling Stone - Live At Monterey, by Jimi Hendrix', 'Price Tag, by The JMU BluesTones', 'Trees, by The Oh Hellos', 'The Outsiders, by Eric Church', 'Everybody Loves The Sunshine, by Takuya Kuroda', 'Hurricane, by Alex Marshall', 'Garden Grove, by Sublime', \"El Camino Del Exceso - En Directo Rock'am'Ring, by Heroes Del Silencio\", 'Man I Think I Love Her, by Stereo Skyline', 'Aquí, by La Ley', 'I Need to Know, by Marc Anthony', 'I Hope They Call Me on a Mission Rap - Re-Mix, by Jess The Facts', 'All The Girls, by Tory Lanez', 'Imaginate (Remix), by Alexis y Fido', 'Sad Person, by Savages', 'Green Tambourine, by The Lemon Pipers', 'The King of Love My Shepherd Is, by Garth Smith', \"Livin' The Dream, by Drake White\", \"Let's Go Fly a Kite, by Jason Schwartzman\", 'Try, by P!nk', 'Send Me An Angel, by Scorpions', 'Balance, by Future Islands', 'If Tomorrow Never Comes (feat. Phora & Eskupe), by Anthro Beats', 'Good To Be Alive, by Jason Gray', 'Ribs, by Lorde', 'Snoopies, by De La Soul', 'One Cold Day, by Lacuna Coil', 'Rhinestone Cowboy, by Madvillain', 'Each Day Is A Lifetime, by David Ruffin', 'Sat Siri Siri Akaal, by Nirinjan Kaur Khalsa', \"I Am Jesus' Little Lamb (feat. Rain For Roots), by Indelible Grace Music\", 'High, by Casey Donahew', 'Dance…, by Johnny Rain', 'POA, by Future', 'Body to Body, by Mike Perry', 'If I Lose Myself - Alesso vs OneRepublic, by OneRepublic', 'My Mistakes Were Made For You, by The Last Shadow Puppets', \"God You're Beautiful - Live, by Brian Johnson\", 'Five Star Day, by Aqueduct', 'Hallelujah, by Voices in Your Head', \"Kananaka, by Keali'i Reichel\", 'Classic, by Hieroglyphics', 'My Klik (feat. John Wicks & JackBoy), by Kodak Black', 'Groove Me, by King Floyd', 'Let It Go, by Modl', 'Billie Jean, by The Civil Wars', 'Get You (feat. Kali Uchis), by Daniel Caesar', 'Perfecto Amor, by Rigoberto Amaya', 'Glass Moon, by Bobby Tank', 'Rooms, by Steve Void', 'Knights of Cydonia, by The Pitchforks', 'Por Ser Bonita, by El Dasa', 'Suite: Judy Blue Eyes - Remastered, by Crosby, Stills & Nash', 'Wannabe, by Dylan Schneider', 'Saving Us a Riot, by Phoria', \"Kauanoeanuhea, by Keali'i Reichel\", 'Free Mason, by Rick Ross', 'Lullaby, by Nickelback', 'The Pride (Remix), by Five Finger Death Punch', 'Tu Eres Perfecta, by Oscarcito', 'Sana Wara Sana, by Nancy Ajram', 'Pedazos De Mi, by Remmy Valenzuela', \"It Don't Matter, by Donavon Frankenreiter\", 'The Stall, by Warpaint', 'In Ya Hood Cypha Remix, by Tedashii', 'Love and War, by Tamar Braxton', 'My President, by Jeezy', \"I Don't Want To Set The World On Fire, by The Ink Spots\", 'Tied, by Strangers You Know', 'La telaraña, by Maná', 'Arachin Yiro Yerk, by Armen Tarpinian', 'All My Chains, by Lil Uzi Vert', 'Tu, by Noelia', 'Poker Face (Glee Cast Version featuring Idina Menzel), by Glee Cast', 'Ave Maria, by Johann Sebastian Bach', 'Heaven Come Down, by The Nonparell', 'Home, by People of The Earth', 'Paper Bag, by Fiona Apple', 'flood on the floor, by Purity Ring', 'Carousel, by Melanie Martinez', 'House Of Horrors, by Insane Clown Posse', 'Loner (feat. Linzi Jai), by Sylvan LaCue', \"These Boots Are Made for Walkin' - Audio from Video, by Jessica Simpson\", 'Small Town Rock Stars, by Joe Bachman', \"Delicate, Petite & Other Things I'll Never Be, by Against Me!\", \"You're a Gift, by The Both\", 'Abram, by José González', 'Phantom, by T-Pain', 'Chills, by Fatty Koo', 'Amor, Amor, by Gipsy Kings', 'Coffee, by Aesop Rock', \"O'Lord, by Lauren Daigle\", 'Paul, by Big Thief', 'I Saw The Light, by Todd Rundgren', 'I Wanna Dance With Somebody (Live), by Ben Rector', 'Wish Your Love Away, by Brandy', 'シェイズ, by Christopher Wilde', 'Last Fare, by Little People', 'D.A.M., by Fetty Wap', 'Hillbillies with Guitars (feat. LoCash Cowboys), by Mud Digger', 'Concerning the UFO sighting near Highland, Illinois, by Sufjan Stevens', 'Do Me Right - Demo, by The All-American Rejects', 'Pass the Dutchie, by Buck-O-Nine', 'If I Told You, by Darius Rucker', 'Twilight [War With God], by Kevin Gates', 'LOYALTY. FEAT. RIHANNA., by Kendrick Lamar', 'Reign In Blood, by $uicideBoy$', 'Apologize (Acoustic Version), by Kacey Musgraves', 'Stay a While - Radio Edit, by Dimitri Vegas & Like Mike', 'Good Girls Go Bad, by The Game', 'Erase Your Social, by Lil Uzi Vert', 'Boxcar, by Shovels & Rope', 'When We All Get To Heaven, by John Jones', 'Hung Up, by Madonna', 'Insecure, by Stwo', 'Malibu - The Him Remix, by Miley Cyrus', 'Ride (Road Cut), by Bounty Killer', 'Healing Waves, by Zoe Chambers', 'One X, by Three Days Grace', 'Old MacDonald Had a Farm, by Kids Party Music Players', 'Furious Stylze, by K.A.A.N.', 'Biggie Smalls, by STRFKR', 'The Life (feat. Penguin Prison), by Viceroy', 'Cat Scratch Fever, by Ted Nugent', \"Your Cover's Blown, by Belle & Sebastian\", 'Healing, by SEVENTEEN', 'Banger, by Chief Keef', 'El amor es una cosa simple, by Tiziano Ferro', 'Jack and Jill, by Toddler Songs Kids', 'Domo23, by Tyler, The Creator', 'The Lord Is My Rock/God You Lifted Me Out, by Elevation Worship', 'Only Life, by K.A.A.N.', 'Filler, by Minor Threat', 'Rising Up (Live), by CCV Music', 'Patience, by Bad Suns', 'good kid, by Kendrick Lamar', 'Caro (feat. Lax), by WizKid', 'Swim In The Light, by Kid Cudi', 'Gayatri Mantra, by Lila', 'Before, by Empire of the Sun', 'Custer, by Slipknot', 'Natural Fools, by Maribou State', 'Run Run Run, by Kelly Clarkson', 'Chase Us Around (feat. Madi Diaz), by Viceroy', 'Tourist, by Quinn XCII', 'Basta Ya - En Vivo Desde Monterrey / 2012 / Banda, by Jenni Rivera', 'Must Be Dreaming, by Frou Frou', 'Battery Kinzie, by Fleet Foxes', 'Odile (radio edit), by Nadeah', 'Must Be The Ganja, by Eminem', 'Kumi Roni, by Eitan Katz', 'A Hora, O Dia e o Lugar, by Jorge & Mateus', 'The Shrine / An Argument, by Fleet Foxes', 'Tiny Dancer, by Tim McGraw', 'Then the Quiet Explosion, by Hammock', 'Without You (ftea. Holly Drummond), by Finding Hope', 'Feel the Same - EDX Dubai Skyline Remix Edit, by Lika Morgan', 'No Cap, by Future', 'Te Vas, by Ozuna', 'Solos (feat. Lary Over), by El Nene La amenaza', 'In The Hands Of God, by Newsboys', 'Polehoonalani, by Kuana Torres Kahele', 'Have A Nice Day [Remix], by Roxanne Shante', 'Sandwich, by Bowling For Soup', \"Casey's Last Ride, by Kris Kristofferson\", 'Ardas Bhaee (Blessings), by Snatam Kaur', 'Euphoria, by Uplink', 'Rat Race, by Andy Mineo', 'I Wake up Crying, by Del Shannon', 'Mend - To Fix, To Repair, by Elsiane', 'Here Comes Santa Claus (Right Down Santa Claus Lane) - Single Version, by Bing Crosby', 'Winning (feat. Wiz Khalifa), by Curren$y', 'Here We Go, by Lower Than Atlantis', 'Sabanas y Botellas, by Miky Woodz', 'In God We Trust - Live, by Hillsong Worship', 'Edelweiss, by Elaine Paige', \"That's What I Want for Christmas - 1992 - Remaster, by Nancy Wilson\", 'Andromeda (feat. DRAM) - Bonobo Remix, by Gorillaz', 'So, by Ed Sheeran', 'On the Way Back Home, by Lucero', 'Rag Doll, by Aerosmith', '90% of Me Is You, by Gwen McCrae', 'I Kissed a Girl, by Katy Perry', 'Troublemaker, by Weezer', 'Year 3000, by Jonas Brothers', 'All My Life, by K-Ci & JoJo', \"I'll Wear It Proudly, by Elvis Costello\", 'Weekend - Jai Wolf Remix, by Mocki', 'Anxieties, by The Landing', 'Love America - Radio Mix, by Leventina', 'Llegaste tu, by Jesse & Joy', 'The White Owl, by Phora', \"Don't Forget to Remember Me, by Carrie Underwood\", 'Broken Home, by 5 Seconds of Summer', 'Grace Like a Wave, by Elevation Worship', 'Elevator Operator, by Courtney Barnett', 'Get Lucky, by L.E.J', 'The Look, by Metronomy', 'Chakra Tune Up: Gongs for Chakra Energy Balancing and Yoga, by Tibetan Singing Bowls for Relaxation, Meditation and Chakra Balancing', 'One More, by Michael Christmas', 'Never to Sit or Stand Again, by Superjoint', 'Anyway, by Chris Brown', 'The Chronicles, by Aly & Fila', 'Tonight, by Nonso Amadi', 'Summer Snow, by Nick Kingswell', 'Open Sun, by Treehaus', 'Happier, by Ed Sheeran', 'El Besito, by Aniceto Molina', 'Ka`u Nui, by The Kahauanu Lake Trio', 'Good Life, by Kiso', 'Touch The Sky - Live, by Hillsong United', 'Honey Magnolia, by Brian Fallon', 'A True Hero / A Star Is Born, by Roz Ryan', 'Do Whatcha Wanna, by Rebirth Brass Band', 'Man on a Mission, by Futuristic', 'Glower, by Throwing Snow', 'The Last Time Again, by Lit', 'Victory, by James Newton Howard', 'Stranger To Love, by Charles Perry', 'Follow, by Bro Safari', 'Presiento Que Voy A Llorar, by Los Bukis', 'Labeling, by Lidia Zylowska, M.D.', 'Kashmir, by KSHMR', '7 Dias, by Carlitos Rossy', 'Sin miedo a nada (feat. Amaia Montero) - con Amaia Montero, by Alex Ubago', 'Guaguanco Mayor, by Orquesta Revolución 70', 'Good Morning, by Grouplove', 'Cat Daddy, by Rej3ctz', 'Adderall, by Max Frost', 'Tu Peor Error, by La Quinta Estacion', 'Get It All - Bam Spacey remix, by Karl X Johan', \"Day Drinkin', by Parmalee\", 'Wind of God, by Ascend The Hill', 'Malibu, by Miley Cyrus', 'Rolling in the Deep, by Urban Love', 'Get to You, by Michael Ray', 'In Your Eyes, by Tribal Seeds', 'Stuck Like Glue, by Sugarland', 'No Shopping, by French Montana', 'Gravitation, by Petit Biscuit', \"He's a Bully - Instrumental, by Phineas and Ferb Karaoke\", \"It's Your Love, by Melinda Doolittle\", 'God Rest Ye, Merry Gentleman, by Kenny G', 'Symphony No. 1 in D Major, Op. 25 \"Classical\" (Arr. O. Godin for 6 Pianos): IV. Finale: Molto vivace, by Sergei Prokofiev', 'Call The Police, by Orezi', 'Do This Shit Again (feat. Yo Gotti, Rick Ross & Schife) - Explicit Album Version, by Gucci Mane', 'Let Me Down Easy, by Sheppard', 'Small Town Throwdown, by Variable D', 'Bora Bora - Seaside Edit, by Beltek', 'One For Trane, by Art Blakey', 'West Side Story: Erster & einziger Akt - Tonight, by Los Angeles Philharmonic', 'Fishnet Stockings, by Mad Marge and the Stonecutters', 'Farewell, by Denace', 'Go Far (From Mystery Show), by Emmy The Great', 'Nomadic Firs - Cover Bombs (Odesza Edit), by ODESZA', 'Afraid Of Heights, by Wavves', '冒險時間, by Lu Han', 'Wild Drunk - Original Mix, by Malive', 'Nudes (feat. Devvon Terrell), by Futuristic', 'Upgrade U, by Beyoncé', 'Ayer 2 (feat. Dj Nelson, J Balvin, Nicky Jam, Cosculluela), by Anuel Aa', 'Mediator, by AlunaGeorge', 'Young Boy Blues, by Ben E. King', 'Let Her Go, by Passenger', 'Upgrade (A Baymar College College), by Deltron 3030', \"Vega - Modek's Hyper Mix, by Mightyfools\", 'Walking Alone - feat. Erik Hecht, by Dirty South', 'Follow - Zomboy Remix, by Bro Safari', 'Summertime Clothes, by Animal Collective', 'Buried Alive, by Avenged Sevenfold', 'The Wicked, by Blues Saraceno', 'Tech2, by Ulterior Motive', 'Hopeless Wanderer, by Mumford & Sons', 'Philip, by Rival Consoles', 'Dance, by Tekno', 'Moondance, by Michael Bublé', '失落沙洲, by LaLa Hsu', 'Thank You for the Broken Heart, by J Rice', 'Tongue Tied July, by Michael Brun', 'Brand New, by Gucci Mane', \"Vladimir's Blues, by Max Richter\", 'PacMan, by Gucci Mane', 'City Girl, by Ryan Hurd', 'It Is To You, by Byron Cage', 'Berlin, by The Piano Guys', 'Opening: I Hope I Get It, by A Chorus Line Ensemble (2006)', 'Cerulean, by Maths Time Joy', 'Great Is Thy Faithfulness, by John Jones', 'M.I.A., by Foo Fighters', 'I Luv It, by Jeezy', 'Shooting Stars, by Bag Raiders', \"Let's Get Faded, by Gucci Mane\", 'You Can Call Me Al, by Paul Simon', 'Come Monday, by Jimmy Buffett', 'Merry Christmas, Happy Holidays, by Pentatonix', 'Cop Car, by Sam Hunt', \"Don't Lie, by Greensky Bluegrass\", 'Me Gustas Mucho, by Código FN', 'Divide, by All That Remains', 'Daydreams About Night Things, by Ronnie Milsap', 'Shot me Down (feat. Skylar Grey) - Radio Edit, by David Guetta', 'Numb, by Marina and the Diamonds', 'Take My Life, by Third Day', 'Beautiful Thing, by King Tuff', 'Hooch, by Everything', 'The Pressure, by Phora', 'From Your Window, by Feverkin', 'Borderlines And Aliens, by Grouplove', 'Only You Can Love Me This Way, by Keith Urban', 'Let Me Go - Instrumental, by Heaven 17', 'The Deployment Song, by Emay Holmes', 'Dis moi au revoir (Ness remix) [Radio Edit], by Leonard', 'It All Started with a Beer, by Frankie Ballard', 'Hunter, by Pharrell Williams', 'Patience, by Pell', 'La Noche, by Manolito Simonet y su Trabuco', 'No Love, by Fern', 'Scarlet Begonias - Live at Barton Hall, Cornell University, Ithaca, NY 5/8/77 [Remastered], by Grateful Dead', 'The Pagan Way, by Trobar de Morte', 'Jingle Bells - 1999 - Remaster, by Frank Sinatra', 'Walking Blind, by Aidan Hawken', 'We, by Rae Sremmurd', 'Off The Beaten Path, by Justin Moore', 'Baby, by Kat Graham', 'Black and White (7-Inch Version), by Parquet Courts', 'Dracula Skit, by T-Pain', 'Boomerang, by Walk Off the Earth', 'High, by Big Sean', 'Party Police, by Alvvays', 'Slow Down, by Good Fruit Co.', 'Lighthouse, by Patrick Watson', \"We're All In This Together, by High School Musical Cast\", 'Stay (Vice Remix), by Monarch', 'Possum Kingdom, by Toadies', 'The Nutcracker Suite, Op. 71A, Waltz Of The Flowers, by Leopold Stokowski', 'Floaty, by Foo Fighters', 'Bring It Down, by Emalkay', 'Wicked Game, by Widowspeak', 'Book Of Shadows, by Threefold', 'Last Word, by Elevation Worship', 'Hypnotized, by Pillar', 'Never Going Back (Live) [feat. Brock Human], by United Pursuit', 'Thank You for Being a Friend, by Suburban Legends', 'Ridin High, by Jawga Boyz', 'La Peligrosa, by Banda El Recodo', 'Temporary Fix, by One Direction', 'Así Nací, by Alta Consigna', 'Flower, by Toppdogg']\n"
     ]
    }
   ],
   "source": [
    "print(songs)"
   ]
  },
  {
   "cell_type": "code",
   "execution_count": 15,
   "id": "d794292e",
   "metadata": {
    "id": "d794292e",
    "outputId": "6ef5bc56-23dc-4140-f58d-2178aff41fc5"
   },
   "outputs": [
    {
     "name": "stdout",
     "output_type": "stream",
     "text": [
      "Input songs:\n",
      "['This Bitter Earth - Original, by Dinah Washington', 'I Get It, by Tedashii', 'No Rest For The Wicked, by Lykke Li', 'Over My Head (Cable Car), by The Fray', \"It's Your Love, by Tim McGraw\"]\n"
     ]
    }
   ],
   "source": [
    "#Testing the algorithm\n",
    "inputPlaylist = []  #pick some random songs OR you can manually add some songs (in cell above)\n",
    "for i in range(5):\n",
    "    inputPlaylist.append(songs[random.randint(0,len(songs))])\n",
    "length = len(inputPlaylist)+10\n",
    "print(\"Input songs:\")\n",
    "print(inputPlaylist)\n",
    "\n"
   ]
  },
  {
   "cell_type": "code",
   "execution_count": 16,
   "id": "cdf25d84",
   "metadata": {},
   "outputs": [],
   "source": [
    "gen = []\n",
    "for method in METHODS.keys():  \n",
    "    edges, relations = method1(SPECIFIC_FILE,set(songs))\n",
    "    gen.append(set(create_playlist(inputPlaylist, length, songs, relations, edges)))\n",
    "    \n",
    "\n",
    "    \n"
   ]
  },
  {
   "cell_type": "code",
   "execution_count": 21,
   "id": "388e0a7c",
   "metadata": {},
   "outputs": [
    {
     "name": "stdout",
     "output_type": "stream",
     "text": [
      "['Erase Your Social, by Lil Uzi Vert', 'Hooch, by Everything', 'Hypnotized, by Pillar', \"I Don't Even Know Your Name, by Shawn Mendes\", 'I Get It, by Tedashii', 'I Kissed a Girl, by Katy Perry', \"It's Your Love, by Tim McGraw\", 'Let Her Go, by Passenger', 'Little Bit, by Lykke Li', 'Love and War, by Tamar Braxton', 'Never Ever Getting Rid of Me, by Christopher Fitzgerald', 'No Fue Fácil, by Roberto Tapia', 'No Rest For The Wicked, by Lykke Li', 'Numb, by Marina and the Diamonds', 'Over My Head (Cable Car), by The Fray', 'Scars To Your Beautiful, by Alessia Cara', 'Shooting Stars, by Bag Raiders', 'This Bitter Earth - Original, by Dinah Washington', 'Try, by P!nk', 'Tunnel Vision, by Kodak Black']\n",
      "['Car Radio, by Twenty One Pilots', 'Foreign, by Sam Gouthro', 'Hooch, by Everything', 'I Get It, by Tedashii', \"It's Your Love, by Tim McGraw\", 'Let Her Go, by Passenger', 'Little Bit, by Lykke Li', 'Love and War, by Tamar Braxton', 'My Love Will, by Ross Copperman', 'Never Ever Getting Rid of Me, by Christopher Fitzgerald', 'No Rest For The Wicked, by Lykke Li', 'Not Over You, by Gavin DeGraw', 'Numb, by Marina and the Diamonds', 'Over My Head (Cable Car), by The Fray', 'Sono, by Buscabulla', 'Soul Meets Body, by Death Cab for Cutie', 'Thank You for the Broken Heart, by J Rice', 'This Bitter Earth - Original, by Dinah Washington', 'Try, by P!nk', 'Upgrade U, by Beyoncé']\n",
      "['Car Radio, by Twenty One Pilots', 'Erase Your Social, by Lil Uzi Vert', 'Hooch, by Everything', 'I Get It, by Tedashii', 'I Was Made For Loving You, by Tori Kelly', \"It's Your Love, by Tim McGraw\", 'Kiss Me Thru The Phone, by Soulja Boy', 'Like Toy Soldiers, by Eminem', 'Little Bit, by Lykke Li', 'Meet in the Middle, by Diamond Rio', 'My Klik (feat. John Wicks & JackBoy), by Kodak Black', 'No Rest For The Wicked, by Lykke Li', 'Nudes (feat. Devvon Terrell), by Futuristic', 'Numb, by Marina and the Diamonds', 'Over My Head (Cable Car), by The Fray', 'Soul Meets Body, by Death Cab for Cutie', 'Stuck Like Glue, by Sugarland', 'This Bitter Earth - Original, by Dinah Washington', 'Tunnel Vision, by Kodak Black', 'Year 3000, by Jonas Brothers']\n"
     ]
    }
   ],
   "source": [
    "for g in gen:\n",
    "    x =list(g)\n",
    "    x.sort()\n",
    "    print(x)"
   ]
  },
  {
   "cell_type": "code",
   "execution_count": 17,
   "id": "e6c50591",
   "metadata": {},
   "outputs": [
    {
     "name": "stdout",
     "output_type": "stream",
     "text": [
      "Songs common in method 1 and 2: {'Numb, by Marina and the Diamonds', 'Love and War, by Tamar Braxton', 'Little Bit, by Lykke Li', 'Let Her Go, by Passenger', 'Hooch, by Everything', 'Try, by P!nk', 'Never Ever Getting Rid of Me, by Christopher Fitzgerald'}\n",
      "Songs common in method 1 and 3: {'Erase Your Social, by Lil Uzi Vert', 'Numb, by Marina and the Diamonds', 'Tunnel Vision, by Kodak Black', 'Little Bit, by Lykke Li', 'Hooch, by Everything'}\n",
      "Songs common in method 2 and 3: {'Numb, by Marina and the Diamonds', 'Car Radio, by Twenty One Pilots', 'Little Bit, by Lykke Li', 'Hooch, by Everything', 'Soul Meets Body, by Death Cab for Cutie'}\n"
     ]
    }
   ],
   "source": [
    "print(\"Songs common in method 1 and 2:\", (gen[0].intersection(gen[1])).difference(set(inputPlaylist)))\n",
    "print(\"Songs common in method 1 and 3:\", (gen[0].intersection(gen[2])).difference(set(inputPlaylist)))\n",
    "print(\"Songs common in method 2 and 3:\", (gen[1].intersection(gen[2])).difference(set(inputPlaylist)))"
   ]
  },
  {
   "cell_type": "markdown",
   "id": "fc5f0a9c",
   "metadata": {
    "id": "fc5f0a9c"
   },
   "source": [
    "### Thoughts on algorithm\n",
    "\n",
    "I have no idea if these are great playlists or not lmao"
   ]
  },
  {
   "cell_type": "markdown",
   "id": "fe1eb6de",
   "metadata": {},
   "source": [
    "## 2.2 Implementing Networkx\n",
    "\n",
    "The purpose of this subsection is to use networkx to load our .csv files that we have produced, so that we can create adjacency matrices, figure out shortest path lengths, etc\n"
   ]
  },
  {
   "cell_type": "code",
   "execution_count": null,
   "id": "6d5dcfbf",
   "metadata": {},
   "outputs": [],
   "source": [
    "path = 'generated_data/2000_method1_random_songs.csv' #file to be read\n",
    "df = pd.read_csv(path)\n",
    "songs = []\n",
    "for song in df['Source']:\n",
    "    songs.append(song)\n",
    "print(df.head)"
   ]
  },
  {
   "cell_type": "code",
   "execution_count": null,
   "id": "869a7642",
   "metadata": {},
   "outputs": [],
   "source": [
    "\n",
    "G = nx.from_pandas_edgelist(df, \"Source\", \"Target\", edge_attr = \"Weight\")  #generate graph\n",
    "\n",
    "out = []\n",
    "\n",
    "for song1 in songs:\n",
    "    paths = nx.single_source_shortest_path_length(G, song1)\n",
    "    vals = []\n",
    "    for p in paths.keys():\n",
    "        if p!=song1:\n",
    "            vals.append(paths[p])\n",
    "    out.append(vals)\n",
    "print(len(out))\n",
    "#print(nx.adjacency_matrix(G).shape)\n"
   ]
  },
  {
   "cell_type": "code",
   "execution_count": null,
   "id": "cf5d943f",
   "metadata": {},
   "outputs": [],
   "source": [
    "print((np.array(out[1])-np.array(out[2])).sum())"
   ]
  },
  {
   "cell_type": "code",
   "execution_count": null,
   "id": "43225e35",
   "metadata": {},
   "outputs": [],
   "source": [
    "#Playlist Generation using shortest paths method\n",
    "\n",
    "input_songs = ['Dani California, by Red Hot Chili Peppers','Hey Joe, by Jimi Hendrix', 'The Ballad Of Curtis Loew, by Lynyrd Skynyrd']\n",
    "out = input_songs\n",
    "n = 10 # number of songs to add\n",
    "sp = []\n",
    "\n",
    "for s in input_songs:\n",
    "    if sp == []:\n",
    "        sp = nx.shortest_path(G,s)\n",
    "        sp.pop(s)\n",
    "    else:\n",
    "        for key in sp.keys():\n",
    "            sp[key]+= nx.shortest_path(G,s)[key]\n",
    "        sp.pop(s)\n",
    "\n",
    "        \n",
    "for i in range (10):\n",
    "    s = min(sp, key = sp.get) #get song with lowest combined shortest path\n",
    "    out.append(s)\n",
    "    for key in sp.keys():\n",
    "        sp[key]+= nx.shortest_path(G,s)[key]\n",
    "    sp.pop(s)\n",
    "    \n",
    "print(out)"
   ]
  },
  {
   "cell_type": "markdown",
   "id": "1dd2c770",
   "metadata": {},
   "source": [
    "## 2.2 Cosine Simliarity\n",
    "\n",
    "### TODO"
   ]
  },
  {
   "cell_type": "code",
   "execution_count": null,
   "id": "1e847f4a",
   "metadata": {
    "id": "1e847f4a"
   },
   "outputs": [],
   "source": []
  }
 ],
 "metadata": {
  "colab": {
   "provenance": []
  },
  "kernelspec": {
   "display_name": "Python 3",
   "language": "python",
   "name": "python3"
  },
  "language_info": {
   "codemirror_mode": {
    "name": "ipython",
    "version": 3
   },
   "file_extension": ".py",
   "mimetype": "text/x-python",
   "name": "python",
   "nbconvert_exporter": "python",
   "pygments_lexer": "ipython3",
   "version": "3.8.8"
  }
 },
 "nbformat": 4,
 "nbformat_minor": 5
}
