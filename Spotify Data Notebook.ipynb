{
 "cells": [
  {
   "cell_type": "code",
   "execution_count": 16,
   "id": "662ea106",
   "metadata": {
    "id": "662ea106"
   },
   "outputs": [],
   "source": [
    "import math\n",
    "import json\n",
    "import scipy\n",
    "import pandas as pd\n",
    "import os\n",
    "import os.path\n",
    "import matplotlib.pyplot as plt\n",
    "import numpy as np\n",
    "import random\n",
    "import networkx as nx\n",
    "from pathlib import Path"
   ]
  },
  {
   "cell_type": "code",
   "execution_count": 17,
   "id": "f0b82eba",
   "metadata": {},
   "outputs": [
    {
     "name": "stdout",
     "output_type": "stream",
     "text": [
      "2.5\n",
      "1.6.2\n"
     ]
    }
   ],
   "source": [
    "print (nx.__version__)\n",
    "print(scipy.__version__)"
   ]
  },
  {
   "cell_type": "code",
   "execution_count": null,
   "id": "U-wHnUm3kYnZ",
   "metadata": {
    "colab": {
     "base_uri": "https://localhost:8080/"
    },
    "id": "U-wHnUm3kYnZ",
    "outputId": "41f12f03-7583-4725-8e87-cffb40a18970"
   },
   "outputs": [],
   "source": [
    "#optional cell if using drive:\n",
    "#if using drive the file creeation will not work!\n",
    "#from google.colab import drive\n",
    "#drive.mount('/content/gdrive')"
   ]
  },
  {
   "cell_type": "markdown",
   "id": "a2dd32b7",
   "metadata": {
    "id": "a2dd32b7"
   },
   "source": [
    "\n",
    "\n",
    "# Section 0: Getting data from million songs playlists\n",
    "\n",
    "### How to use this notebook\n",
    "\n",
    "1. Download it\n",
    "2. Download and extract the million songs dataset (link in the README.md on the repo) in the same directory as this notebook\n",
    "3. Set the DIRECTORY constant in the cell below as the directory containing the dataset\n",
    "4. You should then be able to run all of it\n",
    "\n",
    "Section 1 is making a graph to figure out how the number of followers over all the playlists is distributed\n",
    "Section 2 is removing all playlists from the dataset which have N or more fewer, and creating a new file containing playlists with only more than N followers\n",
    "Section 3 is extracting N songs randomly from a given dataset, either randomly or with a weighted random distribution. You can set the constants to change the sampling method, number of songs, and the dataset you are computing over. If you use the default dataset to pick the songs, it is quite slow (takes like 10 minutes overall), so you may want to use a smaller dataset to choose these songs. I set the dataset to the dataset containing playlists with over 5 followers and it is significantly quicker to run. "
   ]
  },
  {
   "cell_type": "markdown",
   "id": "561efd48",
   "metadata": {},
   "source": [
    "### IMPORTANT: Set the directory containing the data below"
   ]
  },
  {
   "cell_type": "code",
   "execution_count": null,
   "id": "f900x3nJpM8J",
   "metadata": {
    "id": "f900x3nJpM8J"
   },
   "outputs": [],
   "source": [
    "DIRECTORY = \"spotify_million_playlist_dataset/data/\""
   ]
  },
  {
   "cell_type": "markdown",
   "id": "1f57447f",
   "metadata": {
    "id": "1f57447f"
   },
   "source": [
    "### 1. Figuring out distribution of number of followers over playlists\n",
    "\n",
    "This is just to figure out what the distribution of the followers looks like"
   ]
  },
  {
   "cell_type": "code",
   "execution_count": null,
   "id": "2e38ec2a",
   "metadata": {
    "colab": {
     "base_uri": "https://localhost:8080/"
    },
    "id": "2e38ec2a",
    "outputId": "53f204b0-95ba-4175-f7e2-2bc407691d54"
   },
   "outputs": [],
   "source": [
    "# 1. Followers numbers\n",
    "# 10,000 songs choose (Quanchi's link)\n",
    "\n",
    "\n",
    "num_followers = []\n",
    "directory = os.listdir(DIRECTORY)\n",
    "\n",
    "for file in directory:\n",
    "\n",
    "    f = open(DIRECTORY+file)\n",
    "    data = json.load(f)\n",
    "\n",
    "\n",
    "    for playlist in range(len(data['playlists'])):\n",
    "        x = data['playlists'][playlist]['num_followers']\n",
    "        num_followers += [x]\n",
    "\n",
    "num_followers = pd.Series(num_followers)\n",
    "num_followers.value_counts()\n"
   ]
  },
  {
   "cell_type": "code",
   "execution_count": null,
   "id": "5dd9d657",
   "metadata": {
    "id": "5dd9d657"
   },
   "outputs": [],
   "source": [
    "num_likes = {}\n",
    "\n",
    "for val in num_followers:\n",
    "    if val in num_likes:\n",
    "        num_likes[val] += 1\n",
    "    else:\n",
    "        num_likes[val] = 1\n",
    "\n",
    "keys = []\n",
    "for key in num_likes.keys():\n",
    "    keys += [key]\n",
    "\n",
    "keys.sort()\n",
    "\n",
    "X,y = [],[]\n",
    "\n",
    "for key in keys:\n",
    "    X +=[key]\n",
    "    y +=[num_likes[key]]\n",
    "    \n",
    "    \n",
    "#make the y-values a fraction of the size of the dataset\n",
    "y_c = y     \n",
    "for i in range(len(y_c)):\n",
    "        y_c[i] = (y_c[i]+y_c[i-1])\n",
    "\n",
    "for i in range(len(y_c)):\n",
    "    y_c[i]/= 1000000\n",
    "\n",
    "y_c\n",
    "\n",
    "\n",
    "    \n",
    "    "
   ]
  },
  {
   "cell_type": "code",
   "execution_count": null,
   "id": "4ae833b8",
   "metadata": {
    "id": "4ae833b8"
   },
   "outputs": [],
   "source": [
    "#Plot\n",
    "\n",
    "plt.plot(X[:40], y[:40],linestyle=\"-\", marker=\"o\")\n",
    "plt.ylabel(\"Fraction of playlists with followers <= than this number\")\n",
    "plt.xlabel(\"Number of Followers\")\n",
    "plt.xticks(np.arange(0,41,2))\n",
    "plt.show()\n",
    "f = plt.figure()\n",
    "f.set_figwidth(1)\n",
    "f.set_figheight(1)"
   ]
  },
  {
   "cell_type": "code",
   "execution_count": null,
   "id": "5556a4cf",
   "metadata": {
    "id": "5556a4cf"
   },
   "outputs": [],
   "source": [
    "print(1000000 - y_c[5]*1000000)\n"
   ]
  },
  {
   "cell_type": "markdown",
   "id": "f0622574",
   "metadata": {
    "id": "f0622574"
   },
   "source": [
    "### 2. Removing the majority of the playlists\n",
    "\n",
    "Removing all playlists with N or less followers "
   ]
  },
  {
   "cell_type": "code",
   "execution_count": null,
   "id": "a8ca01a8",
   "metadata": {
    "id": "a8ca01a8"
   },
   "outputs": [],
   "source": [
    "N = 10\n",
    "directory = os.listdir(DIRECTORY)\n",
    "\n",
    "moreThanN = []\n",
    "\n",
    "for file in directory:\n",
    "\n",
    "    f = open(DIRECTORY+file)\n",
    "    data = json.load(f)\n",
    "\n",
    "\n",
    "    for playlist in range(len(data['playlists'])):\n",
    "        if data['playlists'][playlist]['num_followers'] >N:  \n",
    "            moreThanN += [data['playlists'][playlist]]"
   ]
  },
  {
   "cell_type": "code",
   "execution_count": null,
   "id": "a7877ad0",
   "metadata": {
    "colab": {
     "base_uri": "https://localhost:8080/"
    },
    "id": "a7877ad0",
    "outputId": "67370876-3a87-4d5b-e9b2-602ca77fc6a4"
   },
   "outputs": [],
   "source": [
    "#sanity check\n",
    "\n",
    "len(moreThanN)"
   ]
  },
  {
   "cell_type": "code",
   "execution_count": null,
   "id": "GJeLZslQm0-c",
   "metadata": {
    "colab": {
     "base_uri": "https://localhost:8080/"
    },
    "id": "GJeLZslQm0-c",
    "outputId": "ba4ac40c-6a8b-457c-84b2-7247c3b836bd"
   },
   "outputs": [],
   "source": [
    "#Create results folder\n",
    "\n",
    "path = os.getcwd()+\"/generated_data\"\n",
    "# Check whether the specified path exists or not\n",
    "isExist = os.path.exists(path)\n",
    "if not isExist:\n",
    "\n",
    "   # Create a new directory because it does not exist\n",
    "   os.makedirs(path)\n",
    "   print(\"The new directory is created!\")"
   ]
  },
  {
   "cell_type": "code",
   "execution_count": null,
   "id": "161047a2",
   "metadata": {
    "id": "161047a2"
   },
   "outputs": [],
   "source": [
    "#SAVING DATA\n",
    "#convert to dictionary \n",
    "moreThanN_dict = {\"playlists\": moreThanN}\n",
    "\n",
    "json_object = json.dumps(moreThanN_dict, indent=4)\n",
    "with open(path+\"/moreThan\"+str(N)+\"followers.json\", \"w\") as outfile:\n",
    "    outfile.write(json_object)\n",
    "\n"
   ]
  },
  {
   "cell_type": "code",
   "execution_count": null,
   "id": "8125c42e",
   "metadata": {
    "id": "8125c42e"
   },
   "outputs": [],
   "source": [
    "#formatting stuff for .edges filef\n",
    "\n",
    "data = \"\"\n",
    "\n",
    "for key in edges:\n",
    "    data+= (key + ' ' + str(edges[key])+'\\n')"
   ]
  },
  {
   "cell_type": "code",
   "execution_count": null,
   "id": "7163505d",
   "metadata": {
    "id": "7163505d"
   },
   "outputs": [],
   "source": [
    "#writing the truncated data to a new .json file\n",
    "\n",
    "with open(path+\"/moreThan\"+str(N)+\"followers.edges\", \"w\") as outfile:\n",
    "    outfile.write(data)"
   ]
  },
  {
   "cell_type": "markdown",
   "id": "6caa0ad4",
   "metadata": {
    "id": "6caa0ad4"
   },
   "source": [
    "### 3. Choosing our songs and generating data\n",
    "\n",
    "Selecting N songs randomly and performing an analysis on them.\n",
    "\n",
    "Change the constants in the cell below to change the kind of data you create.\n",
    "\n",
    "The output of these cells will be a .csv file in the generated_data folder."
   ]
  },
  {
   "cell_type": "code",
   "execution_count": 3,
   "id": "e28dc57f",
   "metadata": {
    "id": "e28dc57f"
   },
   "outputs": [],
   "source": [
    "################# Constants #################\n",
    "'''Rename this constant to the file containing the data, otherwise it will go through all of the data.\n",
    "I recommend using a file generated by Method 1 as the specific file (for instance, moreThan10followers.json) since\n",
    "the computation times will be much much faster'''\n",
    "SPECIFIC_FILE = 'generated_data/moreThan10followers.json' \n",
    "\n",
    "WEIGHTED_RANDOM = False   #If we want weighted random sampling or not\n",
    "N = 2000  #number of songs to consider\n",
    "\n",
    "############################################"
   ]
  },
  {
   "cell_type": "code",
   "execution_count": 4,
   "id": "b8f26d39",
   "metadata": {
    "id": "b8f26d39"
   },
   "outputs": [],
   "source": [
    "\n",
    "#first we need to load all the songs into a dictionary so that we can randomly select N of them\n",
    "\n",
    "\n",
    "all_tracks = {} #stores all the songs\n",
    "count = 0 #progress bar\n",
    "\n",
    "\n",
    "if SPECIFIC_FILE == '':\n",
    "    directory = os.listdir(DIRECTORY)\n",
    "    for file in directory:\n",
    "        count +=1\n",
    "        if (count %100 == 0):\n",
    "            print(count)\n",
    "        f = open(DIRECTORY+file)\n",
    "        data = json.load(f)\n",
    "\n",
    "        for playlist in data['playlists']:\n",
    "            for track in playlist['tracks']:\n",
    "                if track['track_name'] not in all_tracks:  #if it not in the dict then we add it to it and increase its weight\n",
    "                    all_tracks[track['track_name']] = 1 #weight is used for weighted random sampling (if needed)\n",
    "                else:\n",
    "                    all_tracks[track['track_name']] +=1\n",
    "                \n",
    "############### TO LOOP OVER SOME SMALLER FILE ##################\\\n",
    "else:\n",
    "    f = open(SPECIFIC_FILE)\n",
    "    data = json.load(f)\n",
    "\n",
    "    for playlist in data['playlists']:\n",
    "        for track in playlist['tracks']:\n",
    "            if track['track_name'] not in all_tracks:  #if it not in the dict then we add it to it and increase its weight\n",
    "                all_tracks[track['track_name']] = 1 #weight is used for weighted random sampling (if needed)\n",
    "            else:\n",
    "                all_tracks[track['track_name']] +=1\n",
    "\n"
   ]
  },
  {
   "cell_type": "code",
   "execution_count": null,
   "id": "8f183cb6",
   "metadata": {
    "id": "8f183cb6",
    "outputId": "67815257-8bde-4172-9909-66ed1106da4d"
   },
   "outputs": [],
   "source": [
    "print(list(all_tracks.keys())[0:20])"
   ]
  },
  {
   "cell_type": "code",
   "execution_count": 5,
   "id": "98fbf342",
   "metadata": {
    "id": "98fbf342"
   },
   "outputs": [
    {
     "name": "stdout",
     "output_type": "stream",
     "text": [
      "{'Good Arms vs Bad Arms', 'Rocket Queen', 'We Believe', 'Wednesday Night Prayer Meeting', 'Beautiful Pain', \"Everybody's Watching Me (Uh Oh)\", 'Mixed Drinks About Feelings', 'O Come, O Come Emmanual', 'Make It Home (feat. Kina Grannis)', 'Lines Of Latitude (feat. Frankie Rose)', 'Still Sane', 'I Felt the Chill Before the Winter Came', 'Бросай любить', 'Plans', 'Lay Your Head Down (From \"Albert Nobbs\")', 'I Knew You Were Trouble (Dubstep Remix)', 'Playground Love (with Gordon Tracks)', 'Banana Ripple - 2 Bears Remix', 'Battle Sirens', 'History Eraser', 'Dirty Work', 'Automechanic', 'bohemio de aficion', 'Cocaine Model', 'Dos Botellas De Mezcal - En Vivo Desde Monterrey/2012', 'When You Look Me In The Eyes', 'The End - Remastered', 'Blame - Michael Sparks Remix', 'Enjoy The Silence - Single Mix', 'Electric Avenue', 'Liar Mask (Akame Ga Kill)', 'Can of Worms', 'In the Beginning', 'Ella Me Levanto', 'Floyd Money Mayweather', '48', 'Despicable Me', 'Clean Money', 'love (left)', 'Make It Hot', 'Undiscovered', 'Any Day', 'Fortunate', 'Wicked', 'Love Goes On - Live', \"I'm On A Boat\", 'Oh Great God, Give Us Rest', 'Encore - Radio Edit', '愛你', 'Tractor', 'My Feria', 'Motion', 'Bakit', \"I'm All the Way Up\", \"Even In My Dreams, I Can't Win\", 'I Knew I Loved You', 'Stroke You Up', 'Keep Moving - Radio Edit', 'Feel the Adrenaline', 'So Sophisticated', 'Summer Of Love', 'Tropic Of Cancer', '20 Years Tall', 'Round and Round', 'You - Live', 'Sugaree - Live - 8/27/72 Veneta, Oregon', 'Painful Skies', 'Cotton Candy', 'Suzie Q.', 'Limbo Remix (feat. Wisin Y Yandel)', 'Away In a Manger', 'La Ley del Mosquito', 'Whine Up - English Version', 'Forest Fires', 'Who Walks In When I Walk Out?', 'Unmissable', 'Lights Down Low - Not Your Dope Remix', 'Merry Christmas, I Love You', 'Titan', 'Calling All the Monsters', 'Christmas In The City', 'Hollywood (feat. Safe)', 'Shine on Us (Live)', 'Deep Inside', 'Fire On High', 'No Fear', 'Sunday Smile', 'Moon', 'Total Entertainment Forever', 'God Lives Through', 'When The Roll Is Called Up Yonder', 'Telecaster Stripes', 'Hearts Of Darkness', 'Huff + Puff', 'Never See Me Again?', 'Evangeline', 'Psycho', 'Get lucky', 'Heavier Rain Fall with Thunder', 'Moonchant (Spring)', 'Hold It In', \"Annie: We'd Like to Thank You, Herbert Hoover\", 'Baila Esta Cumbia', 'Hell Up in Harlem', 'Close To Your Love', 'Cenário Ideal - Ao Vivo', 'Watermelon Man', 'the peaks - feat. kimberly anne', 'LGBT', 'Thud', 'Black Beatles X You Was Right', 'Olivia', 'Tornado Spiral', 'Bring Back the Summer (feat. OLY)', 'Burbujas De Amor', 'Great Day', 'People Everywhere (Still Alive)', 'Something Good Can Work (RAC Mix)', 'Everybody But Me', 'A Yuh (Hey You)', 'Apostles', 'No Rain', 'Allá en el Rancho Grande / Cielito Lindo', 'Childhood (From \"The Tree of Life\")', 'My King', 'No One On Earth - Gabriel & Dresden Radio Edit', 'Har Singh Nar Singh', 'I Would Die 4 U - Montis Remix', \"I Hope I'm Not Losing My Mind\", 'Ese Hombre Soy Yo', 'Dile La Verdad', 'Watermelon Crawl', 'Off You', 'Ayunilene', 'You’re Mine', 'Til the Sun Up', \"I Don't Need Your Rockin' Chair - Version w/special guests\", 'Snap Out Of It', 'Let The Heavens Open - Live', 'Facing West', 'Something About You - Radio Edit', 'Here I Am to Worship - Here I Am to Worship Album Version', \"It's a Party (feat. Zhane) - Explicit LP Version\", '58 BPM', \"Damned If I Do Ya (Damned If I Don't)\", 'Maleah', 'Ave Maria, Op. 52 No. 6', 'Steady Me (feat. Aaron Cole)', 'Synthetic Love', \"Keisha's Song (Her Pain)\", 'Dance Again', 'Needle In The Hay', 'DO NOT LEAVE WET', 'Praise Is What I Do', 'Shangri-La', \"Don't U Want Me\", '10,000 Reasons (Bless The Lord)', 'T-R-O-U-B-L-E', \"Oz V'Hadar\", 'Manolo', 'Waiting For The Last Tear To Fall', 'The News', 'Pavement (Sofi Tukker Remix)', 'Déjame Llegar', 'The first Nowell', 'La Cosa Mas Bella', \"Lookin' For Love\", 'My World - Torro Torro Remix', 'Forgotten Notes', 'Out Of My Mind (feat. Nicki Minaj) - feat. Nicki Minaj', 'Love Lust - New Master', 'Hope Remains', 'Young And Beautiful - DH Orchestral Version', 'This F**kin Song', 'Dile', 'La La Lie - 2015 Remastered', 'White Rabbit', 'In the Room: Weight in Gold (feat. Seal)', 'El Amar y el Querer', 'Starvation', 'Complete Control', 'Steph Curry', 'Coronamos - Remix', 'I Love Ya (feat. Yo Gotti)', 'Space Talk', 'Bliss: Om Namah Shivaya II', 'Snow Ghosts', 'In Here', \"It's All Over\", 'Ding Dong! Merrily on High', 'We Can Try', 'Carita Bonita', 'Samba Tranquille', 'Donde Estas - (En Vivo)', 'Corazón, Corazón (Bolero)', 'Bo Jacksons', 'Modern Warfare', 'Litty', 'Harvester Of Sorrow', 'Tu Última Canción', 'Kiss My Ass', 'Something Goes Right', 'Break Ups 2 Make Ups', 'Denise - Original Hit Version', 'Lights & Thunder', \"If You're Going Through Hell (Before The Devil Even Knows)\", 'Rise of Space', 'Collarbones', 'Comandos Del M.P (500 Balazos)', 'Numb & Getting Colder - Baauer Remix', 'Something In The Way You Move', \"Desmond's Empire\", 'The Glory (feat. James Egbert)', 'No Sense', 'Lucky (Glee Cast Version)', 'Bhagyada Lakshmi Baramma (feat. Gayatri Govindarajan)', 'Heaven or Hell', 'Poderoso Dios', 'Fail For You', 'Seve', 'Money For Nothing (feat. Jussie Smollett and Yazz)', \"What's Your Fantasy (Featuring Shawna)\", 'Sorry For Party Rocking', 'Mama (feat. SickPen)', 'Picasso Baby', 'Gagliarda', 'Lose to Win', 'One For My Baby (And One More For The Road) - 1998 Digital Remaster', 'Tedious', 'G Funk (Intro)', 'How He Loves', 'Ambitionz', \"Chang's Path\", 'Highway To Hell (as made famous by AC/DC)', 'Asleep at the Wheel', 'Aftershock (feat. Jacquie)', 'Sugaree - Olympia Theatre, Paris, France 5/3/72', \"Walkin' On The Sun\", 'Me, Myself and I', 'Dancing In The Dark', 'Amiga', 'W.O.L.F.', 'Walk On the Wild Side', \"Keep Them Kisses Comin'\", \"Treat 'Em Right\", 'Queen Bee', 'La Talega Del Café', 'The Phantom - 1930 Swing Version', 'R.I.P.C.D.', 'Crying', 'Old Old Fashioned', 'Bring On the Dancing Horses', 'Please Please Please', 'When I Met You in the Summer', 'Pere Pepê - Radio Edit', 'Finding Beauty', 'Almost Is Never Enough - Soundtrack Version', 'Outta My Life - deadmau5 Touch Remix', 'Top Down', 'Attics Of My Life', 'Vanishing Act', 'Attack', 'Last Night Ever - Isaac Remix', 'Basic Instinct', 'Bad Boy', 'Saunders Ferry Lane', 'L', 'Back in Black', 'Ramayana', 'La Gripa', 'Explorer', 'Los Gustos Que Me Doy', 'Same Old Trip', 'Forgiveness', 'Be With You Feat. Michael Ketterer - Har Megiddo Remix', 'A Little More Homework', \"Ain't No Faker\", 'Cocaína', \"(There's No Place Like) Home for the Holidays\", 'All Who Are Thirsty', 'Daydreams About Night Things', 'The Day', 'Pennywise the Clown (feat. CasOne)', 'Nube Viajera', 'Public Enemy', 'Soda Pop', 'I Refuse to Be Lonely', 'Tu Amor Es Un SueÃ±o', 'Ella Me Decía (feat. Sammy & Falsetto)', 'Makeda', 'Jump - Raw', 'Move', 'All the Days', 'Braindead - Original Mix', 'Tiimmy Turner', 'Southern State Of Mind', 'Beyond', 'Dark Side of the Moon', 'Soltero Disponible', 'Bells Bleed & Bloom', 'They Called Her Killer', \"We're From Barcelona\", 'Sayat Nova', 'The Trouble With Us', 'Baby Be My Love Song', 'Stronger - Original Broadway Cast Recording', 'Make Me Bad', 'Obvious Bicycle', \"Party Ain't A Party\", 'Under The Gun', 'Lucky Ones (feat. Rudy Currence)', 'Close These Curtains - Stimming Remix', 'Hodie cantandus est / Quem natus est nobis', 'Swish', 'The Twilight Zone', 'Dark Side', 'Travelin Band', 'At The Mercy Of Imbeciles', 'Llorar Es Una Locura', 'First Things First', 'Love, Lust, And Liars', 'Las Consecuencias (Asustar Un Poco)', 'Le Festine - From \"Ratatouille\" / Soundtrack Version', 'S.S.S.N. vs N.D.G.O.', 'Wreckage', 'If I Go', 'Tip It On Back', 'Turn Your Love', 'Ando por las Nubes - Mambo Remix', 'Dance Face 2000', 'Living Over', \"Ender's Promise\", 'Atesóralo', 'Bloomdido', '22 - Live', 'Jasey Rae', 'My Heart Beats 4 U', \"Somethin' 'Bout A Truck\", \"I Don't Have to Be Me 'Till Monday\", 'Y Llegaste Tú', 'See You Then', 'Best Ever', 'Tic Toc', 'Half Truth', 'Edge Of Glory (Glee Cast Version)', 'Leave A Trace - Goldroom Remix', 'Cruising Through', 'Postcards from Eden', \"Y'hey Ra'ava\", 'Barro En Tus Manos', 'Ask Me Why - Remastered', \"Love Don't Love Me\", 'Angelina/Zooma Zooma - Live', 'Electrify (feat. Scott Mellis)', 'Romantic St.', 'Straight From The Heart', 'Fanfare', 'A Good Day (Morning Song)', 'Feliz', 'Weatherman - Radio Edit', '修煉愛情', 'Heart’s Not Made of Gold', 'Adagio For Strings', 'Know It All', 'Marca Acme', 'Black Water Child', 'One Last Night On Earth - Speaker Of The House Remix', 'Whistle', 'Asi Es la Vida', 'Did I', 'Lost And Found', 'Say Goodbye', 'Commas', 'Take on the World', 'Courageous (Remixed)', \"This Ain't A Scene, It's An Arms Race\", 'Gonna Take You There (feat. Terrance Simien on Accordion)', 'בחתונה - Vocal', 'Sound of a Broken Heart (Live)', 'Seven Chakras', 'Colorblind (feat. Soul Gem)', 'The Shag', 'Lejos De Aquí', 'Gott ist ein Popstar', 'Ten Crack Commandments - 2014 Remastered Version', 'Four Seasons Spring I Allegro feat. Vlastimil Kobrie', 'Fall Back (feat. Kool G Rap)', 'All The Poor And Powerless - Live', 'Put On Your Neon', 'repeated Regret', 'Scrooge', \"I'm Trying To Be Like Jesus\", 'Trailer for Rent', \"Givin' Up The Nappy Dug Out\", 'Watchu Sayin', 'COUNT ON ME', \"When We're Fire (Cello Version)\", 'Para Quererte', 'Superstar (Eyes off Me)', 'War of Hearts', 'Whisper', 'Shiva Stuti', 'Willows', 'Compliment Each Other Like Colors', 'Whale Sound for Peaceful Dreams', 'Stupid Hoe', 'Go the Distance', 'True To Myself', 'Til My Heart Stops', '20 Joints', 'Unfriend You', 'L.A.F', 'Eating Makeup (feat. Kathleen Hanna)', \"Don't Push Me\", 'Free Bossa', 'You Walked In', 'Vicious Love (feat. Hayley Williams)', \"I Din't Want To Be Alone This Christmas\", 'Forgotten', 'Tihuanaco', 'Iron Lion Zion', 'Lonesome Town - Remastered', 'Take Ya Tights Off', 'Converse High', 'Equinox', 'Long Story Short (ft. Cisco Tavares)', 'Wonder If You Wonder', 'Doll', 'Cristo Yo Te Amo', \"Knockin' Boots\", 'Ponte En Mi Lugar', 'Where Were You God?', 'Tempted', 'Romantic (feat. Soulive)', 'I Wanna be Around', 'Que Valga La Pena', 'Public Service Announcement', \"Isn't the Name - Live\", 'Come By Fire', 'Another Girl Another Planet', 'Llegamos a la Disco - feat. De la Ghetto, Ñengo Flow, Arcangel, Farruko, Baby Rasta y Gringo, Kyza, Kendo', 'Show Me Love - Radio Edit', 'It’s A Memory', 'Eres para Mí', \"There's a New Kid in Town\", 'El Nora Alila', 'Break The Fall', 'White Buffalo', 'Tears (feat. Louisa Johnson)', \"That's Why I Pray\", \"You're So Vain\", 'Gives You Hell', 'Salvation Is Created (arr. B. Houseknecht)', 'Sleeping Single In A Double Bed', 'FACE', 'Turn Down', 'Reverie (feat. King Deco)', 'One Thirst', 'Kann Denn Liebe Sünde Sein?', 'Renegades', 'Este Amor (Is This Love)', 'Oh Henry', 'St Clarity', 'Things Will Change', 'Shanghai Girls', 'Pimp Of The Year', 'Embraceable You', 'Culpable', 'Both Eyes Closed (feat. 2 Chainz and Young Dolph)', 'White Girl', '18 Counties', 'Glory in the Cross', 'Hometown Glory [Single Version]', 'Little Victories', 'Smothered Hope', 'The Traveler', 'American', 'East Liberty', 'Majesty of Heaven', 'Super Strong God - Live', \"You're Gonna Be OK (Radio Version)\", 'When We All Get To Heaven', 'Never Going Home', 'Ambulance vs. Ambulance', 'Gifts and the Raft', 'Dulce Picante', \"Da Mystery of Chessboxin'\", 'Fighting For - Tiësto Edit', 'The City (feat. Phoebe Ryan)', 'Music Takes Me Up', 'Un Buen Perdedor', 'All That I Ask', 'Last Nite', 'How He Loves Us', 'Sabah El Kheir', 'Police Officer', 'Humanos a Marte', 'Come Thou Fount Of Every Blessing', 'Pass The Peas', '10KONDRMS', 'Teen Angst (What The World Needs Now)', 'High Class', 'Now let daddy work.', '(Who The Fuck) Living Next Door To Alice', 'Wicked Twisted Road', 'Seabird', 'Into You - Extended', 'みくみくにしてあげる♪【してやんよ】 -MIKU EXPO 2014 in INDONESIA Live-', 'ForYou(&HerToo)', 'The Wheel', 'Dare You', 'Roll With Me (feat. Clyde Carson)', 'Lookie Here', 'Heart It Races - Dr. Dog Version', 'Turn Up the Speakers - Radio Edit', 'Av Harachamim', 'Teardrops On My Guitar', 'Hammer & a Stone', 'Trading My Sorrows', 'Ashita Wo Narase', 'Layla', 'Best Day Ever', \"I'm Alive - Original Mix\", 'Counting Bodies Like Sheep To The Rhythm Of The War Drums', 'Stuff That Works', \"Let's Talk About Sex\", 'Better off That Way - Radio Mix', 'Major Tom (Coming Home)', 'Where Are U Now', 'Towards The Sun', 'Just Like Honey', 'Here We Go Looby Lou', 'FACK', 'The Stamping Ground', 'Kung Ako Na Lang Sana', \"I Won't Be Long - Extended Version\", 'Hands up (feat. Maino & Jay Watts)', 'Streetcorner Symphony', 'Amsterdam - Smith & Pledger Update', 'Tell the Angels - Live', 'Better Versions Of Myself', 'Howl', 'Pehli Baar', 'Feel The Love', 'Como Venga', 'Bros', 'Timelapse', 'Sitting Pretty (feat. Wiz Khalifa)', 'Final Song - Diplo & Jauz Remix', 'Forever & Always - Piano Version', 'Hold Back The Rain - 2009 Remastered Version', 'My Only Friend - Amtrac Remix', 'Racks (feat. Baby Bash)', \"Merry Flippin' Christmas (Happy Freakin' New Year)\", 'Hands Up', 'No Better Place', '兵兵 - [張智霖 + 吳業坤]', 'Guilty Party', 'Photo Copied', 'Choice - New Age Music for Breathing and Opening Postures', 'Say Sum', 'Al Lado del Camino', 'Honeymoon', 'Lost In Thought', 'Mujeres Divinas', 'How Deep Is Your Love - Calvin Harris & R3hab Remix', \"Hustlin' - Remix\", 'Break Up Every Night', 'Ghost Riders In The Sky', 'The Ballad Of Dorothy Parker', 'Following The Angels - Instrumental', 'Title And Registration', 'เสียใจไม่ยอมเสียเธอ', 'West Side Story: Erster & einziger Akt - Maria', 'Blacklist', \"Ma'amin Benisim\", 'What You Waiting For', 'Weight Of Living, Pt. I', 'Money Maker', 'Ex-Factor', 'Maldito Duende - Live Version 1995', 'What Really Goes On', 'The Lord Our God - feat. Kristian Stanfill', 'Funhouse', 'Kill You', 'Get It Right (feat. Terri B!) - Radio Edit', \"If I'm Not In Love With You\", 'Alpha And Omega; O Come Let Us Adore Him; Be Unto Your Name; Magnificent and Holy; the Almighty Reigns - Christmas Worship Medley', 'Talking In The Dark', 'Groove Thang', 'Guaguanco Sabroso', 'Stack Shot Billy', 'Be Quick Or Be Dead - 1998 Remastered Version', 'Beparwah', 'Atlantis (feat. Kaiydo)', 'Animale - Datsik Remix', 'OVR AGN', 'Too Much In Love - Groozm Extended Remix', 'Soul of a Man', 'Boogie Woogie Bugle Boy - Single Version', 'The Edge Of Glory', \"Let's Talk About Your Hair\", 'Ill Mind of Hopsin 7', 'Neverminders', 'Out Of My League', 'Are You with Me - Dimaro Remix', \"It's Getting Late\", 'I Love Me', \"Hard Workin' Man\", \"Say It Isn't So\", \"Find What You're Looking For\", 'Love Somebody', 'Kaisi Hai Ye Rut', 'Beast', \"Isn't She Lovely - (Langs. Foxtrott / 29 BPM)\", 'Rita Mae Young', 'The Four Horsemen', 'Battas', 'Remind Me', 'Flawless Remix', 'Tie My Hands', 'Juré', 'Imparable (Duet with Jesse & Joy)', 'Hear The Bells - Electric Mantis Remix', 'Door 2.12', 'Celoso', 'L-O-V-E - 2000 Digital Remaster', 'Couch Potato', 'Brave Heart', 'Super Soul Sis', 'Berlin', 'Cut Her Off Thugga', 'Minority', 'Lost (My Way Home) - Tuero Edit', 'Lonelily', 'Come On Eileen', 'Cuida Bem Dela (Ao Vivo)', 'Found My Way (Stripped)', 'Ask For More', 'Ever So Clear', 'Xenogenesis', 'Lo Boob Oscillator', 'Smoke the Weed', 'U Kno', 'Rhythm Is a Dancer', 'Bath Salts', 'Little Bribes', 'The Evil Within', 'Perfect Places', 'A Million Suns', 'I Could Never Love Another (After Loving You)', 'Pittsburgh - No Intro', 'Old Friends', 'Vintage', 'We Are Yours - Everything Glorious Album Version', 'Elevator', 'Catch & Release - Deepend Remix Extended Version', 'Jeremias 17-5', 'Writer In The Dark', 'Sentimettal', 'Everythings Alright (Live)', \"Come On! Feel the Illinoise! Part I: The World's Columbian Exposition Part II: Carl Sandburg Visits Me In A Dream\", 'Face The Sun', 'Find You There', 'In The Nights', 'Si Unas Palabras Bastan - Remix', 'Trendsetter', 'Do What You Love', 'Out Of Your Sleep', 'Souvenirs', 'Mountains', 'Ohio - filous Remix', 'Swallowing Death, Breathing Life', 'All the Faint Lights', 'How Come You Never Go There - Remix By Beck', 'B.B.B.F.F.', 'Ayo Technology', 'Comatose', 'Get Me Bodied', 'Zetuni zar', 'Voy A Beber - Original', 'There Will Be Time', 'Imissu', 'Mermaid', 'Grand Canyon', 'Blue Eyes Crying in the Rain', 'What a Feeling - Bpm 128', 'Fall Apart Today', 'Homealone', 'Burning House', 'Entra en Mi Vida - Acústico', 'Dim Lights, Thick Smoke (And Loud Loud Music)', 'I Got The Boy', 'Caustic Disco', 'Lifesaver', 'Fiction', 'Senses Working Overtime - 2001 - Remaster', 'I Lift My Hands', \"And yes I should write more. It's hard. - Bonus Track\", 'Feel The Love (feat. John Newman)', \"(Who Says) You Can't Have It All\", 'Que Sera', 'Silent Night - 2016 Version', 'The Way I Choose - Demo Reel 1', 'A la luna se le ve el ombligo', 'Regret', 'Cool Guy Sounds', 'Kiss With A Fist', 'English Rose', 'Youth Dem (Turn Up)', 'Si No Te Quiere', 'Kill The Noise (Part I) - Original Mix', 'My Fair Lady: On the Street Where You Live', \"Sherry's Living In Paradise\", 'I Got It From My Mama', 'Gossip Folks (feat. Ludacris)', 'Show You', 'Stab My Back', 'Half Time', 'Quién Es Usted', 'Major Roxy', 'Go Go Wine', 'Sisters of the Moon', 'Music of Life', \"I'll Follow\", 'Tell the World (feat. Mali Music)', 'The Fritz', 'Kuaga (Lost Time) (Radio Edit)', 'Kush - Main', 'Disco Dodo', 'New In Town [Fred Falke Remix] - Remix', 'Outbreak (feat. Mylk)', \"I Still Can't Sleep\", 'Out Of My League - Josh One Remix', 'Bales', 'Light That Match', 'Ritmo Mexicano', 'No Te Culpes', 'El Bum Bum', 'The Frown Song - Explicit Album Version', 'Love This Life', 'Welcome to the Machine', 'Nearly Lost You', 'Soy Sano', 'Crow and the Butterfly', 'Break The Rules', 'Real Life - Ossian Remix', 'Because Of Your Love', 'Airwaves', 'I Was Wrong - Robin Schulz Remix', \"That's Amore\", 'Moving Forward', 'Morena', 'A Magia do Rei', 'What A Little Moonlight Can Do', 'Lofticries', 'Tell Me How To Feel', 'Fever', 'I Turn My Camera On', 'It Is the Battlefront Rap - Rap About Battlefront', \"Your Mama Don't Dance - 2006 - Remaster\", 'Give In (feat. Airling) - Hounded Remix', 'Treehouse (feat. Ariana Deboo)', 'Colors (Remix)', 'Fail!', 'Overboard', 'Feel It Still', 'Si Te Digo La Verdad', 'Bambi', 'Torn (Junk Son Remix)', 'Everyday - Single Version', 'March To The Sea', 'Перезагрузка (Выход роботов)', 'Okie From Muskogee - Platoon/Sountrack Version', 'Spa Moments', \"Killin' the Vibe\", 'Get Back - LOVE Version', 'The Christmas Song', 'ROS', 'Tongues', 'Lo Mejor de Mi Vida Eres Tú', 'Hush Little Baby', 'City Girl', 'No Flashlight', 'I Will Walk', 'You Got to Love Me', 'Yo Te Extrañare', 'Rama Lama Ding Dong', 'Gold Slugs', 'Serenade', 'Down the Line (It Takes a Number)', 'Solamente Tú', 'Into the Forest', 'Striptease', 'He Said She Said', 'A Night In Tunisia', 'Mazurra', 'Medieval Warfare', 'Con Solo un Beso', 'Back in Time - featured in \"Men In Black 3\"', 'Come What May - From \"Moulin Rouge\" Soundtrack', 'Flint (For the Unemployed and Underpaid)', 'Thrill Of The Kill', 'Warm On A Cold Night', 'Sexo Sin Feeling', 'Drinks On Us', 'WHALE', 'Inconsiderate', \"A Pirate's Life\", 'Yo Te Recuerdo - Version Salsa', 'She Wakes When She Dreams', 'Utopia', 'Somebody That I Used to Know', 'Life Cycles', 'Stand Alone', 'In The Meantime', 'Roll Away Your Stone', 'On God (feat. Kevin Flum & C-Trox)', 'When The Night Feels My Song', 'All the Ways - Branchez Remix', 'Be Still, My Soul', 'Dim The Lights', 'Immigrant Song', 'Sledgehammer - From The Motion Picture \"Star Trek Beyond\"', 'What The Price', 'Long Way Home', 'Missionary Medley', 'Crew REMIX', 'Desesperadamente', 'Admire', 'Love Is The Answer - Tiësto Remix', 'No Te Quites la Ropa', \"You Wear A Crown But You're No King\", 'Off Point', 'Fuente Esperanza', 'Much More (feat. Yummy)', 'Oceans Away - Wiwek Remix', 'Yellow Raincoat', 'The New Auld Lang Syne', 'That Love - Luca Schreiner Remix', 'Shadow Preachers', '17 Again', \"Tippin' Point\", 'Rang Rang', 'Let U Fall (feat. Aubren Elaine)', 'Identify', 'Mozart for Babies', 'Que No Me Quiten La Fe', 'Gee', 'Fidelity', 'Simon Says', 'Freak Hoe', \"I'm A Lady (feat. Trouble Andrew)\", 'Lose My Cool', 'I Get The Bag (feat. Migos)', 'The Long and the Short of It', 'Optimus', 'Nami Aa Sadri', 'Greatest Love Story', 'Oceans - Acoustic Version', 'Bhagwan Hai Kahan Re Tu', 'Automaton', 'The Science Of Selling Yourself Short', 'Ice', 'I Dreamed A Dream - From \"Les Misérables\"', 'Bidi Bidi Bom Bom - 1994 Version', \"I've Got You Under My Skin - 1991 Digital Remaster\", 'I Got You (I Feel Good)', 'Dreaming with My Eyes Open', 'Il Barbiere di Siviglia (1996 Digital Remaster): Overture (Overture)', \"Let's Don't Call It a Night\", 'The Omen (Ave Satan)', 'Beat Build', 'Hmu (feat. Clay Parnell & Rory \"Sweet Boy\" Dolan)', 'Treehome95', 'Mamasita Mala (feat. Ozuna)', 'Equus', \"You'll Accomp'ny Me\", 'Neighbors Know My Name', 'Kewalo Uka', 'Take U Out', 'Me and Julio Down by the Schoolyard', 'Ravenlord', \"Hello Darlin'\", '[Kissed You] Good Night', 'Medicine', 'Build Me Up From Bones', 'Closer', 'C - Radio Edit', 'Wall Fuck', 'Drool', 'Absolute Reprise', 'What Kind Of Man', \"You Don't Own Me\", 'Twenty Tiny Fingers', 'Heard Right', 'Have You Ever Seen The Rain?', 'The Ghost of Tom Joad', 'Why Do I Do (Mattanoll Remix) [feat. Jason Gaffner]', 'Soft Stretch', 'Pop That Thang - Booty Mix', 'Shakti', 'Tentándome', 'Cómo Vuelvo Al Pasado', 'Automaticamente', \"Nothing's Forever - Vacation Mix\", 'Home (feat. Richard Caddock)', 'Forever Came Today', 'Night Shine', 'Copacabana (At the Copa) - Long Version', 'Heavy In The Day', 'Como Lo Tienes Tu', 'Puerto Rico', 'Ashes of American Flags', 'Break Your Heart', 'The Wicked Symphony', 'Your Best American Girl', 'Billionaire (Glee Cast Version)', 'Bored', 'The King of Cape', 'Alleluja - Rex noster - Missus Gabriel', \"All Hallow's Eve\", 'Jamás, Jamás (Bolero)', 'Tltstw', \"I Cain't Say No\", 'Medley: O Dennenboom', \"How Deep the Father's Love for Us (Live)\", 'Still Belong to Me', 'When You Need Someone', \"Don't Matter\", \"Openin' Day - feat. Rhett Akins & Dallas Davidson\", 'Flaggin A Ride', 'flood on the floor', 'A Silent Drum', 'Get Along (feat. Anderson .Paak & Blu)', 'Rest In You', 'Focused Breathing Practice: Feel, Hear, See', 'To Him Who Sits On the Throne', 'Leave', 'Dream Deep', 'All We Need', 'Hold Them', 'She Wolf (Falling to Pieces) [feat. Sia]', 'Whatcha Gonna Do With A Cowboy', 'Space Jam - From \"Space Jam\"', 'Just Visiting', 'Silent Night, Holy Night!', 'Spider Baby', 'Playground love - vibraphone version', \"(I Can't Get No) Satisfaction - Mono Version / Remastered 2002\", \"Krypton's Last\", 'Insoportable', '2 Minutes To Midnight - 1998 Remastered Version', 'Kill Jill', \"OHA - Kaya Mo Ba 'To?\", 'Did I Ever Wake Up?, Pt. 5', 'Rainbow Of Love - Radio Edit', \"They Don't Know Us - Radio Edit\", 'Sleeper Hold', 'Been That (feat. Rick Ross)', 'Seven Wheels', 'Be As You Are', \"The Devil's Den\", 'Tumi Bhaja Re Mana', 'Darkness', 'Just Some Loops', 'El Mismo Sol', 'Sirens - Mollono.Bass Remix', 'El Jarioso', 'Infernal Grays', 'Theme O', 'Communicate (feat. Ravyn Lenae)', 'Unchain My Heart', 'Love Child', 'Grandma Plays the Numbers', 'He Is All We Need', 'Mad Hatter', 'Take Me Down', 'The Glory', 'Tu Loco Loco Y Yo Tranquilo', 'In-A-Gadda-Da-Vida - Single Version', 'Going Up The Country', 'Break', 'Lully, Lulla, Thou Little Tiny Child', 'Painting Greys', 'Step One - Original Mix', 'Working Out', 'I Miss My Friend', 'Mas Alla De Las Estrellas', 'Hit Em', 'The Weight Of Gold', 'Heavy Rain', 'Leaving Nashville', 'Sim Shalom', 'Candy Paint', 'Chaverim', 'Let The Music Take Your Mind', 'Forgive Me If I Bleed', 'Do It Like Me', 'Cannes - Radio Edit', 'Again (feat. Ghostly Kisses)', 'We Danced', 'Tears Dry - Original Version', 'Diamond Sutra', 'Sensations - Whethan Remix', 'I Wonder', \"Won't Stop Running\", '곁에 있어주길 Stay with Me', 'My True Story', 'The Cajun Queen', 'Plucking Daisies', 'No One Gets Left Behind', 'Sarcasm', 'Show Me The Night', 'Did It For The Girl', 'La Malagueña', 'A Supplementary Story: You Never Walk Alone', 'Me Muero', 'New Orleans - Original Mix', 'Odessa', 'Dyatlov', 'Dragon Weapon', 'Babel', 'Too Good', 'Dembow', 'Mr. Know-It-All', 'Ride of the Valkyries (From \"Die Walkure\")', 'Lookin Ass', 'Dollar Bill', 'Only In You', 'Multiplied - Acoustic Version', 'Sniffing Vicodin In Paris (Danny Olson Remix) [feat. Danny Olson]', \"I'll Fly Away\", 'Off The Ground', \"What you\\\\\\\\\\\\\\\\\\\\\\\\\\\\'re doin - Acid Pauli Edit mixed\", 'Ooh Killem', 'Hold Me in Your Arms', 'Why Georgia - Live at the Nokia Theatre', 'Make It Nasty (Instrumental Version)', \"I've Got No Strings\", 'Hurt Like Hell Yeah', 'Ando Bien Pedo', 'Dip It', 'What I Like', 'Crown Violet', 'Salute', 'Baby Gots Venom', 'Bloco das Solteiras', \"Welina O'ahu\", 'Suite (From \"The Hunt for Red October\")', 'Touch Me', 'Time Of The Season - Bonus Track', 'Aamb Dha Boota', 'We Are Monster High', \"'Til It Does\", 'Voy A Pasarmelo Bien', 'Savannah & Japan', 'The Beautiful American - 1990 Remastered Version', \"Alwayz Into Somethin'\", 'I Hold Still', 'Eh', 'Te Conozco', 'High Country', 'One4Me', 'Light It Up (feat. Nyla & Fuse ODG) - Remix', '4Her', 'Cuidarte el Alma', 'Made Up Mind', 'The Edge', 'Wishing (feat. Chris Brown, Skeme & Lyquin)', 'Hong Kong Garden - Mary Antoinette OST Strings Version', 'Te Voy A Hacer Loquita', 'Ballin', 'Be Honest (Attom Remix)', \"That's My Story\", 'O Savior of Our Fallen Race', \"Baby's Got Her Blue Jeans On\", 'Si Te Vas - Versión Reggaeton', 'I Shall Be Released (Finale) - Concert Version', 'The Riddle', 'High Voltage', 'Fantasy In D', 'No Type', 'Hated Me', 'Dorian', 'Chapter 6 - Tipping Point Pt. 1', 'The Spell That You Cast', 'De Vez en Cuando', 'Not a One', 'Railroad Track', \"It's You, It's Me\", 'Front To Back', 'The Tree Of Death', 'All I Ever Need', '100', \"I Got Nothin'\", 'Hold On', 'The Gift', 'All Nite', 'Aqueous Transmission', 'Emotional', 'Estilo Italiano', 'Just Like A Woman', 'Paradise - Extended', 'Blew My Mind', 'Amanecer', 'Si Te Dejarias', 'Lemons', 'No Other Name - Live', 'Crime Pays', \"Should've Been Me\", 'You Be Killin Em', 'Wake Me Up - Radio Edit', 'Prayer', 'Down At The Cross', 'ButterFly', 'Impossible Year', 'Daka Mishigaon', 'Said N Done', \"Feel Like Makin' Love - 2015 Remastered Version\", 'Away In A Manger - 1999 Digital Remaster', 'Himaholic', 'This Town', 'Ktaadn', 'Verses from the Abstract', 'Compared to What', 'Salio El Sol', 'Daydream in Blue - BBC Radio 2 Session', 'Monster Mash', 'Summer Dream', 'Cupid Shuffle', \"She's Like Texas\", 'Tuyo Siempre - en directo 2005', 'Epiphany (feat. NF)', 'Cruel - Roland Tings Remix', 'Crash & Burn', 'What Did He Say', 'Belong To The City', 'La De Los Dos', \"Wynona's Big Brown Beaver\", 'Saint-Laurent', 'In Every Direction', 'Talking Body - KREAM Remix', \"I'll Find You (feat. June)\", 'No Games - Remix', 'Her Way', 'Wearing Nothing', \"There's A Pot A Brewin\", 'Under A Rock', 'Light Me Up (US Version)', 'Get Up (Rattle) - Vocal Extended Version', 'You & I - Radio Edit', 'Reggaetón Lento (Bailemos)', \"Yesterday's Wine\", \"I'm A Survivor\", 'Tanto Tiempo (feat. Arcangel)', 'Hell On Wheels', 'Love N Hennessy', 'Push - feat. Andrew Wyatt [The Chainsmokers Radio Mix]', 'Tell Me If You Wanna Go Home - Rooftop Mix', 'Dozen Roses & A Six-Pack', 'Izzy’s Got the Frizzies', 'Si tu no estas', 'Stolen Dance', 'Before Our Time', 'Sukie In The Graveyard', 'Alone (feat. Tommee Profitt & Brooke Griffith)', 'Like Kylie (Kylie Jenner)', 'Me Gusta Tu Vieja', 'Enamorate de Nuevo', 'I Really Love You (Spontaneous)', 'It May Be Too Late', 'Chief', 'Anything Like Me', 'Antichrist', \"I'm Sending You Away\", 'Narrow Little Road', 'Like A G6 - SkySaw Trap Remix', 'Stunna', 'I Need Thee Every Hour (Arr. McKay Crockett)', 'Complicated', 'Koi Kahe Kehta Rahe', 'Badfish', 'Tribute', \"Witch's Rune\", 'Under Ground Kings', '¡Corre!', 'May I', 'Jingle Bells (Glee Cast Version)', 'Stupid In Love', \"I'm Not Part of Me\", 'Neighbor', 'Rare Candy', 'Revelation Song / Holy, Holy, Holy - Medley', 'Half Full Glass Of Wine', \"Sittin' in an All Night Cafe\", 'Midnight Voyage', \"Don't Stop Believin'\", 'Gimme Some Water', 'Como Yo Te Quiero (feat. Yandel)', 'The Magnificent Sound of Thunder and Rain', 'Here In This Place', 'Harborcoat', \"Y'all Want a Single - Suck That Version\", 'Nocturne', \"Ani L'Dodi\", 'Suffocation Blues', 'The Future is Yours', 'XXX in the Morning', 'On Purpose', 'Rich Niggaz', 'Ya No Tiene Caso', 'My Own Prison', 'Sri Lakshmi Hayagreeva Dandakam', 'Strip No More', 'Sibylla', 'Beautiful Love', 'Party Police', 'Campana', 'Photographs', 'Toro Mata', 'Mientras Tú Jugabas', 'Melody Day - Four Tet Remix', 'Thinking Bout You', 'Ronald Reagan Era', 'She Sells Sanctuary (2009 Re-master)', 'Wallflower', 'Low Life', 'Nothing Owed', 'Surge (feat. Wynter Gordon)', 'Turn The Music Up', 'We Live In Brooklyn, Baby', 'Steal My Show', 'Driving Instructor', 'Maintain Flow (Live)', 'Brill Bruisers', 'If You Down', 'Mi Melodía', 'We Need You Now (feat. Kj Scriven)', 'Now and Then', 'Bake Sale (feat. Travis Scott)', 'Oh Darling', 'Sabi Na Nga Ba', 'Our Way', 'What’s Up', 'Lessons Learned - Dance Club Sampler Version', 'Praise Will Be My Song', 'What Wondrous Love Is This', 'Boombastic', 'Pick Up Your Heart', 'How the Wind Blows (Remastered)', 'Si Me Dices Que Si (feat. Nicky Jam)', 'Just Remember I Love You', 'Rope', 'The Past Recedes', 'All Too Well', 'The Christmas Song - Remastered', 'Aftergold', 'Jamflowman', 'Karoun, Karoun - Nooneh', 'Tal Como Soy', 'Just Say', 'Cetus', 'Suspiria', 'Sad Person', \"Breakin' All the Rules\", \"Don't Get Any Closer\", 'You Answer Me (Psalm 4)', 'Leosid Lavo', 'Diploma', 'Praising', 'Swedish Guns', 'Too Late !', '4 AM - Adam K & Soha Radio Edit', 'Triceratops', 'Feel It Still - Flatbush Zombies Remix', '08 Pedro Navaja', 'Think For Yourself - Remastered', 'Arena', 'Christmastime', 'Lo Aprendí de Ti - HA-ASH Primera Fila - Hecho Realidad [En Vivo]', 'Forever Young - Fast Version', 'Hot Blur', 'Confess', 'Final Destination - Raw', 'Shake That', 'Regular - Remix', 'Wholy Holy', 'Come Darkness, Come Light', 'You Can Do Magic', 'Hell & Back', \"While We're in Love (Oliver Nelson Remix) [feat. Ghost Beach]\", 'Mack The Knife - 24-Bit Digitally Remastered', \"Forever's Not Enough\", 'I Do Not Love You', 'Electric Touch - Bad Royale Remix', 'Celebrity Skin', 'Silent River Runs Deep', '1982', 'Brainbug - MUST DIE! Remix', 'My Savages', 'Scarface Renacido', \"What's Up?\", 'Life in Clay', 'So Long Dearie', \"My Father's Father\", 'Pass The Marajuana', 'Oskar’s Monologue', 'Broke Pocket Philosophy', '3000 Miles', \"No Need For Introductions, I've Read About Girls Like You On The Backs Of Toilet Doors\", 'Shadow', 'There Will Be a Day', 'Joey', 'Cuando Las Horas Pasen', 'Emoji (Party Thieves & Dr. Fresch Remix)', 'Ridiculous', \"I'll Be Your Man\", 'Si No Te Enamoras', \"I Can't Get Started - Instrumental\", 'I Was Created to Worship', 'Love Come To Life', 'Sliding Down The Pole - feat. Too Short', 'Dopeman - Remix', 'Lucky Now', 'Space Between Us', 'Explode', 'Love Distance', 'Oceans Away - Sam Feldt Remix', 'P.C.H. (One More Mile)', \"Can't Heal You\", \"Hurtin' (On the Bottle)\", 'Floyd Mayweather (feat. Travis Scott, Gucci Mane and Gunna)', 'Descontrol', 'Filler', 'Popurri de Corridos - Neto Roca, La Escuela del Damazo, 2 Jovenes Muchachos, Ivan el Mayor', 'Bridge, Part 1', 'Hold On (Shut Up)', 'No Option', 'Girlfriend (German Version - Explicit) - German Version - Explicit', 'Drive You Crazy', '僕達のセカイ', 'Amor Vaquero', 'More - Club Mix', 'Can I Sit Next to You', \"Salut d'Amour\", 'Saint', 'Walk It Out', 'White Dress', 'Uptown Funk - From \"Alvin And The Chipmunks: The Road Chip\" Soundtrack', 'Back Again (feat. Waka Flocka Flame) - GLD Remix', 'Dust to Dust', 'New Atmosphere', 'love gang (feat. Charli XCX)', '195lbs', 'Ayamma', \"It's On You - Ganzfeld Effect Remix\", 'Caring Is Creepy', 'Wade Green', 'Santa Looked a Lot Like Daddy', 'I Still Believe (Great Design)', 'Crown Royal', 'Rumores', 'He Is There', \"I Won't Say (I'm in Love)\", 'The Funeral Portrait', 'Escape (feat. Gustavo Elis)', 'Shake It Off', 'Vezakeini', 'Sohneh De Taweet Warga', 'Mahalakshmi Kavacham', 'Valley', 'Hunnie Pie', 'The Four Ways', '#GETITRIGHT', 'Diced Pineapples', 'Way Out Here', 'Fur Elise', 'Love Is A Drug', 'Constant One', 'Paranoid (feat. B.o.B)', \"Can't We Be Sweethearts\", 'Dark Planet', '36\" Chain', \"A Winter's Tale\", 'Guide Me', 'Jubel (Tropical Mix)', 'America', 'Silver Bells', \"Don't Think Twice\", 'String Quartet No. 63 in B-Flat Major, Op. 76, No. 4, Hob.III:78, \"Sunrise\": II. Adagio', 'No Long Talk', 'In The Grass', 'Stay Down (feat. Nick Diamonds)', 'God Is With Us', 'Where You Lead', 'La famille Addams', 'Let The Night', 'Da Streetz', 'Effington - Seeds Album Version', 'Maria Tres Filhos', 'Les Cloches du Hameau', 'Chattahoochee', 'Tornado', 'For You (feat. Fitzgerald)', 'Luminous', 'Cast the Last Stone', 'Sewing Machine', 'Hipnotízame', 'Wait For Me', 'Arch & Point', \"If I Didn't Love You\", 'Palm Trees', 'The Sweet Escape', 'Real Slow', 'The Old Rugged Cross', 'ECHO (LET GO) - Protohype & The Arcturians Remix', 'Re Education Mis Education', \"Don't Sell Molly No Mo - Remix\", 'Stay Too Long [Pendulum Remix]', 'I Am Trying to Break Your Heart', 'You The Boss', 'Bulletproof (feat. Justin Adams)', '3 Gymnopédies: No.1', 'First Flight Home', 'White Room', 'Soul Flower - Remix', 'Love Money Party', 'La Matadora', 'Let It Bleed (feat. Cristina Gatti)', 'Bird Gets the Worm', \"Baby I Need Your Lovin'\", 'Edward J Bass Test Outro', 'Get It Up (DLDK Amsterdam 2016 Anthem)', 'Here, There And Everywhere - Remastered', 'IM U', 'Hopeless Boy (feat. David Ortiz)', 'King Of Pride Rock / Circle Of Life - Reprise', 'Photo Booth', 'The Night - Janji Remix Edit', \"I'm Ready (feat. Olivver The Kid)\", \"I'll Name the Dogs\", '(God Must Have Spent) A Little More Time On You', 'King of My Heart (Live)', 'Freak The Freak Out', 'Machinehead - Remastered', 'Bring It On', 'Shake It Like Shammi', 'U With Me?', 'River Lady (Live)', 'I Do (Cherish You)', 'Add It Up - Original', 'De Rodillas', \"We'll Be Fine\", 'The Disconnect', 'Sativa', 'Cruel World', 'D.A.R.E.', 'Hoy', 'Ace In The Hole', 'Treasure - Audien Radio Edit', 'Under Jolly Roger', 'Last Night', 'Complexion (A Zulu Love)', 'A Seat at the Table', 'Rodeo Clowns', 'Behold (Then Sings My Soul) - Live', 'My Own Summer (Shove It)', 'Do The Zombie', 'Thank You Santa', 'You Dream Flat Tires', 'The Rockafeller Skank', 'Anyway - Album & Digital Single Version', 'Opportunity (Sia Version)', 'Señora - En Vivo Desde Monterrey/2012', 'יום שישי', 'Anymore', 'Blank Infinity - Live in Miskolc', 'Toy Enamorao (feat. Mozart La Para & Nacho)', 'Oliver James', 'Jump (For My Love)', 'The Twelve Days of Christmas', 'Way', 'Canon in D', 'Bad Bitch (feat. T.I., Spodee & Problem)', \"You Shouldn't Kiss Me Like This\", 'Lights & Thunder (feat. Krewella) [Club Mix]', 'One Jump Ahead (Reprise)', 'Time to Waste', \"Lyin' Eyes\", 'Narayana/For Your Love', \"I've Got A Dark Alley And A Bad Idea That Says You Should Shut Your Mouth (Summer Song)\", 'All My Little Words', 'Cry, Cry, Cry', 'Skinny Dippin Girl', 'Consecuencia De Mis Actos', 'This Is Your Justice', 'Or', 'Hopeless Romantic', 'Pote de Nutella', 'Ruby My Dear', 'Ezra', 'Intro / Stronger Than Me', 'To D.R.E.A.M.', 'Sin Fortuna', 'Too Late - Horizontalism Mix', 'Jungle Love - Live', 'Sanoe', 'Revolusion', 'Sexual Healing - Kygo Remix', 'Zorra En Tacas', 'Deus Me Livre (Acústico) - Ao Vivo', 'I Will Never Lose My Way', 'Secret Valentine', 'Lovestain', 'Done It Again', 'Who Knows Who Cares', 'Enchanted Garden', \"I'm Corrupt (Peking Duk Remix)\", 'Total Praise', 'Open Your Eyes - feat. Mitch Thompson [Radio Edit]', '8TEEN', 'Change Your Mind', 'Here We Go', '25 Bucks (feat. Purity Ring)', 'Harlem Shake', 'Mulholland Drive', 'Tenkyuu', 'Back to the Road', 'Kiss From A Rose', 'Generals And Majors - 2001 - Remaster', 'Amor Amor', 'En el Valle de las Sombras', \"South Of Heaven's Chanting Mermaids\", 'Cuando Mueres por Alguien - Primera Fila', 'Evil', 'Sleep Sound', 'Still Counting', 'Revival', 'No Snakes Alive', 'Roadhouse Blues', 'Craving You', 'Fight Fire With Fire - Remastered', 'Happy New Year', 'Prologue', 'Hold (feat. Daniela Andrade)', 'Somebody New - HEDEGAARD Remix', 'Boss Fight', \"Let's Get Married\", 'We Will Run', 'Starman - 2012 Remastered Version', \"She's Long Gone\", 'My Team', 'Climb To Sakteng', 'Mi Religión', 'I Am Mountain (Andy Hunter Remix)', 'Boy 1904', 'You Are On Our Side', 'Beauty Beats', 'Los Ageless', 'InFusion - The Rising Sun Mix', \"It Wasn't God Who Made Honky Tonk Angels\", 'The Night Out - Madeon Remix', 'Cutsman', 'Cat Scratch Fever', 'Fill in the Blank', 'Duplicandote la Dosis (feat. Roberton \"Van Van\")', \"You've Got The Love\", 'La Chica De Los Siete Vestidos', 'Black - Original Mix', 'Love Cry - Joy Orbison Remix', 'Hark The Herald Angels Sing/O Come All Ye Faithful', 'bad_news', 'El Lobo', 'Chain Gang - Remastered', 'Or to Smoke', 'Kings And Queens - Unplugged', 'No Debes Jugar', 'Die Young (feat. Peewee Longway)', 'Sloom', 'Key to the Streets (feat. Migos & Trouble)', 'Way Over Yonder In The Minor Key', 'Holy Grail', 'Real Blues - Atjazz Astro Remix', 'Drains of the Red Sea', 'Grab the Wheel', 'Freak In You', 'Put Your Hearts Up', 'Late To The Party', 'Do You See', 'Dreams (feat. Laura Brehm)', \"Let's Work Together\", 'Heavenly', 'Adrift', \"Life's a Bitch\", 'My Mind Was a Fog... My Heart Became a Bomb', 'Off The Leash', 'What A Good Wood Man', 'Tiger In The Jungle', 'My Boo (Running Man Challenge)', \"Don't You Worry\", 'OP', 'Escandalo - Bolero Version', 'Man in the Mirror - 2012 Remaster', 'Through and Through', 'Brain Cells', 'Powerful - BOXINBOX & Lionsize Remix', 'Share Love', 'Lay It Down', 'Maha Dev', 'Paper Knees', 'He Hears My Voice', 'Ignore', 'A Strange Menagerie', 'Goin Up', 'Street Hassle', 'She Builds Quick Machines', 'Louder', 'Urban Photograph', 'I Wish It Could Be Christmas Everyday', 'Ya Que Metí la Pata', 'Dehket', 'TiK ToK', 'Never Had A Dream Come True', 'Copper Canteen', 'The Rebel - Johnny Yuma - Mono Version', 'Kailanpaman', 'A los 18', \"Israel's Son\", 'For Your Glory', 'The Sun Never Sets On The Island', 'Baby Boy (feat. Beyonce)', 'All Of Me Wants All Of You', 'Mask on Mask', 'In My Name', 'Wedding Plans', 'GOLD', 'The Shake', 'Against Them All', 'Alive - Boehm Remix', 'Good Dope', \"It's Strange\", 'Discover', \"I'm Gonna Live Till I Die\", 'Battleflag (feat. Pigeonhed)', 'Cauldron of Changes', 'Hells Bells', 'Message In a Bottle - Live In Birmingham', 'Build Your Kingdom Here - Live', \"I'm Not Famous\", 'Diamond Music', 'Dancing mountains', 'Psalm 85, \"Your Mercy Like Rain\"', 'Latchkey Kids', 'Dota O Ako - Part 2', 'Siren - Armin van Buuren Radio Edit', 'Heaven', 'Back To The Earth', \"I'm Not A Vampire\", 'Jesus The Lord My Savior Is [Sandra McCracken]', 'We Need A Little Christmas (Glee Cast Version)', 'Blow Me (One Last Kiss)', 'Reason To Sing - Live', 'The Matrimony (feat. Usher)', 'Ella', 'Will You Still Love Me? - Alternate Version', \"L'chaim\", 'Atomic Man', 'Paint By Numbers', 'Win Again', 'Por Ti', 'Mt. Rushmore', 'Wrong Way', 'A Real Hero', 'Rumba Pa Los Trombones', \"Every'body Wants to Be a Cat\", 'Caile (feat. Zion & De La Ghetto)', 'Huerfanito', 'Lose My Mind - Original Mix', 'Institution', 'Basura', 'Chacun pour soi (feat. Diamond Platnumz)', 'Far from Home', 'The Essence of Lakshmi - The Bija Mantra, Om Shrim Mahalakshmyai Namaha', 'Cherry Wine', 'Sea of Heartbreak - Bonus Track', 'LoveStoned / I Think She Knows - Radio Edit', 'Last Kiss', 'Colourless Water', 'Dream Machine', 'Come and Get It', 'I Breathe You In, God', 'Unwind Your Mind (feat. Karl Denson)', 'Orgullo - Remix', 'Early In The Morning (feat. French Montana)', 'Destination - Above & Beyond Remix', 'Dual', 'Vengan a Bailar', 'The Demon City', 'Still The One', 'Helen Keller', 'Derezzed - Remixed by Avicii', 'In Concert; T', 'Humpty Dumpty - 2006 Remastered Version', 'China Cat Sunflower - Live in Paris 1972 Version', 'Just Want Some Money', 'Indifferent', 'Jizz In My Pants', 'Fucked Up (feat. Daniel Caesar)', 'Trouble On My Mind', 'Flex', 'Nâo Posso Demorar feat. Katia B', 'Tinseltown in the Rain', 'Pound Cake / Paris Morton Music 2', 'Won My Heart', 'Ima Read', 'We Should Be Together', 'Bailando Fue', 'Nomalizo', 'Pischi Li', 'Message in a Bottle', \"Love's in Our Hearts on Christmas Day\", 'In My Prayers', 'If I Had Eyes', 'Very Special', 'A Tear For Rosie', 'Bienaventurado', 'Analog (Feat. Cheska)', 'Alotta Smoke', 'Sutphin Boulevard', '4 The Rest Of My Life', \"I'll Wait For You\", 'French Kiss', 'His Kind Of Money (My Kind Of Love)', 'All Fucked Up', 'Slow Foxes', 'Geekin (feat. Que)', 'Nobody (feat. Gold Link)', 'Imagine Utopia', 'Ring Around the Rosie', 'Dabb On Em', \"Rockin' Around The Christmas Tree\", 'Shut Up!', 'Kinda Wavy', 'La Invité a Bailar', 'Cineramascope (featuring Trombone Shorty and Corey Henry)', 'Darkness and Light', 'Life On Mars? - 2015 Remastered Version', 'The Feels - Walker & Royce Remix', 'U Aint Never', 'Sister Moon', 'Canary', 'Luna Loves Me', 'Beware', 'Shook Ones, Pt. II', 'Two Elegaic Melodies, Op. 34: II. The Last Spring', 'Different Colors', 'Sono', 'Birds Fly (Whisper To A Scream) (Remastered)', 'War', 'Nancy Mulligan', 'Fabrics', 'Turn All the Lights On - Bakaboyz Remix', 'Just A Picture', 'Everyday Everynight', 'Hingalla', \"Sky's the Limit?\", 'El Indio Enamorado', 'A Blues In Drag - Remastered', 'In The Good Old Days (When Times Were Bad) - 2001 Digital Remaster', 'El Amor de Mi Tierra', 'Por Qué No Te Enamoras - Remasterizado', 'HoursDaysMonthsSeasons', 'The Wisp Sings', \"Don't Wanna Cry\", 'The Unforgiven II', 'With You (feat. Quinn XCII)', 'Misty Mountain Hop', 'All The Love', '2! 3!', 'I Fall Apart', 'Cemetery Gates', 'Looking at the Sun', 'Mr. Meow', 'Tender (feat. Tekno)', 'Kuma', 'By Defection', 'Mi Primer Millón', 'Outta My System', 'Fire And Fury', 'Lay Me Down', 'All Arise!', 'She Walks', 'Little Bird, Little Bird', 'City On Down - Live', 'Next Up', 'Celebration - feat. Drake', 'Body to Body', \"You Won't Relent - Live\", \"I'm Living Good - With spoken intro\", \"Won't Let You Go\", 'The Pirate That Should Not Be', 'Live Wire', 'Crush - Live At Radio City', '2nd Sucks', \"Pickin' Up Strangers\", 'Siberian Girls', 'Save Water, Drink Beer', 'Wonder (Reyer Remix)', 'La Peligrosa', 'Good Weed Bad B*tch', 'Elastic Heart - Piano Version', 'No Me Compares - Acoustic Version', 'Station (2014)', \"Frigga's Web\", 'Best of Friends', 'Donkey Pot Pie', 'Lune', \"Why Don't We Just Dance\", \"What You're Looking For\", 'Best Mistake', 'Electro House 2016', 'Dull Boy', 'My Hero', \"Don't Tell 'Em\", 'Free / Into The Mystic (feat. Clare Bowen)', 'Finger Twist & Split', \"My Heart's Got A Memory\", 'Los Chiquinarcos', \"L'idole - Je n'en peux plus\", 'It’s All About Me (Rain)', 'Mirando Al Cielo', 'The Nutcracker, Ballet Suite, Op. 71a: III. Dance of the Sugar Plum Fairy', 'Dirty Talk', 'Run Boy Run', 'Stoopid', \"If I Can't Love Her\", 'Good Man', 'Dusk You & Me', 'Sajni - Slow Version', \"You Don't Mess Around With Jim\", 'Right On Time', 'Brother Jukebox', 'A Tree And Its Fruit', 'The Great Ocean', 'Crazy / Take Me Home', 'Argenté', 'My Three Sons', 'כמה ימים כאלה', 'Me Va A Pesar', 'Whoa - Explicit Album Version', 'Start The Party', 'Mango Tree', 'So Will Be Now... feat. Pional', 'Grows Old', 'Optimus vs. Megatron', 'Ramble On', 'Tears of Pearls', 'Deep End', 'Meet the Frownies', 'Kisses', 'Quedó triste el Jacal', \"Love Don't Cost a Thing\", 'See Me, Feel Me - Single Version', \"Don't Be Cruel\", 'Trust And Obey', 'My ADHD', 'Another Night (feat. Karra)', 'Alright Ok', 'We Run', 'Ride or DIE', 'One Voice', 'EW!', 'Show Me How to Live', 'Heaven Fall Down', 'All We Need - Instrumental', 'Fire on the Horizon', 'Nocturnal Eye', 'Just Tell Me', 'Given Up', 'Sunlight (Mix Cut)', 'When Can I See You Again?', 'Slide Like This Krewlibs, Pt. 2', 'Sat Siri Siri Akaal', 'Vanilla Minus', 'Reminding Me', 'Quit You - ToWonder Remix', 'Riders On The Storm', \"She Don't\", \"80's Films\", 'Dreaming Of', 'Outta Sight / Dark Lavender - Interlude', \"Mommy's Little Monster\", 'Nvr Stp', '3500', 'Keep the Dog Quiet', \"Sylvia's Mother\", 'Perdoname', 'El Alem Allah', 'Blood Red', 'Please, Please, Please Let Me Get What I Want - 2011 Remastered Version', '1901', 'English Summer Rain', 'Just Got to Be', 'Chasing the Light', 'still standing still (feat. Lostboycrow)', 'Fuck Off', \"LEVIS's (feat. Lil' Phat & Webbie) - Explicit Album Version\", 'Our God - From Passion: Awakening', 'Petrayumsa', 'Pandora', 'Put My T-Shirt On', 'As the World Goes Away', 'Rock the Night (feat. Maad T-Ray)', 'Luxuries', 'I Never Told You', 'Un Pirata', \"Can't Be Touched (feat. Mr. Magic & Trouble)\", 'You Give Good Love', 'Sole Brother', \"I'm Gonna Love You Just A Little More Baby\", 'Starboy', 'Stars Come Out', \"Gypsy Woman (She's Homeless) - Basement Boy Strip To The Bone Mix\", 'Country Grammar (Hot Shit)', 'My One And Only Love - 1999 Digital Remaster', 'Ghettos & Gardens - Original Mix', 'Saving a Hero', \"Howlin' for My Baby\", 'Sally I Can See You', 'So This Is Love', 'Star Wars And The Heavens Gate', 'Joy Of The Lord', 'Aint No Way Around It (feat. Future)', 'La Puntita', 'Drifting In And Out', 'The Abode of Creativity, Swadhisthana - The Mantra Om In the Key of D', 'Goosebumps', 'Como Tú', 'Memory Lane', 'Mi Segunda Vida', '51st Anniversary', 'Inní mér syngur vitleysingur', 'Macho Man', 'Shelter', 'Raindrops - Prince Fox Remix', 'Uno Y Uno Igual A Tres', 'Is It a Crime', 'Pop Culture', 'GAZI', 'Loving You Tonight - New Album Version', 'Rawhide', 'Keep Watch', \"Quiere Pa' Que Te Quieran\", 'N.A.S.A.', \"What Are You Doing New Year's Eve? - Remastered\", 'Nothing at All', 'BBB', 'Dancing Shoes', 'White Trash', 'Trying Not To Love You', 'Chemistry Class', 'The Saint That Is Just Me', 'Boogaloo Down Broadway', 'Monsoon - Pete Tha Zouk & Max Cartoux Radio Edit', 'Celebrate Tonight', 'This is Radio Clash', 'Tidings (God Rest Ye Merry Gentlemen)', \"Movin' On\", 'Slow And Easy', 'Drive - Melodeyes Remix', 'Nightmares Of The Bottom', 'Bones', 'Si Tú Te Dejas Querer', 'Are You With Me Now?'}\n"
     ]
    }
   ],
   "source": [
    "#get N songs based on weighted random sampling (no particular reason for this apart from probably giving a more connected NW)\n",
    "\n",
    "if WEIGHTED_RANDOM == False:\n",
    "    songs = random.choices(list(all_tracks.keys()), weights=None, k=N)\n",
    "else:\n",
    "    songs = random.choices(list(all_tracks.keys()), weights=all_tracks.values(), k=N)\n",
    "\n",
    "\n",
    "songs = set(songs) #convert to set\n",
    "print(songs)"
   ]
  },
  {
   "cell_type": "code",
   "execution_count": null,
   "id": "8cac8264",
   "metadata": {
    "id": "8cac8264",
    "scrolled": true
   },
   "outputs": [],
   "source": [
    "#Now I want to create a list of shared playlists\n",
    "\n",
    "shared_playlists = [] #this will contain items of the form (weight: [weight], tracks: [tracks]) for each playlist\n",
    "\n",
    "if SPECIFIC_FILE == '':\n",
    "    for file in directory:\n",
    "        f = open(DIRECTORY+file) \n",
    "        data = json.load(f)\n",
    "\n",
    "        for playlist in data['playlists']:  #parse through every playlist\n",
    "\n",
    "            num_followers = playlist['num_followers']\n",
    "\n",
    "            temp = []\n",
    "\n",
    "            for track in playlist['tracks']:\n",
    "                if track['track_name'] in songs and track['track_name'] not in temp:\n",
    "                    temp.append(track['track_name'])\n",
    "\n",
    "            if (len(temp) >1): #only if a playlist has two or more of the 10k songs then we add it to our shared_playlists lits\n",
    "                item = {'weight':num_followers, 'tracks':temp}\n",
    "                shared_playlists.append(item)\n",
    "\n",
    "else:\n",
    "    \n",
    "    f = open(SPECIFIC_FILE) \n",
    "    data = json.load(f)\n",
    "\n",
    "    for playlist in data['playlists']:  #parse through every playlist\n",
    "\n",
    "        num_followers = playlist['num_followers']\n",
    "\n",
    "        temp = []\n",
    "\n",
    "        for track in playlist['tracks']:\n",
    "            if track['track_name'] in songs and track['track_name'] not in temp:\n",
    "                temp.append(track['track_name'] + \", by \"+ track['artist_name'])\n",
    "\n",
    "        if (len(temp) >1): #only if a playlist has two or more of the 10k songs then we add it to our shared_playlists lits\n",
    "            item = {'weight':num_followers, 'tracks':temp}\n",
    "            shared_playlists.append(item)\n",
    "\n",
    "            \n",
    "                "
   ]
  },
  {
   "cell_type": "code",
   "execution_count": null,
   "id": "51e02efa",
   "metadata": {
    "id": "51e02efa"
   },
   "outputs": [],
   "source": [
    "#create edges\n",
    "edges = {}\n",
    "count = 0\n",
    "for item in shared_playlists:\n",
    "\n",
    "    weight = item['weight']\n",
    "    tracks = item['tracks']\n",
    "    for track1 in tracks:\n",
    "        for track2 in tracks:\n",
    "            if (track1 == track2):\n",
    "                continue\n",
    "            if (track1,track2) in edges:\n",
    "                edges[(track1,track2)] += weight\n",
    "            elif ((track2,track1)) in edges:\n",
    "                edges[(track2,track1)] += weight\n",
    "            else:\n",
    "                edges[(track1,track2)] = weight\n",
    "            "
   ]
  },
  {
   "cell_type": "code",
   "execution_count": null,
   "id": "6911605c",
   "metadata": {},
   "outputs": [],
   "source": [
    "print(list(edges.items())[0:5])"
   ]
  },
  {
   "cell_type": "code",
   "execution_count": null,
   "id": "87ca21b2",
   "metadata": {
    "id": "87ca21b2"
   },
   "outputs": [],
   "source": [
    "data = []\n",
    "\n",
    "for key in edges:\n",
    "    temp = (key[0],key[1],edges[key]) #make tuple of form (song1, song2, weight)\n",
    "    data.append(temp)\n",
    "data2 = pd.DataFrame(data)\n",
    "data2.columns = [\"Source\",\"Target\",\"Weight\"]\n",
    "print(data2[0:5]) #sanity check"
   ]
  },
  {
   "cell_type": "code",
   "execution_count": null,
   "id": "edb5fd00",
   "metadata": {},
   "outputs": [],
   "source": [
    "#Create results folder\n",
    "\n",
    "path = os.getcwd()+\"/generated_data\"\n",
    "# Check whether the specified path exists or not\n",
    "isExist = os.path.exists(path)\n",
    "if not isExist:\n",
    "\n",
    "   # Create a new directory because it does not exist\n",
    "   os.makedirs(path)\n",
    "   print(\"The new directory is created!\")"
   ]
  },
  {
   "cell_type": "code",
   "execution_count": null,
   "id": "6f82ee63",
   "metadata": {
    "id": "6f82ee63"
   },
   "outputs": [],
   "source": [
    "#Writing the file\n",
    "\n",
    "name = \"\"\n",
    "\n",
    "if (WEIGHTED_RANDOM == True):\n",
    "    name = str(N) + '_weighted'\n",
    "else:\n",
    "    name = str(N)\n",
    "filename = path+'/'+name+\"_random_songs.csv\"\n",
    "filepath = Path(filename)\n",
    "while (os.path.exists(filepath)):\n",
    "    if filename[-5]=='s':\n",
    "        filename = filename[:-4]+'2'+filename[-4:]\n",
    "    else:\n",
    "        filename = filename[:-5]+str(int(filename[-5])+1)+filename[-4:]\n",
    "    filepath = Path(filename)\n",
    "\n",
    "data2.to_csv(filepath, index = False)\n",
    "    \n",
    "    \n",
    "#The data should be saved in the same folder as this notebook"
   ]
  },
  {
   "cell_type": "markdown",
   "id": "4eab9394",
   "metadata": {
    "id": "4eab9394"
   },
   "source": [
    "## Thoughts so far\n",
    "\n",
    "- Selecting playlists above a certain number of likes produces a very dense network even with only the top 600~ networks\n",
    "- Selecting 10k songs randomly produces a pretty sparse network with some intereseting communities\n",
    "- Selecting 10k songs randomly with a weighted distribution produces an extremely dense network\n",
    "- The clustering coefficient for 100 random weighted songs is small (0.04), but when we pick 500 random weighted songs it grows larger (0.34). For 10000 random songs it was like 0.99"
   ]
  },
  {
   "cell_type": "markdown",
   "id": "c0d3b002",
   "metadata": {},
   "source": [
    "# Section 1: Defining the edges of the network\n",
    "\n",
    "In this section we explore several different means to quantify how similar one song is to another. We will use these similarity scores to assign weights to the edges of our network. \n",
    "\n",
    "### Idea 1: Shared Followers\n",
    "This method assigns a weight to each edge based on the sum of likes of each playlist that both songs in the edge appear in.\n",
    "\n",
    "$w_{i,j} = \\Sigma_{p \\in P_{i,j}}{\\normalsize \\text{# likes of }p}$, where $P_{i,j}$ is the set of playlists contatining songs $i$ and $j$\n"
   ]
  },
  {
   "cell_type": "code",
   "execution_count": 10,
   "id": "ea09e291",
   "metadata": {},
   "outputs": [
    {
     "name": "stdout",
     "output_type": "stream",
     "text": [
      "[(('The Sweet Escape', 'Girlfriend (German Version - Explicit) - German Version - Explicit'), 1836), (('Girlfriend (German Version - Explicit) - German Version - Explicit', 'The Sweet Escape'), 1836), (('The Sweet Escape', 'Complicated'), 386), (('Complicated', 'The Sweet Escape'), 386), (('The Sweet Escape', 'Closer'), 1518)]\n"
     ]
    }
   ],
   "source": [
    "def method1(directory, songs):\n",
    "    '''\n",
    "    Function that takes in a directory and N random songs and produces a network using the method 1 described above.\n",
    "    \n",
    "    Parameters:\n",
    "        directory - the directory containing the data (assumed to be in a single .json file)\n",
    "        songs - the N songs to select out of all the data\n",
    "    Returns:\n",
    "        edges - the constructed network\n",
    "        relations - the node-node relations useful for certain recommendation algorithms\n",
    "    '''\n",
    "    shared_playlists = [] #this will contain items of the form (weight: [weight], tracks: [tracks]) for each playlist\n",
    "    f = open(SPECIFIC_FILE) \n",
    "    data = json.load(f)\n",
    "\n",
    "    for playlist in data['playlists']:  #parse through every playlist\n",
    "\n",
    "        num_followers = playlist['num_followers']\n",
    "        temp = []\n",
    "        for track in playlist['tracks']: #if one of the random songs is in the playlist then remember it\n",
    "            if track['track_name'] in songs and track['track_name'] not in temp:\n",
    "                temp.append(track['track_name'])\n",
    "\n",
    "        if (len(temp) >1): #only if a playlist has two or more of the 10k songs then we add it to our shared_playlists lits\n",
    "            item = {'weight':num_followers, 'tracks':temp}\n",
    "            shared_playlists.append(item)\n",
    "\n",
    "\n",
    "    # #Here we create the big graph\n",
    "    edges = {}\n",
    "    relations = {} #this variable stores all of the node pairs in the graph. It is useful for the playlist-generation part of the notebook\n",
    "    for song in songs:\n",
    "        relations[song] = set({})\n",
    "\n",
    "    for item in shared_playlists:\n",
    "\n",
    "        weight = item['weight']\n",
    "        tracks = item['tracks']\n",
    "        for track1 in tracks:\n",
    "            for track2 in tracks:\n",
    "                if (track1 == track2):\n",
    "                    continue\n",
    "                #now we add relations\n",
    "                if track2 not in relations[track1]:\n",
    "                    relations[track1].add(track2)\n",
    "                if track1 not in relations[track2]:\n",
    "                    relations[track2].add(track1)\n",
    "\n",
    "                #now create edge and weight\n",
    "                if (track1,track2) not in edges and (track2,track1) not in edges:\n",
    "                    edges[(track1,track2)] = weight\n",
    "                    edges[(track2,track1)] = weight\n",
    "                else:\n",
    "                    edges[(track1,track2)] += weight\n",
    "                    edges[(track2,track1)] += weight\n",
    "    return edges,relations\n",
    "        \n",
    "print(list(method1('generated_data/moreThan10followers.json',songs)[0].items())[0:5])"
   ]
  },
  {
   "cell_type": "markdown",
   "id": "317b12e5",
   "metadata": {},
   "source": [
    "\n",
    "### Idea 2: Shared Playlists\n",
    "The weight of each edge is the number of shared playlists of the song\n",
    "\n",
    "$w_{i,j} = \\normalsize |P_{i,j}|$\n"
   ]
  },
  {
   "cell_type": "code",
   "execution_count": 11,
   "id": "4a40009a",
   "metadata": {},
   "outputs": [
    {
     "name": "stdout",
     "output_type": "stream",
     "text": [
      "[(('The Sweet Escape', 'Girlfriend (German Version - Explicit) - German Version - Explicit'), 22), (('Girlfriend (German Version - Explicit) - German Version - Explicit', 'The Sweet Escape'), 22), (('The Sweet Escape', 'Complicated'), 12), (('Complicated', 'The Sweet Escape'), 12), (('The Sweet Escape', 'Closer'), 14)]\n"
     ]
    }
   ],
   "source": [
    "def method2(directory, songs):\n",
    "    '''\n",
    "    Function that takes in a directory and N random songs and produces a network using the method 2 described above.\n",
    "    \n",
    "    Parameters:\n",
    "        directory - the directory containing the data (assumed to be in a single .json file)\n",
    "        songs - the N songs to select out of all the data\n",
    "    Returns:\n",
    "        edges - the constructed network\n",
    "        relations - the node-node relations useful for certain recommendation algorithms\n",
    "    '''\n",
    "    shared_playlists = [] #this will contain items of the form (weight: [weight], tracks: [tracks]) for each playlist\n",
    "    f = open(SPECIFIC_FILE) \n",
    "    data = json.load(f)\n",
    "\n",
    "    for playlist in data['playlists']:  #parse through every playlist\n",
    "\n",
    "        num_followers = playlist['num_followers']\n",
    "        temp = []\n",
    "        for track in playlist['tracks']: #if one of the random songs is in the playlist then remember it\n",
    "            if track['track_name'] in songs and track['track_name'] not in temp:\n",
    "                temp.append(track['track_name'])\n",
    "\n",
    "        if (len(temp) >1): #only if a playlist has two or more of the 10k songs then we add it to our shared_playlists lits\n",
    "            item = {'weight':1, 'tracks':temp}\n",
    "            shared_playlists.append(item)\n",
    "\n",
    "\n",
    "    # #Here we create the big graph\n",
    "    edges = {}\n",
    "    relations = {} #this variable stores all of the node pairs in the graph. It is useful for the playlist-generation part of the notebook\n",
    "    for song in songs:\n",
    "        relations[song] = set({})\n",
    "\n",
    "    for item in shared_playlists:\n",
    "\n",
    "        weight = item['weight']\n",
    "        tracks = item['tracks']\n",
    "        for track1 in tracks:\n",
    "            for track2 in tracks:\n",
    "                if (track1 == track2):\n",
    "                    continue\n",
    "                #now we add relations\n",
    "                if track2 not in relations[track1]:\n",
    "                    relations[track1].add(track2)\n",
    "                if track1 not in relations[track2]:\n",
    "                    relations[track2].add(track1)\n",
    "\n",
    "                #now create edge and weight\n",
    "                if (track1,track2) not in edges and (track2,track1) not in edges:\n",
    "                    edges[(track1,track2)] = weight\n",
    "                    edges[(track2,track1)] = weight\n",
    "                else:\n",
    "                    edges[(track1,track2)] += weight\n",
    "                    edges[(track2,track1)] += weight\n",
    "    return edges,relations\n",
    "        \n",
    "print(list(method2('generated_data/moreThan10followers.json',songs)[0].items())[0:5])"
   ]
  },
  {
   "cell_type": "markdown",
   "id": "e699b46d",
   "metadata": {},
   "source": [
    "\n",
    "### Idea 3: Hybrid of 1 and 2\n",
    "Since the follower numbers of the playlists are heavily skewed, ranging from 1 to over 70k, we experiment with weighting the shared playlist number higher than the shared follower number.\n",
    "\n",
    "$w_{i,j} = \\normalsize |P_{i,j}| + log_2({\\Sigma_{p \\in P_{i,j}}{\\text{# likes of }p}})$\n",
    "\n",
    "For our purposes, we use $log_2$ to weight the follower numbers as we think it suits our data well.\n"
   ]
  },
  {
   "cell_type": "code",
   "execution_count": 15,
   "id": "7f95d5a3",
   "metadata": {},
   "outputs": [
    {
     "name": "stdout",
     "output_type": "stream",
     "text": [
      "[(('The Sweet Escape', 'Girlfriend (German Version - Explicit) - German Version - Explicit'), 4.700439718141093), (('Girlfriend (German Version - Explicit) - German Version - Explicit', 'The Sweet Escape'), 4.700439718141093), (('The Sweet Escape', 'Complicated'), 4.700439718141093), (('Complicated', 'The Sweet Escape'), 4.700439718141093), (('The Sweet Escape', 'Closer'), 4.700439718141093), (('Closer', 'The Sweet Escape'), 4.700439718141093), (('The Sweet Escape', \"Don't Matter\"), 4.700439718141093), ((\"Don't Matter\", 'The Sweet Escape'), 4.700439718141093), (('The Sweet Escape', 'TiK ToK'), 4.700439718141093), (('TiK ToK', 'The Sweet Escape'), 4.700439718141093), (('Girlfriend (German Version - Explicit) - German Version - Explicit', 'Complicated'), 4.700439718141093), (('Complicated', 'Girlfriend (German Version - Explicit) - German Version - Explicit'), 4.700439718141093), (('Girlfriend (German Version - Explicit) - German Version - Explicit', 'Closer'), 4.700439718141093), (('Closer', 'Girlfriend (German Version - Explicit) - German Version - Explicit'), 4.700439718141093), (('Girlfriend (German Version - Explicit) - German Version - Explicit', \"Don't Matter\"), 4.700439718141093), ((\"Don't Matter\", 'Girlfriend (German Version - Explicit) - German Version - Explicit'), 4.700439718141093), (('Girlfriend (German Version - Explicit) - German Version - Explicit', 'TiK ToK'), 4.700439718141093), (('TiK ToK', 'Girlfriend (German Version - Explicit) - German Version - Explicit'), 4.700439718141093), (('Complicated', 'Closer'), 4.700439718141093), (('Closer', 'Complicated'), 4.700439718141093), (('Complicated', \"Don't Matter\"), 4.700439718141093), ((\"Don't Matter\", 'Complicated'), 4.700439718141093), (('Complicated', 'TiK ToK'), 4.700439718141093), (('TiK ToK', 'Complicated'), 4.700439718141093), (('Closer', \"Don't Matter\"), 4.700439718141093), ((\"Don't Matter\", 'Closer'), 4.700439718141093), (('Closer', 'TiK ToK'), 4.700439718141093), (('TiK ToK', 'Closer'), 4.700439718141093), ((\"Don't Matter\", 'TiK ToK'), 4.700439718141093), (('TiK ToK', \"Don't Matter\"), 4.700439718141093), (('Stolen Dance', \"Don't Tell 'Em\"), 4.584962500721156), ((\"Don't Tell 'Em\", 'Stolen Dance'), 4.584962500721156), ((\"I'm A Survivor\", \"Baby's Got Her Blue Jeans On\"), 6.7279204545632), ((\"Baby's Got Her Blue Jeans On\", \"I'm A Survivor\"), 6.7279204545632), ((\"I'm A Survivor\", 'Brother Jukebox'), 6.7279204545632), (('Brother Jukebox', \"I'm A Survivor\"), 6.7279204545632), ((\"I'm A Survivor\", \"Hard Workin' Man\"), 6.7279204545632), ((\"Hard Workin' Man\", \"I'm A Survivor\"), 6.7279204545632), ((\"I'm A Survivor\", 'Watermelon Crawl'), 6.7279204545632), (('Watermelon Crawl', \"I'm A Survivor\"), 6.7279204545632), ((\"I'm A Survivor\", 'Whatcha Gonna Do With A Cowboy'), 6.7279204545632), (('Whatcha Gonna Do With A Cowboy', \"I'm A Survivor\"), 6.7279204545632), ((\"I'm A Survivor\", \"Pickin' Up Strangers\"), 6.7279204545632), ((\"Pickin' Up Strangers\", \"I'm A Survivor\"), 6.7279204545632), ((\"I'm A Survivor\", 'Lessons Learned - Dance Club Sampler Version'), 6.7279204545632), (('Lessons Learned - Dance Club Sampler Version', \"I'm A Survivor\"), 6.7279204545632), ((\"Baby's Got Her Blue Jeans On\", 'Brother Jukebox'), 6.7279204545632), (('Brother Jukebox', \"Baby's Got Her Blue Jeans On\"), 6.7279204545632), ((\"Baby's Got Her Blue Jeans On\", \"Hard Workin' Man\"), 6.7279204545632), ((\"Hard Workin' Man\", \"Baby's Got Her Blue Jeans On\"), 6.7279204545632)]\n"
     ]
    }
   ],
   "source": [
    "def method2(directory, songs):\n",
    "    '''\n",
    "    Function that takes in a directory and N random songs and produces a network using the method 2 described above.\n",
    "    \n",
    "    Parameters:\n",
    "        directory - the directory containing the data (assumed to be in a single .json file)\n",
    "        songs - the N songs to select out of all the data\n",
    "    Returns:\n",
    "        edges - the constructed network\n",
    "        relations - the node-node relations useful for certain recommendation algorithms\n",
    "    '''\n",
    "    shared_playlists = [] #this will contain items of the form (weight: [weight], tracks: [tracks]) for each playlist\n",
    "    f = open(SPECIFIC_FILE) \n",
    "    data = json.load(f)\n",
    "\n",
    "    for playlist in data['playlists']:  #parse through every playlist\n",
    "\n",
    "        num_followers = playlist['num_followers']\n",
    "        temp = []\n",
    "        for track in playlist['tracks']: #if one of the random songs is in the playlist then remember it\n",
    "            if track['track_name'] in songs and track['track_name'] not in temp:\n",
    "                temp.append(track['track_name'])\n",
    "\n",
    "        if (len(temp) >1): #only if a playlist has two or more of the 10k songs then we add it to our shared_playlists lits\n",
    "            item = {'weight':num_followers, 'tracks':temp}\n",
    "            shared_playlists.append(item)\n",
    "\n",
    "\n",
    "    # #Here we create the big graph\n",
    "    edges = {}\n",
    "    relations = {} #this variable stores all of the node pairs in the graph. It is useful for the playlist-generation part of the notebook\n",
    "    for song in songs:\n",
    "        relations[song] = set({})\n",
    "\n",
    "    for item in shared_playlists:\n",
    "\n",
    "        weight = item['weight']\n",
    "        tracks = item['tracks']\n",
    "        for track1 in tracks:\n",
    "            for track2 in tracks:\n",
    "                if (track1 == track2):\n",
    "                    continue\n",
    "                #now we add relations\n",
    "                if track2 not in relations[track1]:\n",
    "                    relations[track1].add(track2)\n",
    "                if track1 not in relations[track2]:\n",
    "                    relations[track2].add(track1)\n",
    "\n",
    "                #now create edge and weight\n",
    "                if (track1,track2) not in edges and (track2,track1) not in edges:\n",
    "                    edges[(track1,track2)] = [1,weight]\n",
    "                    edges[(track2,track1)] = [1,weight]\n",
    "                else:\n",
    "                    val = edges[(track1,track2)] #store value of previous shared playlists and shared followers\n",
    "                    edges[(track1,track2)] += [val[0]+1, val[1]+weight]\n",
    "                    edges[(track2,track1)] += [val[0]+1, val[1]+weight]\n",
    "    \n",
    "    for key in edges.keys():\n",
    "        edges[key] = edges[key][0] + math.log(edges[key][1],2)\n",
    "        \n",
    "    return edges,relations\n",
    "        \n",
    "print(list(method2('generated_data/moreThan10followers.json',songs)[0].items())[0:50])"
   ]
  },
  {
   "cell_type": "markdown",
   "id": "b1bd5f6e",
   "metadata": {},
   "source": [
    "\n",
    "### Idea 4: Shared Playlist Simliarity\n",
    "\n",
    "Let $p_{i,j}$ denote the fraction of playlists that song $i$ belongs to which also contain song $j$. \n",
    "Then, $ w_{i,j} = \\large \\frac{p_{i,j}\\cdot p_{j,i}}{2}$\n",
    "\n",
    "I.e, this is the average of the fraction of all playlists containing one song that also contain the other\n",
    "\n",
    "\n",
    "## TODO: Define functions that implement each of these ideas\n",
    "\n",
    "Each function should take in a set of N songs, an input file (not the whole dataset as that is way too big!) and return two things: 1. The edges of the graph created by each method, and 2. A dictionary of node relations to each other.\n",
    "\n",
    "\n",
    "So what we're doing here is \n",
    "- selecting N songs (like 10k out of the million) out of the input file (has more than N songs).  \n",
    "- We want to remember only the playlists with two or more of the N songs in them. For that playlist, we remember it as a pair of (weight, [tracks out of the N in that playlist]) (but you could play around with this to see what works) \n",
    "- Then, using the cleaned up, relevant playlists with their weights (that we did in the previous step) we make the graph, which is a dictionary of the form { {(node1,node2), weight} }. So, the key is (node1,node2) and the corresponding value is weight\n",
    "\n",
    "Ultimately the output should be the network with the weights aligned with each of the above ideas. "
   ]
  },
  {
   "cell_type": "markdown",
   "id": "3fcd89b2",
   "metadata": {
    "id": "3fcd89b2"
   },
   "source": [
    "# Section 2: Implementing algorithm to generate playlists\n",
    "\n",
    "## 2.1: Star Graph Algorithm\n",
    "\n",
    "Here I'll try to create the playlists using the star graph recommendation method. For this I need two things - first is a recommendation algorithm based on the edges, and second is an easy way to iterate over song connections. \n",
    "\n",
    "### How this works:\n",
    "\n",
    "First we consider the one node case. We feed a single node, call it node A, into the algorithm which gives us the subset of the network with one edge at A, which is a star graph. We store this star graph in a dictionary object. The next song to be recommended is one of the edges in this graph, randomly chosen with a weighted probability distribution. Call this song B. Now, we want the playlist that we are generating to be the center of the star graph. Now, we make the center of the star graph represent both nodes A and B. We add all the edges with end to B (except those with end A) from the original dataset to the star graph. If an edge already exists between the center and another node, and B is also connected with that node, the new weight of that edge becomes the sum of the weights of those edges. This is to implement familiarity. Continue this until the desired playlist size is reached. \n",
    "\n",
    "\n",
    "### TODO:\n",
    "- If we can create functions for creating the edge weights of the network that would be totally awesome\n",
    "- Perhaps cosine simliarity would be a good thing to explore for our recommendations?"
   ]
  },
  {
   "cell_type": "markdown",
   "id": "c642371c",
   "metadata": {
    "id": "c642371c"
   },
   "source": [
    "Running the two cells below will initialize the network. There are some constants at the start that you need to input"
   ]
  },
  {
   "cell_type": "code",
   "execution_count": null,
   "id": "4522710d",
   "metadata": {
    "id": "4522710d"
   },
   "outputs": [],
   "source": [
    "######################################### Constants\n",
    "\n",
    "SPECIFIC_FILE = 'generated_data/moreThan10followers.json' #Rename this to something else if you want to only consider some other dataset, \n",
    "                    #otherwise we go over all data. specify the file name/path as the name\n",
    "WEIGHTED_RANDOM = False   #If we want weighted random sampling or not\n",
    "N = 1000  #number of songs to consider"
   ]
  },
  {
   "cell_type": "code",
   "execution_count": null,
   "id": "d80f0f40",
   "metadata": {
    "id": "d80f0f40"
   },
   "outputs": [],
   "source": [
    "######################################### LOADING SONGS FROM FILE\n",
    "#first we need to load all the songs into a dictionary so that we can randomly select N of them\n",
    "\n",
    "\n",
    "all_tracks = {} #stores all the songs\n",
    "count = 0 #progress bar\n",
    "\n",
    "\n",
    "f = open(SPECIFIC_FILE)\n",
    "data = json.load(f)\n",
    "\n",
    "for playlist in data['playlists']:\n",
    "    for track in playlist['tracks']:\n",
    "        if track['track_name'] not in all_tracks:  #if it not in the dict then we add it to it and increase its weight\n",
    "            all_tracks[track['track_name']] = 1 #weight is used for weighted random sampling (if needed)\n",
    "        else:\n",
    "            all_tracks[track['track_name']] +=1\n",
    "\n",
    "\n",
    "######################################### CHOOSING RANDOM SONGS\n",
    "\n",
    "if WEIGHTED_RANDOM == False:\n",
    "    songs = random.choices(list(all_tracks.keys()), weights=None, k=N)\n",
    "else:\n",
    "    songs = random.choices(list(all_tracks.keys()), weights=all_tracks.values(), k=N)\n",
    "\n",
    "#print(songs)\n",
    "\n",
    "######################################### CREATING SHARED PLAYLIST EDGES\n",
    "\n",
    "shared_playlists = [] #this will contain items of the form (weight: [weight], tracks: [tracks]) for each playlist\n",
    "\n",
    "\n",
    "f = open(SPECIFIC_FILE) \n",
    "data = json.load(f)\n",
    "\n",
    "for playlist in data['playlists']:  #parse through every playlist\n",
    "\n",
    "    num_followers = playlist['num_followers']\n",
    "    temp = []\n",
    "    for track in playlist['tracks']: #if one of the random songs is in the playlist then remember it\n",
    "        if track['track_name'] in songs and track['track_name'] not in temp:\n",
    "            temp.append(track['track_name'])\n",
    "\n",
    "    if (len(temp) >1): #only if a playlist has two or more of the 10k songs then we add it to our shared_playlists lits\n",
    "        item = {'weight':num_followers, 'tracks':temp}\n",
    "        shared_playlists.append(item)\n",
    "\n",
    "\n",
    "# #Here we create the big graph\n",
    "edges = {}\n",
    "relations = {} #this variable stores all of the node pairs in the graph. It is useful for the playlist-generation part of the notebook\n",
    "for song in songs:\n",
    "    relations[song] = set({})\n",
    "\n",
    "for item in shared_playlists:\n",
    "    \n",
    "    weight = item['weight']\n",
    "    tracks = item['tracks']\n",
    "    for track1 in tracks:\n",
    "        for track2 in tracks:\n",
    "            if (track1 == track2):\n",
    "                continue\n",
    "            #now we add relations\n",
    "            if track2 not in relations[track1]:\n",
    "                relations[track1].add(track2)\n",
    "            if track1 not in relations[track2]:\n",
    "                relations[track2].add(track1)\n",
    "                \n",
    "            #now create edge and weight\n",
    "            if (track1,track2) not in edges and (track2,track1) not in edges:\n",
    "                edges[(track1,track2)] = weight\n",
    "                edges[(track2,track1)] = weight\n",
    "            else:\n",
    "                edges[(track1,track2)] += weight\n",
    "                edges[(track2,track1)] += weight\n",
    "\n",
    "\n",
    "print(\"Some songs that were selected:\")\n",
    "print(songs[0:5])\n",
    "print('\\n')\n",
    "print(\"Some of the edges that were created:\")\n",
    "print(list(edges.items())[0:5])\n",
    "print('\\n')\n",
    "print(\"Some of the pairs of nodes in the graph:\\n\")\n",
    "for n in range(5):\n",
    "    i = random.randint(0,len(songs))\n",
    "    print(\"Track:\"+str(songs[i]))\n",
    "    print(\"Tracks it is related to:\")\n",
    "    print(relations[songs[i]])\n",
    "    print('\\n')\n",
    "\n",
    "\n",
    "\n"
   ]
  },
  {
   "cell_type": "markdown",
   "id": "f44f01ed",
   "metadata": {
    "id": "f44f01ed"
   },
   "source": [
    "The cell below defines the function that we use"
   ]
  },
  {
   "cell_type": "code",
   "execution_count": null,
   "id": "7922166f",
   "metadata": {
    "id": "7922166f"
   },
   "outputs": [],
   "source": [
    "def recommend_song(stargraph, songs, alpha = 1):\n",
    "    '''\n",
    "    Function that will implement the recommend algorithm for a given input star graph. We are assigning weights to every \n",
    "    song in the number of songs we are operating over. The weight of each song will be the weight of the edge from it to the\n",
    "    center of the stargraph (0 otherwise) + alpha. We will then make a weighted random prediction to get the next song.\n",
    "    \n",
    "    Parameters:\n",
    "        stargraph: the input star graph. The first element is the nodes inside the graph and the second one is a dictionary \n",
    "        of node:weight pairs\n",
    "        songslist: the list of songs over which we are operating\n",
    "        alpha: value to give to every song to allow possible recommendation of songs without any edges (teleportation). 1 by default\n",
    "  \n",
    "  Returns:\n",
    "       The predicted song\n",
    "   '''\n",
    "    weights = []\n",
    "    for i in range(len(songs)):\n",
    "        song = songs[i]\n",
    "        weight = alpha\n",
    "        if song in stargraph[1]: #if there is already an edge to it\n",
    "            weight+= stargraph[1][song]\n",
    "        if song in stargraph[0]: #if it is already in our playlist\n",
    "            weight = 0\n",
    "        weights.append(weight)\n",
    "    nextsong = random.choices(songs, weights, k=1)[0] #return our weighted random choice\n",
    "    #print (nextsong)\n",
    "    return nextsong\n",
    "\n",
    "def update_graph(stargraph, songToAdd, relations, edges):\n",
    "    '''\n",
    "    Function that will update the star graph to include edges that belong to the song to add. Returns updated star graph\n",
    "    \n",
    "    Parameters:\n",
    "        stargraph: the input star graph. The first element is the nodes inside the graph and the second one is a dictionary \n",
    "        of node:weight pairs\n",
    "        songToAdd: the song to add\n",
    "        relations: the dictionary of all pairs in the graph\n",
    "        edges: the original network with all the node pair relations\n",
    "   \n",
    "   Returns:\n",
    "        The updated star graph\n",
    "    '''\n",
    "    relationsToAdd = relations[songToAdd] #give a set of all the pairs of nodes with the song to add\n",
    "    stargraphNodes = stargraph[0]\n",
    "    stargraphEdges = stargraph[1]\n",
    "    \n",
    "    for song in relationsToAdd: #go through each pair belonging to this song\n",
    "        \n",
    "        if song not in stargraphNodes:\n",
    "            if song not in stargraphEdges:\n",
    "                stargraphEdges[song] = edges[(song,songToAdd)] #add value of edge from the original network\n",
    "            else:\n",
    "                stargraphEdges[song] += edges[(song,songToAdd)]\n",
    "                \n",
    "    stargraph[0].add(songToAdd)\n",
    "    return stargraph\n",
    "    \n",
    "    \n",
    "def create_playlist(inputSongs, length,  songs, relations, edges,alpha = 1):\n",
    "    '''\n",
    "    Function that generates a recommendation playlist of length length based on an input of songs, and an input network\n",
    "    \n",
    "    Parameters:\n",
    "    inputSongs: The input songs (list)\n",
    "    length: Number of songs to add\n",
    "    songs: List of all songs\n",
    "    relations: Dictionary of all pair relations in the graph\n",
    "    edges: The original network\n",
    "    alpha: The teleportation probability in the recommendation algorithm\n",
    "    '''\n",
    "    stargraph = (set(), dict())\n",
    "    \n",
    "    for song in inputSongs: #build the star graph\n",
    "        stargraph = update_graph(stargraph, song, relations, edges) \n",
    "    \n",
    "    for i in range(length):\n",
    "        newSong = recommend_song(stargraph, songs, alpha)\n",
    "        stargraph = update_graph(stargraph, newSong, relations, edges)\n",
    "    \n",
    "    return list(stargraph[0])\n",
    "    \n",
    "    \n",
    "            \n",
    "        \n",
    "        \n",
    "    \n",
    "    "
   ]
  },
  {
   "cell_type": "markdown",
   "id": "7806d8c0",
   "metadata": {
    "id": "7806d8c0"
   },
   "source": [
    "## Using the algorithm\n",
    "\n",
    "Finally, the cell below tests the algorithm"
   ]
  },
  {
   "cell_type": "code",
   "execution_count": null,
   "id": "d794292e",
   "metadata": {
    "id": "d794292e",
    "outputId": "6ef5bc56-23dc-4140-f58d-2178aff41fc5"
   },
   "outputs": [],
   "source": [
    "#Testing the algorithm\n",
    "\n",
    "playlist = []\n",
    "for i in range(3):\n",
    "    playlist.append(songs[random.randint(0,len(songs))])\n",
    "length = len(playlist)+10\n",
    "print(\"Input songs:\")\n",
    "print(playlist)\n",
    "playlist = create_playlist(playlist, length, songs, relations, edges)\n",
    "print(\"Generated playlist:\")\n",
    "print(playlist)\n"
   ]
  },
  {
   "cell_type": "markdown",
   "id": "fc5f0a9c",
   "metadata": {
    "id": "fc5f0a9c"
   },
   "source": [
    "### Thoughts on algorithm\n",
    "\n",
    "I have no idea if these are great playlists or not lmao"
   ]
  },
  {
   "cell_type": "markdown",
   "id": "fe1eb6de",
   "metadata": {},
   "source": [
    "## 2.2 Implementing Networkx\n",
    "\n",
    "The purpose of this subsection is to use networkx to load our .csv files that we have produced, so that we can create adjacency matrices, figure out shortest path lengths, etc\n"
   ]
  },
  {
   "cell_type": "code",
   "execution_count": null,
   "id": "6d5dcfbf",
   "metadata": {},
   "outputs": [],
   "source": [
    "path = 'generated_data/2000_random_songs.csv' #file to be read"
   ]
  },
  {
   "cell_type": "code",
   "execution_count": null,
   "id": "869a7642",
   "metadata": {},
   "outputs": [],
   "source": [
    "df = pd.read_csv(path)\n",
    "G = nx.from_pandas_edgelist(df, \"Source\", \"Target\", edge_attr = \"Weight\")  #generate graph\n",
    "#G = nx.read_edgelist(path, delimiter=\",\")\n",
    "\n",
    "shortest_paths_1 = nx.shortest_path(G,source='Dani California, by Red Hot Chili Peppers')\n",
    "shortest_paths_2 = nx.shortest_path(G,source='Hey Joe, by Jimi Hendrix')\n",
    "shortest_paths = shortest_paths_1\n",
    "#print(shortest_paths)\n",
    "for p in shortest_paths_2.keys():\n",
    "    shortest_paths[p]+=shortest_paths_2[p]\n",
    "    print(p+' '+str(len(shortest_paths[p])))\n",
    "\n",
    "#print(nx.adjacency_matrix(G).shape)\n"
   ]
  },
  {
   "cell_type": "code",
   "execution_count": null,
   "id": "43225e35",
   "metadata": {},
   "outputs": [],
   "source": [
    "#Playlist Generation using shortest paths method\n",
    "\n",
    "input_songs = ['Dani California, by Red Hot Chili Peppers','Hey Joe, by Jimi Hendrix', 'The Ballad Of Curtis Loew, by Lynyrd Skynyrd']\n",
    "out = input_songs\n",
    "n = 10 # number of songs to add\n",
    "sp = []\n",
    "\n",
    "for s in input_songs:\n",
    "    if sp == []:\n",
    "        sp = nx.shortest_path(G,s)\n",
    "        sp.pop(s)\n",
    "    else:\n",
    "        for key in sp.keys():\n",
    "            sp[key]+= nx.shortest_path(G,s)[key]\n",
    "        sp.pop(s)\n",
    "\n",
    "        \n",
    "for i in range (10):\n",
    "    s = min(sp, key = sp.get) #get song with lowest combined shortest path\n",
    "    out.append(s)\n",
    "    for key in sp.keys():\n",
    "        sp[key]+= nx.shortest_path(G,s)[key]\n",
    "    sp.pop(s)\n",
    "    \n",
    "print(out)"
   ]
  },
  {
   "cell_type": "markdown",
   "id": "1dd2c770",
   "metadata": {},
   "source": [
    "## 2.2 Cosine Simliarity\n",
    "\n",
    "### TODO\n",
    "- maybe this would be good for idea #4 of Section 1 since the weights are all normalized and in the [0,1] range"
   ]
  },
  {
   "cell_type": "code",
   "execution_count": null,
   "id": "1e847f4a",
   "metadata": {
    "id": "1e847f4a"
   },
   "outputs": [],
   "source": []
  }
 ],
 "metadata": {
  "colab": {
   "provenance": []
  },
  "kernelspec": {
   "display_name": "Python 3",
   "language": "python",
   "name": "python3"
  },
  "language_info": {
   "codemirror_mode": {
    "name": "ipython",
    "version": 3
   },
   "file_extension": ".py",
   "mimetype": "text/x-python",
   "name": "python",
   "nbconvert_exporter": "python",
   "pygments_lexer": "ipython3",
   "version": "3.8.8"
  }
 },
 "nbformat": 4,
 "nbformat_minor": 5
}
